{
 "cells": [
  {
   "cell_type": "markdown",
   "id": "90df67c3",
   "metadata": {},
   "source": [
    "# Classifying Toxic and Severely Toxic Comments Feed Forward NN\n",
    "\n",
    "    - 300D fasttext embeddings and 70 max sequence length\n",
    "    - data set of 30,000 comments (taken from 2017 Kaggle - training and test datasets"
   ]
  },
  {
   "cell_type": "markdown",
   "id": "ffe103e9",
   "metadata": {},
   "source": [
    "### Load Libraries and Data Sets"
   ]
  },
  {
   "cell_type": "code",
   "execution_count": 1,
   "id": "9f8798ab",
   "metadata": {},
   "outputs": [],
   "source": [
    "%matplotlib inline\n",
    "\n",
    "import numpy as np\n",
    "import pandas as pd\n",
    "import seaborn as sns\n",
    "\n",
    "import re\n",
    "\n",
    "import string     # Imports the library\n",
    "import nltk        # Imports the natural language toolkit\n",
    "from nltk.corpus import stopwords\n",
    "\n",
    "#nltk.download('stopwords')   # Download the stopwords dataset\n",
    "#nltk.download('wordnet')"
   ]
  },
  {
   "cell_type": "code",
   "execution_count": 2,
   "id": "8f2a154f",
   "metadata": {
    "execution": {
     "iopub.execute_input": "2021-11-19T17:17:08.346268Z",
     "iopub.status.busy": "2021-11-19T17:17:08.345545Z",
     "iopub.status.idle": "2021-11-19T17:17:15.302478Z",
     "shell.execute_reply": "2021-11-19T17:17:15.301745Z",
     "shell.execute_reply.started": "2021-11-19T15:22:05.978887Z"
    },
    "papermill": {
     "duration": 7.010041,
     "end_time": "2021-11-19T17:17:15.302639",
     "exception": false,
     "start_time": "2021-11-19T17:17:08.292598",
     "status": "completed"
    },
    "tags": []
   },
   "outputs": [],
   "source": [
    "import tensorflow as tf\n",
    "import tensorflow_datasets as tfds\n",
    "#tfds.list_builders()"
   ]
  },
  {
   "cell_type": "markdown",
   "id": "93c92693",
   "metadata": {},
   "source": [
    "#### Load 2017 Train Data Set"
   ]
  },
  {
   "cell_type": "code",
   "execution_count": 3,
   "id": "eb87ae89",
   "metadata": {
    "execution": {
     "iopub.execute_input": "2021-11-19T17:17:15.406045Z",
     "iopub.status.busy": "2021-11-19T17:17:15.405417Z",
     "iopub.status.idle": "2021-11-19T17:17:17.749515Z",
     "shell.execute_reply": "2021-11-19T17:17:17.750112Z",
     "shell.execute_reply.started": "2021-11-19T15:22:12.139626Z"
    },
    "papermill": {
     "duration": 2.397069,
     "end_time": "2021-11-19T17:17:17.750347",
     "exception": false,
     "start_time": "2021-11-19T17:17:15.353278",
     "status": "completed"
    },
    "tags": []
   },
   "outputs": [],
   "source": [
    "df_train_wiki_tox = pd.read_csv(\"train.csv\")"
   ]
  },
  {
   "cell_type": "markdown",
   "id": "6879c437",
   "metadata": {},
   "source": [
    "#### Load 2017 Test Data Set and Test Labels"
   ]
  },
  {
   "cell_type": "code",
   "execution_count": 4,
   "id": "96c22289",
   "metadata": {},
   "outputs": [],
   "source": [
    "df_test_wiki_tox = pd.read_csv(\"test.csv\")\n",
    "df_test_wiki_tox_labels= pd.read_csv(\"test_labels.csv\")"
   ]
  },
  {
   "cell_type": "markdown",
   "id": "d372176e",
   "metadata": {},
   "source": [
    "##### 2017 Test Labels with a Values of -1 were not used for scoring"
   ]
  },
  {
   "cell_type": "code",
   "execution_count": 5,
   "id": "038d7fb0",
   "metadata": {},
   "outputs": [
    {
     "data": {
      "text/plain": [
       "-1    89186\n",
       " 0    57888\n",
       " 1     6090\n",
       "Name: toxic, dtype: int64"
      ]
     },
     "execution_count": 5,
     "metadata": {},
     "output_type": "execute_result"
    }
   ],
   "source": [
    "df_test_wiki_tox_labels['toxic'].value_counts()"
   ]
  },
  {
   "cell_type": "code",
   "execution_count": 6,
   "id": "3d949fba",
   "metadata": {},
   "outputs": [
    {
     "data": {
      "text/html": [
       "<div>\n",
       "<style scoped>\n",
       "    .dataframe tbody tr th:only-of-type {\n",
       "        vertical-align: middle;\n",
       "    }\n",
       "\n",
       "    .dataframe tbody tr th {\n",
       "        vertical-align: top;\n",
       "    }\n",
       "\n",
       "    .dataframe thead th {\n",
       "        text-align: right;\n",
       "    }\n",
       "</style>\n",
       "<table border=\"1\" class=\"dataframe\">\n",
       "  <thead>\n",
       "    <tr style=\"text-align: right;\">\n",
       "      <th></th>\n",
       "      <th>id</th>\n",
       "      <th>toxic</th>\n",
       "      <th>severe_toxic</th>\n",
       "      <th>obscene</th>\n",
       "      <th>threat</th>\n",
       "      <th>insult</th>\n",
       "      <th>identity_hate</th>\n",
       "    </tr>\n",
       "  </thead>\n",
       "  <tbody>\n",
       "    <tr>\n",
       "      <th>0</th>\n",
       "      <td>0001ea8717f6de06</td>\n",
       "      <td>0</td>\n",
       "      <td>0</td>\n",
       "      <td>0</td>\n",
       "      <td>0</td>\n",
       "      <td>0</td>\n",
       "      <td>0</td>\n",
       "    </tr>\n",
       "    <tr>\n",
       "      <th>1</th>\n",
       "      <td>000247e83dcc1211</td>\n",
       "      <td>0</td>\n",
       "      <td>0</td>\n",
       "      <td>0</td>\n",
       "      <td>0</td>\n",
       "      <td>0</td>\n",
       "      <td>0</td>\n",
       "    </tr>\n",
       "    <tr>\n",
       "      <th>2</th>\n",
       "      <td>0002f87b16116a7f</td>\n",
       "      <td>0</td>\n",
       "      <td>0</td>\n",
       "      <td>0</td>\n",
       "      <td>0</td>\n",
       "      <td>0</td>\n",
       "      <td>0</td>\n",
       "    </tr>\n",
       "  </tbody>\n",
       "</table>\n",
       "</div>"
      ],
      "text/plain": [
       "                 id  toxic  severe_toxic  obscene  threat  insult  \\\n",
       "0  0001ea8717f6de06      0             0        0       0       0   \n",
       "1  000247e83dcc1211      0             0        0       0       0   \n",
       "2  0002f87b16116a7f      0             0        0       0       0   \n",
       "\n",
       "   identity_hate  \n",
       "0              0  \n",
       "1              0  \n",
       "2              0  "
      ]
     },
     "execution_count": 6,
     "metadata": {},
     "output_type": "execute_result"
    }
   ],
   "source": [
    "df_labelled_test = df_test_wiki_tox_labels[df_test_wiki_tox_labels['toxic']>-1]\n",
    "df_labelled_test=df_labelled_test.reset_index()\n",
    "df_labelled_test.pop('index')\n",
    "df_labelled_test.head(3)"
   ]
  },
  {
   "cell_type": "code",
   "execution_count": 7,
   "id": "153d8f70",
   "metadata": {},
   "outputs": [
    {
     "data": {
      "text/plain": [
       "0    57888\n",
       "1     6090\n",
       "Name: toxic, dtype: int64"
      ]
     },
     "execution_count": 7,
     "metadata": {},
     "output_type": "execute_result"
    }
   ],
   "source": [
    "df_labelled_test['toxic'].value_counts()"
   ]
  },
  {
   "cell_type": "code",
   "execution_count": 8,
   "id": "a5cf8060",
   "metadata": {},
   "outputs": [],
   "source": [
    "##### Values with a -1 were not used for scoring"
   ]
  },
  {
   "cell_type": "code",
   "execution_count": 9,
   "id": "5660aa33",
   "metadata": {
    "execution": {
     "iopub.execute_input": "2021-11-19T17:17:17.862290Z",
     "iopub.status.busy": "2021-11-19T17:17:17.861203Z",
     "iopub.status.idle": "2021-11-19T17:17:17.863759Z",
     "shell.execute_reply": "2021-11-19T17:17:17.863235Z",
     "shell.execute_reply.started": "2021-11-19T15:22:14.178696Z"
    },
    "papermill": {
     "duration": 0.06194,
     "end_time": "2021-11-19T17:17:17.863921",
     "exception": false,
     "start_time": "2021-11-19T17:17:17.801981",
     "status": "completed"
    },
    "tags": []
   },
   "outputs": [],
   "source": [
    "def text_process_1(text):\n",
    "    #text=text.decode('utf-8')\n",
    "    \n",
    "    # Replace the xa0 with a space\n",
    "    text=text.replace('xa0',' ')\n",
    "    # Replace the \\xa0 with a space\n",
    "    text=text.replace('\\xa0',' ')\n",
    "    # Replace the \\n\\n with a space\n",
    "    text=text.replace('\\n\\n',' ')\n",
    "    # Replace the \\n with a space\n",
    "    text=text.replace('\\n',' ')\n",
    "    # Replace apostrophes with nothing\n",
    "    text=text.replace('\\'','')\n",
    "    # Replace http with a space\n",
    "    text=text.replace('http','')\n",
    "    \n",
    "    tokens = nltk.word_tokenize(text)\n",
    "    \n",
    "    cleaned_words=[w.lower() for w in tokens if w.isalnum()]\n",
    "    #remove any words that are actually digits. \n",
    "    no_integers = [x for x in cleaned_words if not (x.isdigit() or x[0] == '-' and x[1:].isdigit())]\n",
    "    no_integers = ' '.join(no_integers)\n",
    "    \n",
    "    return no_integers"
   ]
  },
  {
   "cell_type": "code",
   "execution_count": 10,
   "id": "57bf334a",
   "metadata": {
    "execution": {
     "iopub.execute_input": "2021-11-19T17:17:17.982856Z",
     "iopub.status.busy": "2021-11-19T17:17:17.976477Z",
     "iopub.status.idle": "2021-11-19T17:20:17.230609Z",
     "shell.execute_reply": "2021-11-19T17:20:17.231124Z",
     "shell.execute_reply.started": "2021-11-19T15:22:14.189644Z"
    },
    "papermill": {
     "duration": 179.317395,
     "end_time": "2021-11-19T17:20:17.231298",
     "exception": false,
     "start_time": "2021-11-19T17:17:17.913903",
     "status": "completed"
    },
    "tags": []
   },
   "outputs": [
    {
     "name": "stdout",
     "output_type": "stream",
     "text": [
      "Time elapsed: 59.857 seconds\n"
     ]
    }
   ],
   "source": [
    "import time\n",
    "t_start = time.time()\n",
    "\n",
    "df_train_wiki_tox['clean']=df_train_wiki_tox['comment_text'].apply(lambda x: text_process_1(x))\n",
    "\n",
    "\n",
    "t_stop = time.time()\n",
    "print('Time elapsed: {:.3f} seconds'.format(t_stop - t_start))"
   ]
  },
  {
   "cell_type": "code",
   "execution_count": 11,
   "id": "17bf4886",
   "metadata": {
    "execution": {
     "iopub.execute_input": "2021-11-19T17:20:17.333858Z",
     "iopub.status.busy": "2021-11-19T17:20:17.333189Z",
     "iopub.status.idle": "2021-11-19T17:21:59.856885Z",
     "shell.execute_reply": "2021-11-19T17:21:59.857434Z",
     "shell.execute_reply.started": "2021-11-19T15:25:11.883307Z"
    },
    "papermill": {
     "duration": 102.576615,
     "end_time": "2021-11-19T17:21:59.857636",
     "exception": false,
     "start_time": "2021-11-19T17:20:17.281021",
     "status": "completed"
    },
    "tags": []
   },
   "outputs": [
    {
     "name": "stdout",
     "output_type": "stream",
     "text": [
      "Time elapsed: 27.167 seconds\n"
     ]
    }
   ],
   "source": [
    "import time\n",
    "t_start = time.time()\n",
    "\n",
    "df_train_wiki_tox['wd_len']=df_train_wiki_tox['clean'].apply(lambda x: len(nltk.word_tokenize(x)))\n",
    "\n",
    "t_stop = time.time()\n",
    "print('Time elapsed: {:.3f} seconds'.format(t_stop - t_start))"
   ]
  },
  {
   "cell_type": "code",
   "execution_count": 12,
   "id": "62d78c30",
   "metadata": {
    "execution": {
     "iopub.execute_input": "2021-11-19T17:21:59.964413Z",
     "iopub.status.busy": "2021-11-19T17:21:59.963532Z",
     "iopub.status.idle": "2021-11-19T17:22:00.053117Z",
     "shell.execute_reply": "2021-11-19T17:22:00.052464Z",
     "shell.execute_reply.started": "2021-11-19T15:26:54.120051Z"
    },
    "papermill": {
     "duration": 0.146194,
     "end_time": "2021-11-19T17:22:00.053258",
     "exception": false,
     "start_time": "2021-11-19T17:21:59.907064",
     "status": "completed"
    },
    "tags": []
   },
   "outputs": [
    {
     "data": {
      "text/plain": [
       "0              0\n",
       "1              1\n",
       "2              2\n",
       "3              3\n",
       "4              4\n",
       "           ...  \n",
       "129495    159566\n",
       "129496    159567\n",
       "129497    159568\n",
       "129498    159569\n",
       "129499    159570\n",
       "Name: index, Length: 129500, dtype: int64"
      ]
     },
     "execution_count": 12,
     "metadata": {},
     "output_type": "execute_result"
    }
   ],
   "source": [
    "df_small = df_train_wiki_tox[(df_train_wiki_tox['wd_len']<300) & (df_train_wiki_tox['wd_len']>10)]\n",
    "df_small=df_small.reset_index()\n",
    "df_small.pop('index')"
   ]
  },
  {
   "cell_type": "code",
   "execution_count": 13,
   "id": "f81745a4",
   "metadata": {
    "execution": {
     "iopub.execute_input": "2021-11-19T17:22:00.166771Z",
     "iopub.status.busy": "2021-11-19T17:22:00.165875Z",
     "iopub.status.idle": "2021-11-19T17:22:00.168971Z",
     "shell.execute_reply": "2021-11-19T17:22:00.169440Z",
     "shell.execute_reply.started": "2021-11-19T15:26:54.21207Z"
    },
    "papermill": {
     "duration": 0.064891,
     "end_time": "2021-11-19T17:22:00.169624",
     "exception": false,
     "start_time": "2021-11-19T17:22:00.104733",
     "status": "completed"
    },
    "tags": []
   },
   "outputs": [
    {
     "data": {
      "text/plain": [
       "0    128540\n",
       "1       960\n",
       "Name: severe_toxic, dtype: int64"
      ]
     },
     "execution_count": 13,
     "metadata": {},
     "output_type": "execute_result"
    }
   ],
   "source": [
    "df_small['severe_toxic'].value_counts()"
   ]
  },
  {
   "cell_type": "code",
   "execution_count": 14,
   "id": "b4f9fe8a",
   "metadata": {
    "execution": {
     "iopub.execute_input": "2021-11-19T17:22:00.275956Z",
     "iopub.status.busy": "2021-11-19T17:22:00.275318Z",
     "iopub.status.idle": "2021-11-19T17:22:00.288439Z",
     "shell.execute_reply": "2021-11-19T17:22:00.287853Z",
     "shell.execute_reply.started": "2021-11-19T15:26:54.225505Z"
    },
    "papermill": {
     "duration": 0.068706,
     "end_time": "2021-11-19T17:22:00.288587",
     "exception": false,
     "start_time": "2021-11-19T17:22:00.219881",
     "status": "completed"
    },
    "tags": []
   },
   "outputs": [
    {
     "data": {
      "text/plain": [
       "0    128540\n",
       "1       960\n",
       "Name: new_severe_toxic, dtype: int64"
      ]
     },
     "execution_count": 14,
     "metadata": {},
     "output_type": "execute_result"
    }
   ],
   "source": [
    "from sklearn import preprocessing\n",
    "# instatiate sklearn's labelencoder\n",
    "le = preprocessing.LabelEncoder()\n",
    "\n",
    "# fit label encorder and return encoded integer labels for categorical string features\n",
    "df_small['new_severe_toxic'] = le.fit_transform(df_small['severe_toxic'].values)\n",
    "df_small['new_severe_toxic'].value_counts()\n",
    "#df_3.pop('Results')\n",
    "\n"
   ]
  },
  {
   "cell_type": "code",
   "execution_count": 15,
   "id": "69cdf917",
   "metadata": {
    "execution": {
     "iopub.execute_input": "2021-11-19T17:22:00.396760Z",
     "iopub.status.busy": "2021-11-19T17:22:00.395740Z",
     "iopub.status.idle": "2021-11-19T17:22:00.409127Z",
     "shell.execute_reply": "2021-11-19T17:22:00.409716Z",
     "shell.execute_reply.started": "2021-11-19T15:26:54.249916Z"
    },
    "papermill": {
     "duration": 0.069859,
     "end_time": "2021-11-19T17:22:00.409891",
     "exception": false,
     "start_time": "2021-11-19T17:22:00.340032",
     "status": "completed"
    },
    "tags": []
   },
   "outputs": [
    {
     "data": {
      "text/plain": [
       "0    118412\n",
       "1     11088\n",
       "Name: new_toxic, dtype: int64"
      ]
     },
     "execution_count": 15,
     "metadata": {},
     "output_type": "execute_result"
    }
   ],
   "source": [
    "# fit label encorder and return encoded integer labels for categorical string features\n",
    "df_small['new_toxic'] = le.fit_transform(df_small['toxic'].values)\n",
    "df_small['new_toxic'].value_counts()\n",
    "#df_3.pop('Results')"
   ]
  },
  {
   "cell_type": "code",
   "execution_count": 16,
   "id": "252e8b98",
   "metadata": {
    "execution": {
     "iopub.execute_input": "2021-11-19T17:22:00.520238Z",
     "iopub.status.busy": "2021-11-19T17:22:00.516343Z",
     "iopub.status.idle": "2021-11-19T17:22:00.523051Z",
     "shell.execute_reply": "2021-11-19T17:22:00.523598Z",
     "shell.execute_reply.started": "2021-11-19T15:59:45.963531Z"
    },
    "jupyter": {
     "outputs_hidden": true
    },
    "papermill": {
     "duration": 0.062387,
     "end_time": "2021-11-19T17:22:00.523767",
     "exception": false,
     "start_time": "2021-11-19T17:22:00.461380",
     "status": "completed"
    },
    "tags": []
   },
   "outputs": [
    {
     "data": {
      "text/plain": [
       "0     0\n",
       "1     0\n",
       "2     0\n",
       "3     0\n",
       "4     0\n",
       "     ..\n",
       "95    0\n",
       "96    0\n",
       "97    0\n",
       "98    0\n",
       "99    0\n",
       "Name: new_toxic, Length: 100, dtype: int64"
      ]
     },
     "execution_count": 16,
     "metadata": {},
     "output_type": "execute_result"
    }
   ],
   "source": [
    "df_small['new_toxic'].head(100)"
   ]
  },
  {
   "cell_type": "code",
   "execution_count": 17,
   "id": "b54cdffd",
   "metadata": {
    "execution": {
     "iopub.execute_input": "2021-11-19T17:22:00.631982Z",
     "iopub.status.busy": "2021-11-19T17:22:00.631308Z",
     "iopub.status.idle": "2021-11-19T17:22:00.874879Z",
     "shell.execute_reply": "2021-11-19T17:22:00.874331Z",
     "shell.execute_reply.started": "2021-11-19T15:26:54.265004Z"
    },
    "papermill": {
     "duration": 0.299656,
     "end_time": "2021-11-19T17:22:00.875030",
     "exception": false,
     "start_time": "2021-11-19T17:22:00.575374",
     "status": "completed"
    },
    "tags": []
   },
   "outputs": [],
   "source": [
    "import imblearn\n",
    "from imblearn.under_sampling import RandomUnderSampler\n",
    "# define undersample strategy\n",
    "undersample = RandomUnderSampler(sampling_strategy='majority')\n",
    "\n",
    "undersample_2 = RandomUnderSampler(sampling_strategy='majority')"
   ]
  },
  {
   "cell_type": "markdown",
   "id": "faab1619",
   "metadata": {
    "papermill": {
     "duration": 0.051631,
     "end_time": "2021-11-19T17:22:00.980045",
     "exception": false,
     "start_time": "2021-11-19T17:22:00.928414",
     "status": "completed"
    },
    "tags": []
   },
   "source": [
    "#### Toxic Comments Classification - Under Sample Majority Class "
   ]
  },
  {
   "cell_type": "code",
   "execution_count": 18,
   "id": "cb1a15f9",
   "metadata": {
    "execution": {
     "iopub.execute_input": "2021-11-19T17:22:01.091031Z",
     "iopub.status.busy": "2021-11-19T17:22:01.090338Z",
     "iopub.status.idle": "2021-11-19T17:22:01.147799Z",
     "shell.execute_reply": "2021-11-19T17:22:01.148702Z",
     "shell.execute_reply.started": "2021-11-19T15:26:54.504272Z"
    },
    "papermill": {
     "duration": 0.117258,
     "end_time": "2021-11-19T17:22:01.148923",
     "exception": false,
     "start_time": "2021-11-19T17:22:01.031665",
     "status": "completed"
    },
    "tags": []
   },
   "outputs": [],
   "source": [
    "#https://stackoverflow.com/questions/53723928/attributeerror-series-object-has-no-attribute-reshape\n",
    "X=df_small['clean']\n",
    "X=X.values.reshape(-1, 1)\n",
    "\n",
    "Y=df_small['new_toxic']\n",
    "Y=Y.values.reshape(-1, 1)\n",
    "\n",
    "X_under, y_under = undersample.fit_resample(X, Y)\n",
    "new_x=pd.DataFrame(X_under)[0]\n",
    "new_y=pd.DataFrame(y_under)[0]"
   ]
  },
  {
   "cell_type": "markdown",
   "id": "34ac286d",
   "metadata": {
    "papermill": {
     "duration": 0.051752,
     "end_time": "2021-11-19T17:22:01.253027",
     "exception": false,
     "start_time": "2021-11-19T17:22:01.201275",
     "status": "completed"
    },
    "tags": []
   },
   "source": [
    "#### Severely Toxic Comments Classification - Under Sample Majority Class "
   ]
  },
  {
   "cell_type": "code",
   "execution_count": 19,
   "id": "cafe1196",
   "metadata": {
    "execution": {
     "iopub.execute_input": "2021-11-19T17:22:01.361037Z",
     "iopub.status.busy": "2021-11-19T17:22:01.360110Z",
     "iopub.status.idle": "2021-11-19T17:22:01.418932Z",
     "shell.execute_reply": "2021-11-19T17:22:01.419501Z",
     "shell.execute_reply.started": "2021-11-19T15:26:54.566316Z"
    },
    "papermill": {
     "duration": 0.115077,
     "end_time": "2021-11-19T17:22:01.419680",
     "exception": false,
     "start_time": "2021-11-19T17:22:01.304603",
     "status": "completed"
    },
    "tags": []
   },
   "outputs": [],
   "source": [
    "X_2=df_small['clean']\n",
    "X_2=X_2.values.reshape(-1, 1)\n",
    "\n",
    "Y_2=df_small['new_severe_toxic']\n",
    "Y_2=Y_2.values.reshape(-1, 1)\n",
    "\n",
    "X_under_2, y_under_2 = undersample_2.fit_resample(X_2, Y_2)\n",
    "new_x_2=pd.DataFrame(X_under_2)[0]\n",
    "new_y_2=pd.DataFrame(y_under_2)[0]"
   ]
  },
  {
   "cell_type": "markdown",
   "id": "89dc6641",
   "metadata": {
    "papermill": {
     "duration": 0.051327,
     "end_time": "2021-11-19T17:22:01.522294",
     "exception": false,
     "start_time": "2021-11-19T17:22:01.470967",
     "status": "completed"
    },
    "tags": []
   },
   "source": [
    "### Load Pre-trained Glove and Word2Vec embeddings"
   ]
  },
  {
   "cell_type": "code",
   "execution_count": 20,
   "id": "a0e5730e",
   "metadata": {
    "execution": {
     "iopub.execute_input": "2021-11-19T17:22:01.629925Z",
     "iopub.status.busy": "2021-11-19T17:22:01.628970Z",
     "iopub.status.idle": "2021-11-19T17:22:01.931064Z",
     "shell.execute_reply": "2021-11-19T17:22:01.930475Z",
     "shell.execute_reply.started": "2021-11-19T15:26:54.63593Z"
    },
    "papermill": {
     "duration": 0.357426,
     "end_time": "2021-11-19T17:22:01.931227",
     "exception": false,
     "start_time": "2021-11-19T17:22:01.573801",
     "status": "completed"
    },
    "tags": []
   },
   "outputs": [
    {
     "name": "stderr",
     "output_type": "stream",
     "text": [
      "C:\\Users\\Rober\\anaconda3\\lib\\site-packages\\gensim\\similarities\\__init__.py:15: UserWarning: The gensim.similarities.levenshtein submodule is disabled, because the optional Levenshtein package <https://pypi.org/project/python-Levenshtein/> is unavailable. Install Levenhstein (e.g. `pip install python-Levenshtein`) to suppress this warning.\n",
      "  warnings.warn(msg)\n"
     ]
    }
   ],
   "source": [
    "import numpy as np # linear algebra\n",
    "import os, sys\n",
    "\n",
    "from gensim.models import Word2Vec, KeyedVectors\n",
    "from gensim.test.utils import datapath"
   ]
  },
  {
   "cell_type": "code",
   "execution_count": 21,
   "id": "cda3f8fd",
   "metadata": {
    "execution": {
     "iopub.execute_input": "2021-11-19T17:22:02.041835Z",
     "iopub.status.busy": "2021-11-19T17:22:02.041155Z",
     "iopub.status.idle": "2021-11-19T17:59:21.142174Z",
     "shell.execute_reply": "2021-11-19T17:59:21.142855Z",
     "shell.execute_reply.started": "2021-11-19T15:30:57.396256Z"
    },
    "papermill": {
     "duration": 2239.160343,
     "end_time": "2021-11-19T17:59:21.143454",
     "exception": false,
     "start_time": "2021-11-19T17:22:01.983111",
     "status": "completed"
    },
    "tags": []
   },
   "outputs": [
    {
     "name": "stdout",
     "output_type": "stream",
     "text": [
      "Time elapsed: 444.093 seconds\n"
     ]
    }
   ],
   "source": [
    "import time\n",
    "t_start = time.time()\n",
    "\n",
    "\n",
    "# Get path to file\n",
    "vector_size = 768\n",
    "#glove_file = '../input/glove-reddit-comments/GloVeReddit120B/GloVe.Reddit.120B.300D.txt'\n",
    "\n",
    "glove_file ='GloVe.Reddit.120B.768D.txt'\n",
    "\n",
    "# Load with gensim\n",
    "model = KeyedVectors.load_word2vec_format(glove_file)\n",
    "\n",
    "t_stop = time.time()\n",
    "print('Time elapsed: {:.3f} seconds'.format(t_stop - t_start))"
   ]
  },
  {
   "cell_type": "markdown",
   "id": "f1b69bcf",
   "metadata": {
    "papermill": {
     "duration": 0.053618,
     "end_time": "2021-11-19T17:59:21.250498",
     "exception": false,
     "start_time": "2021-11-19T17:59:21.196880",
     "status": "completed"
    },
    "tags": []
   },
   "source": [
    "### Create Sentence Vector for each comment by Averaging the Word Vectors"
   ]
  },
  {
   "cell_type": "code",
   "execution_count": 22,
   "id": "dbf9e770",
   "metadata": {
    "execution": {
     "iopub.execute_input": "2021-11-19T17:59:21.471656Z",
     "iopub.status.busy": "2021-11-19T17:59:21.470190Z",
     "iopub.status.idle": "2021-11-19T17:59:21.475394Z",
     "shell.execute_reply": "2021-11-19T17:59:21.474626Z",
     "shell.execute_reply.started": "2021-11-19T16:12:26.314967Z"
    },
    "papermill": {
     "duration": 0.172521,
     "end_time": "2021-11-19T17:59:21.475577",
     "exception": false,
     "start_time": "2021-11-19T17:59:21.303056",
     "status": "completed"
    },
    "tags": []
   },
   "outputs": [],
   "source": [
    "#average first 30 words in the sentence\n",
    "def sent_vectorizer_1(text):\n",
    "    n=len(text)\n",
    "    text_1=text[0:n]\n",
    "    vectors = [model[x] for x in text_1.split(' ') if x in model.key_to_index]\n",
    "    #sent_vector=sum(vectors)/len(vectors)\n",
    "    if len(vectors) != 0:\n",
    "        sent_vector=sum(vectors)/len(vectors)\n",
    "    elif len(text) !=0:\n",
    "        sent_vector=sum(vectors)/len(text)\n",
    "    else:\n",
    "        sent_vector=sum(vectors)/1\n",
    "    return sent_vector"
   ]
  },
  {
   "cell_type": "markdown",
   "id": "57bf8bd7",
   "metadata": {
    "papermill": {
     "duration": 0.052295,
     "end_time": "2021-11-19T17:59:21.686478",
     "exception": false,
     "start_time": "2021-11-19T17:59:21.634183",
     "status": "completed"
    },
    "tags": []
   },
   "source": [
    "### Regular Toxic - Binary Classification"
   ]
  },
  {
   "cell_type": "code",
   "execution_count": 23,
   "id": "8a4ca7cb",
   "metadata": {
    "execution": {
     "iopub.execute_input": "2021-11-19T17:59:21.803244Z",
     "iopub.status.busy": "2021-11-19T17:59:21.802220Z",
     "iopub.status.idle": "2021-11-19T17:59:27.328682Z",
     "shell.execute_reply": "2021-11-19T17:59:27.329335Z",
     "shell.execute_reply.started": "2021-11-19T15:49:29.50881Z"
    },
    "papermill": {
     "duration": 5.589804,
     "end_time": "2021-11-19T17:59:27.329572",
     "exception": false,
     "start_time": "2021-11-19T17:59:21.739768",
     "status": "completed"
    },
    "tags": []
   },
   "outputs": [
    {
     "name": "stdout",
     "output_type": "stream",
     "text": [
      "Time elapsed: 1.933 seconds\n"
     ]
    }
   ],
   "source": [
    "import time\n",
    "t_start = time.time()\n",
    "\n",
    "df_glove=pd.DataFrame(new_x)\n",
    "df_glove.columns=['text']\n",
    "df_glove['sent_vec_1']=df_glove['text'].apply(lambda x: sent_vectorizer_1(x))\n",
    "\n",
    "\n",
    "t_stop = time.time()\n",
    "print('Time elapsed: {:.3f} seconds'.format(t_stop - t_start))"
   ]
  },
  {
   "cell_type": "markdown",
   "id": "60b24ff3",
   "metadata": {
    "papermill": {
     "duration": 0.053423,
     "end_time": "2021-11-19T17:59:27.436100",
     "exception": false,
     "start_time": "2021-11-19T17:59:27.382677",
     "status": "completed"
    },
    "tags": []
   },
   "source": [
    "#### Creates Data Frame where 1 sentence is 1 Row, with 300 columns"
   ]
  },
  {
   "cell_type": "code",
   "execution_count": 24,
   "id": "dd38de2c",
   "metadata": {
    "execution": {
     "iopub.execute_input": "2021-11-19T17:59:27.545829Z",
     "iopub.status.busy": "2021-11-19T17:59:27.545135Z",
     "iopub.status.idle": "2021-11-19T18:04:42.266998Z",
     "shell.execute_reply": "2021-11-19T18:04:42.267579Z",
     "shell.execute_reply.started": "2021-11-19T15:49:38.575057Z"
    },
    "papermill": {
     "duration": 314.778833,
     "end_time": "2021-11-19T18:04:42.267808",
     "exception": false,
     "start_time": "2021-11-19T17:59:27.488975",
     "status": "completed"
    },
    "tags": []
   },
   "outputs": [
    {
     "name": "stdout",
     "output_type": "stream",
     "text": [
      "Time elapsed: 156.844 seconds\n"
     ]
    }
   ],
   "source": [
    "import time\n",
    "t_start = time.time()\n",
    "\n",
    "X_glove=df_glove['sent_vec_1']\n",
    "\n",
    "\n",
    "ddd=pd.DataFrame()\n",
    "\n",
    "\n",
    "for idx, row in enumerate(X_glove):\n",
    "    #print((roww))\n",
    "    #print(list(roww))\n",
    "    row_df=pd.Series(X_glove[idx]).to_frame()\n",
    "    row_df_2=row_df.T\n",
    "    ddd=pd.concat([ddd, row_df_2])\n",
    "    #row_df= pd.DataFrame(roww)\n",
    "#     row_df_2=row_df.T\n",
    "#     ddd=pd.concat([ddd, row_df_2])\n",
    "    \n",
    "t_stop = time.time()\n",
    "print('Time elapsed: {:.3f} seconds'.format(t_stop - t_start))"
   ]
  },
  {
   "cell_type": "code",
   "execution_count": 25,
   "id": "eb865ff6",
   "metadata": {
    "execution": {
     "iopub.execute_input": "2021-11-19T18:04:42.380829Z",
     "iopub.status.busy": "2021-11-19T18:04:42.380062Z",
     "iopub.status.idle": "2021-11-19T18:04:42.465995Z",
     "shell.execute_reply": "2021-11-19T18:04:42.465269Z",
     "shell.execute_reply.started": "2021-11-19T15:51:52.30754Z"
    },
    "papermill": {
     "duration": 0.145168,
     "end_time": "2021-11-19T18:04:42.466175",
     "exception": false,
     "start_time": "2021-11-19T18:04:42.321007",
     "status": "completed"
    },
    "tags": []
   },
   "outputs": [
    {
     "data": {
      "text/html": [
       "<div>\n",
       "<style scoped>\n",
       "    .dataframe tbody tr th:only-of-type {\n",
       "        vertical-align: middle;\n",
       "    }\n",
       "\n",
       "    .dataframe tbody tr th {\n",
       "        vertical-align: top;\n",
       "    }\n",
       "\n",
       "    .dataframe thead th {\n",
       "        text-align: right;\n",
       "    }\n",
       "</style>\n",
       "<table border=\"1\" class=\"dataframe\">\n",
       "  <thead>\n",
       "    <tr style=\"text-align: right;\">\n",
       "      <th></th>\n",
       "      <th>0</th>\n",
       "      <th>1</th>\n",
       "      <th>2</th>\n",
       "      <th>3</th>\n",
       "      <th>4</th>\n",
       "      <th>5</th>\n",
       "      <th>6</th>\n",
       "      <th>7</th>\n",
       "      <th>8</th>\n",
       "      <th>9</th>\n",
       "      <th>...</th>\n",
       "      <th>758</th>\n",
       "      <th>759</th>\n",
       "      <th>760</th>\n",
       "      <th>761</th>\n",
       "      <th>762</th>\n",
       "      <th>763</th>\n",
       "      <th>764</th>\n",
       "      <th>765</th>\n",
       "      <th>766</th>\n",
       "      <th>767</th>\n",
       "    </tr>\n",
       "  </thead>\n",
       "  <tbody>\n",
       "    <tr>\n",
       "      <th>0</th>\n",
       "      <td>0.242870</td>\n",
       "      <td>0.131449</td>\n",
       "      <td>-0.107705</td>\n",
       "      <td>0.320499</td>\n",
       "      <td>0.007212</td>\n",
       "      <td>0.097709</td>\n",
       "      <td>-0.015212</td>\n",
       "      <td>-0.271593</td>\n",
       "      <td>-0.259828</td>\n",
       "      <td>0.243551</td>\n",
       "      <td>...</td>\n",
       "      <td>-0.087860</td>\n",
       "      <td>-0.174656</td>\n",
       "      <td>-0.024902</td>\n",
       "      <td>-0.056367</td>\n",
       "      <td>0.212878</td>\n",
       "      <td>0.071195</td>\n",
       "      <td>0.235152</td>\n",
       "      <td>0.141611</td>\n",
       "      <td>0.320514</td>\n",
       "      <td>-0.136405</td>\n",
       "    </tr>\n",
       "    <tr>\n",
       "      <th>1</th>\n",
       "      <td>0.196283</td>\n",
       "      <td>0.100883</td>\n",
       "      <td>0.024023</td>\n",
       "      <td>0.319634</td>\n",
       "      <td>0.025133</td>\n",
       "      <td>0.017234</td>\n",
       "      <td>0.046166</td>\n",
       "      <td>-0.228039</td>\n",
       "      <td>-0.322698</td>\n",
       "      <td>0.139684</td>\n",
       "      <td>...</td>\n",
       "      <td>-0.023608</td>\n",
       "      <td>-0.102434</td>\n",
       "      <td>0.001398</td>\n",
       "      <td>-0.043210</td>\n",
       "      <td>0.218588</td>\n",
       "      <td>0.063392</td>\n",
       "      <td>0.207331</td>\n",
       "      <td>0.110252</td>\n",
       "      <td>0.329420</td>\n",
       "      <td>-0.128522</td>\n",
       "    </tr>\n",
       "    <tr>\n",
       "      <th>2</th>\n",
       "      <td>0.159607</td>\n",
       "      <td>0.053702</td>\n",
       "      <td>-0.053313</td>\n",
       "      <td>0.328310</td>\n",
       "      <td>0.013514</td>\n",
       "      <td>0.071124</td>\n",
       "      <td>0.054514</td>\n",
       "      <td>-0.295954</td>\n",
       "      <td>-0.228510</td>\n",
       "      <td>0.181548</td>\n",
       "      <td>...</td>\n",
       "      <td>-0.089041</td>\n",
       "      <td>-0.243265</td>\n",
       "      <td>-0.093468</td>\n",
       "      <td>-0.100837</td>\n",
       "      <td>0.099590</td>\n",
       "      <td>0.059758</td>\n",
       "      <td>0.258803</td>\n",
       "      <td>0.227810</td>\n",
       "      <td>0.329855</td>\n",
       "      <td>0.007674</td>\n",
       "    </tr>\n",
       "    <tr>\n",
       "      <th>3</th>\n",
       "      <td>0.184424</td>\n",
       "      <td>0.142577</td>\n",
       "      <td>0.060167</td>\n",
       "      <td>0.316908</td>\n",
       "      <td>-0.006080</td>\n",
       "      <td>-0.025332</td>\n",
       "      <td>0.077740</td>\n",
       "      <td>-0.092789</td>\n",
       "      <td>-0.291551</td>\n",
       "      <td>0.169173</td>\n",
       "      <td>...</td>\n",
       "      <td>-0.111860</td>\n",
       "      <td>-0.258467</td>\n",
       "      <td>0.070231</td>\n",
       "      <td>-0.047733</td>\n",
       "      <td>0.247660</td>\n",
       "      <td>0.048386</td>\n",
       "      <td>0.128783</td>\n",
       "      <td>0.258839</td>\n",
       "      <td>0.231050</td>\n",
       "      <td>-0.146527</td>\n",
       "    </tr>\n",
       "    <tr>\n",
       "      <th>4</th>\n",
       "      <td>0.143451</td>\n",
       "      <td>0.155883</td>\n",
       "      <td>-0.008247</td>\n",
       "      <td>0.256016</td>\n",
       "      <td>-0.023946</td>\n",
       "      <td>0.071156</td>\n",
       "      <td>0.040974</td>\n",
       "      <td>-0.159580</td>\n",
       "      <td>-0.219370</td>\n",
       "      <td>0.122882</td>\n",
       "      <td>...</td>\n",
       "      <td>0.016177</td>\n",
       "      <td>-0.144987</td>\n",
       "      <td>0.005202</td>\n",
       "      <td>-0.058776</td>\n",
       "      <td>0.177307</td>\n",
       "      <td>0.178435</td>\n",
       "      <td>0.079509</td>\n",
       "      <td>0.125829</td>\n",
       "      <td>0.256261</td>\n",
       "      <td>-0.044420</td>\n",
       "    </tr>\n",
       "    <tr>\n",
       "      <th>...</th>\n",
       "      <td>...</td>\n",
       "      <td>...</td>\n",
       "      <td>...</td>\n",
       "      <td>...</td>\n",
       "      <td>...</td>\n",
       "      <td>...</td>\n",
       "      <td>...</td>\n",
       "      <td>...</td>\n",
       "      <td>...</td>\n",
       "      <td>...</td>\n",
       "      <td>...</td>\n",
       "      <td>...</td>\n",
       "      <td>...</td>\n",
       "      <td>...</td>\n",
       "      <td>...</td>\n",
       "      <td>...</td>\n",
       "      <td>...</td>\n",
       "      <td>...</td>\n",
       "      <td>...</td>\n",
       "      <td>...</td>\n",
       "      <td>...</td>\n",
       "    </tr>\n",
       "    <tr>\n",
       "      <th>22171</th>\n",
       "      <td>0.070590</td>\n",
       "      <td>0.184251</td>\n",
       "      <td>0.148726</td>\n",
       "      <td>0.227605</td>\n",
       "      <td>-0.036799</td>\n",
       "      <td>0.090182</td>\n",
       "      <td>-0.019065</td>\n",
       "      <td>-0.080726</td>\n",
       "      <td>-0.148066</td>\n",
       "      <td>0.112775</td>\n",
       "      <td>...</td>\n",
       "      <td>-0.068538</td>\n",
       "      <td>-0.175033</td>\n",
       "      <td>-0.021848</td>\n",
       "      <td>0.052516</td>\n",
       "      <td>0.161386</td>\n",
       "      <td>0.152665</td>\n",
       "      <td>0.069327</td>\n",
       "      <td>0.119267</td>\n",
       "      <td>0.068508</td>\n",
       "      <td>-0.104586</td>\n",
       "    </tr>\n",
       "    <tr>\n",
       "      <th>22172</th>\n",
       "      <td>0.193001</td>\n",
       "      <td>0.137727</td>\n",
       "      <td>-0.095725</td>\n",
       "      <td>0.298201</td>\n",
       "      <td>-0.006982</td>\n",
       "      <td>0.036559</td>\n",
       "      <td>0.015717</td>\n",
       "      <td>-0.252593</td>\n",
       "      <td>-0.270821</td>\n",
       "      <td>0.181729</td>\n",
       "      <td>...</td>\n",
       "      <td>-0.116324</td>\n",
       "      <td>-0.198409</td>\n",
       "      <td>-0.060868</td>\n",
       "      <td>-0.081872</td>\n",
       "      <td>0.167197</td>\n",
       "      <td>0.034176</td>\n",
       "      <td>0.176308</td>\n",
       "      <td>0.160164</td>\n",
       "      <td>0.307432</td>\n",
       "      <td>-0.073194</td>\n",
       "    </tr>\n",
       "    <tr>\n",
       "      <th>22173</th>\n",
       "      <td>0.108760</td>\n",
       "      <td>0.160298</td>\n",
       "      <td>-0.024049</td>\n",
       "      <td>0.274953</td>\n",
       "      <td>-0.028314</td>\n",
       "      <td>0.103392</td>\n",
       "      <td>0.023290</td>\n",
       "      <td>-0.240156</td>\n",
       "      <td>-0.234149</td>\n",
       "      <td>0.178782</td>\n",
       "      <td>...</td>\n",
       "      <td>-0.045383</td>\n",
       "      <td>-0.182914</td>\n",
       "      <td>-0.039025</td>\n",
       "      <td>0.009336</td>\n",
       "      <td>0.101688</td>\n",
       "      <td>-0.001995</td>\n",
       "      <td>0.229467</td>\n",
       "      <td>0.083900</td>\n",
       "      <td>0.321072</td>\n",
       "      <td>-0.110207</td>\n",
       "    </tr>\n",
       "    <tr>\n",
       "      <th>22174</th>\n",
       "      <td>0.182227</td>\n",
       "      <td>0.136645</td>\n",
       "      <td>0.006006</td>\n",
       "      <td>0.274468</td>\n",
       "      <td>-0.070426</td>\n",
       "      <td>0.083001</td>\n",
       "      <td>0.040703</td>\n",
       "      <td>-0.257833</td>\n",
       "      <td>-0.218978</td>\n",
       "      <td>0.148253</td>\n",
       "      <td>...</td>\n",
       "      <td>-0.036964</td>\n",
       "      <td>-0.249743</td>\n",
       "      <td>-0.076993</td>\n",
       "      <td>-0.029553</td>\n",
       "      <td>0.109465</td>\n",
       "      <td>0.006678</td>\n",
       "      <td>0.172726</td>\n",
       "      <td>0.188526</td>\n",
       "      <td>0.317873</td>\n",
       "      <td>-0.075924</td>\n",
       "    </tr>\n",
       "    <tr>\n",
       "      <th>22175</th>\n",
       "      <td>0.233779</td>\n",
       "      <td>0.152899</td>\n",
       "      <td>0.002865</td>\n",
       "      <td>0.270854</td>\n",
       "      <td>-0.058944</td>\n",
       "      <td>0.048407</td>\n",
       "      <td>-0.053548</td>\n",
       "      <td>-0.209483</td>\n",
       "      <td>-0.232992</td>\n",
       "      <td>0.161267</td>\n",
       "      <td>...</td>\n",
       "      <td>-0.047622</td>\n",
       "      <td>-0.219472</td>\n",
       "      <td>-0.104941</td>\n",
       "      <td>-0.012480</td>\n",
       "      <td>0.150304</td>\n",
       "      <td>0.109107</td>\n",
       "      <td>0.171398</td>\n",
       "      <td>0.098582</td>\n",
       "      <td>0.362156</td>\n",
       "      <td>-0.122580</td>\n",
       "    </tr>\n",
       "  </tbody>\n",
       "</table>\n",
       "<p>22176 rows × 768 columns</p>\n",
       "</div>"
      ],
      "text/plain": [
       "            0         1         2         3         4         5         6    \\\n",
       "0      0.242870  0.131449 -0.107705  0.320499  0.007212  0.097709 -0.015212   \n",
       "1      0.196283  0.100883  0.024023  0.319634  0.025133  0.017234  0.046166   \n",
       "2      0.159607  0.053702 -0.053313  0.328310  0.013514  0.071124  0.054514   \n",
       "3      0.184424  0.142577  0.060167  0.316908 -0.006080 -0.025332  0.077740   \n",
       "4      0.143451  0.155883 -0.008247  0.256016 -0.023946  0.071156  0.040974   \n",
       "...         ...       ...       ...       ...       ...       ...       ...   \n",
       "22171  0.070590  0.184251  0.148726  0.227605 -0.036799  0.090182 -0.019065   \n",
       "22172  0.193001  0.137727 -0.095725  0.298201 -0.006982  0.036559  0.015717   \n",
       "22173  0.108760  0.160298 -0.024049  0.274953 -0.028314  0.103392  0.023290   \n",
       "22174  0.182227  0.136645  0.006006  0.274468 -0.070426  0.083001  0.040703   \n",
       "22175  0.233779  0.152899  0.002865  0.270854 -0.058944  0.048407 -0.053548   \n",
       "\n",
       "            7         8         9    ...       758       759       760  \\\n",
       "0     -0.271593 -0.259828  0.243551  ... -0.087860 -0.174656 -0.024902   \n",
       "1     -0.228039 -0.322698  0.139684  ... -0.023608 -0.102434  0.001398   \n",
       "2     -0.295954 -0.228510  0.181548  ... -0.089041 -0.243265 -0.093468   \n",
       "3     -0.092789 -0.291551  0.169173  ... -0.111860 -0.258467  0.070231   \n",
       "4     -0.159580 -0.219370  0.122882  ...  0.016177 -0.144987  0.005202   \n",
       "...         ...       ...       ...  ...       ...       ...       ...   \n",
       "22171 -0.080726 -0.148066  0.112775  ... -0.068538 -0.175033 -0.021848   \n",
       "22172 -0.252593 -0.270821  0.181729  ... -0.116324 -0.198409 -0.060868   \n",
       "22173 -0.240156 -0.234149  0.178782  ... -0.045383 -0.182914 -0.039025   \n",
       "22174 -0.257833 -0.218978  0.148253  ... -0.036964 -0.249743 -0.076993   \n",
       "22175 -0.209483 -0.232992  0.161267  ... -0.047622 -0.219472 -0.104941   \n",
       "\n",
       "            761       762       763       764       765       766       767  \n",
       "0     -0.056367  0.212878  0.071195  0.235152  0.141611  0.320514 -0.136405  \n",
       "1     -0.043210  0.218588  0.063392  0.207331  0.110252  0.329420 -0.128522  \n",
       "2     -0.100837  0.099590  0.059758  0.258803  0.227810  0.329855  0.007674  \n",
       "3     -0.047733  0.247660  0.048386  0.128783  0.258839  0.231050 -0.146527  \n",
       "4     -0.058776  0.177307  0.178435  0.079509  0.125829  0.256261 -0.044420  \n",
       "...         ...       ...       ...       ...       ...       ...       ...  \n",
       "22171  0.052516  0.161386  0.152665  0.069327  0.119267  0.068508 -0.104586  \n",
       "22172 -0.081872  0.167197  0.034176  0.176308  0.160164  0.307432 -0.073194  \n",
       "22173  0.009336  0.101688 -0.001995  0.229467  0.083900  0.321072 -0.110207  \n",
       "22174 -0.029553  0.109465  0.006678  0.172726  0.188526  0.317873 -0.075924  \n",
       "22175 -0.012480  0.150304  0.109107  0.171398  0.098582  0.362156 -0.122580  \n",
       "\n",
       "[22176 rows x 768 columns]"
      ]
     },
     "execution_count": 25,
     "metadata": {},
     "output_type": "execute_result"
    }
   ],
   "source": [
    "df_glove_avg=ddd.reset_index()\n",
    "df_glove_avg.pop('index')\n",
    "df_glove_avg"
   ]
  },
  {
   "cell_type": "markdown",
   "id": "dbc3136f",
   "metadata": {
    "papermill": {
     "duration": 0.055215,
     "end_time": "2021-11-19T18:04:42.575974",
     "exception": false,
     "start_time": "2021-11-19T18:04:42.520759",
     "status": "completed"
    },
    "tags": []
   },
   "source": [
    "### Severely Toxic - Binary Classification"
   ]
  },
  {
   "cell_type": "code",
   "execution_count": 26,
   "id": "1040b813",
   "metadata": {
    "execution": {
     "iopub.execute_input": "2021-11-19T18:04:42.695563Z",
     "iopub.status.busy": "2021-11-19T18:04:42.689310Z",
     "iopub.status.idle": "2021-11-19T18:04:43.087569Z",
     "shell.execute_reply": "2021-11-19T18:04:43.088211Z",
     "shell.execute_reply.started": "2021-11-19T15:51:52.375382Z"
    },
    "papermill": {
     "duration": 0.457752,
     "end_time": "2021-11-19T18:04:43.088402",
     "exception": false,
     "start_time": "2021-11-19T18:04:42.630650",
     "status": "completed"
    },
    "tags": []
   },
   "outputs": [
    {
     "name": "stdout",
     "output_type": "stream",
     "text": [
      "Time elapsed: 0.159 seconds\n"
     ]
    }
   ],
   "source": [
    "import time\n",
    "t_start = time.time()\n",
    "\n",
    "df_glove_2=pd.DataFrame(new_x_2)\n",
    "df_glove_2.columns=['text']\n",
    "df_glove_2['sent_vec_1']=df_glove_2['text'].apply(lambda x: sent_vectorizer_1(x))\n",
    "\n",
    "\n",
    "t_stop = time.time()\n",
    "print('Time elapsed: {:.3f} seconds'.format(t_stop - t_start))"
   ]
  },
  {
   "cell_type": "markdown",
   "id": "da72e408",
   "metadata": {},
   "source": [
    "#### Creates Data Frame where 1 sentence is 1 Row, with 300 columns"
   ]
  },
  {
   "cell_type": "code",
   "execution_count": 27,
   "id": "256a7f69",
   "metadata": {
    "execution": {
     "iopub.execute_input": "2021-11-19T18:04:43.199415Z",
     "iopub.status.busy": "2021-11-19T18:04:43.198454Z",
     "iopub.status.idle": "2021-11-19T18:04:45.648542Z",
     "shell.execute_reply": "2021-11-19T18:04:45.649156Z",
     "shell.execute_reply.started": "2021-11-19T15:51:52.767636Z"
    },
    "papermill": {
     "duration": 2.507146,
     "end_time": "2021-11-19T18:04:45.649336",
     "exception": false,
     "start_time": "2021-11-19T18:04:43.142190",
     "status": "completed"
    },
    "tags": []
   },
   "outputs": [
    {
     "name": "stdout",
     "output_type": "stream",
     "text": [
      "Time elapsed: 1.661 seconds\n"
     ]
    }
   ],
   "source": [
    "import time\n",
    "t_start = time.time()\n",
    "\n",
    "X_glove_2=df_glove_2['sent_vec_1']\n",
    "\n",
    "\n",
    "ddd_2=pd.DataFrame()\n",
    "\n",
    "\n",
    "for idx, row in enumerate(X_glove_2):\n",
    "    #print((roww))\n",
    "    #print(list(roww))\n",
    "    row_df=pd.Series(X_glove_2[idx]).to_frame()\n",
    "    row_df_2=row_df.T\n",
    "    ddd_2=pd.concat([ddd_2, row_df_2])\n",
    "    #row_df= pd.DataFrame(roww)\n",
    "#     row_df_2=row_df.T\n",
    "#     ddd=pd.concat([ddd, row_df_2])\n",
    "    \n",
    "t_stop = time.time()\n",
    "print('Time elapsed: {:.3f} seconds'.format(t_stop - t_start))"
   ]
  },
  {
   "cell_type": "code",
   "execution_count": 28,
   "id": "f8b410a1",
   "metadata": {
    "execution": {
     "iopub.execute_input": "2021-11-19T18:04:45.761611Z",
     "iopub.status.busy": "2021-11-19T18:04:45.760483Z",
     "iopub.status.idle": "2021-11-19T18:04:45.792617Z",
     "shell.execute_reply": "2021-11-19T18:04:45.793114Z",
     "shell.execute_reply.started": "2021-11-19T15:51:54.334566Z"
    },
    "papermill": {
     "duration": 0.090222,
     "end_time": "2021-11-19T18:04:45.793285",
     "exception": false,
     "start_time": "2021-11-19T18:04:45.703063",
     "status": "completed"
    },
    "tags": []
   },
   "outputs": [
    {
     "data": {
      "text/html": [
       "<div>\n",
       "<style scoped>\n",
       "    .dataframe tbody tr th:only-of-type {\n",
       "        vertical-align: middle;\n",
       "    }\n",
       "\n",
       "    .dataframe tbody tr th {\n",
       "        vertical-align: top;\n",
       "    }\n",
       "\n",
       "    .dataframe thead th {\n",
       "        text-align: right;\n",
       "    }\n",
       "</style>\n",
       "<table border=\"1\" class=\"dataframe\">\n",
       "  <thead>\n",
       "    <tr style=\"text-align: right;\">\n",
       "      <th></th>\n",
       "      <th>0</th>\n",
       "      <th>1</th>\n",
       "      <th>2</th>\n",
       "      <th>3</th>\n",
       "      <th>4</th>\n",
       "      <th>5</th>\n",
       "      <th>6</th>\n",
       "      <th>7</th>\n",
       "      <th>8</th>\n",
       "      <th>9</th>\n",
       "      <th>...</th>\n",
       "      <th>758</th>\n",
       "      <th>759</th>\n",
       "      <th>760</th>\n",
       "      <th>761</th>\n",
       "      <th>762</th>\n",
       "      <th>763</th>\n",
       "      <th>764</th>\n",
       "      <th>765</th>\n",
       "      <th>766</th>\n",
       "      <th>767</th>\n",
       "    </tr>\n",
       "  </thead>\n",
       "  <tbody>\n",
       "    <tr>\n",
       "      <th>0</th>\n",
       "      <td>0.139505</td>\n",
       "      <td>0.209424</td>\n",
       "      <td>-0.077699</td>\n",
       "      <td>0.223548</td>\n",
       "      <td>0.050342</td>\n",
       "      <td>0.037103</td>\n",
       "      <td>0.021646</td>\n",
       "      <td>-0.187813</td>\n",
       "      <td>-0.229208</td>\n",
       "      <td>0.183360</td>\n",
       "      <td>...</td>\n",
       "      <td>-0.200423</td>\n",
       "      <td>-0.251564</td>\n",
       "      <td>0.048446</td>\n",
       "      <td>0.023519</td>\n",
       "      <td>0.153085</td>\n",
       "      <td>0.048995</td>\n",
       "      <td>0.051401</td>\n",
       "      <td>0.071645</td>\n",
       "      <td>0.375047</td>\n",
       "      <td>-0.249778</td>\n",
       "    </tr>\n",
       "    <tr>\n",
       "      <th>1</th>\n",
       "      <td>0.043859</td>\n",
       "      <td>0.052107</td>\n",
       "      <td>0.033720</td>\n",
       "      <td>0.268563</td>\n",
       "      <td>0.094735</td>\n",
       "      <td>-0.001022</td>\n",
       "      <td>0.103828</td>\n",
       "      <td>-0.185062</td>\n",
       "      <td>-0.225251</td>\n",
       "      <td>0.114381</td>\n",
       "      <td>...</td>\n",
       "      <td>-0.034442</td>\n",
       "      <td>-0.112618</td>\n",
       "      <td>-0.006056</td>\n",
       "      <td>-0.087528</td>\n",
       "      <td>0.124143</td>\n",
       "      <td>0.049035</td>\n",
       "      <td>0.080996</td>\n",
       "      <td>0.218682</td>\n",
       "      <td>0.211571</td>\n",
       "      <td>-0.112268</td>\n",
       "    </tr>\n",
       "    <tr>\n",
       "      <th>2</th>\n",
       "      <td>0.230726</td>\n",
       "      <td>0.127102</td>\n",
       "      <td>-0.240991</td>\n",
       "      <td>0.245846</td>\n",
       "      <td>-0.010206</td>\n",
       "      <td>0.094918</td>\n",
       "      <td>0.023424</td>\n",
       "      <td>-0.246917</td>\n",
       "      <td>-0.237928</td>\n",
       "      <td>0.233365</td>\n",
       "      <td>...</td>\n",
       "      <td>-0.063685</td>\n",
       "      <td>-0.230254</td>\n",
       "      <td>-0.078524</td>\n",
       "      <td>-0.118252</td>\n",
       "      <td>0.088202</td>\n",
       "      <td>0.049085</td>\n",
       "      <td>0.347878</td>\n",
       "      <td>0.150734</td>\n",
       "      <td>0.307196</td>\n",
       "      <td>-0.161278</td>\n",
       "    </tr>\n",
       "    <tr>\n",
       "      <th>3</th>\n",
       "      <td>0.202484</td>\n",
       "      <td>0.068819</td>\n",
       "      <td>-0.123172</td>\n",
       "      <td>0.283378</td>\n",
       "      <td>-0.001665</td>\n",
       "      <td>0.070793</td>\n",
       "      <td>0.050725</td>\n",
       "      <td>-0.257738</td>\n",
       "      <td>-0.332114</td>\n",
       "      <td>0.136249</td>\n",
       "      <td>...</td>\n",
       "      <td>-0.075067</td>\n",
       "      <td>-0.213559</td>\n",
       "      <td>-0.068177</td>\n",
       "      <td>-0.020466</td>\n",
       "      <td>0.224159</td>\n",
       "      <td>0.055408</td>\n",
       "      <td>0.197314</td>\n",
       "      <td>0.097697</td>\n",
       "      <td>0.291464</td>\n",
       "      <td>-0.086299</td>\n",
       "    </tr>\n",
       "    <tr>\n",
       "      <th>4</th>\n",
       "      <td>0.173726</td>\n",
       "      <td>0.106720</td>\n",
       "      <td>-0.079369</td>\n",
       "      <td>0.343766</td>\n",
       "      <td>0.064285</td>\n",
       "      <td>0.112556</td>\n",
       "      <td>0.073694</td>\n",
       "      <td>-0.300140</td>\n",
       "      <td>-0.338789</td>\n",
       "      <td>0.173898</td>\n",
       "      <td>...</td>\n",
       "      <td>-0.090132</td>\n",
       "      <td>-0.282990</td>\n",
       "      <td>-0.004665</td>\n",
       "      <td>-0.065712</td>\n",
       "      <td>0.145021</td>\n",
       "      <td>0.031120</td>\n",
       "      <td>0.202322</td>\n",
       "      <td>0.154118</td>\n",
       "      <td>0.333287</td>\n",
       "      <td>-0.116213</td>\n",
       "    </tr>\n",
       "    <tr>\n",
       "      <th>...</th>\n",
       "      <td>...</td>\n",
       "      <td>...</td>\n",
       "      <td>...</td>\n",
       "      <td>...</td>\n",
       "      <td>...</td>\n",
       "      <td>...</td>\n",
       "      <td>...</td>\n",
       "      <td>...</td>\n",
       "      <td>...</td>\n",
       "      <td>...</td>\n",
       "      <td>...</td>\n",
       "      <td>...</td>\n",
       "      <td>...</td>\n",
       "      <td>...</td>\n",
       "      <td>...</td>\n",
       "      <td>...</td>\n",
       "      <td>...</td>\n",
       "      <td>...</td>\n",
       "      <td>...</td>\n",
       "      <td>...</td>\n",
       "      <td>...</td>\n",
       "    </tr>\n",
       "    <tr>\n",
       "      <th>1915</th>\n",
       "      <td>0.130006</td>\n",
       "      <td>0.148804</td>\n",
       "      <td>0.025668</td>\n",
       "      <td>0.315933</td>\n",
       "      <td>0.018069</td>\n",
       "      <td>0.053613</td>\n",
       "      <td>0.020305</td>\n",
       "      <td>-0.271441</td>\n",
       "      <td>-0.187216</td>\n",
       "      <td>0.203027</td>\n",
       "      <td>...</td>\n",
       "      <td>-0.106874</td>\n",
       "      <td>-0.302112</td>\n",
       "      <td>-0.095020</td>\n",
       "      <td>-0.036616</td>\n",
       "      <td>0.132814</td>\n",
       "      <td>0.115247</td>\n",
       "      <td>0.188482</td>\n",
       "      <td>0.127314</td>\n",
       "      <td>0.263097</td>\n",
       "      <td>-0.053509</td>\n",
       "    </tr>\n",
       "    <tr>\n",
       "      <th>1916</th>\n",
       "      <td>0.178438</td>\n",
       "      <td>0.111089</td>\n",
       "      <td>0.012240</td>\n",
       "      <td>0.267302</td>\n",
       "      <td>-0.039646</td>\n",
       "      <td>0.004379</td>\n",
       "      <td>0.075273</td>\n",
       "      <td>-0.200056</td>\n",
       "      <td>-0.225321</td>\n",
       "      <td>0.188660</td>\n",
       "      <td>...</td>\n",
       "      <td>-0.014491</td>\n",
       "      <td>-0.286461</td>\n",
       "      <td>-0.045289</td>\n",
       "      <td>0.013030</td>\n",
       "      <td>0.109549</td>\n",
       "      <td>0.114436</td>\n",
       "      <td>0.199389</td>\n",
       "      <td>0.114402</td>\n",
       "      <td>0.175274</td>\n",
       "      <td>-0.121816</td>\n",
       "    </tr>\n",
       "    <tr>\n",
       "      <th>1917</th>\n",
       "      <td>0.192788</td>\n",
       "      <td>0.151579</td>\n",
       "      <td>0.069655</td>\n",
       "      <td>0.338342</td>\n",
       "      <td>-0.006035</td>\n",
       "      <td>0.074350</td>\n",
       "      <td>-0.044841</td>\n",
       "      <td>-0.217161</td>\n",
       "      <td>-0.245617</td>\n",
       "      <td>0.212375</td>\n",
       "      <td>...</td>\n",
       "      <td>-0.024782</td>\n",
       "      <td>-0.330665</td>\n",
       "      <td>-0.098308</td>\n",
       "      <td>-0.039067</td>\n",
       "      <td>0.138595</td>\n",
       "      <td>-0.002634</td>\n",
       "      <td>0.260221</td>\n",
       "      <td>0.172287</td>\n",
       "      <td>0.375000</td>\n",
       "      <td>-0.052259</td>\n",
       "    </tr>\n",
       "    <tr>\n",
       "      <th>1918</th>\n",
       "      <td>0.130645</td>\n",
       "      <td>0.070156</td>\n",
       "      <td>0.015310</td>\n",
       "      <td>0.148470</td>\n",
       "      <td>0.015476</td>\n",
       "      <td>0.035313</td>\n",
       "      <td>-0.045381</td>\n",
       "      <td>-0.159669</td>\n",
       "      <td>-0.197916</td>\n",
       "      <td>0.131888</td>\n",
       "      <td>...</td>\n",
       "      <td>-0.066757</td>\n",
       "      <td>-0.171472</td>\n",
       "      <td>0.100926</td>\n",
       "      <td>-0.014554</td>\n",
       "      <td>0.122199</td>\n",
       "      <td>0.079353</td>\n",
       "      <td>0.161350</td>\n",
       "      <td>0.053929</td>\n",
       "      <td>0.176666</td>\n",
       "      <td>-0.081431</td>\n",
       "    </tr>\n",
       "    <tr>\n",
       "      <th>1919</th>\n",
       "      <td>0.156332</td>\n",
       "      <td>0.137057</td>\n",
       "      <td>0.059537</td>\n",
       "      <td>0.275707</td>\n",
       "      <td>-0.034023</td>\n",
       "      <td>0.018627</td>\n",
       "      <td>-0.007643</td>\n",
       "      <td>-0.205282</td>\n",
       "      <td>-0.178613</td>\n",
       "      <td>0.147535</td>\n",
       "      <td>...</td>\n",
       "      <td>-0.053686</td>\n",
       "      <td>-0.243097</td>\n",
       "      <td>-0.127759</td>\n",
       "      <td>-0.000055</td>\n",
       "      <td>0.137213</td>\n",
       "      <td>0.088682</td>\n",
       "      <td>0.155677</td>\n",
       "      <td>0.195809</td>\n",
       "      <td>0.261789</td>\n",
       "      <td>-0.079789</td>\n",
       "    </tr>\n",
       "  </tbody>\n",
       "</table>\n",
       "<p>1920 rows × 768 columns</p>\n",
       "</div>"
      ],
      "text/plain": [
       "           0         1         2         3         4         5         6    \\\n",
       "0     0.139505  0.209424 -0.077699  0.223548  0.050342  0.037103  0.021646   \n",
       "1     0.043859  0.052107  0.033720  0.268563  0.094735 -0.001022  0.103828   \n",
       "2     0.230726  0.127102 -0.240991  0.245846 -0.010206  0.094918  0.023424   \n",
       "3     0.202484  0.068819 -0.123172  0.283378 -0.001665  0.070793  0.050725   \n",
       "4     0.173726  0.106720 -0.079369  0.343766  0.064285  0.112556  0.073694   \n",
       "...        ...       ...       ...       ...       ...       ...       ...   \n",
       "1915  0.130006  0.148804  0.025668  0.315933  0.018069  0.053613  0.020305   \n",
       "1916  0.178438  0.111089  0.012240  0.267302 -0.039646  0.004379  0.075273   \n",
       "1917  0.192788  0.151579  0.069655  0.338342 -0.006035  0.074350 -0.044841   \n",
       "1918  0.130645  0.070156  0.015310  0.148470  0.015476  0.035313 -0.045381   \n",
       "1919  0.156332  0.137057  0.059537  0.275707 -0.034023  0.018627 -0.007643   \n",
       "\n",
       "           7         8         9    ...       758       759       760  \\\n",
       "0    -0.187813 -0.229208  0.183360  ... -0.200423 -0.251564  0.048446   \n",
       "1    -0.185062 -0.225251  0.114381  ... -0.034442 -0.112618 -0.006056   \n",
       "2    -0.246917 -0.237928  0.233365  ... -0.063685 -0.230254 -0.078524   \n",
       "3    -0.257738 -0.332114  0.136249  ... -0.075067 -0.213559 -0.068177   \n",
       "4    -0.300140 -0.338789  0.173898  ... -0.090132 -0.282990 -0.004665   \n",
       "...        ...       ...       ...  ...       ...       ...       ...   \n",
       "1915 -0.271441 -0.187216  0.203027  ... -0.106874 -0.302112 -0.095020   \n",
       "1916 -0.200056 -0.225321  0.188660  ... -0.014491 -0.286461 -0.045289   \n",
       "1917 -0.217161 -0.245617  0.212375  ... -0.024782 -0.330665 -0.098308   \n",
       "1918 -0.159669 -0.197916  0.131888  ... -0.066757 -0.171472  0.100926   \n",
       "1919 -0.205282 -0.178613  0.147535  ... -0.053686 -0.243097 -0.127759   \n",
       "\n",
       "           761       762       763       764       765       766       767  \n",
       "0     0.023519  0.153085  0.048995  0.051401  0.071645  0.375047 -0.249778  \n",
       "1    -0.087528  0.124143  0.049035  0.080996  0.218682  0.211571 -0.112268  \n",
       "2    -0.118252  0.088202  0.049085  0.347878  0.150734  0.307196 -0.161278  \n",
       "3    -0.020466  0.224159  0.055408  0.197314  0.097697  0.291464 -0.086299  \n",
       "4    -0.065712  0.145021  0.031120  0.202322  0.154118  0.333287 -0.116213  \n",
       "...        ...       ...       ...       ...       ...       ...       ...  \n",
       "1915 -0.036616  0.132814  0.115247  0.188482  0.127314  0.263097 -0.053509  \n",
       "1916  0.013030  0.109549  0.114436  0.199389  0.114402  0.175274 -0.121816  \n",
       "1917 -0.039067  0.138595 -0.002634  0.260221  0.172287  0.375000 -0.052259  \n",
       "1918 -0.014554  0.122199  0.079353  0.161350  0.053929  0.176666 -0.081431  \n",
       "1919 -0.000055  0.137213  0.088682  0.155677  0.195809  0.261789 -0.079789  \n",
       "\n",
       "[1920 rows x 768 columns]"
      ]
     },
     "execution_count": 28,
     "metadata": {},
     "output_type": "execute_result"
    }
   ],
   "source": [
    "df_glove_avg_2=ddd_2.reset_index()\n",
    "df_glove_avg_2.pop('index')\n",
    "df_glove_avg_2"
   ]
  },
  {
   "cell_type": "markdown",
   "id": "08d11704",
   "metadata": {
    "papermill": {
     "duration": 0.055988,
     "end_time": "2021-11-19T18:04:45.904219",
     "exception": false,
     "start_time": "2021-11-19T18:04:45.848231",
     "status": "completed"
    },
    "tags": []
   },
   "source": [
    "#### import necessary tools and models "
   ]
  },
  {
   "cell_type": "code",
   "execution_count": 29,
   "id": "74fc9534",
   "metadata": {
    "execution": {
     "iopub.execute_input": "2021-11-19T18:04:46.018332Z",
     "iopub.status.busy": "2021-11-19T18:04:46.017398Z",
     "iopub.status.idle": "2021-11-19T18:04:46.030710Z",
     "shell.execute_reply": "2021-11-19T18:04:46.031357Z",
     "shell.execute_reply.started": "2021-11-19T15:51:54.385326Z"
    },
    "papermill": {
     "duration": 0.072322,
     "end_time": "2021-11-19T18:04:46.031546",
     "exception": false,
     "start_time": "2021-11-19T18:04:45.959224",
     "status": "completed"
    },
    "tags": []
   },
   "outputs": [],
   "source": [
    "# import necessary tools and models \n",
    "import seaborn as sns\n",
    "import matplotlib.pyplot as plt \n",
    "\n",
    "import sklearn.model_selection as cv\n",
    "from sklearn.model_selection import cross_val_score\n",
    "import numpy as np\n",
    "\n",
    "from sklearn.metrics import classification_report, confusion_matrix, roc_auc_score\n",
    "\n",
    "from sklearn.naive_bayes import MultinomialNB\n",
    "from sklearn.linear_model import LogisticRegression\n",
    "from sklearn.ensemble import RandomForestClassifier\n",
    "from sklearn.svm import LinearSVC"
   ]
  },
  {
   "cell_type": "markdown",
   "id": "e51c62e2",
   "metadata": {
    "papermill": {
     "duration": 0.054653,
     "end_time": "2021-11-19T18:04:46.141511",
     "exception": false,
     "start_time": "2021-11-19T18:04:46.086858",
     "status": "completed"
    },
    "tags": []
   },
   "source": [
    "#### Glove Reddit 768 - separate train - test data"
   ]
  },
  {
   "cell_type": "code",
   "execution_count": 30,
   "id": "cb79aff9",
   "metadata": {
    "execution": {
     "iopub.execute_input": "2021-11-19T18:04:46.255392Z",
     "iopub.status.busy": "2021-11-19T18:04:46.254390Z",
     "iopub.status.idle": "2021-11-19T18:04:46.337480Z",
     "shell.execute_reply": "2021-11-19T18:04:46.336898Z",
     "shell.execute_reply.started": "2021-11-19T16:01:27.295103Z"
    },
    "papermill": {
     "duration": 0.141125,
     "end_time": "2021-11-19T18:04:46.337636",
     "exception": false,
     "start_time": "2021-11-19T18:04:46.196511",
     "status": "completed"
    },
    "tags": []
   },
   "outputs": [],
   "source": [
    "# Regular Toxic - separate train - test data \n",
    "X_train_g200, X_test_g200, y_train_g200, y_test_g200 = cv.train_test_split(df_glove_avg, new_y,test_size=0.33)\n",
    "\n",
    "# Severely Toxic - separate train - test data \n",
    "X_train_g200_2, X_test_g200_2, y_train_g200_2, y_test_g200_2 = cv.train_test_split(df_glove_avg_2, new_y_2,test_size=0.33)"
   ]
  },
  {
   "cell_type": "code",
   "execution_count": 31,
   "id": "d49acd99",
   "metadata": {},
   "outputs": [
    {
     "data": {
      "text/plain": [
       "0    11088\n",
       "1    11088\n",
       "Name: 0, dtype: int64"
      ]
     },
     "execution_count": 31,
     "metadata": {},
     "output_type": "execute_result"
    }
   ],
   "source": [
    "pd.DataFrame(new_y)[0].value_counts()"
   ]
  },
  {
   "cell_type": "markdown",
   "id": "14f54bcf",
   "metadata": {
    "papermill": {
     "duration": 0.055784,
     "end_time": "2021-11-19T18:04:46.448596",
     "exception": false,
     "start_time": "2021-11-19T18:04:46.392812",
     "status": "completed"
    },
    "tags": []
   },
   "source": [
    "# Build Deep Learning Models"
   ]
  },
  {
   "cell_type": "code",
   "execution_count": 32,
   "id": "7c572ca2",
   "metadata": {
    "execution": {
     "iopub.execute_input": "2021-11-19T18:04:46.563944Z",
     "iopub.status.busy": "2021-11-19T18:04:46.562965Z",
     "iopub.status.idle": "2021-11-19T18:04:47.807097Z",
     "shell.execute_reply": "2021-11-19T18:04:47.806358Z",
     "shell.execute_reply.started": "2021-11-19T16:01:30.156672Z"
    },
    "papermill": {
     "duration": 1.302228,
     "end_time": "2021-11-19T18:04:47.807286",
     "exception": false,
     "start_time": "2021-11-19T18:04:46.505058",
     "status": "completed"
    },
    "tags": []
   },
   "outputs": [],
   "source": [
    "import time\n",
    "import numpy as np\n",
    "import pandas as pd\n",
    "import matplotlib.pyplot as plt\n",
    "import matplotlib.cm as cm\n",
    "%matplotlib inline\n",
    "\n",
    "import keras\n",
    "import tensorflow\n",
    "\n",
    "import tensorflow.keras\n",
    "from tensorflow.keras.constraints import MaxNorm\n",
    "from tensorflow.keras.models import Sequential\n",
    "from tensorflow.keras.optimizers import SGD\n",
    "from keras.utils import np_utils\n",
    "from tensorflow.keras.preprocessing.image import ImageDataGenerator\n",
    "from tensorflow.keras.layers import Dense, Activation, Flatten, Dropout, BatchNormalization\n",
    "from tensorflow.keras.layers import Conv2D, MaxPooling2D\n",
    "from tensorflow.keras.datasets import cifar10\n",
    "from tensorflow.keras import regularizers\n",
    "from tensorflow.keras.callbacks import LearningRateScheduler\n",
    "from tensorflow.keras.callbacks import EarlyStopping, ModelCheckpoint, TensorBoard\n",
    "import numpy as np\n",
    "\n",
    "\n",
    "\n",
    "\n",
    "import keras.utils\n",
    "from keras import utils as np_utils\n",
    "\n",
    "from keras.utils import np_utils"
   ]
  },
  {
   "cell_type": "markdown",
   "id": "30b17a70",
   "metadata": {
    "papermill": {
     "duration": 0.055475,
     "end_time": "2021-11-19T18:04:47.918835",
     "exception": false,
     "start_time": "2021-11-19T18:04:47.863360",
     "status": "completed"
    },
    "tags": []
   },
   "source": [
    "#### Compile and Train Model for Regular Toxicity "
   ]
  },
  {
   "cell_type": "code",
   "execution_count": 33,
   "id": "ba8e2a71",
   "metadata": {
    "execution": {
     "iopub.execute_input": "2021-11-19T18:04:48.037450Z",
     "iopub.status.busy": "2021-11-19T18:04:48.036709Z",
     "iopub.status.idle": "2021-11-19T18:04:48.039742Z",
     "shell.execute_reply": "2021-11-19T18:04:48.039188Z",
     "shell.execute_reply.started": "2021-11-19T16:01:32.458363Z"
    },
    "papermill": {
     "duration": 0.064852,
     "end_time": "2021-11-19T18:04:48.039897",
     "exception": false,
     "start_time": "2021-11-19T18:04:47.975045",
     "status": "completed"
    },
    "tags": []
   },
   "outputs": [],
   "source": [
    "# Fit model\n",
    "epochs = 150\n",
    "batch_size=32\n",
    "#early_stopping_monitor = EarlyStopping(patience=300)"
   ]
  },
  {
   "cell_type": "code",
   "execution_count": 34,
   "id": "3e823391",
   "metadata": {
    "execution": {
     "iopub.execute_input": "2021-11-19T18:04:48.161543Z",
     "iopub.status.busy": "2021-11-19T18:04:48.160489Z",
     "iopub.status.idle": "2021-11-19T18:04:48.397730Z",
     "shell.execute_reply": "2021-11-19T18:04:48.396540Z",
     "shell.execute_reply.started": "2021-11-19T16:01:36.194948Z"
    },
    "papermill": {
     "duration": 0.301788,
     "end_time": "2021-11-19T18:04:48.397911",
     "exception": false,
     "start_time": "2021-11-19T18:04:48.096123",
     "status": "completed"
    },
    "scrolled": true,
    "tags": []
   },
   "outputs": [],
   "source": [
    "#get number of columns in training data\n",
    "n_cols = X_train_g200.shape[1]\n",
    "#n_cols = X_train_tfidf.shape[1]\n",
    "\n",
    "DL_model = keras.models.Sequential([\n",
    "    keras.layers.Dense(512, activation=\"relu\",input_shape=(n_cols,)),\n",
    "    keras.layers.Dropout(0.2),\n",
    "    keras.layers.Dense(256, activation=\"relu\",input_shape=(n_cols,)),\n",
    "    keras.layers.Dropout(0.3),\n",
    "    keras.layers.Dense(128, activation=\"relu\",input_shape=(n_cols,)),\n",
    "    keras.layers.Dropout(0.4),\n",
    "    keras.layers.Dense(64, activation=\"relu\"),\n",
    "    keras.layers.Dropout(0.5),\n",
    "    keras.layers.Dense(1, activation=\"sigmoid\")\n",
    "    ])"
   ]
  },
  {
   "cell_type": "code",
   "execution_count": 35,
   "id": "ca91252a",
   "metadata": {
    "execution": {
     "iopub.execute_input": "2021-11-19T18:04:48.516577Z",
     "iopub.status.busy": "2021-11-19T18:04:48.515895Z",
     "iopub.status.idle": "2021-11-19T18:04:48.537278Z",
     "shell.execute_reply": "2021-11-19T18:04:48.537857Z",
     "shell.execute_reply.started": "2021-11-19T16:01:42.705005Z"
    },
    "papermill": {
     "duration": 0.081778,
     "end_time": "2021-11-19T18:04:48.538044",
     "exception": false,
     "start_time": "2021-11-19T18:04:48.456266",
     "status": "completed"
    },
    "tags": []
   },
   "outputs": [
    {
     "name": "stdout",
     "output_type": "stream",
     "text": [
      "Model: \"sequential\"\n",
      "_________________________________________________________________\n",
      "Layer (type)                 Output Shape              Param #   \n",
      "=================================================================\n",
      "dense (Dense)                (None, 512)               393728    \n",
      "_________________________________________________________________\n",
      "dropout (Dropout)            (None, 512)               0         \n",
      "_________________________________________________________________\n",
      "dense_1 (Dense)              (None, 256)               131328    \n",
      "_________________________________________________________________\n",
      "dropout_1 (Dropout)          (None, 256)               0         \n",
      "_________________________________________________________________\n",
      "dense_2 (Dense)              (None, 128)               32896     \n",
      "_________________________________________________________________\n",
      "dropout_2 (Dropout)          (None, 128)               0         \n",
      "_________________________________________________________________\n",
      "dense_3 (Dense)              (None, 64)                8256      \n",
      "_________________________________________________________________\n",
      "dropout_3 (Dropout)          (None, 64)                0         \n",
      "_________________________________________________________________\n",
      "dense_4 (Dense)              (None, 1)                 65        \n",
      "=================================================================\n",
      "Total params: 566,273\n",
      "Trainable params: 566,273\n",
      "Non-trainable params: 0\n",
      "_________________________________________________________________\n"
     ]
    }
   ],
   "source": [
    "DL_model.compile(loss=keras.losses.binary_crossentropy,\n",
    "              optimizer=tensorflow.keras.optimizers.Adam(),\n",
    "              metrics=['accuracy'])\n",
    "DL_model.summary()"
   ]
  },
  {
   "cell_type": "code",
   "execution_count": 36,
   "id": "8505299f",
   "metadata": {
    "execution": {
     "iopub.execute_input": "2021-11-19T18:04:48.661675Z",
     "iopub.status.busy": "2021-11-19T18:04:48.656571Z",
     "iopub.status.idle": "2021-11-19T18:04:48.673345Z",
     "shell.execute_reply": "2021-11-19T18:04:48.673888Z",
     "shell.execute_reply.started": "2021-11-19T16:01:45.396036Z"
    },
    "papermill": {
     "duration": 0.077842,
     "end_time": "2021-11-19T18:04:48.674117",
     "exception": false,
     "start_time": "2021-11-19T18:04:48.596275",
     "status": "completed"
    },
    "tags": []
   },
   "outputs": [],
   "source": [
    "my_callbacks = [\n",
    "    EarlyStopping(patience=5),\n",
    "    ModelCheckpoint(filepath='model.{epoch:02d}-{val_loss:.4f}.h5'),\n",
    "    TensorBoard(log_dir='logs'),\n",
    "]"
   ]
  },
  {
   "cell_type": "code",
   "execution_count": 37,
   "id": "348b606f",
   "metadata": {
    "execution": {
     "iopub.execute_input": "2021-11-19T18:04:48.793050Z",
     "iopub.status.busy": "2021-11-19T18:04:48.792035Z",
     "iopub.status.idle": "2021-11-19T18:06:19.753725Z",
     "shell.execute_reply": "2021-11-19T18:06:19.753000Z",
     "shell.execute_reply.started": "2021-11-19T16:01:48.571323Z"
    },
    "jupyter": {
     "outputs_hidden": true
    },
    "papermill": {
     "duration": 91.022274,
     "end_time": "2021-11-19T18:06:19.753897",
     "exception": false,
     "start_time": "2021-11-19T18:04:48.731623",
     "status": "completed"
    },
    "tags": []
   },
   "outputs": [
    {
     "name": "stdout",
     "output_type": "stream",
     "text": [
      "Epoch 1/150\n",
      "372/372 [==============================] - 3s 6ms/step - loss: 0.4531 - accuracy: 0.7757 - val_loss: 0.3047 - val_accuracy: 0.8745\n",
      "Epoch 2/150\n",
      "372/372 [==============================] - 2s 5ms/step - loss: 0.3389 - accuracy: 0.8589 - val_loss: 0.2825 - val_accuracy: 0.8762\n",
      "Epoch 3/150\n",
      "372/372 [==============================] - 2s 5ms/step - loss: 0.3181 - accuracy: 0.8682 - val_loss: 0.2920 - val_accuracy: 0.8641\n",
      "Epoch 4/150\n",
      "372/372 [==============================] - 2s 5ms/step - loss: 0.3042 - accuracy: 0.8765 - val_loss: 0.2680 - val_accuracy: 0.8863\n",
      "Epoch 5/150\n",
      "372/372 [==============================] - 2s 6ms/step - loss: 0.3004 - accuracy: 0.8772 - val_loss: 0.2636 - val_accuracy: 0.8869\n",
      "Epoch 6/150\n",
      "372/372 [==============================] - 3s 7ms/step - loss: 0.2870 - accuracy: 0.8789 - val_loss: 0.2678 - val_accuracy: 0.8869\n",
      "Epoch 7/150\n",
      "372/372 [==============================] - 3s 7ms/step - loss: 0.2937 - accuracy: 0.8793 - val_loss: 0.2571 - val_accuracy: 0.8866\n",
      "Epoch 8/150\n",
      "372/372 [==============================] - 3s 7ms/step - loss: 0.2840 - accuracy: 0.8823 - val_loss: 0.2562 - val_accuracy: 0.8893\n",
      "Epoch 9/150\n",
      "372/372 [==============================] - 3s 7ms/step - loss: 0.2863 - accuracy: 0.8822 - val_loss: 0.2587 - val_accuracy: 0.8883\n",
      "Epoch 10/150\n",
      "372/372 [==============================] - 3s 7ms/step - loss: 0.2785 - accuracy: 0.8867 - val_loss: 0.2646 - val_accuracy: 0.8880\n",
      "Epoch 11/150\n",
      "372/372 [==============================] - 2s 7ms/step - loss: 0.2714 - accuracy: 0.8878 - val_loss: 0.2792 - val_accuracy: 0.8849\n",
      "Epoch 12/150\n",
      "372/372 [==============================] - 2s 7ms/step - loss: 0.2698 - accuracy: 0.8888 - val_loss: 0.2598 - val_accuracy: 0.8859\n",
      "Epoch 13/150\n",
      "372/372 [==============================] - 2s 6ms/step - loss: 0.2668 - accuracy: 0.8921 - val_loss: 0.2538 - val_accuracy: 0.8886\n",
      "Epoch 14/150\n",
      "372/372 [==============================] - 2s 7ms/step - loss: 0.2580 - accuracy: 0.8940 - val_loss: 0.2517 - val_accuracy: 0.8910\n",
      "Epoch 15/150\n",
      "372/372 [==============================] - 2s 7ms/step - loss: 0.2551 - accuracy: 0.8920 - val_loss: 0.2824 - val_accuracy: 0.8718\n",
      "Epoch 16/150\n",
      "372/372 [==============================] - 3s 7ms/step - loss: 0.2741 - accuracy: 0.8904 - val_loss: 0.3148 - val_accuracy: 0.8694\n",
      "Epoch 17/150\n",
      "372/372 [==============================] - 3s 7ms/step - loss: 0.2566 - accuracy: 0.8951 - val_loss: 0.2472 - val_accuracy: 0.8943\n",
      "Epoch 18/150\n",
      "372/372 [==============================] - 3s 7ms/step - loss: 0.2589 - accuracy: 0.8927 - val_loss: 0.2548 - val_accuracy: 0.8930\n",
      "Epoch 19/150\n",
      "372/372 [==============================] - 3s 7ms/step - loss: 0.2703 - accuracy: 0.8897 - val_loss: 0.2752 - val_accuracy: 0.8792\n",
      "Epoch 20/150\n",
      "372/372 [==============================] - 3s 7ms/step - loss: 0.2573 - accuracy: 0.8954 - val_loss: 0.2579 - val_accuracy: 0.8927\n",
      "Epoch 21/150\n",
      "372/372 [==============================] - 3s 7ms/step - loss: 0.2516 - accuracy: 0.9000 - val_loss: 0.2626 - val_accuracy: 0.8880\n",
      "Epoch 22/150\n",
      "372/372 [==============================] - 3s 7ms/step - loss: 0.2551 - accuracy: 0.8959 - val_loss: 0.2471 - val_accuracy: 0.8920\n",
      "Epoch 23/150\n",
      "372/372 [==============================] - 3s 7ms/step - loss: 0.2585 - accuracy: 0.8963 - val_loss: 0.2450 - val_accuracy: 0.8943\n",
      "Epoch 24/150\n",
      "372/372 [==============================] - 3s 7ms/step - loss: 0.2464 - accuracy: 0.8985 - val_loss: 0.2593 - val_accuracy: 0.8890\n",
      "Epoch 25/150\n",
      "372/372 [==============================] - 3s 7ms/step - loss: 0.2457 - accuracy: 0.9000 - val_loss: 0.2447 - val_accuracy: 0.8957\n",
      "Epoch 26/150\n",
      "372/372 [==============================] - 3s 7ms/step - loss: 0.2448 - accuracy: 0.8995 - val_loss: 0.2532 - val_accuracy: 0.8896\n",
      "Epoch 27/150\n",
      "372/372 [==============================] - 3s 7ms/step - loss: 0.2513 - accuracy: 0.8958 - val_loss: 0.2578 - val_accuracy: 0.8903\n",
      "Epoch 28/150\n",
      "372/372 [==============================] - 3s 7ms/step - loss: 0.2515 - accuracy: 0.8998 - val_loss: 0.2547 - val_accuracy: 0.8917\n",
      "Epoch 29/150\n",
      "372/372 [==============================] - 3s 7ms/step - loss: 0.2510 - accuracy: 0.8977 - val_loss: 0.2657 - val_accuracy: 0.8886\n",
      "Epoch 30/150\n",
      "372/372 [==============================] - 3s 7ms/step - loss: 0.2385 - accuracy: 0.9021 - val_loss: 0.2566 - val_accuracy: 0.8913\n"
     ]
    }
   ],
   "source": [
    "#train model\n",
    "history = DL_model.fit(X_train_g200, y_train_g200, \n",
    "                    epochs=epochs, batch_size=batch_size, shuffle=True,\n",
    "                    validation_split=0.2, callbacks=my_callbacks)"
   ]
  },
  {
   "cell_type": "code",
   "execution_count": 58,
   "id": "68a12572",
   "metadata": {
    "execution": {
     "iopub.execute_input": "2021-11-19T18:06:20.837506Z",
     "iopub.status.busy": "2021-11-19T18:06:20.836462Z",
     "iopub.status.idle": "2021-11-19T18:07:13.004483Z",
     "shell.execute_reply": "2021-11-19T18:07:12.997601Z",
     "shell.execute_reply.started": "2021-11-19T16:04:13.389118Z"
    },
    "papermill": {
     "duration": 52.710588,
     "end_time": "2021-11-19T18:07:13.004649",
     "exception": false,
     "start_time": "2021-11-19T18:06:20.294061",
     "status": "completed"
    },
    "tags": []
   },
   "outputs": [
    {
     "name": "stdout",
     "output_type": "stream",
     "text": [
      "229/229 [==============================] - 1s 3ms/step - loss: nan - accuracy: 0.8925\n",
      "Test result: 89.247 loss: nan\n"
     ]
    }
   ],
   "source": [
    "#testing\n",
    "scores = DL_model.evaluate(X_test_g200, y_test_g200, batch_size=32, verbose=1)\n",
    "print('Test result: %.3f loss: %.3f' % (scores[1]*100,scores[0]))"
   ]
  },
  {
   "cell_type": "markdown",
   "id": "8ec41d27",
   "metadata": {
    "papermill": {
     "duration": 0.724377,
     "end_time": "2021-11-19T18:07:14.265589",
     "exception": false,
     "start_time": "2021-11-19T18:07:13.541212",
     "status": "completed"
    },
    "tags": []
   },
   "source": [
    "### Plot the loss curve"
   ]
  },
  {
   "cell_type": "code",
   "execution_count": 59,
   "id": "dbfb8c3d",
   "metadata": {
    "execution": {
     "iopub.execute_input": "2021-11-19T18:07:15.344756Z",
     "iopub.status.busy": "2021-11-19T18:07:15.343962Z",
     "iopub.status.idle": "2021-11-19T18:07:17.576870Z",
     "shell.execute_reply": "2021-11-19T18:07:17.576290Z",
     "shell.execute_reply.started": "2021-11-19T16:05:12.10577Z"
    },
    "papermill": {
     "duration": 2.777242,
     "end_time": "2021-11-19T18:07:17.577037",
     "exception": false,
     "start_time": "2021-11-19T18:07:14.799795",
     "status": "completed"
    },
    "tags": []
   },
   "outputs": [
    {
     "data": {
      "text/plain": [
       "<Figure size 864x288 with 0 Axes>"
      ]
     },
     "metadata": {},
     "output_type": "display_data"
    },
    {
     "data": {
      "image/png": "[encoded data removed]",
      "text/plain": [
       "<Figure size 864x288 with 1 Axes>"
      ]
     },
     "metadata": {
      "needs_background": "light"
     },
     "output_type": "display_data"
    },
    {
     "data": {
      "image/png": "[encoded data removed]",
      "text/plain": [
       "<Figure size 864x288 with 1 Axes>"
      ]
     },
     "metadata": {
      "needs_background": "light"
     },
     "output_type": "display_data"
    }
   ],
   "source": [
    "plt.figure(221)\n",
    "\n",
    "plt.figure(0)\n",
    "plt.plot(history.history['accuracy'],'r')\n",
    "plt.plot(history.history['val_accuracy'],'g')\n",
    "plt.xticks(np.arange(0, 101, 2.0))\n",
    "plt.rcParams['figure.figsize'] = (12, 4)\n",
    "plt.xlabel(\"Num of Epochs\")\n",
    "plt.ylabel(\"Accuracy\")\n",
    "plt.title(\"Training Accuracy vs Validation Accuracy\")\n",
    "plt.legend(['train','validation'])\n",
    " \n",
    " \n",
    "plt.figure(1)\n",
    "plt.plot(history.history['loss'],'r')\n",
    "plt.plot(history.history['val_loss'],'g')\n",
    "plt.xticks(np.arange(0, 101, 2.0))\n",
    "plt.rcParams['figure.figsize'] = (12, 4)\n",
    "plt.xlabel(\"Num of Epochs\")\n",
    "plt.ylabel(\"Loss\")\n",
    "plt.title(\"Training Loss vs Validation Loss\")\n",
    "plt.legend(['train','validation'])\n",
    " \n",
    "plt.show()"
   ]
  },
  {
   "cell_type": "markdown",
   "id": "403a178e",
   "metadata": {
    "papermill": {
     "duration": 0.541063,
     "end_time": "2021-11-19T18:07:18.663994",
     "exception": false,
     "start_time": "2021-11-19T18:07:18.122931",
     "status": "completed"
    },
    "tags": []
   },
   "source": [
    "### Compile and Train Model for Severe Toxicity "
   ]
  },
  {
   "cell_type": "code",
   "execution_count": 60,
   "id": "6d459dd7",
   "metadata": {
    "execution": {
     "iopub.execute_input": "2021-11-19T18:07:19.768231Z",
     "iopub.status.busy": "2021-11-19T18:07:19.767527Z",
     "iopub.status.idle": "2021-11-19T18:07:19.770007Z",
     "shell.execute_reply": "2021-11-19T18:07:19.770532Z",
     "shell.execute_reply.started": "2021-11-19T16:05:43.258174Z"
    },
    "papermill": {
     "duration": 0.571108,
     "end_time": "2021-11-19T18:07:19.770730",
     "exception": false,
     "start_time": "2021-11-19T18:07:19.199622",
     "status": "completed"
    },
    "tags": []
   },
   "outputs": [],
   "source": [
    "# Fit model\n",
    "epochs_2 = 200\n",
    "batch_size_2 =32\n",
    "#early_stopping_monitor_2 = EarlyStopping(patience=300)"
   ]
  },
  {
   "cell_type": "code",
   "execution_count": 61,
   "id": "20e3d4d3",
   "metadata": {
    "execution": {
     "iopub.execute_input": "2021-11-19T18:07:20.857233Z",
     "iopub.status.busy": "2021-11-19T18:07:20.856370Z",
     "iopub.status.idle": "2021-11-19T18:07:20.902980Z",
     "shell.execute_reply": "2021-11-19T18:07:20.902385Z",
     "shell.execute_reply.started": "2021-11-19T16:05:48.063976Z"
    },
    "papermill": {
     "duration": 0.595096,
     "end_time": "2021-11-19T18:07:20.903204",
     "exception": false,
     "start_time": "2021-11-19T18:07:20.308108",
     "status": "completed"
    },
    "tags": []
   },
   "outputs": [],
   "source": [
    "#get number of columns in training data\n",
    "n_cols_2 = X_train_g200_2.shape[1]\n",
    "#n_cols = X_train_tfidf.shape[1]\n",
    "\n",
    "DL_model_2 = keras.models.Sequential([\n",
    "#     keras.layers.Dense(256, activation=\"relu\",input_shape=(n_cols,)),\n",
    "#     keras.layers.Dropout(0.5),\n",
    "    keras.layers.Dense(128, activation=\"relu\",input_shape=(n_cols_2,)),\n",
    "    keras.layers.Dropout(0.5),\n",
    "    keras.layers.Dense(64, activation=\"relu\"),\n",
    "    keras.layers.Dropout(0.5),\n",
    "     keras.layers.Dense(10, activation=\"relu\"),\n",
    "    keras.layers.Dropout(0.5),\n",
    "    keras.layers.Dense(1, activation=\"sigmoid\")\n",
    "    ])"
   ]
  },
  {
   "cell_type": "code",
   "execution_count": 62,
   "id": "f11dbc31",
   "metadata": {
    "execution": {
     "iopub.execute_input": "2021-11-19T18:07:21.997173Z",
     "iopub.status.busy": "2021-11-19T18:07:21.996455Z",
     "iopub.status.idle": "2021-11-19T18:07:22.008957Z",
     "shell.execute_reply": "2021-11-19T18:07:22.008339Z",
     "shell.execute_reply.started": "2021-11-19T16:05:52.212545Z"
    },
    "papermill": {
     "duration": 0.559824,
     "end_time": "2021-11-19T18:07:22.009170",
     "exception": false,
     "start_time": "2021-11-19T18:07:21.449346",
     "status": "completed"
    },
    "tags": []
   },
   "outputs": [
    {
     "name": "stdout",
     "output_type": "stream",
     "text": [
      "Model: \"sequential_2\"\n",
      "_________________________________________________________________\n",
      "Layer (type)                 Output Shape              Param #   \n",
      "=================================================================\n",
      "dense_9 (Dense)              (None, 128)               98432     \n",
      "_________________________________________________________________\n",
      "dropout_7 (Dropout)          (None, 128)               0         \n",
      "_________________________________________________________________\n",
      "dense_10 (Dense)             (None, 64)                8256      \n",
      "_________________________________________________________________\n",
      "dropout_8 (Dropout)          (None, 64)                0         \n",
      "_________________________________________________________________\n",
      "dense_11 (Dense)             (None, 10)                650       \n",
      "_________________________________________________________________\n",
      "dropout_9 (Dropout)          (None, 10)                0         \n",
      "_________________________________________________________________\n",
      "dense_12 (Dense)             (None, 1)                 11        \n",
      "=================================================================\n",
      "Total params: 107,349\n",
      "Trainable params: 107,349\n",
      "Non-trainable params: 0\n",
      "_________________________________________________________________\n"
     ]
    }
   ],
   "source": [
    "DL_model_2.compile(loss=keras.losses.binary_crossentropy,\n",
    "              optimizer=tensorflow.keras.optimizers.Adam(),\n",
    "              metrics=['accuracy'])\n",
    "DL_model_2.summary()"
   ]
  },
  {
   "cell_type": "code",
   "execution_count": 63,
   "id": "be4aece1",
   "metadata": {
    "execution": {
     "iopub.execute_input": "2021-11-19T18:07:23.100754Z",
     "iopub.status.busy": "2021-11-19T18:07:23.099762Z",
     "iopub.status.idle": "2021-11-19T18:07:23.105106Z",
     "shell.execute_reply": "2021-11-19T18:07:23.104440Z",
     "shell.execute_reply.started": "2021-11-19T16:05:55.92161Z"
    },
    "papermill": {
     "duration": 0.55425,
     "end_time": "2021-11-19T18:07:23.105276",
     "exception": false,
     "start_time": "2021-11-19T18:07:22.551026",
     "status": "completed"
    },
    "tags": []
   },
   "outputs": [],
   "source": [
    "my_callbacks_2 = [\n",
    "    EarlyStopping(patience=5),\n",
    "    ModelCheckpoint(filepath='model.{epoch:02d}-{val_loss:.2f}.h5'),\n",
    "    TensorBoard(log_dir='logs'),\n",
    "]"
   ]
  },
  {
   "cell_type": "code",
   "execution_count": 64,
   "id": "25909e1c",
   "metadata": {
    "execution": {
     "iopub.execute_input": "2021-11-19T18:07:24.199260Z",
     "iopub.status.busy": "2021-11-19T18:07:24.198546Z",
     "iopub.status.idle": "2021-11-19T18:07:51.872516Z",
     "shell.execute_reply": "2021-11-19T18:07:51.871137Z",
     "shell.execute_reply.started": "2021-11-19T16:06:02.163509Z"
    },
    "jupyter": {
     "outputs_hidden": true
    },
    "papermill": {
     "duration": 28.224465,
     "end_time": "2021-11-19T18:07:51.872692",
     "exception": false,
     "start_time": "2021-11-19T18:07:23.648227",
     "status": "completed"
    },
    "tags": []
   },
   "outputs": [
    {
     "name": "stdout",
     "output_type": "stream",
     "text": [
      "Epoch 1/200\n",
      "33/33 [==============================] - 1s 12ms/step - loss: 0.6823 - accuracy: 0.5720 - val_loss: 0.6370 - val_accuracy: 0.8217\n",
      "Epoch 2/200\n",
      "33/33 [==============================] - 0s 7ms/step - loss: 0.5971 - accuracy: 0.6605 - val_loss: 0.4655 - val_accuracy: 0.8837\n",
      "Epoch 3/200\n",
      "33/33 [==============================] - 0s 7ms/step - loss: 0.4793 - accuracy: 0.7870 - val_loss: 0.3259 - val_accuracy: 0.9031\n",
      "Epoch 4/200\n",
      "33/33 [==============================] - 0s 6ms/step - loss: 0.4078 - accuracy: 0.8288 - val_loss: 0.2662 - val_accuracy: 0.8992\n",
      "Epoch 5/200\n",
      "33/33 [==============================] - 0s 6ms/step - loss: 0.3520 - accuracy: 0.8794 - val_loss: 0.2265 - val_accuracy: 0.9186\n",
      "Epoch 6/200\n",
      "33/33 [==============================] - 0s 6ms/step - loss: 0.3080 - accuracy: 0.8940 - val_loss: 0.2132 - val_accuracy: 0.9341\n",
      "Epoch 7/200\n",
      "33/33 [==============================] - 0s 6ms/step - loss: 0.2930 - accuracy: 0.9095 - val_loss: 0.2115 - val_accuracy: 0.9225\n",
      "Epoch 8/200\n",
      "33/33 [==============================] - 0s 6ms/step - loss: 0.2937 - accuracy: 0.9115 - val_loss: 0.1900 - val_accuracy: 0.9341\n",
      "Epoch 9/200\n",
      "33/33 [==============================] - 0s 6ms/step - loss: 0.2860 - accuracy: 0.9095 - val_loss: 0.1830 - val_accuracy: 0.9341\n",
      "Epoch 10/200\n",
      "33/33 [==============================] - 0s 7ms/step - loss: 0.2550 - accuracy: 0.9115 - val_loss: 0.1856 - val_accuracy: 0.9070\n",
      "Epoch 11/200\n",
      "33/33 [==============================] - 0s 6ms/step - loss: 0.2474 - accuracy: 0.9125 - val_loss: 0.1662 - val_accuracy: 0.9302\n",
      "Epoch 12/200\n",
      "33/33 [==============================] - 0s 6ms/step - loss: 0.2361 - accuracy: 0.9348 - val_loss: 0.1817 - val_accuracy: 0.9186\n",
      "Epoch 13/200\n",
      "33/33 [==============================] - 0s 6ms/step - loss: 0.2540 - accuracy: 0.9202 - val_loss: 0.1642 - val_accuracy: 0.9380\n",
      "Epoch 14/200\n",
      "33/33 [==============================] - 0s 6ms/step - loss: 0.2378 - accuracy: 0.9270 - val_loss: 0.1676 - val_accuracy: 0.9264\n",
      "Epoch 15/200\n",
      "33/33 [==============================] - 0s 7ms/step - loss: 0.2280 - accuracy: 0.9232 - val_loss: 0.1569 - val_accuracy: 0.9419\n",
      "Epoch 16/200\n",
      "33/33 [==============================] - 0s 6ms/step - loss: 0.2082 - accuracy: 0.9377 - val_loss: 0.1469 - val_accuracy: 0.9496\n",
      "Epoch 17/200\n",
      "33/33 [==============================] - 0s 6ms/step - loss: 0.2303 - accuracy: 0.9270 - val_loss: 0.1586 - val_accuracy: 0.9302\n",
      "Epoch 18/200\n",
      "33/33 [==============================] - 0s 6ms/step - loss: 0.2371 - accuracy: 0.9212 - val_loss: 0.1519 - val_accuracy: 0.9419\n",
      "Epoch 19/200\n",
      "33/33 [==============================] - 0s 6ms/step - loss: 0.2566 - accuracy: 0.9105 - val_loss: 0.1941 - val_accuracy: 0.9264\n",
      "Epoch 20/200\n",
      "33/33 [==============================] - 0s 6ms/step - loss: 0.2262 - accuracy: 0.9232 - val_loss: 0.1710 - val_accuracy: 0.9302\n",
      "Epoch 21/200\n",
      "33/33 [==============================] - 0s 6ms/step - loss: 0.2325 - accuracy: 0.9261 - val_loss: 0.1682 - val_accuracy: 0.9302\n"
     ]
    }
   ],
   "source": [
    "#train model\n",
    "history_2 = DL_model_2.fit(X_train_g200_2, y_train_g200_2, \n",
    "                    epochs=epochs_2, batch_size=batch_size_2, shuffle=True,\n",
    "                    validation_split=0.2, callbacks=my_callbacks_2)"
   ]
  },
  {
   "cell_type": "code",
   "execution_count": 65,
   "id": "18e12488",
   "metadata": {
    "execution": {
     "iopub.execute_input": "2021-11-19T18:07:53.298586Z",
     "iopub.status.busy": "2021-11-19T18:07:53.294541Z",
     "iopub.status.idle": "2021-11-19T18:07:53.531994Z",
     "shell.execute_reply": "2021-11-19T18:07:53.532490Z",
     "shell.execute_reply.started": "2021-11-19T16:06:30.380424Z"
    },
    "papermill": {
     "duration": 0.93723,
     "end_time": "2021-11-19T18:07:53.532669",
     "exception": false,
     "start_time": "2021-11-19T18:07:52.595439",
     "status": "completed"
    },
    "tags": []
   },
   "outputs": [
    {
     "name": "stdout",
     "output_type": "stream",
     "text": [
      "20/20 [==============================] - 0s 2ms/step - loss: 0.1900 - accuracy: 0.9416\n",
      "Test result: 94.164 loss: 0.190\n"
     ]
    }
   ],
   "source": [
    "#testing\n",
    "scores_2 = DL_model_2.evaluate(X_test_g200_2, y_test_g200_2, batch_size=32, verbose=1)\n",
    "print('Test result: %.3f loss: %.3f' % (scores_2[1]*100,scores_2[0]))"
   ]
  },
  {
   "cell_type": "code",
   "execution_count": 66,
   "id": "0ecda129",
   "metadata": {
    "execution": {
     "iopub.execute_input": "2021-11-19T18:07:54.938212Z",
     "iopub.status.busy": "2021-11-19T18:07:54.937195Z",
     "iopub.status.idle": "2021-11-19T18:07:54.950525Z",
     "shell.execute_reply": "2021-11-19T18:07:54.951050Z",
     "shell.execute_reply.started": "2021-11-19T16:06:44.224459Z"
    },
    "papermill": {
     "duration": 0.721265,
     "end_time": "2021-11-19T18:07:54.951256",
     "exception": false,
     "start_time": "2021-11-19T18:07:54.229991",
     "status": "completed"
    },
    "tags": []
   },
   "outputs": [],
   "source": [
    "#save model to disk\n",
    "model_json = DL_model_2.to_json()\n",
    "with open('model_ann_severe_toxic.json', 'w') as json_file:\n",
    "    json_file.write(model_json)\n",
    "DL_model_2.save_weights('model_ann_severe_toxic.h5') "
   ]
  },
  {
   "cell_type": "code",
   "execution_count": 67,
   "id": "7f603a0b",
   "metadata": {
    "execution": {
     "iopub.execute_input": "2021-11-19T18:07:56.354484Z",
     "iopub.status.busy": "2021-11-19T18:07:56.353748Z",
     "iopub.status.idle": "2021-11-19T18:07:57.606270Z",
     "shell.execute_reply": "2021-11-19T18:07:57.605704Z",
     "shell.execute_reply.started": "2021-11-19T16:06:44.244551Z"
    },
    "papermill": {
     "duration": 1.959476,
     "end_time": "2021-11-19T18:07:57.606434",
     "exception": false,
     "start_time": "2021-11-19T18:07:55.646958",
     "status": "completed"
    },
    "tags": []
   },
   "outputs": [
    {
     "data": {
      "text/plain": [
       "<Figure size 864x288 with 0 Axes>"
      ]
     },
     "metadata": {},
     "output_type": "display_data"
    },
    {
     "data": {
      "image/png": "[encoded data removed]",
      "text/plain": [
       "<Figure size 864x288 with 1 Axes>"
      ]
     },
     "metadata": {
      "needs_background": "light"
     },
     "output_type": "display_data"
    },
    {
     "data": {
      "image/png": "[encoded data removed]",
      "text/plain": [
       "<Figure size 864x288 with 1 Axes>"
      ]
     },
     "metadata": {
      "needs_background": "light"
     },
     "output_type": "display_data"
    }
   ],
   "source": [
    "plt.figure(221)\n",
    "\n",
    "plt.figure(0)\n",
    "plt.plot(history_2.history['accuracy'],'r')\n",
    "plt.plot(history_2.history['val_accuracy'],'g')\n",
    "plt.xticks(np.arange(0, 101, 2.0))\n",
    "plt.rcParams['figure.figsize'] = (12, 4)\n",
    "plt.xlabel(\"Num of Epochs\")\n",
    "plt.ylabel(\"Accuracy\")\n",
    "plt.title(\"Training Accuracy vs Validation Accuracy\")\n",
    "plt.legend(['train','validation'])\n",
    " \n",
    " \n",
    "plt.figure(1)\n",
    "plt.plot(history_2.history['loss'],'r')\n",
    "plt.plot(history_2.history['val_loss'],'g')\n",
    "plt.xticks(np.arange(0, 101, 2.0))\n",
    "plt.rcParams['figure.figsize'] = (12, 4)\n",
    "plt.xlabel(\"Num of Epochs\")\n",
    "plt.ylabel(\"Loss\")\n",
    "plt.title(\"Training Loss vs Validation Loss\")\n",
    "plt.legend(['train','validation'])\n",
    " \n",
    "plt.show()"
   ]
  },
  {
   "cell_type": "markdown",
   "id": "231c8e3e",
   "metadata": {
    "papermill": {
     "duration": 0.776198,
     "end_time": "2021-11-19T18:07:59.091908",
     "exception": false,
     "start_time": "2021-11-19T18:07:58.315710",
     "status": "completed"
    },
    "tags": []
   },
   "source": [
    "# Submission Data Set"
   ]
  },
  {
   "cell_type": "code",
   "execution_count": 68,
   "id": "97a47316",
   "metadata": {
    "execution": {
     "iopub.execute_input": "2021-11-19T18:08:00.493901Z",
     "iopub.status.busy": "2021-11-19T18:08:00.493262Z",
     "iopub.status.idle": "2021-11-19T18:08:00.608618Z",
     "shell.execute_reply": "2021-11-19T18:08:00.607931Z",
     "shell.execute_reply.started": "2021-11-19T16:08:05.013474Z"
    },
    "papermill": {
     "duration": 0.818887,
     "end_time": "2021-11-19T18:08:00.608786",
     "exception": false,
     "start_time": "2021-11-19T18:07:59.789899",
     "status": "completed"
    },
    "tags": []
   },
   "outputs": [],
   "source": [
    "df_test = pd.read_csv('comments_to_score.csv',low_memory = False) "
   ]
  },
  {
   "cell_type": "code",
   "execution_count": 69,
   "id": "96e108e7",
   "metadata": {
    "execution": {
     "iopub.execute_input": "2021-11-19T18:08:02.035889Z",
     "iopub.status.busy": "2021-11-19T18:08:02.019587Z",
     "iopub.status.idle": "2021-11-19T18:08:11.732481Z",
     "shell.execute_reply": "2021-11-19T18:08:11.731763Z",
     "shell.execute_reply.started": "2021-11-19T16:09:27.359937Z"
    },
    "papermill": {
     "duration": 10.422345,
     "end_time": "2021-11-19T18:08:11.732709",
     "exception": false,
     "start_time": "2021-11-19T18:08:01.310364",
     "status": "completed"
    },
    "tags": []
   },
   "outputs": [
    {
     "name": "stdout",
     "output_type": "stream",
     "text": [
      "Time elapsed: 3.118 seconds\n"
     ]
    }
   ],
   "source": [
    "import time\n",
    "t_start = time.time()\n",
    "\n",
    "df_test['clean']=df_test['text'].apply(lambda x: text_process_1(x))\n",
    "\n",
    "\n",
    "t_stop = time.time()\n",
    "print('Time elapsed: {:.3f} seconds'.format(t_stop - t_start))"
   ]
  },
  {
   "cell_type": "code",
   "execution_count": 70,
   "id": "4f4e5fba",
   "metadata": {
    "execution": {
     "iopub.execute_input": "2021-11-19T18:08:13.685718Z",
     "iopub.status.busy": "2021-11-19T18:08:13.685001Z",
     "iopub.status.idle": "2021-11-19T18:08:15.923555Z",
     "shell.execute_reply": "2021-11-19T18:08:15.924024Z",
     "shell.execute_reply.started": "2021-11-19T16:12:38.987871Z"
    },
    "papermill": {
     "duration": 3.172676,
     "end_time": "2021-11-19T18:08:15.924217",
     "exception": false,
     "start_time": "2021-11-19T18:08:12.751541",
     "status": "completed"
    },
    "tags": []
   },
   "outputs": [
    {
     "name": "stdout",
     "output_type": "stream",
     "text": [
      "Time elapsed: 0.874 seconds\n"
     ]
    }
   ],
   "source": [
    "import time\n",
    "t_start = time.time()\n",
    "\n",
    "df_test['sent_vec_1']=df_test['clean'].apply(lambda x: sent_vectorizer_1(x))\n",
    "\n",
    "t_stop = time.time()\n",
    "print('Time elapsed: {:.3f} seconds'.format(t_stop - t_start))"
   ]
  },
  {
   "cell_type": "code",
   "execution_count": 71,
   "id": "4ac69db7",
   "metadata": {
    "execution": {
     "iopub.execute_input": "2021-11-19T18:08:17.333163Z",
     "iopub.status.busy": "2021-11-19T18:08:17.332502Z",
     "iopub.status.idle": "2021-11-19T18:08:17.347411Z",
     "shell.execute_reply": "2021-11-19T18:08:17.346777Z",
     "shell.execute_reply.started": "2021-11-19T16:13:21.685132Z"
    },
    "papermill": {
     "duration": 0.725055,
     "end_time": "2021-11-19T18:08:17.347565",
     "exception": false,
     "start_time": "2021-11-19T18:08:16.622510",
     "status": "completed"
    },
    "tags": []
   },
   "outputs": [
    {
     "data": {
      "text/plain": [
       "0       [0.13326274, 0.14546841, -0.063406445, 0.28416...\n",
       "1       [0.035241537, 0.10603623, -0.003508845, 0.3954...\n",
       "2       [0.1593038, 0.03433154, -0.04458427, 0.3040714...\n",
       "3       [0.17278722, 0.11127991, -0.089476526, 0.30726...\n",
       "4       [0.027981045, 0.15911521, -0.066612594, 0.3736...\n",
       "                              ...                        \n",
       "7532    [0.2862072, 0.2617116, 0.0895114, 0.28348678, ...\n",
       "7533    [0.095424995, 0.084042594, -0.20972502, 0.3486...\n",
       "7534    [0.19862935, 0.15869436, -0.07644144, 0.363083...\n",
       "7535    [0.13331321, 0.1968919, -0.0380373, 0.28607768...\n",
       "7536    [0.07088007, 0.13425708, -0.13204664, 0.273186...\n",
       "Name: sent_vec_1, Length: 7537, dtype: object"
      ]
     },
     "execution_count": 71,
     "metadata": {},
     "output_type": "execute_result"
    }
   ],
   "source": [
    "X_test=df_test['sent_vec_1']\n",
    "X_test"
   ]
  },
  {
   "cell_type": "code",
   "execution_count": 72,
   "id": "2627b8f9",
   "metadata": {
    "execution": {
     "iopub.execute_input": "2021-11-19T18:08:18.768984Z",
     "iopub.status.busy": "2021-11-19T18:08:18.768361Z",
     "iopub.status.idle": "2021-11-19T18:08:43.826770Z",
     "shell.execute_reply": "2021-11-19T18:08:43.826206Z",
     "shell.execute_reply.started": "2021-11-19T16:13:26.342406Z"
    },
    "papermill": {
     "duration": 25.76889,
     "end_time": "2021-11-19T18:08:43.826924",
     "exception": false,
     "start_time": "2021-11-19T18:08:18.058034",
     "status": "completed"
    },
    "tags": []
   },
   "outputs": [
    {
     "name": "stdout",
     "output_type": "stream",
     "text": [
      "Time elapsed: 20.174 seconds\n"
     ]
    }
   ],
   "source": [
    "import time\n",
    "t_start = time.time()\n",
    "\n",
    "df_test_fin=pd.DataFrame()\n",
    "\n",
    "\n",
    "for idx, row in enumerate(X_test):\n",
    "    #print((roww))\n",
    "    #print(list(roww))\n",
    "    row_df=pd.Series(X_test[idx]).to_frame()\n",
    "    row_df_2=row_df.T\n",
    "    df_test_fin=pd.concat([df_test_fin, row_df_2])\n",
    "    #row_df= pd.DataFrame(roww)\n",
    "#     row_df_2=row_df.T\n",
    "#     ddd=pd.concat([ddd, row_df_2])\n",
    "\n",
    "df_test_fin = df_test_fin.fillna(0)\n",
    "\n",
    "t_stop = time.time()\n",
    "print('Time elapsed: {:.3f} seconds'.format(t_stop - t_start))"
   ]
  },
  {
   "cell_type": "code",
   "execution_count": 73,
   "id": "f860db7c",
   "metadata": {
    "execution": {
     "iopub.execute_input": "2021-11-19T18:08:45.242927Z",
     "iopub.status.busy": "2021-11-19T18:08:45.241980Z",
     "iopub.status.idle": "2021-11-19T18:08:45.248444Z",
     "shell.execute_reply": "2021-11-19T18:08:45.248977Z",
     "shell.execute_reply.started": "2021-11-19T16:13:53.981148Z"
    },
    "papermill": {
     "duration": 0.714991,
     "end_time": "2021-11-19T18:08:45.249161",
     "exception": false,
     "start_time": "2021-11-19T18:08:44.534170",
     "status": "completed"
    },
    "tags": []
   },
   "outputs": [
    {
     "data": {
      "text/plain": [
       "0          114890\n",
       "1          732895\n",
       "2         1139051\n",
       "3         1434512\n",
       "4         2084821\n",
       "          ...    \n",
       "7532    504235362\n",
       "7533    504235566\n",
       "7534    504308177\n",
       "7535    504570375\n",
       "7536    504598250\n",
       "Name: comment_id, Length: 7537, dtype: int64"
      ]
     },
     "execution_count": 73,
     "metadata": {},
     "output_type": "execute_result"
    }
   ],
   "source": [
    "test_ids=df_test['comment_id']\n",
    "test_ids"
   ]
  },
  {
   "cell_type": "markdown",
   "id": "6a8a9307",
   "metadata": {
    "papermill": {
     "duration": 0.707584,
     "end_time": "2021-11-19T18:08:46.658892",
     "exception": false,
     "start_time": "2021-11-19T18:08:45.951308",
     "status": "completed"
    },
    "tags": []
   },
   "source": [
    "#### Predict Severe Toxicity"
   ]
  },
  {
   "cell_type": "code",
   "execution_count": 74,
   "id": "d6fb94a4",
   "metadata": {
    "execution": {
     "iopub.execute_input": "2021-11-19T18:08:48.148643Z",
     "iopub.status.busy": "2021-11-19T18:08:48.147862Z",
     "iopub.status.idle": "2021-11-19T18:08:48.739216Z",
     "shell.execute_reply": "2021-11-19T18:08:48.739675Z",
     "shell.execute_reply.started": "2021-11-19T16:15:59.886712Z"
    },
    "papermill": {
     "duration": 1.367318,
     "end_time": "2021-11-19T18:08:48.739851",
     "exception": false,
     "start_time": "2021-11-19T18:08:47.372533",
     "status": "completed"
    },
    "tags": []
   },
   "outputs": [
    {
     "data": {
      "text/html": [
       "<div>\n",
       "<style scoped>\n",
       "    .dataframe tbody tr th:only-of-type {\n",
       "        vertical-align: middle;\n",
       "    }\n",
       "\n",
       "    .dataframe tbody tr th {\n",
       "        vertical-align: top;\n",
       "    }\n",
       "\n",
       "    .dataframe thead th {\n",
       "        text-align: right;\n",
       "    }\n",
       "</style>\n",
       "<table border=\"1\" class=\"dataframe\">\n",
       "  <thead>\n",
       "    <tr style=\"text-align: right;\">\n",
       "      <th></th>\n",
       "      <th>0</th>\n",
       "    </tr>\n",
       "  </thead>\n",
       "  <tbody>\n",
       "    <tr>\n",
       "      <th>0</th>\n",
       "      <td>0.005888</td>\n",
       "    </tr>\n",
       "    <tr>\n",
       "      <th>1</th>\n",
       "      <td>0.051260</td>\n",
       "    </tr>\n",
       "    <tr>\n",
       "      <th>2</th>\n",
       "      <td>0.008077</td>\n",
       "    </tr>\n",
       "    <tr>\n",
       "      <th>3</th>\n",
       "      <td>0.004620</td>\n",
       "    </tr>\n",
       "    <tr>\n",
       "      <th>4</th>\n",
       "      <td>0.018549</td>\n",
       "    </tr>\n",
       "    <tr>\n",
       "      <th>...</th>\n",
       "      <td>...</td>\n",
       "    </tr>\n",
       "    <tr>\n",
       "      <th>7532</th>\n",
       "      <td>0.969363</td>\n",
       "    </tr>\n",
       "    <tr>\n",
       "      <th>7533</th>\n",
       "      <td>0.006829</td>\n",
       "    </tr>\n",
       "    <tr>\n",
       "      <th>7534</th>\n",
       "      <td>0.029375</td>\n",
       "    </tr>\n",
       "    <tr>\n",
       "      <th>7535</th>\n",
       "      <td>0.823981</td>\n",
       "    </tr>\n",
       "    <tr>\n",
       "      <th>7536</th>\n",
       "      <td>0.088287</td>\n",
       "    </tr>\n",
       "  </tbody>\n",
       "</table>\n",
       "<p>7537 rows × 1 columns</p>\n",
       "</div>"
      ],
      "text/plain": [
       "             0\n",
       "0     0.005888\n",
       "1     0.051260\n",
       "2     0.008077\n",
       "3     0.004620\n",
       "4     0.018549\n",
       "...        ...\n",
       "7532  0.969363\n",
       "7533  0.006829\n",
       "7534  0.029375\n",
       "7535  0.823981\n",
       "7536  0.088287\n",
       "\n",
       "[7537 rows x 1 columns]"
      ]
     },
     "execution_count": 74,
     "metadata": {},
     "output_type": "execute_result"
    }
   ],
   "source": [
    "Y_test_pred_Sev_tox=DL_model_2.predict(df_test_fin)\n",
    "Y_test_pred_Sev_tox_2=pd.DataFrame(Y_test_pred_Sev_tox)\n",
    "Y_test_pred_Sev_tox_2"
   ]
  },
  {
   "cell_type": "markdown",
   "id": "cb66ded4",
   "metadata": {
    "papermill": {
     "duration": 0.710505,
     "end_time": "2021-11-19T18:08:50.171933",
     "exception": false,
     "start_time": "2021-11-19T18:08:49.461428",
     "status": "completed"
    },
    "tags": []
   },
   "source": [
    "#### Predict Regular Toxicity"
   ]
  },
  {
   "cell_type": "code",
   "execution_count": 75,
   "id": "4e2bd1a2",
   "metadata": {
    "execution": {
     "iopub.execute_input": "2021-11-19T18:08:51.639586Z",
     "iopub.status.busy": "2021-11-19T18:08:51.637680Z",
     "iopub.status.idle": "2021-11-19T18:08:52.162090Z",
     "shell.execute_reply": "2021-11-19T18:08:52.161440Z",
     "shell.execute_reply.started": "2021-11-19T16:16:35.305094Z"
    },
    "papermill": {
     "duration": 1.229487,
     "end_time": "2021-11-19T18:08:52.162241",
     "exception": false,
     "start_time": "2021-11-19T18:08:50.932754",
     "status": "completed"
    },
    "tags": []
   },
   "outputs": [
    {
     "data": {
      "text/html": [
       "<div>\n",
       "<style scoped>\n",
       "    .dataframe tbody tr th:only-of-type {\n",
       "        vertical-align: middle;\n",
       "    }\n",
       "\n",
       "    .dataframe tbody tr th {\n",
       "        vertical-align: top;\n",
       "    }\n",
       "\n",
       "    .dataframe thead th {\n",
       "        text-align: right;\n",
       "    }\n",
       "</style>\n",
       "<table border=\"1\" class=\"dataframe\">\n",
       "  <thead>\n",
       "    <tr style=\"text-align: right;\">\n",
       "      <th></th>\n",
       "      <th>0</th>\n",
       "    </tr>\n",
       "  </thead>\n",
       "  <tbody>\n",
       "    <tr>\n",
       "      <th>0</th>\n",
       "      <td>0.028624</td>\n",
       "    </tr>\n",
       "    <tr>\n",
       "      <th>1</th>\n",
       "      <td>0.295218</td>\n",
       "    </tr>\n",
       "    <tr>\n",
       "      <th>2</th>\n",
       "      <td>0.092581</td>\n",
       "    </tr>\n",
       "    <tr>\n",
       "      <th>3</th>\n",
       "      <td>0.016377</td>\n",
       "    </tr>\n",
       "    <tr>\n",
       "      <th>4</th>\n",
       "      <td>0.916837</td>\n",
       "    </tr>\n",
       "    <tr>\n",
       "      <th>...</th>\n",
       "      <td>...</td>\n",
       "    </tr>\n",
       "    <tr>\n",
       "      <th>7532</th>\n",
       "      <td>0.999897</td>\n",
       "    </tr>\n",
       "    <tr>\n",
       "      <th>7533</th>\n",
       "      <td>0.437839</td>\n",
       "    </tr>\n",
       "    <tr>\n",
       "      <th>7534</th>\n",
       "      <td>0.411777</td>\n",
       "    </tr>\n",
       "    <tr>\n",
       "      <th>7535</th>\n",
       "      <td>0.999841</td>\n",
       "    </tr>\n",
       "    <tr>\n",
       "      <th>7536</th>\n",
       "      <td>0.501172</td>\n",
       "    </tr>\n",
       "  </tbody>\n",
       "</table>\n",
       "<p>7537 rows × 1 columns</p>\n",
       "</div>"
      ],
      "text/plain": [
       "             0\n",
       "0     0.028624\n",
       "1     0.295218\n",
       "2     0.092581\n",
       "3     0.016377\n",
       "4     0.916837\n",
       "...        ...\n",
       "7532  0.999897\n",
       "7533  0.437839\n",
       "7534  0.411777\n",
       "7535  0.999841\n",
       "7536  0.501172\n",
       "\n",
       "[7537 rows x 1 columns]"
      ]
     },
     "execution_count": 75,
     "metadata": {},
     "output_type": "execute_result"
    }
   ],
   "source": [
    "Y_test_pred_reg_tox=DL_model.predict(df_test_fin)\n",
    "Y_test_pred_reg_tox_2=pd.DataFrame(Y_test_pred_reg_tox)\n",
    "Y_test_pred_reg_tox_2"
   ]
  },
  {
   "cell_type": "code",
   "execution_count": 76,
   "id": "3c78babe",
   "metadata": {
    "execution": {
     "iopub.execute_input": "2021-11-19T18:08:53.583630Z",
     "iopub.status.busy": "2021-11-19T18:08:53.582928Z",
     "iopub.status.idle": "2021-11-19T18:08:53.598194Z",
     "shell.execute_reply": "2021-11-19T18:08:53.598803Z",
     "shell.execute_reply.started": "2021-11-19T16:18:12.003722Z"
    },
    "papermill": {
     "duration": 0.735267,
     "end_time": "2021-11-19T18:08:53.598993",
     "exception": false,
     "start_time": "2021-11-19T18:08:52.863726",
     "status": "completed"
    },
    "tags": []
   },
   "outputs": [
    {
     "data": {
      "text/html": [
       "<div>\n",
       "<style scoped>\n",
       "    .dataframe tbody tr th:only-of-type {\n",
       "        vertical-align: middle;\n",
       "    }\n",
       "\n",
       "    .dataframe tbody tr th {\n",
       "        vertical-align: top;\n",
       "    }\n",
       "\n",
       "    .dataframe thead th {\n",
       "        text-align: right;\n",
       "    }\n",
       "</style>\n",
       "<table border=\"1\" class=\"dataframe\">\n",
       "  <thead>\n",
       "    <tr style=\"text-align: right;\">\n",
       "      <th></th>\n",
       "      <th>comment_id</th>\n",
       "      <th>score</th>\n",
       "    </tr>\n",
       "  </thead>\n",
       "  <tbody>\n",
       "    <tr>\n",
       "      <th>0</th>\n",
       "      <td>114890</td>\n",
       "      <td>0.034512</td>\n",
       "    </tr>\n",
       "    <tr>\n",
       "      <th>1</th>\n",
       "      <td>732895</td>\n",
       "      <td>0.346478</td>\n",
       "    </tr>\n",
       "    <tr>\n",
       "      <th>2</th>\n",
       "      <td>1139051</td>\n",
       "      <td>0.100658</td>\n",
       "    </tr>\n",
       "    <tr>\n",
       "      <th>3</th>\n",
       "      <td>1434512</td>\n",
       "      <td>0.020997</td>\n",
       "    </tr>\n",
       "    <tr>\n",
       "      <th>4</th>\n",
       "      <td>2084821</td>\n",
       "      <td>0.935386</td>\n",
       "    </tr>\n",
       "    <tr>\n",
       "      <th>...</th>\n",
       "      <td>...</td>\n",
       "      <td>...</td>\n",
       "    </tr>\n",
       "    <tr>\n",
       "      <th>7532</th>\n",
       "      <td>504235362</td>\n",
       "      <td>1.969260</td>\n",
       "    </tr>\n",
       "    <tr>\n",
       "      <th>7533</th>\n",
       "      <td>504235566</td>\n",
       "      <td>0.444668</td>\n",
       "    </tr>\n",
       "    <tr>\n",
       "      <th>7534</th>\n",
       "      <td>504308177</td>\n",
       "      <td>0.441151</td>\n",
       "    </tr>\n",
       "    <tr>\n",
       "      <th>7535</th>\n",
       "      <td>504570375</td>\n",
       "      <td>1.823822</td>\n",
       "    </tr>\n",
       "    <tr>\n",
       "      <th>7536</th>\n",
       "      <td>504598250</td>\n",
       "      <td>0.589459</td>\n",
       "    </tr>\n",
       "  </tbody>\n",
       "</table>\n",
       "<p>7537 rows × 2 columns</p>\n",
       "</div>"
      ],
      "text/plain": [
       "      comment_id     score\n",
       "0         114890  0.034512\n",
       "1         732895  0.346478\n",
       "2        1139051  0.100658\n",
       "3        1434512  0.020997\n",
       "4        2084821  0.935386\n",
       "...          ...       ...\n",
       "7532   504235362  1.969260\n",
       "7533   504235566  0.444668\n",
       "7534   504308177  0.441151\n",
       "7535   504570375  1.823822\n",
       "7536   504598250  0.589459\n",
       "\n",
       "[7537 rows x 2 columns]"
      ]
     },
     "execution_count": 76,
     "metadata": {},
     "output_type": "execute_result"
    }
   ],
   "source": [
    "df_merge=pd.concat([test_ids, Y_test_pred_reg_tox_2, Y_test_pred_Sev_tox_2], axis=1)\n",
    "df_merge.columns=[\"comment_id\",\"b\",\"d\"]\n",
    "\n",
    "df_merge['score']=df_merge['b']+df_merge['d']\n",
    "df_merge.pop('b')\n",
    "df_merge.pop('d')\n",
    "df_merge"
   ]
  },
  {
   "cell_type": "code",
   "execution_count": 77,
   "id": "3cd1bdb9",
   "metadata": {
    "execution": {
     "iopub.execute_input": "2021-11-19T18:08:55.031436Z",
     "iopub.status.busy": "2021-11-19T18:08:55.030770Z",
     "iopub.status.idle": "2021-11-19T18:08:55.064647Z",
     "shell.execute_reply": "2021-11-19T18:08:55.063902Z",
     "shell.execute_reply.started": "2021-11-19T16:18:39.878373Z"
    },
    "papermill": {
     "duration": 0.749331,
     "end_time": "2021-11-19T18:08:55.064802",
     "exception": false,
     "start_time": "2021-11-19T18:08:54.315471",
     "status": "completed"
    },
    "tags": []
   },
   "outputs": [],
   "source": [
    "df_merge.to_csv('submission.csv', index=False)"
   ]
  },
  {
   "cell_type": "code",
   "execution_count": null,
   "id": "32572121",
   "metadata": {},
   "outputs": [],
   "source": []
  }
 ],
 "metadata": {
  "kernelspec": {
   "display_name": "Python 3",
   "language": "python",
   "name": "python3"
  },
  "language_info": {
   "codemirror_mode": {
    "name": "ipython",
    "version": 3
   },
   "file_extension": ".py",
   "mimetype": "text/x-python",
   "name": "python",
   "nbconvert_exporter": "python",
   "pygments_lexer": "ipython3",
   "version": "3.8.8"
  },
  "papermill": {
   "default_parameters": {},
   "duration": 3123.3868,
   "end_time": "2021-11-19T18:08:59.013575",
   "environment_variables": {},
   "exception": null,
   "input_path": "__notebook__.ipynb",
   "output_path": "__notebook__.ipynb",
   "parameters": {},
   "start_time": "2021-11-19T17:16:55.626775",
   "version": "2.3.3"
  }
 },
 "nbformat": 4,
 "nbformat_minor": 5
}
