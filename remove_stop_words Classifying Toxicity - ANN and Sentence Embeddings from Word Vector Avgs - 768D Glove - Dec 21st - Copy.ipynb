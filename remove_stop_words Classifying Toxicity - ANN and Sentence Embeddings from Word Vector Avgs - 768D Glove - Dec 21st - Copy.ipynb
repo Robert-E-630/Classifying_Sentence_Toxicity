{
 "cells": [
  {
   "cell_type": "markdown",
   "id": "90df67c3",
   "metadata": {},
   "source": [
    "# Classifying Toxic and Severely Toxic Comments Feed Forward NN\n",
    "\n",
    "    - 300D fasttext embeddings and 70 max sequence length\n",
    "    - data set of 30,000 comments (taken from 2017 Kaggle - training and test datasets"
   ]
  },
  {
   "cell_type": "markdown",
   "id": "ffe103e9",
   "metadata": {},
   "source": [
    "### Load Libraries and Data Sets"
   ]
  },
  {
   "cell_type": "code",
   "execution_count": 1,
   "id": "9f8798ab",
   "metadata": {},
   "outputs": [],
   "source": [
    "%matplotlib inline\n",
    "\n",
    "import numpy as np\n",
    "import pandas as pd\n",
    "import seaborn as sns\n",
    "\n",
    "import re\n",
    "\n",
    "import string     # Imports the library\n",
    "import nltk        # Imports the natural language toolkit\n",
    "from nltk.corpus import stopwords\n",
    "\n",
    "#nltk.download('stopwords')   # Download the stopwords dataset\n",
    "#nltk.download('wordnet')"
   ]
  },
  {
   "cell_type": "code",
   "execution_count": 2,
   "id": "8f2a154f",
   "metadata": {
    "execution": {
     "iopub.execute_input": "2021-11-19T17:17:08.346268Z",
     "iopub.status.busy": "2021-11-19T17:17:08.345545Z",
     "iopub.status.idle": "2021-11-19T17:17:15.302478Z",
     "shell.execute_reply": "2021-11-19T17:17:15.301745Z",
     "shell.execute_reply.started": "2021-11-19T15:22:05.978887Z"
    },
    "papermill": {
     "duration": 7.010041,
     "end_time": "2021-11-19T17:17:15.302639",
     "exception": false,
     "start_time": "2021-11-19T17:17:08.292598",
     "status": "completed"
    },
    "tags": []
   },
   "outputs": [],
   "source": [
    "import tensorflow as tf\n",
    "import tensorflow_datasets as tfds\n",
    "#tfds.list_builders()"
   ]
  },
  {
   "cell_type": "markdown",
   "id": "93c92693",
   "metadata": {},
   "source": [
    "#### Load 2017 Train Data Set"
   ]
  },
  {
   "cell_type": "code",
   "execution_count": 3,
   "id": "eb87ae89",
   "metadata": {
    "execution": {
     "iopub.execute_input": "2021-11-19T17:17:15.406045Z",
     "iopub.status.busy": "2021-11-19T17:17:15.405417Z",
     "iopub.status.idle": "2021-11-19T17:17:17.749515Z",
     "shell.execute_reply": "2021-11-19T17:17:17.750112Z",
     "shell.execute_reply.started": "2021-11-19T15:22:12.139626Z"
    },
    "papermill": {
     "duration": 2.397069,
     "end_time": "2021-11-19T17:17:17.750347",
     "exception": false,
     "start_time": "2021-11-19T17:17:15.353278",
     "status": "completed"
    },
    "tags": []
   },
   "outputs": [],
   "source": [
    "df_train_wiki_tox = pd.read_csv(\"train.csv\")"
   ]
  },
  {
   "cell_type": "markdown",
   "id": "6879c437",
   "metadata": {},
   "source": [
    "#### Load 2017 Test Data Set and Test Labels"
   ]
  },
  {
   "cell_type": "code",
   "execution_count": 4,
   "id": "96c22289",
   "metadata": {},
   "outputs": [],
   "source": [
    "df_test_wiki_tox = pd.read_csv(\"test.csv\")\n",
    "df_test_wiki_tox_labels= pd.read_csv(\"test_labels.csv\")"
   ]
  },
  {
   "cell_type": "markdown",
   "id": "d372176e",
   "metadata": {},
   "source": [
    "##### 2017 Test Labels with a Values of -1 were not used for scoring"
   ]
  },
  {
   "cell_type": "code",
   "execution_count": 5,
   "id": "038d7fb0",
   "metadata": {},
   "outputs": [
    {
     "data": {
      "text/plain": [
       "-1    89186\n",
       " 0    57888\n",
       " 1     6090\n",
       "Name: toxic, dtype: int64"
      ]
     },
     "execution_count": 5,
     "metadata": {},
     "output_type": "execute_result"
    }
   ],
   "source": [
    "df_test_wiki_tox_labels['toxic'].value_counts()"
   ]
  },
  {
   "cell_type": "code",
   "execution_count": 6,
   "id": "3d949fba",
   "metadata": {},
   "outputs": [
    {
     "data": {
      "text/html": [
       "<div>\n",
       "<style scoped>\n",
       "    .dataframe tbody tr th:only-of-type {\n",
       "        vertical-align: middle;\n",
       "    }\n",
       "\n",
       "    .dataframe tbody tr th {\n",
       "        vertical-align: top;\n",
       "    }\n",
       "\n",
       "    .dataframe thead th {\n",
       "        text-align: right;\n",
       "    }\n",
       "</style>\n",
       "<table border=\"1\" class=\"dataframe\">\n",
       "  <thead>\n",
       "    <tr style=\"text-align: right;\">\n",
       "      <th></th>\n",
       "      <th>id</th>\n",
       "      <th>toxic</th>\n",
       "      <th>severe_toxic</th>\n",
       "      <th>obscene</th>\n",
       "      <th>threat</th>\n",
       "      <th>insult</th>\n",
       "      <th>identity_hate</th>\n",
       "    </tr>\n",
       "  </thead>\n",
       "  <tbody>\n",
       "    <tr>\n",
       "      <th>0</th>\n",
       "      <td>0001ea8717f6de06</td>\n",
       "      <td>0</td>\n",
       "      <td>0</td>\n",
       "      <td>0</td>\n",
       "      <td>0</td>\n",
       "      <td>0</td>\n",
       "      <td>0</td>\n",
       "    </tr>\n",
       "    <tr>\n",
       "      <th>1</th>\n",
       "      <td>000247e83dcc1211</td>\n",
       "      <td>0</td>\n",
       "      <td>0</td>\n",
       "      <td>0</td>\n",
       "      <td>0</td>\n",
       "      <td>0</td>\n",
       "      <td>0</td>\n",
       "    </tr>\n",
       "    <tr>\n",
       "      <th>2</th>\n",
       "      <td>0002f87b16116a7f</td>\n",
       "      <td>0</td>\n",
       "      <td>0</td>\n",
       "      <td>0</td>\n",
       "      <td>0</td>\n",
       "      <td>0</td>\n",
       "      <td>0</td>\n",
       "    </tr>\n",
       "  </tbody>\n",
       "</table>\n",
       "</div>"
      ],
      "text/plain": [
       "                 id  toxic  severe_toxic  obscene  threat  insult  \\\n",
       "0  0001ea8717f6de06      0             0        0       0       0   \n",
       "1  000247e83dcc1211      0             0        0       0       0   \n",
       "2  0002f87b16116a7f      0             0        0       0       0   \n",
       "\n",
       "   identity_hate  \n",
       "0              0  \n",
       "1              0  \n",
       "2              0  "
      ]
     },
     "execution_count": 6,
     "metadata": {},
     "output_type": "execute_result"
    }
   ],
   "source": [
    "df_labelled_test = df_test_wiki_tox_labels[df_test_wiki_tox_labels['toxic']>-1]\n",
    "df_labelled_test=df_labelled_test.reset_index()\n",
    "df_labelled_test.pop('index')\n",
    "df_labelled_test.head(3)"
   ]
  },
  {
   "cell_type": "code",
   "execution_count": 7,
   "id": "153d8f70",
   "metadata": {},
   "outputs": [
    {
     "data": {
      "text/plain": [
       "0    57888\n",
       "1     6090\n",
       "Name: toxic, dtype: int64"
      ]
     },
     "execution_count": 7,
     "metadata": {},
     "output_type": "execute_result"
    }
   ],
   "source": [
    "df_labelled_test['toxic'].value_counts()"
   ]
  },
  {
   "cell_type": "code",
   "execution_count": 8,
   "id": "a5cf8060",
   "metadata": {},
   "outputs": [],
   "source": [
    "##### Values with a -1 were not used for scoring"
   ]
  },
  {
   "cell_type": "code",
   "execution_count": 9,
   "id": "5660aa33",
   "metadata": {
    "execution": {
     "iopub.execute_input": "2021-11-19T17:17:17.862290Z",
     "iopub.status.busy": "2021-11-19T17:17:17.861203Z",
     "iopub.status.idle": "2021-11-19T17:17:17.863759Z",
     "shell.execute_reply": "2021-11-19T17:17:17.863235Z",
     "shell.execute_reply.started": "2021-11-19T15:22:14.178696Z"
    },
    "papermill": {
     "duration": 0.06194,
     "end_time": "2021-11-19T17:17:17.863921",
     "exception": false,
     "start_time": "2021-11-19T17:17:17.801981",
     "status": "completed"
    },
    "tags": []
   },
   "outputs": [],
   "source": [
    "# def text_process_1(text):\n",
    "#     #text=text.decode('utf-8')\n",
    "    \n",
    "#     # Replace the xa0 with a space\n",
    "#     text=text.replace('xa0',' ')\n",
    "#     # Replace the \\xa0 with a space\n",
    "#     text=text.replace('\\xa0',' ')\n",
    "#     # Replace the \\n\\n with a space\n",
    "#     text=text.replace('\\n\\n',' ')\n",
    "#     # Replace the \\n with a space\n",
    "#     text=text.replace('\\n',' ')\n",
    "#     # Replace apostrophes with nothing\n",
    "#     text=text.replace('\\'','')\n",
    "#     # Replace http with a space\n",
    "#     text=text.replace('http','')\n",
    "    \n",
    "#     tokens = nltk.word_tokenize(text)\n",
    "    \n",
    "#     cleaned_words=[w.lower() for w in tokens if w.isalnum()]\n",
    "#     #remove any words that are actually digits. \n",
    "#     no_integers = [x for x in cleaned_words if not (x.isdigit() or x[0] == '-' and x[1:].isdigit())]\n",
    "#     no_integers = ' '.join(no_integers)\n",
    "    \n",
    "#     return no_integers"
   ]
  },
  {
   "cell_type": "code",
   "execution_count": 10,
   "id": "6574316e",
   "metadata": {},
   "outputs": [],
   "source": [
    "def text_process_1(text):\n",
    "    #text=text.decode('utf-8')\n",
    "    \n",
    "    # Replace the xa0 with a space\n",
    "    text=text.replace('xa0',' ')\n",
    "    # Replace the \\xa0 with a space\n",
    "    text=text.replace('\\xa0',' ')\n",
    "    # Replace the \\n\\n with a space\n",
    "    text=text.replace('\\n\\n',' ')\n",
    "    # Replace the \\n with a space\n",
    "    text=text.replace('\\n',' ')\n",
    "    # Replace apostrophes with nothing\n",
    "    text=text.replace('\\'','')\n",
    "    # Replace http with a space\n",
    "    text=text.replace('http','')\n",
    "    \n",
    "    # Replace hyphens with a space\n",
    "    text=text.replace('-','')\n",
    "    \n",
    "    tokens = nltk.word_tokenize(text)\n",
    "    \n",
    "    cleaned_words=[w.lower() for w in tokens if w.isalnum()]\n",
    "    #remove any words that are actually digits. \n",
    "    no_integers = [x for x in cleaned_words if not (x.isdigit() or x[0] == '-' and x[1:].isdigit())]\n",
    "    \n",
    "    \n",
    "    # The code for removing stopwords\n",
    "    stoplist = stopwords.words('english') \n",
    "    stoplist = set(stoplist)\n",
    "    \n",
    "    No_StopWords = [word for word in no_integers if word.lower() not in stoplist ]\n",
    "    \n",
    "    No_StopWords = ' '.join(No_StopWords)\n",
    "    \n",
    "    return No_StopWords"
   ]
  },
  {
   "cell_type": "code",
   "execution_count": 11,
   "id": "57bf334a",
   "metadata": {
    "execution": {
     "iopub.execute_input": "2021-11-19T17:17:17.982856Z",
     "iopub.status.busy": "2021-11-19T17:17:17.976477Z",
     "iopub.status.idle": "2021-11-19T17:20:17.230609Z",
     "shell.execute_reply": "2021-11-19T17:20:17.231124Z",
     "shell.execute_reply.started": "2021-11-19T15:22:14.189644Z"
    },
    "papermill": {
     "duration": 179.317395,
     "end_time": "2021-11-19T17:20:17.231298",
     "exception": false,
     "start_time": "2021-11-19T17:17:17.913903",
     "status": "completed"
    },
    "tags": []
   },
   "outputs": [
    {
     "name": "stdout",
     "output_type": "stream",
     "text": [
      "Time elapsed: 88.626 seconds\n"
     ]
    }
   ],
   "source": [
    "import time\n",
    "t_start = time.time()\n",
    "\n",
    "df_train_wiki_tox['clean']=df_train_wiki_tox['comment_text'].apply(lambda x: text_process_1(x))\n",
    "\n",
    "\n",
    "t_stop = time.time()\n",
    "print('Time elapsed: {:.3f} seconds'.format(t_stop - t_start))"
   ]
  },
  {
   "cell_type": "code",
   "execution_count": 12,
   "id": "17bf4886",
   "metadata": {
    "execution": {
     "iopub.execute_input": "2021-11-19T17:20:17.333858Z",
     "iopub.status.busy": "2021-11-19T17:20:17.333189Z",
     "iopub.status.idle": "2021-11-19T17:21:59.856885Z",
     "shell.execute_reply": "2021-11-19T17:21:59.857434Z",
     "shell.execute_reply.started": "2021-11-19T15:25:11.883307Z"
    },
    "papermill": {
     "duration": 102.576615,
     "end_time": "2021-11-19T17:21:59.857636",
     "exception": false,
     "start_time": "2021-11-19T17:20:17.281021",
     "status": "completed"
    },
    "tags": []
   },
   "outputs": [
    {
     "name": "stdout",
     "output_type": "stream",
     "text": [
      "Time elapsed: 20.410 seconds\n"
     ]
    }
   ],
   "source": [
    "import time\n",
    "t_start = time.time()\n",
    "\n",
    "df_train_wiki_tox['wd_len']=df_train_wiki_tox['clean'].apply(lambda x: len(nltk.word_tokenize(x)))\n",
    "\n",
    "t_stop = time.time()\n",
    "print('Time elapsed: {:.3f} seconds'.format(t_stop - t_start))"
   ]
  },
  {
   "cell_type": "code",
   "execution_count": 13,
   "id": "62d78c30",
   "metadata": {
    "execution": {
     "iopub.execute_input": "2021-11-19T17:21:59.964413Z",
     "iopub.status.busy": "2021-11-19T17:21:59.963532Z",
     "iopub.status.idle": "2021-11-19T17:22:00.053117Z",
     "shell.execute_reply": "2021-11-19T17:22:00.052464Z",
     "shell.execute_reply.started": "2021-11-19T15:26:54.120051Z"
    },
    "papermill": {
     "duration": 0.146194,
     "end_time": "2021-11-19T17:22:00.053258",
     "exception": false,
     "start_time": "2021-11-19T17:21:59.907064",
     "status": "completed"
    },
    "tags": []
   },
   "outputs": [
    {
     "data": {
      "text/plain": [
       "0              0\n",
       "1              1\n",
       "2              2\n",
       "3              3\n",
       "4              8\n",
       "           ...  \n",
       "107396    159563\n",
       "107397    159564\n",
       "107398    159565\n",
       "107399    159566\n",
       "107400    159570\n",
       "Name: index, Length: 107401, dtype: int64"
      ]
     },
     "execution_count": 13,
     "metadata": {},
     "output_type": "execute_result"
    }
   ],
   "source": [
    "df_small = df_train_wiki_tox[(df_train_wiki_tox['wd_len']<300) & (df_train_wiki_tox['wd_len']>10)]\n",
    "df_small=df_small.reset_index()\n",
    "df_small.pop('index')"
   ]
  },
  {
   "cell_type": "code",
   "execution_count": 14,
   "id": "f81745a4",
   "metadata": {
    "execution": {
     "iopub.execute_input": "2021-11-19T17:22:00.166771Z",
     "iopub.status.busy": "2021-11-19T17:22:00.165875Z",
     "iopub.status.idle": "2021-11-19T17:22:00.168971Z",
     "shell.execute_reply": "2021-11-19T17:22:00.169440Z",
     "shell.execute_reply.started": "2021-11-19T15:26:54.21207Z"
    },
    "papermill": {
     "duration": 0.064891,
     "end_time": "2021-11-19T17:22:00.169624",
     "exception": false,
     "start_time": "2021-11-19T17:22:00.104733",
     "status": "completed"
    },
    "tags": []
   },
   "outputs": [
    {
     "data": {
      "text/plain": [
       "0    106720\n",
       "1       681\n",
       "Name: severe_toxic, dtype: int64"
      ]
     },
     "execution_count": 14,
     "metadata": {},
     "output_type": "execute_result"
    }
   ],
   "source": [
    "df_small['severe_toxic'].value_counts()"
   ]
  },
  {
   "cell_type": "code",
   "execution_count": 15,
   "id": "b4f9fe8a",
   "metadata": {
    "execution": {
     "iopub.execute_input": "2021-11-19T17:22:00.275956Z",
     "iopub.status.busy": "2021-11-19T17:22:00.275318Z",
     "iopub.status.idle": "2021-11-19T17:22:00.288439Z",
     "shell.execute_reply": "2021-11-19T17:22:00.287853Z",
     "shell.execute_reply.started": "2021-11-19T15:26:54.225505Z"
    },
    "papermill": {
     "duration": 0.068706,
     "end_time": "2021-11-19T17:22:00.288587",
     "exception": false,
     "start_time": "2021-11-19T17:22:00.219881",
     "status": "completed"
    },
    "tags": []
   },
   "outputs": [
    {
     "data": {
      "text/plain": [
       "0    106720\n",
       "1       681\n",
       "Name: new_severe_toxic, dtype: int64"
      ]
     },
     "execution_count": 15,
     "metadata": {},
     "output_type": "execute_result"
    }
   ],
   "source": [
    "from sklearn import preprocessing\n",
    "# instatiate sklearn's labelencoder\n",
    "le = preprocessing.LabelEncoder()\n",
    "\n",
    "# fit label encorder and return encoded integer labels for categorical string features\n",
    "df_small['new_severe_toxic'] = le.fit_transform(df_small['severe_toxic'].values)\n",
    "df_small['new_severe_toxic'].value_counts()\n",
    "#df_3.pop('Results')\n",
    "\n"
   ]
  },
  {
   "cell_type": "code",
   "execution_count": 16,
   "id": "69cdf917",
   "metadata": {
    "execution": {
     "iopub.execute_input": "2021-11-19T17:22:00.396760Z",
     "iopub.status.busy": "2021-11-19T17:22:00.395740Z",
     "iopub.status.idle": "2021-11-19T17:22:00.409127Z",
     "shell.execute_reply": "2021-11-19T17:22:00.409716Z",
     "shell.execute_reply.started": "2021-11-19T15:26:54.249916Z"
    },
    "papermill": {
     "duration": 0.069859,
     "end_time": "2021-11-19T17:22:00.409891",
     "exception": false,
     "start_time": "2021-11-19T17:22:00.340032",
     "status": "completed"
    },
    "tags": []
   },
   "outputs": [
    {
     "data": {
      "text/plain": [
       "0    99254\n",
       "1     8147\n",
       "Name: new_toxic, dtype: int64"
      ]
     },
     "execution_count": 16,
     "metadata": {},
     "output_type": "execute_result"
    }
   ],
   "source": [
    "# fit label encorder and return encoded integer labels for categorical string features\n",
    "df_small['new_toxic'] = le.fit_transform(df_small['toxic'].values)\n",
    "df_small['new_toxic'].value_counts()\n",
    "#df_3.pop('Results')"
   ]
  },
  {
   "cell_type": "code",
   "execution_count": 17,
   "id": "252e8b98",
   "metadata": {
    "execution": {
     "iopub.execute_input": "2021-11-19T17:22:00.520238Z",
     "iopub.status.busy": "2021-11-19T17:22:00.516343Z",
     "iopub.status.idle": "2021-11-19T17:22:00.523051Z",
     "shell.execute_reply": "2021-11-19T17:22:00.523598Z",
     "shell.execute_reply.started": "2021-11-19T15:59:45.963531Z"
    },
    "jupyter": {
     "outputs_hidden": true
    },
    "papermill": {
     "duration": 0.062387,
     "end_time": "2021-11-19T17:22:00.523767",
     "exception": false,
     "start_time": "2021-11-19T17:22:00.461380",
     "status": "completed"
    },
    "tags": []
   },
   "outputs": [
    {
     "data": {
      "text/plain": [
       "0     0\n",
       "1     0\n",
       "2     0\n",
       "3     0\n",
       "4     0\n",
       "     ..\n",
       "95    0\n",
       "96    0\n",
       "97    0\n",
       "98    0\n",
       "99    0\n",
       "Name: new_toxic, Length: 100, dtype: int64"
      ]
     },
     "execution_count": 17,
     "metadata": {},
     "output_type": "execute_result"
    }
   ],
   "source": [
    "df_small['new_toxic'].head(100)"
   ]
  },
  {
   "cell_type": "code",
   "execution_count": 18,
   "id": "b54cdffd",
   "metadata": {
    "execution": {
     "iopub.execute_input": "2021-11-19T17:22:00.631982Z",
     "iopub.status.busy": "2021-11-19T17:22:00.631308Z",
     "iopub.status.idle": "2021-11-19T17:22:00.874879Z",
     "shell.execute_reply": "2021-11-19T17:22:00.874331Z",
     "shell.execute_reply.started": "2021-11-19T15:26:54.265004Z"
    },
    "papermill": {
     "duration": 0.299656,
     "end_time": "2021-11-19T17:22:00.875030",
     "exception": false,
     "start_time": "2021-11-19T17:22:00.575374",
     "status": "completed"
    },
    "tags": []
   },
   "outputs": [],
   "source": [
    "import imblearn\n",
    "from imblearn.under_sampling import RandomUnderSampler\n",
    "# define undersample strategy\n",
    "undersample = RandomUnderSampler(sampling_strategy='majority')\n",
    "\n",
    "undersample_2 = RandomUnderSampler(sampling_strategy='majority')"
   ]
  },
  {
   "cell_type": "markdown",
   "id": "faab1619",
   "metadata": {
    "papermill": {
     "duration": 0.051631,
     "end_time": "2021-11-19T17:22:00.980045",
     "exception": false,
     "start_time": "2021-11-19T17:22:00.928414",
     "status": "completed"
    },
    "tags": []
   },
   "source": [
    "#### Toxic Comments Classification - Under Sample Majority Class "
   ]
  },
  {
   "cell_type": "code",
   "execution_count": 19,
   "id": "cb1a15f9",
   "metadata": {
    "execution": {
     "iopub.execute_input": "2021-11-19T17:22:01.091031Z",
     "iopub.status.busy": "2021-11-19T17:22:01.090338Z",
     "iopub.status.idle": "2021-11-19T17:22:01.147799Z",
     "shell.execute_reply": "2021-11-19T17:22:01.148702Z",
     "shell.execute_reply.started": "2021-11-19T15:26:54.504272Z"
    },
    "papermill": {
     "duration": 0.117258,
     "end_time": "2021-11-19T17:22:01.148923",
     "exception": false,
     "start_time": "2021-11-19T17:22:01.031665",
     "status": "completed"
    },
    "tags": []
   },
   "outputs": [],
   "source": [
    "#https://stackoverflow.com/questions/53723928/attributeerror-series-object-has-no-attribute-reshape\n",
    "X=df_small['clean']\n",
    "X=X.values.reshape(-1, 1)\n",
    "\n",
    "Y=df_small['new_toxic']\n",
    "Y=Y.values.reshape(-1, 1)\n",
    "\n",
    "X_under, y_under = undersample.fit_resample(X, Y)\n",
    "new_x=pd.DataFrame(X_under)[0]\n",
    "new_y=pd.DataFrame(y_under)[0]"
   ]
  },
  {
   "cell_type": "markdown",
   "id": "34ac286d",
   "metadata": {
    "papermill": {
     "duration": 0.051752,
     "end_time": "2021-11-19T17:22:01.253027",
     "exception": false,
     "start_time": "2021-11-19T17:22:01.201275",
     "status": "completed"
    },
    "tags": []
   },
   "source": [
    "#### Severely Toxic Comments Classification - Under Sample Majority Class "
   ]
  },
  {
   "cell_type": "code",
   "execution_count": 20,
   "id": "cafe1196",
   "metadata": {
    "execution": {
     "iopub.execute_input": "2021-11-19T17:22:01.361037Z",
     "iopub.status.busy": "2021-11-19T17:22:01.360110Z",
     "iopub.status.idle": "2021-11-19T17:22:01.418932Z",
     "shell.execute_reply": "2021-11-19T17:22:01.419501Z",
     "shell.execute_reply.started": "2021-11-19T15:26:54.566316Z"
    },
    "papermill": {
     "duration": 0.115077,
     "end_time": "2021-11-19T17:22:01.419680",
     "exception": false,
     "start_time": "2021-11-19T17:22:01.304603",
     "status": "completed"
    },
    "tags": []
   },
   "outputs": [],
   "source": [
    "X_2=df_small['clean']\n",
    "X_2=X_2.values.reshape(-1, 1)\n",
    "\n",
    "Y_2=df_small['new_severe_toxic']\n",
    "Y_2=Y_2.values.reshape(-1, 1)\n",
    "\n",
    "X_under_2, y_under_2 = undersample_2.fit_resample(X_2, Y_2)\n",
    "new_x_2=pd.DataFrame(X_under_2)[0]\n",
    "new_y_2=pd.DataFrame(y_under_2)[0]"
   ]
  },
  {
   "cell_type": "markdown",
   "id": "89dc6641",
   "metadata": {
    "papermill": {
     "duration": 0.051327,
     "end_time": "2021-11-19T17:22:01.522294",
     "exception": false,
     "start_time": "2021-11-19T17:22:01.470967",
     "status": "completed"
    },
    "tags": []
   },
   "source": [
    "### Load Pre-trained Glove and Word2Vec embeddings"
   ]
  },
  {
   "cell_type": "code",
   "execution_count": 21,
   "id": "a0e5730e",
   "metadata": {
    "execution": {
     "iopub.execute_input": "2021-11-19T17:22:01.629925Z",
     "iopub.status.busy": "2021-11-19T17:22:01.628970Z",
     "iopub.status.idle": "2021-11-19T17:22:01.931064Z",
     "shell.execute_reply": "2021-11-19T17:22:01.930475Z",
     "shell.execute_reply.started": "2021-11-19T15:26:54.63593Z"
    },
    "papermill": {
     "duration": 0.357426,
     "end_time": "2021-11-19T17:22:01.931227",
     "exception": false,
     "start_time": "2021-11-19T17:22:01.573801",
     "status": "completed"
    },
    "tags": []
   },
   "outputs": [
    {
     "name": "stderr",
     "output_type": "stream",
     "text": [
      "C:\\Users\\Rober\\anaconda3\\lib\\site-packages\\gensim\\similarities\\__init__.py:15: UserWarning: The gensim.similarities.levenshtein submodule is disabled, because the optional Levenshtein package <https://pypi.org/project/python-Levenshtein/> is unavailable. Install Levenhstein (e.g. `pip install python-Levenshtein`) to suppress this warning.\n",
      "  warnings.warn(msg)\n"
     ]
    }
   ],
   "source": [
    "import numpy as np # linear algebra\n",
    "import os, sys\n",
    "\n",
    "from gensim.models import Word2Vec, KeyedVectors\n",
    "from gensim.test.utils import datapath"
   ]
  },
  {
   "cell_type": "code",
   "execution_count": 22,
   "id": "cda3f8fd",
   "metadata": {
    "execution": {
     "iopub.execute_input": "2021-11-19T17:22:02.041835Z",
     "iopub.status.busy": "2021-11-19T17:22:02.041155Z",
     "iopub.status.idle": "2021-11-19T17:59:21.142174Z",
     "shell.execute_reply": "2021-11-19T17:59:21.142855Z",
     "shell.execute_reply.started": "2021-11-19T15:30:57.396256Z"
    },
    "papermill": {
     "duration": 2239.160343,
     "end_time": "2021-11-19T17:59:21.143454",
     "exception": false,
     "start_time": "2021-11-19T17:22:01.983111",
     "status": "completed"
    },
    "tags": []
   },
   "outputs": [
    {
     "name": "stdout",
     "output_type": "stream",
     "text": [
      "Time elapsed: 445.767 seconds\n"
     ]
    }
   ],
   "source": [
    "import time\n",
    "t_start = time.time()\n",
    "\n",
    "\n",
    "# Get path to file\n",
    "vector_size = 768\n",
    "#glove_file = '../input/glove-reddit-comments/GloVeReddit120B/GloVe.Reddit.120B.300D.txt'\n",
    "\n",
    "glove_file ='GloVe.Reddit.120B.768D.txt'\n",
    "\n",
    "# Load with gensim\n",
    "model = KeyedVectors.load_word2vec_format(glove_file)\n",
    "\n",
    "t_stop = time.time()\n",
    "print('Time elapsed: {:.3f} seconds'.format(t_stop - t_start))"
   ]
  },
  {
   "cell_type": "markdown",
   "id": "f1b69bcf",
   "metadata": {
    "papermill": {
     "duration": 0.053618,
     "end_time": "2021-11-19T17:59:21.250498",
     "exception": false,
     "start_time": "2021-11-19T17:59:21.196880",
     "status": "completed"
    },
    "tags": []
   },
   "source": [
    "### Create Sentence Vector for each comment by Averaging the Word Vectors"
   ]
  },
  {
   "cell_type": "code",
   "execution_count": 23,
   "id": "dbf9e770",
   "metadata": {
    "execution": {
     "iopub.execute_input": "2021-11-19T17:59:21.471656Z",
     "iopub.status.busy": "2021-11-19T17:59:21.470190Z",
     "iopub.status.idle": "2021-11-19T17:59:21.475394Z",
     "shell.execute_reply": "2021-11-19T17:59:21.474626Z",
     "shell.execute_reply.started": "2021-11-19T16:12:26.314967Z"
    },
    "papermill": {
     "duration": 0.172521,
     "end_time": "2021-11-19T17:59:21.475577",
     "exception": false,
     "start_time": "2021-11-19T17:59:21.303056",
     "status": "completed"
    },
    "tags": []
   },
   "outputs": [],
   "source": [
    "#average first 30 words in the sentence\n",
    "def sent_vectorizer_1(text):\n",
    "    n=len(text)\n",
    "    text_1=text[0:n]\n",
    "    vectors = [model[x] for x in text_1.split(' ') if x in model.key_to_index]\n",
    "    #sent_vector=sum(vectors)/len(vectors)\n",
    "    if len(vectors) != 0:\n",
    "        sent_vector=sum(vectors)/len(vectors)\n",
    "    elif len(text) !=0:\n",
    "        sent_vector=sum(vectors)/len(text)\n",
    "    else:\n",
    "        sent_vector=sum(vectors)/1\n",
    "    return sent_vector"
   ]
  },
  {
   "cell_type": "markdown",
   "id": "57bf8bd7",
   "metadata": {
    "papermill": {
     "duration": 0.052295,
     "end_time": "2021-11-19T17:59:21.686478",
     "exception": false,
     "start_time": "2021-11-19T17:59:21.634183",
     "status": "completed"
    },
    "tags": []
   },
   "source": [
    "### Regular Toxic - Binary Classification"
   ]
  },
  {
   "cell_type": "code",
   "execution_count": 24,
   "id": "8a4ca7cb",
   "metadata": {
    "execution": {
     "iopub.execute_input": "2021-11-19T17:59:21.803244Z",
     "iopub.status.busy": "2021-11-19T17:59:21.802220Z",
     "iopub.status.idle": "2021-11-19T17:59:27.328682Z",
     "shell.execute_reply": "2021-11-19T17:59:27.329335Z",
     "shell.execute_reply.started": "2021-11-19T15:49:29.50881Z"
    },
    "papermill": {
     "duration": 5.589804,
     "end_time": "2021-11-19T17:59:27.329572",
     "exception": false,
     "start_time": "2021-11-19T17:59:21.739768",
     "status": "completed"
    },
    "tags": []
   },
   "outputs": [
    {
     "name": "stdout",
     "output_type": "stream",
     "text": [
      "Time elapsed: 1.150 seconds\n"
     ]
    }
   ],
   "source": [
    "import time\n",
    "t_start = time.time()\n",
    "\n",
    "df_glove=pd.DataFrame(new_x)\n",
    "df_glove.columns=['text']\n",
    "df_glove['sent_vec_1']=df_glove['text'].apply(lambda x: sent_vectorizer_1(x))\n",
    "\n",
    "\n",
    "t_stop = time.time()\n",
    "print('Time elapsed: {:.3f} seconds'.format(t_stop - t_start))"
   ]
  },
  {
   "cell_type": "markdown",
   "id": "60b24ff3",
   "metadata": {
    "papermill": {
     "duration": 0.053423,
     "end_time": "2021-11-19T17:59:27.436100",
     "exception": false,
     "start_time": "2021-11-19T17:59:27.382677",
     "status": "completed"
    },
    "tags": []
   },
   "source": [
    "#### Creates Data Frame where 1 sentence is 1 Row, with 300 columns"
   ]
  },
  {
   "cell_type": "code",
   "execution_count": 25,
   "id": "dd38de2c",
   "metadata": {
    "execution": {
     "iopub.execute_input": "2021-11-19T17:59:27.545829Z",
     "iopub.status.busy": "2021-11-19T17:59:27.545135Z",
     "iopub.status.idle": "2021-11-19T18:04:42.266998Z",
     "shell.execute_reply": "2021-11-19T18:04:42.267579Z",
     "shell.execute_reply.started": "2021-11-19T15:49:38.575057Z"
    },
    "papermill": {
     "duration": 314.778833,
     "end_time": "2021-11-19T18:04:42.267808",
     "exception": false,
     "start_time": "2021-11-19T17:59:27.488975",
     "status": "completed"
    },
    "tags": []
   },
   "outputs": [
    {
     "name": "stdout",
     "output_type": "stream",
     "text": [
      "Time elapsed: 88.080 seconds\n"
     ]
    }
   ],
   "source": [
    "import time\n",
    "t_start = time.time()\n",
    "\n",
    "X_glove=df_glove['sent_vec_1']\n",
    "\n",
    "\n",
    "ddd=pd.DataFrame()\n",
    "\n",
    "\n",
    "for idx, row in enumerate(X_glove):\n",
    "    #print((roww))\n",
    "    #print(list(roww))\n",
    "    row_df=pd.Series(X_glove[idx]).to_frame()\n",
    "    row_df_2=row_df.T\n",
    "    ddd=pd.concat([ddd, row_df_2])\n",
    "    #row_df= pd.DataFrame(roww)\n",
    "#     row_df_2=row_df.T\n",
    "#     ddd=pd.concat([ddd, row_df_2])\n",
    "    \n",
    "t_stop = time.time()\n",
    "print('Time elapsed: {:.3f} seconds'.format(t_stop - t_start))"
   ]
  },
  {
   "cell_type": "code",
   "execution_count": 26,
   "id": "eb865ff6",
   "metadata": {
    "execution": {
     "iopub.execute_input": "2021-11-19T18:04:42.380829Z",
     "iopub.status.busy": "2021-11-19T18:04:42.380062Z",
     "iopub.status.idle": "2021-11-19T18:04:42.465995Z",
     "shell.execute_reply": "2021-11-19T18:04:42.465269Z",
     "shell.execute_reply.started": "2021-11-19T15:51:52.30754Z"
    },
    "papermill": {
     "duration": 0.145168,
     "end_time": "2021-11-19T18:04:42.466175",
     "exception": false,
     "start_time": "2021-11-19T18:04:42.321007",
     "status": "completed"
    },
    "tags": []
   },
   "outputs": [
    {
     "data": {
      "text/html": [
       "<div>\n",
       "<style scoped>\n",
       "    .dataframe tbody tr th:only-of-type {\n",
       "        vertical-align: middle;\n",
       "    }\n",
       "\n",
       "    .dataframe tbody tr th {\n",
       "        vertical-align: top;\n",
       "    }\n",
       "\n",
       "    .dataframe thead th {\n",
       "        text-align: right;\n",
       "    }\n",
       "</style>\n",
       "<table border=\"1\" class=\"dataframe\">\n",
       "  <thead>\n",
       "    <tr style=\"text-align: right;\">\n",
       "      <th></th>\n",
       "      <th>0</th>\n",
       "      <th>1</th>\n",
       "      <th>2</th>\n",
       "      <th>3</th>\n",
       "      <th>4</th>\n",
       "      <th>5</th>\n",
       "      <th>6</th>\n",
       "      <th>7</th>\n",
       "      <th>8</th>\n",
       "      <th>9</th>\n",
       "      <th>...</th>\n",
       "      <th>758</th>\n",
       "      <th>759</th>\n",
       "      <th>760</th>\n",
       "      <th>761</th>\n",
       "      <th>762</th>\n",
       "      <th>763</th>\n",
       "      <th>764</th>\n",
       "      <th>765</th>\n",
       "      <th>766</th>\n",
       "      <th>767</th>\n",
       "    </tr>\n",
       "  </thead>\n",
       "  <tbody>\n",
       "    <tr>\n",
       "      <th>0</th>\n",
       "      <td>0.150449</td>\n",
       "      <td>0.039195</td>\n",
       "      <td>0.217054</td>\n",
       "      <td>0.279627</td>\n",
       "      <td>-0.060578</td>\n",
       "      <td>0.075866</td>\n",
       "      <td>-0.122497</td>\n",
       "      <td>-0.217812</td>\n",
       "      <td>-0.290843</td>\n",
       "      <td>0.259899</td>\n",
       "      <td>...</td>\n",
       "      <td>-0.041726</td>\n",
       "      <td>-0.174994</td>\n",
       "      <td>0.078444</td>\n",
       "      <td>-0.180715</td>\n",
       "      <td>0.151938</td>\n",
       "      <td>0.128901</td>\n",
       "      <td>0.102382</td>\n",
       "      <td>0.126806</td>\n",
       "      <td>0.190689</td>\n",
       "      <td>-0.127247</td>\n",
       "    </tr>\n",
       "    <tr>\n",
       "      <th>1</th>\n",
       "      <td>0.177511</td>\n",
       "      <td>0.076015</td>\n",
       "      <td>-0.115545</td>\n",
       "      <td>0.296869</td>\n",
       "      <td>0.084744</td>\n",
       "      <td>0.032501</td>\n",
       "      <td>0.083706</td>\n",
       "      <td>-0.006453</td>\n",
       "      <td>-0.275132</td>\n",
       "      <td>0.009831</td>\n",
       "      <td>...</td>\n",
       "      <td>-0.053047</td>\n",
       "      <td>-0.092383</td>\n",
       "      <td>-0.260606</td>\n",
       "      <td>-0.087169</td>\n",
       "      <td>0.198804</td>\n",
       "      <td>-0.077196</td>\n",
       "      <td>0.042776</td>\n",
       "      <td>-0.015630</td>\n",
       "      <td>0.211297</td>\n",
       "      <td>-0.099189</td>\n",
       "    </tr>\n",
       "    <tr>\n",
       "      <th>2</th>\n",
       "      <td>0.136129</td>\n",
       "      <td>-0.018326</td>\n",
       "      <td>-0.101718</td>\n",
       "      <td>0.231469</td>\n",
       "      <td>-0.052109</td>\n",
       "      <td>-0.228011</td>\n",
       "      <td>0.115893</td>\n",
       "      <td>-0.047901</td>\n",
       "      <td>-0.226150</td>\n",
       "      <td>-0.180369</td>\n",
       "      <td>...</td>\n",
       "      <td>-0.192226</td>\n",
       "      <td>-0.187717</td>\n",
       "      <td>-0.048806</td>\n",
       "      <td>0.081171</td>\n",
       "      <td>0.140076</td>\n",
       "      <td>0.282457</td>\n",
       "      <td>0.047292</td>\n",
       "      <td>0.223718</td>\n",
       "      <td>0.070214</td>\n",
       "      <td>-0.065058</td>\n",
       "    </tr>\n",
       "    <tr>\n",
       "      <th>3</th>\n",
       "      <td>0.149248</td>\n",
       "      <td>0.071368</td>\n",
       "      <td>0.017297</td>\n",
       "      <td>0.148171</td>\n",
       "      <td>-0.105395</td>\n",
       "      <td>0.053862</td>\n",
       "      <td>-0.002806</td>\n",
       "      <td>-0.125314</td>\n",
       "      <td>-0.238079</td>\n",
       "      <td>0.058499</td>\n",
       "      <td>...</td>\n",
       "      <td>-0.006466</td>\n",
       "      <td>-0.002716</td>\n",
       "      <td>0.039916</td>\n",
       "      <td>0.001077</td>\n",
       "      <td>0.184773</td>\n",
       "      <td>0.081465</td>\n",
       "      <td>0.080853</td>\n",
       "      <td>0.027435</td>\n",
       "      <td>0.262244</td>\n",
       "      <td>-0.171656</td>\n",
       "    </tr>\n",
       "    <tr>\n",
       "      <th>4</th>\n",
       "      <td>0.225614</td>\n",
       "      <td>0.129013</td>\n",
       "      <td>0.059540</td>\n",
       "      <td>0.149714</td>\n",
       "      <td>-0.019081</td>\n",
       "      <td>-0.043952</td>\n",
       "      <td>-0.004758</td>\n",
       "      <td>-0.219399</td>\n",
       "      <td>-0.172956</td>\n",
       "      <td>0.179554</td>\n",
       "      <td>...</td>\n",
       "      <td>0.029743</td>\n",
       "      <td>-0.089416</td>\n",
       "      <td>0.037784</td>\n",
       "      <td>-0.068415</td>\n",
       "      <td>0.229507</td>\n",
       "      <td>0.120469</td>\n",
       "      <td>0.170570</td>\n",
       "      <td>0.114090</td>\n",
       "      <td>0.195828</td>\n",
       "      <td>-0.049569</td>\n",
       "    </tr>\n",
       "    <tr>\n",
       "      <th>...</th>\n",
       "      <td>...</td>\n",
       "      <td>...</td>\n",
       "      <td>...</td>\n",
       "      <td>...</td>\n",
       "      <td>...</td>\n",
       "      <td>...</td>\n",
       "      <td>...</td>\n",
       "      <td>...</td>\n",
       "      <td>...</td>\n",
       "      <td>...</td>\n",
       "      <td>...</td>\n",
       "      <td>...</td>\n",
       "      <td>...</td>\n",
       "      <td>...</td>\n",
       "      <td>...</td>\n",
       "      <td>...</td>\n",
       "      <td>...</td>\n",
       "      <td>...</td>\n",
       "      <td>...</td>\n",
       "      <td>...</td>\n",
       "      <td>...</td>\n",
       "    </tr>\n",
       "    <tr>\n",
       "      <th>16289</th>\n",
       "      <td>0.222313</td>\n",
       "      <td>0.125177</td>\n",
       "      <td>-0.017623</td>\n",
       "      <td>0.224588</td>\n",
       "      <td>-0.041245</td>\n",
       "      <td>-0.044494</td>\n",
       "      <td>0.018846</td>\n",
       "      <td>-0.144727</td>\n",
       "      <td>-0.237081</td>\n",
       "      <td>0.124551</td>\n",
       "      <td>...</td>\n",
       "      <td>-0.119990</td>\n",
       "      <td>-0.056234</td>\n",
       "      <td>-0.030608</td>\n",
       "      <td>-0.028492</td>\n",
       "      <td>0.231759</td>\n",
       "      <td>0.049664</td>\n",
       "      <td>0.128327</td>\n",
       "      <td>0.111401</td>\n",
       "      <td>0.241764</td>\n",
       "      <td>-0.011582</td>\n",
       "    </tr>\n",
       "    <tr>\n",
       "      <th>16290</th>\n",
       "      <td>0.130755</td>\n",
       "      <td>0.090545</td>\n",
       "      <td>0.158994</td>\n",
       "      <td>0.207686</td>\n",
       "      <td>-0.019074</td>\n",
       "      <td>0.065987</td>\n",
       "      <td>-0.051453</td>\n",
       "      <td>-0.118847</td>\n",
       "      <td>-0.173269</td>\n",
       "      <td>0.163921</td>\n",
       "      <td>...</td>\n",
       "      <td>0.032354</td>\n",
       "      <td>-0.165406</td>\n",
       "      <td>-0.111036</td>\n",
       "      <td>-0.023299</td>\n",
       "      <td>0.178606</td>\n",
       "      <td>0.033438</td>\n",
       "      <td>0.121684</td>\n",
       "      <td>0.114657</td>\n",
       "      <td>0.239404</td>\n",
       "      <td>-0.042934</td>\n",
       "    </tr>\n",
       "    <tr>\n",
       "      <th>16291</th>\n",
       "      <td>0.082251</td>\n",
       "      <td>0.107547</td>\n",
       "      <td>0.126249</td>\n",
       "      <td>0.168053</td>\n",
       "      <td>-0.091429</td>\n",
       "      <td>0.059742</td>\n",
       "      <td>-0.025249</td>\n",
       "      <td>-0.126547</td>\n",
       "      <td>-0.221915</td>\n",
       "      <td>0.118885</td>\n",
       "      <td>...</td>\n",
       "      <td>0.029252</td>\n",
       "      <td>0.032182</td>\n",
       "      <td>-0.013200</td>\n",
       "      <td>-0.019318</td>\n",
       "      <td>0.137865</td>\n",
       "      <td>-0.060624</td>\n",
       "      <td>0.194199</td>\n",
       "      <td>0.049120</td>\n",
       "      <td>0.262554</td>\n",
       "      <td>-0.124107</td>\n",
       "    </tr>\n",
       "    <tr>\n",
       "      <th>16292</th>\n",
       "      <td>0.171451</td>\n",
       "      <td>0.128683</td>\n",
       "      <td>0.118375</td>\n",
       "      <td>0.199124</td>\n",
       "      <td>-0.124022</td>\n",
       "      <td>0.029829</td>\n",
       "      <td>-0.031289</td>\n",
       "      <td>-0.157715</td>\n",
       "      <td>-0.222633</td>\n",
       "      <td>0.085195</td>\n",
       "      <td>...</td>\n",
       "      <td>-0.008568</td>\n",
       "      <td>-0.101331</td>\n",
       "      <td>-0.058802</td>\n",
       "      <td>-0.035572</td>\n",
       "      <td>0.097195</td>\n",
       "      <td>0.051232</td>\n",
       "      <td>0.084687</td>\n",
       "      <td>0.164583</td>\n",
       "      <td>0.240462</td>\n",
       "      <td>-0.034380</td>\n",
       "    </tr>\n",
       "    <tr>\n",
       "      <th>16293</th>\n",
       "      <td>0.207622</td>\n",
       "      <td>0.167148</td>\n",
       "      <td>0.116334</td>\n",
       "      <td>0.247628</td>\n",
       "      <td>-0.076871</td>\n",
       "      <td>0.013875</td>\n",
       "      <td>-0.037823</td>\n",
       "      <td>-0.169985</td>\n",
       "      <td>-0.192434</td>\n",
       "      <td>0.122533</td>\n",
       "      <td>...</td>\n",
       "      <td>-0.004315</td>\n",
       "      <td>-0.138639</td>\n",
       "      <td>-0.133757</td>\n",
       "      <td>0.046024</td>\n",
       "      <td>0.167611</td>\n",
       "      <td>0.120192</td>\n",
       "      <td>0.134900</td>\n",
       "      <td>0.077724</td>\n",
       "      <td>0.335894</td>\n",
       "      <td>-0.086369</td>\n",
       "    </tr>\n",
       "  </tbody>\n",
       "</table>\n",
       "<p>16294 rows × 768 columns</p>\n",
       "</div>"
      ],
      "text/plain": [
       "            0         1         2         3         4         5         6    \\\n",
       "0      0.150449  0.039195  0.217054  0.279627 -0.060578  0.075866 -0.122497   \n",
       "1      0.177511  0.076015 -0.115545  0.296869  0.084744  0.032501  0.083706   \n",
       "2      0.136129 -0.018326 -0.101718  0.231469 -0.052109 -0.228011  0.115893   \n",
       "3      0.149248  0.071368  0.017297  0.148171 -0.105395  0.053862 -0.002806   \n",
       "4      0.225614  0.129013  0.059540  0.149714 -0.019081 -0.043952 -0.004758   \n",
       "...         ...       ...       ...       ...       ...       ...       ...   \n",
       "16289  0.222313  0.125177 -0.017623  0.224588 -0.041245 -0.044494  0.018846   \n",
       "16290  0.130755  0.090545  0.158994  0.207686 -0.019074  0.065987 -0.051453   \n",
       "16291  0.082251  0.107547  0.126249  0.168053 -0.091429  0.059742 -0.025249   \n",
       "16292  0.171451  0.128683  0.118375  0.199124 -0.124022  0.029829 -0.031289   \n",
       "16293  0.207622  0.167148  0.116334  0.247628 -0.076871  0.013875 -0.037823   \n",
       "\n",
       "            7         8         9    ...       758       759       760  \\\n",
       "0     -0.217812 -0.290843  0.259899  ... -0.041726 -0.174994  0.078444   \n",
       "1     -0.006453 -0.275132  0.009831  ... -0.053047 -0.092383 -0.260606   \n",
       "2     -0.047901 -0.226150 -0.180369  ... -0.192226 -0.187717 -0.048806   \n",
       "3     -0.125314 -0.238079  0.058499  ... -0.006466 -0.002716  0.039916   \n",
       "4     -0.219399 -0.172956  0.179554  ...  0.029743 -0.089416  0.037784   \n",
       "...         ...       ...       ...  ...       ...       ...       ...   \n",
       "16289 -0.144727 -0.237081  0.124551  ... -0.119990 -0.056234 -0.030608   \n",
       "16290 -0.118847 -0.173269  0.163921  ...  0.032354 -0.165406 -0.111036   \n",
       "16291 -0.126547 -0.221915  0.118885  ...  0.029252  0.032182 -0.013200   \n",
       "16292 -0.157715 -0.222633  0.085195  ... -0.008568 -0.101331 -0.058802   \n",
       "16293 -0.169985 -0.192434  0.122533  ... -0.004315 -0.138639 -0.133757   \n",
       "\n",
       "            761       762       763       764       765       766       767  \n",
       "0     -0.180715  0.151938  0.128901  0.102382  0.126806  0.190689 -0.127247  \n",
       "1     -0.087169  0.198804 -0.077196  0.042776 -0.015630  0.211297 -0.099189  \n",
       "2      0.081171  0.140076  0.282457  0.047292  0.223718  0.070214 -0.065058  \n",
       "3      0.001077  0.184773  0.081465  0.080853  0.027435  0.262244 -0.171656  \n",
       "4     -0.068415  0.229507  0.120469  0.170570  0.114090  0.195828 -0.049569  \n",
       "...         ...       ...       ...       ...       ...       ...       ...  \n",
       "16289 -0.028492  0.231759  0.049664  0.128327  0.111401  0.241764 -0.011582  \n",
       "16290 -0.023299  0.178606  0.033438  0.121684  0.114657  0.239404 -0.042934  \n",
       "16291 -0.019318  0.137865 -0.060624  0.194199  0.049120  0.262554 -0.124107  \n",
       "16292 -0.035572  0.097195  0.051232  0.084687  0.164583  0.240462 -0.034380  \n",
       "16293  0.046024  0.167611  0.120192  0.134900  0.077724  0.335894 -0.086369  \n",
       "\n",
       "[16294 rows x 768 columns]"
      ]
     },
     "execution_count": 26,
     "metadata": {},
     "output_type": "execute_result"
    }
   ],
   "source": [
    "df_glove_avg=ddd.reset_index()\n",
    "df_glove_avg.pop('index')\n",
    "df_glove_avg"
   ]
  },
  {
   "cell_type": "markdown",
   "id": "dbc3136f",
   "metadata": {
    "papermill": {
     "duration": 0.055215,
     "end_time": "2021-11-19T18:04:42.575974",
     "exception": false,
     "start_time": "2021-11-19T18:04:42.520759",
     "status": "completed"
    },
    "tags": []
   },
   "source": [
    "### Severely Toxic - Binary Classification"
   ]
  },
  {
   "cell_type": "code",
   "execution_count": 27,
   "id": "1040b813",
   "metadata": {
    "execution": {
     "iopub.execute_input": "2021-11-19T18:04:42.695563Z",
     "iopub.status.busy": "2021-11-19T18:04:42.689310Z",
     "iopub.status.idle": "2021-11-19T18:04:43.087569Z",
     "shell.execute_reply": "2021-11-19T18:04:43.088211Z",
     "shell.execute_reply.started": "2021-11-19T15:51:52.375382Z"
    },
    "papermill": {
     "duration": 0.457752,
     "end_time": "2021-11-19T18:04:43.088402",
     "exception": false,
     "start_time": "2021-11-19T18:04:42.630650",
     "status": "completed"
    },
    "tags": []
   },
   "outputs": [
    {
     "name": "stdout",
     "output_type": "stream",
     "text": [
      "Time elapsed: 0.091 seconds\n"
     ]
    }
   ],
   "source": [
    "import time\n",
    "t_start = time.time()\n",
    "\n",
    "df_glove_2=pd.DataFrame(new_x_2)\n",
    "df_glove_2.columns=['text']\n",
    "df_glove_2['sent_vec_1']=df_glove_2['text'].apply(lambda x: sent_vectorizer_1(x))\n",
    "\n",
    "\n",
    "t_stop = time.time()\n",
    "print('Time elapsed: {:.3f} seconds'.format(t_stop - t_start))"
   ]
  },
  {
   "cell_type": "markdown",
   "id": "da72e408",
   "metadata": {},
   "source": [
    "#### Creates Data Frame where 1 sentence is 1 Row, with 300 columns"
   ]
  },
  {
   "cell_type": "code",
   "execution_count": 28,
   "id": "256a7f69",
   "metadata": {
    "execution": {
     "iopub.execute_input": "2021-11-19T18:04:43.199415Z",
     "iopub.status.busy": "2021-11-19T18:04:43.198454Z",
     "iopub.status.idle": "2021-11-19T18:04:45.648542Z",
     "shell.execute_reply": "2021-11-19T18:04:45.649156Z",
     "shell.execute_reply.started": "2021-11-19T15:51:52.767636Z"
    },
    "papermill": {
     "duration": 2.507146,
     "end_time": "2021-11-19T18:04:45.649336",
     "exception": false,
     "start_time": "2021-11-19T18:04:43.142190",
     "status": "completed"
    },
    "tags": []
   },
   "outputs": [
    {
     "name": "stdout",
     "output_type": "stream",
     "text": [
      "Time elapsed: 1.066 seconds\n"
     ]
    }
   ],
   "source": [
    "import time\n",
    "t_start = time.time()\n",
    "\n",
    "X_glove_2=df_glove_2['sent_vec_1']\n",
    "\n",
    "\n",
    "ddd_2=pd.DataFrame()\n",
    "\n",
    "\n",
    "for idx, row in enumerate(X_glove_2):\n",
    "    #print((roww))\n",
    "    #print(list(roww))\n",
    "    row_df=pd.Series(X_glove_2[idx]).to_frame()\n",
    "    row_df_2=row_df.T\n",
    "    ddd_2=pd.concat([ddd_2, row_df_2])\n",
    "    #row_df= pd.DataFrame(roww)\n",
    "#     row_df_2=row_df.T\n",
    "#     ddd=pd.concat([ddd, row_df_2])\n",
    "    \n",
    "t_stop = time.time()\n",
    "print('Time elapsed: {:.3f} seconds'.format(t_stop - t_start))"
   ]
  },
  {
   "cell_type": "code",
   "execution_count": 29,
   "id": "f8b410a1",
   "metadata": {
    "execution": {
     "iopub.execute_input": "2021-11-19T18:04:45.761611Z",
     "iopub.status.busy": "2021-11-19T18:04:45.760483Z",
     "iopub.status.idle": "2021-11-19T18:04:45.792617Z",
     "shell.execute_reply": "2021-11-19T18:04:45.793114Z",
     "shell.execute_reply.started": "2021-11-19T15:51:54.334566Z"
    },
    "papermill": {
     "duration": 0.090222,
     "end_time": "2021-11-19T18:04:45.793285",
     "exception": false,
     "start_time": "2021-11-19T18:04:45.703063",
     "status": "completed"
    },
    "tags": []
   },
   "outputs": [
    {
     "data": {
      "text/html": [
       "<div>\n",
       "<style scoped>\n",
       "    .dataframe tbody tr th:only-of-type {\n",
       "        vertical-align: middle;\n",
       "    }\n",
       "\n",
       "    .dataframe tbody tr th {\n",
       "        vertical-align: top;\n",
       "    }\n",
       "\n",
       "    .dataframe thead th {\n",
       "        text-align: right;\n",
       "    }\n",
       "</style>\n",
       "<table border=\"1\" class=\"dataframe\">\n",
       "  <thead>\n",
       "    <tr style=\"text-align: right;\">\n",
       "      <th></th>\n",
       "      <th>0</th>\n",
       "      <th>1</th>\n",
       "      <th>2</th>\n",
       "      <th>3</th>\n",
       "      <th>4</th>\n",
       "      <th>5</th>\n",
       "      <th>6</th>\n",
       "      <th>7</th>\n",
       "      <th>8</th>\n",
       "      <th>9</th>\n",
       "      <th>...</th>\n",
       "      <th>758</th>\n",
       "      <th>759</th>\n",
       "      <th>760</th>\n",
       "      <th>761</th>\n",
       "      <th>762</th>\n",
       "      <th>763</th>\n",
       "      <th>764</th>\n",
       "      <th>765</th>\n",
       "      <th>766</th>\n",
       "      <th>767</th>\n",
       "    </tr>\n",
       "  </thead>\n",
       "  <tbody>\n",
       "    <tr>\n",
       "      <th>0</th>\n",
       "      <td>0.209230</td>\n",
       "      <td>0.083656</td>\n",
       "      <td>0.014419</td>\n",
       "      <td>0.201991</td>\n",
       "      <td>0.013764</td>\n",
       "      <td>0.026845</td>\n",
       "      <td>0.053485</td>\n",
       "      <td>-0.099673</td>\n",
       "      <td>-0.341406</td>\n",
       "      <td>0.071512</td>\n",
       "      <td>...</td>\n",
       "      <td>-0.112096</td>\n",
       "      <td>-0.013292</td>\n",
       "      <td>0.082269</td>\n",
       "      <td>0.025719</td>\n",
       "      <td>0.184984</td>\n",
       "      <td>0.075724</td>\n",
       "      <td>0.128817</td>\n",
       "      <td>0.114002</td>\n",
       "      <td>0.252893</td>\n",
       "      <td>-0.063370</td>\n",
       "    </tr>\n",
       "    <tr>\n",
       "      <th>1</th>\n",
       "      <td>0.167550</td>\n",
       "      <td>0.044198</td>\n",
       "      <td>0.038076</td>\n",
       "      <td>0.282419</td>\n",
       "      <td>-0.003587</td>\n",
       "      <td>-0.037615</td>\n",
       "      <td>0.073055</td>\n",
       "      <td>-0.106673</td>\n",
       "      <td>-0.346591</td>\n",
       "      <td>0.254273</td>\n",
       "      <td>...</td>\n",
       "      <td>-0.116928</td>\n",
       "      <td>0.007549</td>\n",
       "      <td>0.032699</td>\n",
       "      <td>-0.000528</td>\n",
       "      <td>0.202233</td>\n",
       "      <td>0.157349</td>\n",
       "      <td>0.174553</td>\n",
       "      <td>0.058796</td>\n",
       "      <td>0.302061</td>\n",
       "      <td>-0.158290</td>\n",
       "    </tr>\n",
       "    <tr>\n",
       "      <th>2</th>\n",
       "      <td>0.210382</td>\n",
       "      <td>0.051982</td>\n",
       "      <td>-0.019164</td>\n",
       "      <td>0.179007</td>\n",
       "      <td>0.007138</td>\n",
       "      <td>-0.005997</td>\n",
       "      <td>-0.092426</td>\n",
       "      <td>-0.169206</td>\n",
       "      <td>-0.132040</td>\n",
       "      <td>0.115225</td>\n",
       "      <td>...</td>\n",
       "      <td>-0.055106</td>\n",
       "      <td>0.003742</td>\n",
       "      <td>-0.044262</td>\n",
       "      <td>0.049426</td>\n",
       "      <td>0.176456</td>\n",
       "      <td>0.149413</td>\n",
       "      <td>0.070331</td>\n",
       "      <td>0.204298</td>\n",
       "      <td>0.276991</td>\n",
       "      <td>-0.080631</td>\n",
       "    </tr>\n",
       "    <tr>\n",
       "      <th>3</th>\n",
       "      <td>0.172317</td>\n",
       "      <td>0.057394</td>\n",
       "      <td>0.064079</td>\n",
       "      <td>0.196268</td>\n",
       "      <td>-0.065748</td>\n",
       "      <td>0.013391</td>\n",
       "      <td>0.001122</td>\n",
       "      <td>-0.072375</td>\n",
       "      <td>-0.169737</td>\n",
       "      <td>0.204389</td>\n",
       "      <td>...</td>\n",
       "      <td>0.025372</td>\n",
       "      <td>-0.147188</td>\n",
       "      <td>-0.065268</td>\n",
       "      <td>0.021363</td>\n",
       "      <td>0.163301</td>\n",
       "      <td>0.037775</td>\n",
       "      <td>0.070777</td>\n",
       "      <td>0.046020</td>\n",
       "      <td>0.216694</td>\n",
       "      <td>-0.103365</td>\n",
       "    </tr>\n",
       "    <tr>\n",
       "      <th>4</th>\n",
       "      <td>0.128256</td>\n",
       "      <td>0.110132</td>\n",
       "      <td>-0.006932</td>\n",
       "      <td>0.236672</td>\n",
       "      <td>-0.106628</td>\n",
       "      <td>0.011126</td>\n",
       "      <td>0.031642</td>\n",
       "      <td>-0.221030</td>\n",
       "      <td>-0.190807</td>\n",
       "      <td>0.121702</td>\n",
       "      <td>...</td>\n",
       "      <td>-0.105641</td>\n",
       "      <td>-0.091352</td>\n",
       "      <td>-0.039772</td>\n",
       "      <td>-0.036510</td>\n",
       "      <td>0.130470</td>\n",
       "      <td>0.142802</td>\n",
       "      <td>0.127398</td>\n",
       "      <td>0.176201</td>\n",
       "      <td>0.303360</td>\n",
       "      <td>-0.056241</td>\n",
       "    </tr>\n",
       "    <tr>\n",
       "      <th>...</th>\n",
       "      <td>...</td>\n",
       "      <td>...</td>\n",
       "      <td>...</td>\n",
       "      <td>...</td>\n",
       "      <td>...</td>\n",
       "      <td>...</td>\n",
       "      <td>...</td>\n",
       "      <td>...</td>\n",
       "      <td>...</td>\n",
       "      <td>...</td>\n",
       "      <td>...</td>\n",
       "      <td>...</td>\n",
       "      <td>...</td>\n",
       "      <td>...</td>\n",
       "      <td>...</td>\n",
       "      <td>...</td>\n",
       "      <td>...</td>\n",
       "      <td>...</td>\n",
       "      <td>...</td>\n",
       "      <td>...</td>\n",
       "      <td>...</td>\n",
       "    </tr>\n",
       "    <tr>\n",
       "      <th>1357</th>\n",
       "      <td>-0.003706</td>\n",
       "      <td>0.237932</td>\n",
       "      <td>0.309510</td>\n",
       "      <td>0.227531</td>\n",
       "      <td>-0.009581</td>\n",
       "      <td>0.054167</td>\n",
       "      <td>0.256989</td>\n",
       "      <td>-0.197840</td>\n",
       "      <td>-0.104013</td>\n",
       "      <td>0.045874</td>\n",
       "      <td>...</td>\n",
       "      <td>-0.053569</td>\n",
       "      <td>0.073697</td>\n",
       "      <td>-0.177251</td>\n",
       "      <td>0.065328</td>\n",
       "      <td>0.176588</td>\n",
       "      <td>0.004605</td>\n",
       "      <td>-0.074845</td>\n",
       "      <td>0.112287</td>\n",
       "      <td>-0.040674</td>\n",
       "      <td>-0.046104</td>\n",
       "    </tr>\n",
       "    <tr>\n",
       "      <th>1358</th>\n",
       "      <td>0.112219</td>\n",
       "      <td>0.112444</td>\n",
       "      <td>0.180432</td>\n",
       "      <td>0.249159</td>\n",
       "      <td>-0.024048</td>\n",
       "      <td>-0.019270</td>\n",
       "      <td>-0.003116</td>\n",
       "      <td>-0.170094</td>\n",
       "      <td>-0.130765</td>\n",
       "      <td>0.154802</td>\n",
       "      <td>...</td>\n",
       "      <td>-0.039818</td>\n",
       "      <td>-0.223039</td>\n",
       "      <td>-0.076666</td>\n",
       "      <td>-0.048120</td>\n",
       "      <td>0.196917</td>\n",
       "      <td>0.172559</td>\n",
       "      <td>0.059670</td>\n",
       "      <td>0.140043</td>\n",
       "      <td>0.133146</td>\n",
       "      <td>0.002335</td>\n",
       "    </tr>\n",
       "    <tr>\n",
       "      <th>1359</th>\n",
       "      <td>0.204931</td>\n",
       "      <td>0.095676</td>\n",
       "      <td>0.055936</td>\n",
       "      <td>0.173122</td>\n",
       "      <td>-0.049751</td>\n",
       "      <td>-0.070538</td>\n",
       "      <td>0.059001</td>\n",
       "      <td>-0.043854</td>\n",
       "      <td>-0.141808</td>\n",
       "      <td>0.146746</td>\n",
       "      <td>...</td>\n",
       "      <td>0.085427</td>\n",
       "      <td>-0.167951</td>\n",
       "      <td>-0.019283</td>\n",
       "      <td>0.035985</td>\n",
       "      <td>0.090090</td>\n",
       "      <td>0.146211</td>\n",
       "      <td>0.114530</td>\n",
       "      <td>0.046973</td>\n",
       "      <td>0.025615</td>\n",
       "      <td>-0.120600</td>\n",
       "    </tr>\n",
       "    <tr>\n",
       "      <th>1360</th>\n",
       "      <td>0.109867</td>\n",
       "      <td>0.038349</td>\n",
       "      <td>0.076340</td>\n",
       "      <td>0.137527</td>\n",
       "      <td>-0.010804</td>\n",
       "      <td>0.017809</td>\n",
       "      <td>-0.052473</td>\n",
       "      <td>-0.159365</td>\n",
       "      <td>-0.184801</td>\n",
       "      <td>0.105189</td>\n",
       "      <td>...</td>\n",
       "      <td>-0.024210</td>\n",
       "      <td>-0.118305</td>\n",
       "      <td>0.138849</td>\n",
       "      <td>-0.042042</td>\n",
       "      <td>0.130996</td>\n",
       "      <td>0.100765</td>\n",
       "      <td>0.158601</td>\n",
       "      <td>0.042133</td>\n",
       "      <td>0.110801</td>\n",
       "      <td>-0.024406</td>\n",
       "    </tr>\n",
       "    <tr>\n",
       "      <th>1361</th>\n",
       "      <td>0.098808</td>\n",
       "      <td>0.091538</td>\n",
       "      <td>0.227684</td>\n",
       "      <td>0.183899</td>\n",
       "      <td>-0.026856</td>\n",
       "      <td>0.022808</td>\n",
       "      <td>-0.093891</td>\n",
       "      <td>-0.116565</td>\n",
       "      <td>-0.073418</td>\n",
       "      <td>0.106103</td>\n",
       "      <td>...</td>\n",
       "      <td>0.013091</td>\n",
       "      <td>-0.103864</td>\n",
       "      <td>-0.182847</td>\n",
       "      <td>-0.043942</td>\n",
       "      <td>0.095900</td>\n",
       "      <td>0.057422</td>\n",
       "      <td>0.058459</td>\n",
       "      <td>0.140810</td>\n",
       "      <td>0.142240</td>\n",
       "      <td>-0.020266</td>\n",
       "    </tr>\n",
       "  </tbody>\n",
       "</table>\n",
       "<p>1362 rows × 768 columns</p>\n",
       "</div>"
      ],
      "text/plain": [
       "           0         1         2         3         4         5         6    \\\n",
       "0     0.209230  0.083656  0.014419  0.201991  0.013764  0.026845  0.053485   \n",
       "1     0.167550  0.044198  0.038076  0.282419 -0.003587 -0.037615  0.073055   \n",
       "2     0.210382  0.051982 -0.019164  0.179007  0.007138 -0.005997 -0.092426   \n",
       "3     0.172317  0.057394  0.064079  0.196268 -0.065748  0.013391  0.001122   \n",
       "4     0.128256  0.110132 -0.006932  0.236672 -0.106628  0.011126  0.031642   \n",
       "...        ...       ...       ...       ...       ...       ...       ...   \n",
       "1357 -0.003706  0.237932  0.309510  0.227531 -0.009581  0.054167  0.256989   \n",
       "1358  0.112219  0.112444  0.180432  0.249159 -0.024048 -0.019270 -0.003116   \n",
       "1359  0.204931  0.095676  0.055936  0.173122 -0.049751 -0.070538  0.059001   \n",
       "1360  0.109867  0.038349  0.076340  0.137527 -0.010804  0.017809 -0.052473   \n",
       "1361  0.098808  0.091538  0.227684  0.183899 -0.026856  0.022808 -0.093891   \n",
       "\n",
       "           7         8         9    ...       758       759       760  \\\n",
       "0    -0.099673 -0.341406  0.071512  ... -0.112096 -0.013292  0.082269   \n",
       "1    -0.106673 -0.346591  0.254273  ... -0.116928  0.007549  0.032699   \n",
       "2    -0.169206 -0.132040  0.115225  ... -0.055106  0.003742 -0.044262   \n",
       "3    -0.072375 -0.169737  0.204389  ...  0.025372 -0.147188 -0.065268   \n",
       "4    -0.221030 -0.190807  0.121702  ... -0.105641 -0.091352 -0.039772   \n",
       "...        ...       ...       ...  ...       ...       ...       ...   \n",
       "1357 -0.197840 -0.104013  0.045874  ... -0.053569  0.073697 -0.177251   \n",
       "1358 -0.170094 -0.130765  0.154802  ... -0.039818 -0.223039 -0.076666   \n",
       "1359 -0.043854 -0.141808  0.146746  ...  0.085427 -0.167951 -0.019283   \n",
       "1360 -0.159365 -0.184801  0.105189  ... -0.024210 -0.118305  0.138849   \n",
       "1361 -0.116565 -0.073418  0.106103  ...  0.013091 -0.103864 -0.182847   \n",
       "\n",
       "           761       762       763       764       765       766       767  \n",
       "0     0.025719  0.184984  0.075724  0.128817  0.114002  0.252893 -0.063370  \n",
       "1    -0.000528  0.202233  0.157349  0.174553  0.058796  0.302061 -0.158290  \n",
       "2     0.049426  0.176456  0.149413  0.070331  0.204298  0.276991 -0.080631  \n",
       "3     0.021363  0.163301  0.037775  0.070777  0.046020  0.216694 -0.103365  \n",
       "4    -0.036510  0.130470  0.142802  0.127398  0.176201  0.303360 -0.056241  \n",
       "...        ...       ...       ...       ...       ...       ...       ...  \n",
       "1357  0.065328  0.176588  0.004605 -0.074845  0.112287 -0.040674 -0.046104  \n",
       "1358 -0.048120  0.196917  0.172559  0.059670  0.140043  0.133146  0.002335  \n",
       "1359  0.035985  0.090090  0.146211  0.114530  0.046973  0.025615 -0.120600  \n",
       "1360 -0.042042  0.130996  0.100765  0.158601  0.042133  0.110801 -0.024406  \n",
       "1361 -0.043942  0.095900  0.057422  0.058459  0.140810  0.142240 -0.020266  \n",
       "\n",
       "[1362 rows x 768 columns]"
      ]
     },
     "execution_count": 29,
     "metadata": {},
     "output_type": "execute_result"
    }
   ],
   "source": [
    "df_glove_avg_2=ddd_2.reset_index()\n",
    "df_glove_avg_2.pop('index')\n",
    "df_glove_avg_2"
   ]
  },
  {
   "cell_type": "markdown",
   "id": "08d11704",
   "metadata": {
    "papermill": {
     "duration": 0.055988,
     "end_time": "2021-11-19T18:04:45.904219",
     "exception": false,
     "start_time": "2021-11-19T18:04:45.848231",
     "status": "completed"
    },
    "tags": []
   },
   "source": [
    "#### import necessary tools and models "
   ]
  },
  {
   "cell_type": "code",
   "execution_count": 30,
   "id": "74fc9534",
   "metadata": {
    "execution": {
     "iopub.execute_input": "2021-11-19T18:04:46.018332Z",
     "iopub.status.busy": "2021-11-19T18:04:46.017398Z",
     "iopub.status.idle": "2021-11-19T18:04:46.030710Z",
     "shell.execute_reply": "2021-11-19T18:04:46.031357Z",
     "shell.execute_reply.started": "2021-11-19T15:51:54.385326Z"
    },
    "papermill": {
     "duration": 0.072322,
     "end_time": "2021-11-19T18:04:46.031546",
     "exception": false,
     "start_time": "2021-11-19T18:04:45.959224",
     "status": "completed"
    },
    "tags": []
   },
   "outputs": [],
   "source": [
    "# import necessary tools and models \n",
    "import seaborn as sns\n",
    "import matplotlib.pyplot as plt \n",
    "\n",
    "import sklearn.model_selection as cv\n",
    "from sklearn.model_selection import cross_val_score\n",
    "import numpy as np\n",
    "\n",
    "from sklearn.metrics import classification_report, confusion_matrix, roc_auc_score\n",
    "\n",
    "from sklearn.naive_bayes import MultinomialNB\n",
    "from sklearn.linear_model import LogisticRegression\n",
    "from sklearn.ensemble import RandomForestClassifier\n",
    "from sklearn.svm import LinearSVC"
   ]
  },
  {
   "cell_type": "markdown",
   "id": "e51c62e2",
   "metadata": {
    "papermill": {
     "duration": 0.054653,
     "end_time": "2021-11-19T18:04:46.141511",
     "exception": false,
     "start_time": "2021-11-19T18:04:46.086858",
     "status": "completed"
    },
    "tags": []
   },
   "source": [
    "#### Glove Reddit 768 - separate train - test data"
   ]
  },
  {
   "cell_type": "code",
   "execution_count": 31,
   "id": "cb79aff9",
   "metadata": {
    "execution": {
     "iopub.execute_input": "2021-11-19T18:04:46.255392Z",
     "iopub.status.busy": "2021-11-19T18:04:46.254390Z",
     "iopub.status.idle": "2021-11-19T18:04:46.337480Z",
     "shell.execute_reply": "2021-11-19T18:04:46.336898Z",
     "shell.execute_reply.started": "2021-11-19T16:01:27.295103Z"
    },
    "papermill": {
     "duration": 0.141125,
     "end_time": "2021-11-19T18:04:46.337636",
     "exception": false,
     "start_time": "2021-11-19T18:04:46.196511",
     "status": "completed"
    },
    "tags": []
   },
   "outputs": [],
   "source": [
    "# Regular Toxic - separate train - test data \n",
    "X_train_g200, X_test_g200, y_train_g200, y_test_g200 = cv.train_test_split(df_glove_avg, new_y,test_size=0.33)\n",
    "\n",
    "# Severely Toxic - separate train - test data \n",
    "X_train_g200_2, X_test_g200_2, y_train_g200_2, y_test_g200_2 = cv.train_test_split(df_glove_avg_2, new_y_2,test_size=0.33)"
   ]
  },
  {
   "cell_type": "code",
   "execution_count": 32,
   "id": "d49acd99",
   "metadata": {},
   "outputs": [
    {
     "data": {
      "text/plain": [
       "0    8147\n",
       "1    8147\n",
       "Name: 0, dtype: int64"
      ]
     },
     "execution_count": 32,
     "metadata": {},
     "output_type": "execute_result"
    }
   ],
   "source": [
    "pd.DataFrame(new_y)[0].value_counts()"
   ]
  },
  {
   "cell_type": "markdown",
   "id": "14f54bcf",
   "metadata": {
    "papermill": {
     "duration": 0.055784,
     "end_time": "2021-11-19T18:04:46.448596",
     "exception": false,
     "start_time": "2021-11-19T18:04:46.392812",
     "status": "completed"
    },
    "tags": []
   },
   "source": [
    "# Build Deep Learning Models"
   ]
  },
  {
   "cell_type": "code",
   "execution_count": 33,
   "id": "7c572ca2",
   "metadata": {
    "execution": {
     "iopub.execute_input": "2021-11-19T18:04:46.563944Z",
     "iopub.status.busy": "2021-11-19T18:04:46.562965Z",
     "iopub.status.idle": "2021-11-19T18:04:47.807097Z",
     "shell.execute_reply": "2021-11-19T18:04:47.806358Z",
     "shell.execute_reply.started": "2021-11-19T16:01:30.156672Z"
    },
    "papermill": {
     "duration": 1.302228,
     "end_time": "2021-11-19T18:04:47.807286",
     "exception": false,
     "start_time": "2021-11-19T18:04:46.505058",
     "status": "completed"
    },
    "tags": []
   },
   "outputs": [],
   "source": [
    "import time\n",
    "import numpy as np\n",
    "import pandas as pd\n",
    "import matplotlib.pyplot as plt\n",
    "import matplotlib.cm as cm\n",
    "%matplotlib inline\n",
    "\n",
    "import keras\n",
    "import tensorflow\n",
    "\n",
    "import tensorflow.keras\n",
    "from tensorflow.keras.constraints import MaxNorm\n",
    "from tensorflow.keras.models import Sequential\n",
    "from tensorflow.keras.optimizers import SGD\n",
    "from keras.utils import np_utils\n",
    "from tensorflow.keras.preprocessing.image import ImageDataGenerator\n",
    "from tensorflow.keras.layers import Dense, Activation, Flatten, Dropout, BatchNormalization\n",
    "from tensorflow.keras.layers import Conv2D, MaxPooling2D\n",
    "from tensorflow.keras.datasets import cifar10\n",
    "from tensorflow.keras import regularizers\n",
    "from tensorflow.keras.callbacks import LearningRateScheduler\n",
    "from tensorflow.keras.callbacks import EarlyStopping, ModelCheckpoint, TensorBoard\n",
    "import numpy as np\n",
    "\n",
    "\n",
    "\n",
    "\n",
    "import keras.utils\n",
    "from keras import utils as np_utils\n",
    "\n",
    "from keras.utils import np_utils"
   ]
  },
  {
   "cell_type": "markdown",
   "id": "30b17a70",
   "metadata": {
    "papermill": {
     "duration": 0.055475,
     "end_time": "2021-11-19T18:04:47.918835",
     "exception": false,
     "start_time": "2021-11-19T18:04:47.863360",
     "status": "completed"
    },
    "tags": []
   },
   "source": [
    "#### Compile and Train Model for Regular Toxicity "
   ]
  },
  {
   "cell_type": "code",
   "execution_count": 34,
   "id": "ba8e2a71",
   "metadata": {
    "execution": {
     "iopub.execute_input": "2021-11-19T18:04:48.037450Z",
     "iopub.status.busy": "2021-11-19T18:04:48.036709Z",
     "iopub.status.idle": "2021-11-19T18:04:48.039742Z",
     "shell.execute_reply": "2021-11-19T18:04:48.039188Z",
     "shell.execute_reply.started": "2021-11-19T16:01:32.458363Z"
    },
    "papermill": {
     "duration": 0.064852,
     "end_time": "2021-11-19T18:04:48.039897",
     "exception": false,
     "start_time": "2021-11-19T18:04:47.975045",
     "status": "completed"
    },
    "tags": []
   },
   "outputs": [],
   "source": [
    "# Fit model\n",
    "epochs = 150\n",
    "batch_size=32\n",
    "#early_stopping_monitor = EarlyStopping(patience=300)"
   ]
  },
  {
   "cell_type": "code",
   "execution_count": 35,
   "id": "3e823391",
   "metadata": {
    "execution": {
     "iopub.execute_input": "2021-11-19T18:04:48.161543Z",
     "iopub.status.busy": "2021-11-19T18:04:48.160489Z",
     "iopub.status.idle": "2021-11-19T18:04:48.397730Z",
     "shell.execute_reply": "2021-11-19T18:04:48.396540Z",
     "shell.execute_reply.started": "2021-11-19T16:01:36.194948Z"
    },
    "papermill": {
     "duration": 0.301788,
     "end_time": "2021-11-19T18:04:48.397911",
     "exception": false,
     "start_time": "2021-11-19T18:04:48.096123",
     "status": "completed"
    },
    "scrolled": true,
    "tags": []
   },
   "outputs": [],
   "source": [
    "#get number of columns in training data\n",
    "n_cols = X_train_g200.shape[1]\n",
    "#n_cols = X_train_tfidf.shape[1]\n",
    "\n",
    "DL_model = keras.models.Sequential([\n",
    "    keras.layers.Dense(512, activation=\"relu\",input_shape=(n_cols,)),\n",
    "    keras.layers.Dropout(0.2),\n",
    "    keras.layers.Dense(256, activation=\"relu\",input_shape=(n_cols,)),\n",
    "    keras.layers.Dropout(0.3),\n",
    "    keras.layers.Dense(128, activation=\"relu\",input_shape=(n_cols,)),\n",
    "    keras.layers.Dropout(0.4),\n",
    "    keras.layers.Dense(64, activation=\"relu\"),\n",
    "    keras.layers.Dropout(0.5),\n",
    "    keras.layers.Dense(1, activation=\"sigmoid\")\n",
    "    ])"
   ]
  },
  {
   "cell_type": "code",
   "execution_count": 36,
   "id": "ca91252a",
   "metadata": {
    "execution": {
     "iopub.execute_input": "2021-11-19T18:04:48.516577Z",
     "iopub.status.busy": "2021-11-19T18:04:48.515895Z",
     "iopub.status.idle": "2021-11-19T18:04:48.537278Z",
     "shell.execute_reply": "2021-11-19T18:04:48.537857Z",
     "shell.execute_reply.started": "2021-11-19T16:01:42.705005Z"
    },
    "papermill": {
     "duration": 0.081778,
     "end_time": "2021-11-19T18:04:48.538044",
     "exception": false,
     "start_time": "2021-11-19T18:04:48.456266",
     "status": "completed"
    },
    "tags": []
   },
   "outputs": [
    {
     "name": "stdout",
     "output_type": "stream",
     "text": [
      "Model: \"sequential\"\n",
      "_________________________________________________________________\n",
      "Layer (type)                 Output Shape              Param #   \n",
      "=================================================================\n",
      "dense (Dense)                (None, 512)               393728    \n",
      "_________________________________________________________________\n",
      "dropout (Dropout)            (None, 512)               0         \n",
      "_________________________________________________________________\n",
      "dense_1 (Dense)              (None, 256)               131328    \n",
      "_________________________________________________________________\n",
      "dropout_1 (Dropout)          (None, 256)               0         \n",
      "_________________________________________________________________\n",
      "dense_2 (Dense)              (None, 128)               32896     \n",
      "_________________________________________________________________\n",
      "dropout_2 (Dropout)          (None, 128)               0         \n",
      "_________________________________________________________________\n",
      "dense_3 (Dense)              (None, 64)                8256      \n",
      "_________________________________________________________________\n",
      "dropout_3 (Dropout)          (None, 64)                0         \n",
      "_________________________________________________________________\n",
      "dense_4 (Dense)              (None, 1)                 65        \n",
      "=================================================================\n",
      "Total params: 566,273\n",
      "Trainable params: 566,273\n",
      "Non-trainable params: 0\n",
      "_________________________________________________________________\n"
     ]
    }
   ],
   "source": [
    "DL_model.compile(loss=keras.losses.binary_crossentropy,\n",
    "              optimizer=tensorflow.keras.optimizers.Adam(),\n",
    "              metrics=['accuracy'])\n",
    "DL_model.summary()"
   ]
  },
  {
   "cell_type": "code",
   "execution_count": 37,
   "id": "8505299f",
   "metadata": {
    "execution": {
     "iopub.execute_input": "2021-11-19T18:04:48.661675Z",
     "iopub.status.busy": "2021-11-19T18:04:48.656571Z",
     "iopub.status.idle": "2021-11-19T18:04:48.673345Z",
     "shell.execute_reply": "2021-11-19T18:04:48.673888Z",
     "shell.execute_reply.started": "2021-11-19T16:01:45.396036Z"
    },
    "papermill": {
     "duration": 0.077842,
     "end_time": "2021-11-19T18:04:48.674117",
     "exception": false,
     "start_time": "2021-11-19T18:04:48.596275",
     "status": "completed"
    },
    "tags": []
   },
   "outputs": [],
   "source": [
    "my_callbacks = [\n",
    "    EarlyStopping(patience=5),\n",
    "    ModelCheckpoint(filepath='model.{epoch:02d}-{val_loss:.4f}.h5'),\n",
    "    TensorBoard(log_dir='logs'),\n",
    "]"
   ]
  },
  {
   "cell_type": "code",
   "execution_count": 38,
   "id": "348b606f",
   "metadata": {
    "execution": {
     "iopub.execute_input": "2021-11-19T18:04:48.793050Z",
     "iopub.status.busy": "2021-11-19T18:04:48.792035Z",
     "iopub.status.idle": "2021-11-19T18:06:19.753725Z",
     "shell.execute_reply": "2021-11-19T18:06:19.753000Z",
     "shell.execute_reply.started": "2021-11-19T16:01:48.571323Z"
    },
    "jupyter": {
     "outputs_hidden": true
    },
    "papermill": {
     "duration": 91.022274,
     "end_time": "2021-11-19T18:06:19.753897",
     "exception": false,
     "start_time": "2021-11-19T18:04:48.731623",
     "status": "completed"
    },
    "tags": []
   },
   "outputs": [
    {
     "name": "stdout",
     "output_type": "stream",
     "text": [
      "Epoch 1/150\n",
      "273/273 [==============================] - 2s 6ms/step - loss: 0.3923 - accuracy: 0.8234 - val_loss: nan - val_accuracy: 0.8695\n",
      "Epoch 2/150\n",
      "273/273 [==============================] - 1s 5ms/step - loss: 0.3049 - accuracy: 0.8778 - val_loss: nan - val_accuracy: 0.8599\n",
      "Epoch 3/150\n",
      "273/273 [==============================] - 1s 5ms/step - loss: 0.2809 - accuracy: 0.8824 - val_loss: nan - val_accuracy: 0.8787\n",
      "Epoch 4/150\n",
      "273/273 [==============================] - 1s 5ms/step - loss: 0.2834 - accuracy: 0.8839 - val_loss: nan - val_accuracy: 0.8782\n",
      "Epoch 5/150\n",
      "273/273 [==============================] - 1s 5ms/step - loss: 0.2618 - accuracy: 0.8944 - val_loss: nan - val_accuracy: 0.8796\n"
     ]
    }
   ],
   "source": [
    "#train model\n",
    "history = DL_model.fit(X_train_g200, y_train_g200, \n",
    "                    epochs=epochs, batch_size=batch_size, shuffle=True,\n",
    "                    validation_split=0.2, callbacks=my_callbacks)"
   ]
  },
  {
   "cell_type": "code",
   "execution_count": 39,
   "id": "68a12572",
   "metadata": {
    "execution": {
     "iopub.execute_input": "2021-11-19T18:06:20.837506Z",
     "iopub.status.busy": "2021-11-19T18:06:20.836462Z",
     "iopub.status.idle": "2021-11-19T18:07:13.004483Z",
     "shell.execute_reply": "2021-11-19T18:07:12.997601Z",
     "shell.execute_reply.started": "2021-11-19T16:04:13.389118Z"
    },
    "papermill": {
     "duration": 52.710588,
     "end_time": "2021-11-19T18:07:13.004649",
     "exception": false,
     "start_time": "2021-11-19T18:06:20.294061",
     "status": "completed"
    },
    "tags": []
   },
   "outputs": [
    {
     "name": "stdout",
     "output_type": "stream",
     "text": [
      "169/169 [==============================] - 0s 2ms/step - loss: nan - accuracy: 0.8881\n",
      "Test result: 88.806 loss: nan\n"
     ]
    }
   ],
   "source": [
    "#testing\n",
    "scores = DL_model.evaluate(X_test_g200, y_test_g200, batch_size=32, verbose=1)\n",
    "print('Test result: %.3f loss: %.3f' % (scores[1]*100,scores[0]))"
   ]
  },
  {
   "cell_type": "markdown",
   "id": "8ec41d27",
   "metadata": {
    "papermill": {
     "duration": 0.724377,
     "end_time": "2021-11-19T18:07:14.265589",
     "exception": false,
     "start_time": "2021-11-19T18:07:13.541212",
     "status": "completed"
    },
    "tags": []
   },
   "source": [
    "### Plot the loss curve"
   ]
  },
  {
   "cell_type": "code",
   "execution_count": 40,
   "id": "dbfb8c3d",
   "metadata": {
    "execution": {
     "iopub.execute_input": "2021-11-19T18:07:15.344756Z",
     "iopub.status.busy": "2021-11-19T18:07:15.343962Z",
     "iopub.status.idle": "2021-11-19T18:07:17.576870Z",
     "shell.execute_reply": "2021-11-19T18:07:17.576290Z",
     "shell.execute_reply.started": "2021-11-19T16:05:12.10577Z"
    },
    "papermill": {
     "duration": 2.777242,
     "end_time": "2021-11-19T18:07:17.577037",
     "exception": false,
     "start_time": "2021-11-19T18:07:14.799795",
     "status": "completed"
    },
    "tags": []
   },
   "outputs": [
    {
     "data": {
      "text/plain": [
       "<Figure size 432x288 with 0 Axes>"
      ]
     },
     "metadata": {},
     "output_type": "display_data"
    },
    {
     "data": {
      "image/png": "[encoded data removed]",
      "text/plain": [
       "<Figure size 432x288 with 1 Axes>"
      ]
     },
     "metadata": {
      "needs_background": "light"
     },
     "output_type": "display_data"
    },
    {
     "data": {
      "image/png": "[encoded data removed]",
      "text/plain": [
       "<Figure size 864x288 with 1 Axes>"
      ]
     },
     "metadata": {
      "needs_background": "light"
     },
     "output_type": "display_data"
    }
   ],
   "source": [
    "plt.figure(221)\n",
    "\n",
    "plt.figure(0)\n",
    "plt.plot(history.history['accuracy'],'r')\n",
    "plt.plot(history.history['val_accuracy'],'g')\n",
    "plt.xticks(np.arange(0, 101, 2.0))\n",
    "plt.rcParams['figure.figsize'] = (12, 4)\n",
    "plt.xlabel(\"Num of Epochs\")\n",
    "plt.ylabel(\"Accuracy\")\n",
    "plt.title(\"Training Accuracy vs Validation Accuracy\")\n",
    "plt.legend(['train','validation'])\n",
    " \n",
    " \n",
    "plt.figure(1)\n",
    "plt.plot(history.history['loss'],'r')\n",
    "plt.plot(history.history['val_loss'],'g')\n",
    "plt.xticks(np.arange(0, 101, 2.0))\n",
    "plt.rcParams['figure.figsize'] = (12, 4)\n",
    "plt.xlabel(\"Num of Epochs\")\n",
    "plt.ylabel(\"Loss\")\n",
    "plt.title(\"Training Loss vs Validation Loss\")\n",
    "plt.legend(['train','validation'])\n",
    " \n",
    "plt.show()"
   ]
  },
  {
   "cell_type": "markdown",
   "id": "403a178e",
   "metadata": {
    "papermill": {
     "duration": 0.541063,
     "end_time": "2021-11-19T18:07:18.663994",
     "exception": false,
     "start_time": "2021-11-19T18:07:18.122931",
     "status": "completed"
    },
    "tags": []
   },
   "source": [
    "### Compile and Train Model for Severe Toxicity "
   ]
  },
  {
   "cell_type": "code",
   "execution_count": 41,
   "id": "6d459dd7",
   "metadata": {
    "execution": {
     "iopub.execute_input": "2021-11-19T18:07:19.768231Z",
     "iopub.status.busy": "2021-11-19T18:07:19.767527Z",
     "iopub.status.idle": "2021-11-19T18:07:19.770007Z",
     "shell.execute_reply": "2021-11-19T18:07:19.770532Z",
     "shell.execute_reply.started": "2021-11-19T16:05:43.258174Z"
    },
    "papermill": {
     "duration": 0.571108,
     "end_time": "2021-11-19T18:07:19.770730",
     "exception": false,
     "start_time": "2021-11-19T18:07:19.199622",
     "status": "completed"
    },
    "tags": []
   },
   "outputs": [],
   "source": [
    "# Fit model\n",
    "epochs_2 = 200\n",
    "batch_size_2 =32\n",
    "#early_stopping_monitor_2 = EarlyStopping(patience=300)"
   ]
  },
  {
   "cell_type": "code",
   "execution_count": 42,
   "id": "20e3d4d3",
   "metadata": {
    "execution": {
     "iopub.execute_input": "2021-11-19T18:07:20.857233Z",
     "iopub.status.busy": "2021-11-19T18:07:20.856370Z",
     "iopub.status.idle": "2021-11-19T18:07:20.902980Z",
     "shell.execute_reply": "2021-11-19T18:07:20.902385Z",
     "shell.execute_reply.started": "2021-11-19T16:05:48.063976Z"
    },
    "papermill": {
     "duration": 0.595096,
     "end_time": "2021-11-19T18:07:20.903204",
     "exception": false,
     "start_time": "2021-11-19T18:07:20.308108",
     "status": "completed"
    },
    "tags": []
   },
   "outputs": [],
   "source": [
    "#get number of columns in training data\n",
    "n_cols_2 = X_train_g200_2.shape[1]\n",
    "#n_cols = X_train_tfidf.shape[1]\n",
    "\n",
    "DL_model_2 = keras.models.Sequential([\n",
    "#     keras.layers.Dense(256, activation=\"relu\",input_shape=(n_cols,)),\n",
    "#     keras.layers.Dropout(0.5),\n",
    "    keras.layers.Dense(128, activation=\"relu\",input_shape=(n_cols_2,)),\n",
    "    keras.layers.Dropout(0.5),\n",
    "    keras.layers.Dense(64, activation=\"relu\"),\n",
    "    keras.layers.Dropout(0.5),\n",
    "     keras.layers.Dense(10, activation=\"relu\"),\n",
    "    keras.layers.Dropout(0.5),\n",
    "    keras.layers.Dense(1, activation=\"sigmoid\")\n",
    "    ])"
   ]
  },
  {
   "cell_type": "code",
   "execution_count": 43,
   "id": "f11dbc31",
   "metadata": {
    "execution": {
     "iopub.execute_input": "2021-11-19T18:07:21.997173Z",
     "iopub.status.busy": "2021-11-19T18:07:21.996455Z",
     "iopub.status.idle": "2021-11-19T18:07:22.008957Z",
     "shell.execute_reply": "2021-11-19T18:07:22.008339Z",
     "shell.execute_reply.started": "2021-11-19T16:05:52.212545Z"
    },
    "papermill": {
     "duration": 0.559824,
     "end_time": "2021-11-19T18:07:22.009170",
     "exception": false,
     "start_time": "2021-11-19T18:07:21.449346",
     "status": "completed"
    },
    "tags": []
   },
   "outputs": [
    {
     "name": "stdout",
     "output_type": "stream",
     "text": [
      "Model: \"sequential_1\"\n",
      "_________________________________________________________________\n",
      "Layer (type)                 Output Shape              Param #   \n",
      "=================================================================\n",
      "dense_5 (Dense)              (None, 128)               98432     \n",
      "_________________________________________________________________\n",
      "dropout_4 (Dropout)          (None, 128)               0         \n",
      "_________________________________________________________________\n",
      "dense_6 (Dense)              (None, 64)                8256      \n",
      "_________________________________________________________________\n",
      "dropout_5 (Dropout)          (None, 64)                0         \n",
      "_________________________________________________________________\n",
      "dense_7 (Dense)              (None, 10)                650       \n",
      "_________________________________________________________________\n",
      "dropout_6 (Dropout)          (None, 10)                0         \n",
      "_________________________________________________________________\n",
      "dense_8 (Dense)              (None, 1)                 11        \n",
      "=================================================================\n",
      "Total params: 107,349\n",
      "Trainable params: 107,349\n",
      "Non-trainable params: 0\n",
      "_________________________________________________________________\n"
     ]
    }
   ],
   "source": [
    "DL_model_2.compile(loss=keras.losses.binary_crossentropy,\n",
    "              optimizer=tensorflow.keras.optimizers.Adam(),\n",
    "              metrics=['accuracy'])\n",
    "DL_model_2.summary()"
   ]
  },
  {
   "cell_type": "code",
   "execution_count": 44,
   "id": "be4aece1",
   "metadata": {
    "execution": {
     "iopub.execute_input": "2021-11-19T18:07:23.100754Z",
     "iopub.status.busy": "2021-11-19T18:07:23.099762Z",
     "iopub.status.idle": "2021-11-19T18:07:23.105106Z",
     "shell.execute_reply": "2021-11-19T18:07:23.104440Z",
     "shell.execute_reply.started": "2021-11-19T16:05:55.92161Z"
    },
    "papermill": {
     "duration": 0.55425,
     "end_time": "2021-11-19T18:07:23.105276",
     "exception": false,
     "start_time": "2021-11-19T18:07:22.551026",
     "status": "completed"
    },
    "tags": []
   },
   "outputs": [],
   "source": [
    "my_callbacks_2 = [\n",
    "    EarlyStopping(patience=5),\n",
    "    ModelCheckpoint(filepath='model.{epoch:02d}-{val_loss:.2f}.h5'),\n",
    "    TensorBoard(log_dir='logs'),\n",
    "]"
   ]
  },
  {
   "cell_type": "code",
   "execution_count": null,
   "id": "25909e1c",
   "metadata": {
    "execution": {
     "iopub.execute_input": "2021-11-19T18:07:24.199260Z",
     "iopub.status.busy": "2021-11-19T18:07:24.198546Z",
     "iopub.status.idle": "2021-11-19T18:07:51.872516Z",
     "shell.execute_reply": "2021-11-19T18:07:51.871137Z",
     "shell.execute_reply.started": "2021-11-19T16:06:02.163509Z"
    },
    "jupyter": {
     "outputs_hidden": true
    },
    "papermill": {
     "duration": 28.224465,
     "end_time": "2021-11-19T18:07:51.872692",
     "exception": false,
     "start_time": "2021-11-19T18:07:23.648227",
     "status": "completed"
    },
    "tags": []
   },
   "outputs": [
    {
     "name": "stdout",
     "output_type": "stream",
     "text": [
      "Epoch 1/200\n",
      "23/23 [==============================] - 1s 13ms/step - loss: 0.6587 - accuracy: 0.5940 - val_loss: 0.5033 - val_accuracy: 0.9290\n",
      "Epoch 2/200\n",
      "23/23 [==============================] - 0s 7ms/step - loss: 0.5696 - accuracy: 0.7106 - val_loss: 0.3981 - val_accuracy: 0.8962\n",
      "Epoch 3/200\n",
      "23/23 [==============================] - 0s 7ms/step - loss: 0.4499 - accuracy: 0.7874 - val_loss: 0.2376 - val_accuracy: 0.9235\n",
      "Epoch 4/200\n",
      "23/23 [==============================] - 0s 7ms/step - loss: 0.3681 - accuracy: 0.8326 - val_loss: 0.1912 - val_accuracy: 0.9344\n",
      "Epoch 5/200\n",
      "23/23 [==============================] - 0s 7ms/step - loss: 0.3207 - accuracy: 0.8587 - val_loss: 0.1684 - val_accuracy: 0.9399\n",
      "Epoch 6/200\n",
      "23/23 [==============================] - 0s 7ms/step - loss: 0.2953 - accuracy: 0.8752 - val_loss: 0.1765 - val_accuracy: 0.9290\n",
      "Epoch 7/200\n",
      "23/23 [==============================] - 0s 7ms/step - loss: 0.2989 - accuracy: 0.8820 - val_loss: 0.1476 - val_accuracy: 0.9399\n",
      "Epoch 8/200\n",
      "23/23 [==============================] - 0s 7ms/step - loss: 0.2568 - accuracy: 0.9026 - val_loss: 0.1428 - val_accuracy: 0.9399\n",
      "Epoch 9/200\n",
      "23/23 [==============================] - 0s 7ms/step - loss: 0.2280 - accuracy: 0.9355 - val_loss: 0.1347 - val_accuracy: 0.9454\n",
      "Epoch 10/200\n",
      "23/23 [==============================] - 0s 7ms/step - loss: 0.1970 - accuracy: 0.9396 - val_loss: 0.1280 - val_accuracy: 0.9399\n",
      "Epoch 11/200\n",
      "23/23 [==============================] - 0s 7ms/step - loss: 0.1756 - accuracy: 0.9438 - val_loss: 0.1299 - val_accuracy: 0.9344\n",
      "Epoch 12/200\n",
      "23/23 [==============================] - 0s 7ms/step - loss: 0.2022 - accuracy: 0.9451 - val_loss: 0.1294 - val_accuracy: 0.9399\n",
      "Epoch 13/200\n",
      " 1/23 [>.............................] - ETA: 0s - loss: 0.0983 - accuracy: 0.9688"
     ]
    }
   ],
   "source": [
    "#train model\n",
    "history_2 = DL_model_2.fit(X_train_g200_2, y_train_g200_2, \n",
    "                    epochs=epochs_2, batch_size=batch_size_2, shuffle=True,\n",
    "                    validation_split=0.2, callbacks=my_callbacks_2)"
   ]
  },
  {
   "cell_type": "code",
   "execution_count": null,
   "id": "18e12488",
   "metadata": {
    "execution": {
     "iopub.execute_input": "2021-11-19T18:07:53.298586Z",
     "iopub.status.busy": "2021-11-19T18:07:53.294541Z",
     "iopub.status.idle": "2021-11-19T18:07:53.531994Z",
     "shell.execute_reply": "2021-11-19T18:07:53.532490Z",
     "shell.execute_reply.started": "2021-11-19T16:06:30.380424Z"
    },
    "papermill": {
     "duration": 0.93723,
     "end_time": "2021-11-19T18:07:53.532669",
     "exception": false,
     "start_time": "2021-11-19T18:07:52.595439",
     "status": "completed"
    },
    "tags": []
   },
   "outputs": [],
   "source": [
    "#testing\n",
    "scores_2 = DL_model_2.evaluate(X_test_g200_2, y_test_g200_2, batch_size=32, verbose=1)\n",
    "print('Test result: %.3f loss: %.3f' % (scores_2[1]*100,scores_2[0]))"
   ]
  },
  {
   "cell_type": "code",
   "execution_count": null,
   "id": "0ecda129",
   "metadata": {
    "execution": {
     "iopub.execute_input": "2021-11-19T18:07:54.938212Z",
     "iopub.status.busy": "2021-11-19T18:07:54.937195Z",
     "iopub.status.idle": "2021-11-19T18:07:54.950525Z",
     "shell.execute_reply": "2021-11-19T18:07:54.951050Z",
     "shell.execute_reply.started": "2021-11-19T16:06:44.224459Z"
    },
    "papermill": {
     "duration": 0.721265,
     "end_time": "2021-11-19T18:07:54.951256",
     "exception": false,
     "start_time": "2021-11-19T18:07:54.229991",
     "status": "completed"
    },
    "tags": []
   },
   "outputs": [],
   "source": [
    "#save model to disk\n",
    "model_json = DL_model_2.to_json()\n",
    "with open('model_ann_severe_toxic.json', 'w') as json_file:\n",
    "    json_file.write(model_json)\n",
    "DL_model_2.save_weights('model_ann_severe_toxic.h5') "
   ]
  },
  {
   "cell_type": "code",
   "execution_count": null,
   "id": "7f603a0b",
   "metadata": {
    "execution": {
     "iopub.execute_input": "2021-11-19T18:07:56.354484Z",
     "iopub.status.busy": "2021-11-19T18:07:56.353748Z",
     "iopub.status.idle": "2021-11-19T18:07:57.606270Z",
     "shell.execute_reply": "2021-11-19T18:07:57.605704Z",
     "shell.execute_reply.started": "2021-11-19T16:06:44.244551Z"
    },
    "papermill": {
     "duration": 1.959476,
     "end_time": "2021-11-19T18:07:57.606434",
     "exception": false,
     "start_time": "2021-11-19T18:07:55.646958",
     "status": "completed"
    },
    "tags": []
   },
   "outputs": [],
   "source": [
    "plt.figure(221)\n",
    "\n",
    "plt.figure(0)\n",
    "plt.plot(history_2.history['accuracy'],'r')\n",
    "plt.plot(history_2.history['val_accuracy'],'g')\n",
    "plt.xticks(np.arange(0, 101, 2.0))\n",
    "plt.rcParams['figure.figsize'] = (12, 4)\n",
    "plt.xlabel(\"Num of Epochs\")\n",
    "plt.ylabel(\"Accuracy\")\n",
    "plt.title(\"Training Accuracy vs Validation Accuracy\")\n",
    "plt.legend(['train','validation'])\n",
    " \n",
    " \n",
    "plt.figure(1)\n",
    "plt.plot(history_2.history['loss'],'r')\n",
    "plt.plot(history_2.history['val_loss'],'g')\n",
    "plt.xticks(np.arange(0, 101, 2.0))\n",
    "plt.rcParams['figure.figsize'] = (12, 4)\n",
    "plt.xlabel(\"Num of Epochs\")\n",
    "plt.ylabel(\"Loss\")\n",
    "plt.title(\"Training Loss vs Validation Loss\")\n",
    "plt.legend(['train','validation'])\n",
    " \n",
    "plt.show()"
   ]
  },
  {
   "cell_type": "markdown",
   "id": "231c8e3e",
   "metadata": {
    "papermill": {
     "duration": 0.776198,
     "end_time": "2021-11-19T18:07:59.091908",
     "exception": false,
     "start_time": "2021-11-19T18:07:58.315710",
     "status": "completed"
    },
    "tags": []
   },
   "source": [
    "# Submission Data Set"
   ]
  },
  {
   "cell_type": "code",
   "execution_count": null,
   "id": "97a47316",
   "metadata": {
    "execution": {
     "iopub.execute_input": "2021-11-19T18:08:00.493901Z",
     "iopub.status.busy": "2021-11-19T18:08:00.493262Z",
     "iopub.status.idle": "2021-11-19T18:08:00.608618Z",
     "shell.execute_reply": "2021-11-19T18:08:00.607931Z",
     "shell.execute_reply.started": "2021-11-19T16:08:05.013474Z"
    },
    "papermill": {
     "duration": 0.818887,
     "end_time": "2021-11-19T18:08:00.608786",
     "exception": false,
     "start_time": "2021-11-19T18:07:59.789899",
     "status": "completed"
    },
    "tags": []
   },
   "outputs": [],
   "source": [
    "df_test = pd.read_csv('comments_to_score.csv',low_memory = False) "
   ]
  },
  {
   "cell_type": "code",
   "execution_count": null,
   "id": "96e108e7",
   "metadata": {
    "execution": {
     "iopub.execute_input": "2021-11-19T18:08:02.035889Z",
     "iopub.status.busy": "2021-11-19T18:08:02.019587Z",
     "iopub.status.idle": "2021-11-19T18:08:11.732481Z",
     "shell.execute_reply": "2021-11-19T18:08:11.731763Z",
     "shell.execute_reply.started": "2021-11-19T16:09:27.359937Z"
    },
    "papermill": {
     "duration": 10.422345,
     "end_time": "2021-11-19T18:08:11.732709",
     "exception": false,
     "start_time": "2021-11-19T18:08:01.310364",
     "status": "completed"
    },
    "tags": []
   },
   "outputs": [],
   "source": [
    "import time\n",
    "t_start = time.time()\n",
    "\n",
    "df_test['clean']=df_test['text'].apply(lambda x: text_process_1(x))\n",
    "\n",
    "\n",
    "t_stop = time.time()\n",
    "print('Time elapsed: {:.3f} seconds'.format(t_stop - t_start))"
   ]
  },
  {
   "cell_type": "code",
   "execution_count": null,
   "id": "4f4e5fba",
   "metadata": {
    "execution": {
     "iopub.execute_input": "2021-11-19T18:08:13.685718Z",
     "iopub.status.busy": "2021-11-19T18:08:13.685001Z",
     "iopub.status.idle": "2021-11-19T18:08:15.923555Z",
     "shell.execute_reply": "2021-11-19T18:08:15.924024Z",
     "shell.execute_reply.started": "2021-11-19T16:12:38.987871Z"
    },
    "papermill": {
     "duration": 3.172676,
     "end_time": "2021-11-19T18:08:15.924217",
     "exception": false,
     "start_time": "2021-11-19T18:08:12.751541",
     "status": "completed"
    },
    "tags": []
   },
   "outputs": [],
   "source": [
    "import time\n",
    "t_start = time.time()\n",
    "\n",
    "df_test['sent_vec_1']=df_test['clean'].apply(lambda x: sent_vectorizer_1(x))\n",
    "\n",
    "t_stop = time.time()\n",
    "print('Time elapsed: {:.3f} seconds'.format(t_stop - t_start))"
   ]
  },
  {
   "cell_type": "code",
   "execution_count": null,
   "id": "4ac69db7",
   "metadata": {
    "execution": {
     "iopub.execute_input": "2021-11-19T18:08:17.333163Z",
     "iopub.status.busy": "2021-11-19T18:08:17.332502Z",
     "iopub.status.idle": "2021-11-19T18:08:17.347411Z",
     "shell.execute_reply": "2021-11-19T18:08:17.346777Z",
     "shell.execute_reply.started": "2021-11-19T16:13:21.685132Z"
    },
    "papermill": {
     "duration": 0.725055,
     "end_time": "2021-11-19T18:08:17.347565",
     "exception": false,
     "start_time": "2021-11-19T18:08:16.622510",
     "status": "completed"
    },
    "tags": []
   },
   "outputs": [],
   "source": [
    "X_test=df_test['sent_vec_1']\n",
    "X_test"
   ]
  },
  {
   "cell_type": "code",
   "execution_count": null,
   "id": "2627b8f9",
   "metadata": {
    "execution": {
     "iopub.execute_input": "2021-11-19T18:08:18.768984Z",
     "iopub.status.busy": "2021-11-19T18:08:18.768361Z",
     "iopub.status.idle": "2021-11-19T18:08:43.826770Z",
     "shell.execute_reply": "2021-11-19T18:08:43.826206Z",
     "shell.execute_reply.started": "2021-11-19T16:13:26.342406Z"
    },
    "papermill": {
     "duration": 25.76889,
     "end_time": "2021-11-19T18:08:43.826924",
     "exception": false,
     "start_time": "2021-11-19T18:08:18.058034",
     "status": "completed"
    },
    "tags": []
   },
   "outputs": [],
   "source": [
    "import time\n",
    "t_start = time.time()\n",
    "\n",
    "df_test_fin=pd.DataFrame()\n",
    "\n",
    "\n",
    "for idx, row in enumerate(X_test):\n",
    "    #print((roww))\n",
    "    #print(list(roww))\n",
    "    row_df=pd.Series(X_test[idx]).to_frame()\n",
    "    row_df_2=row_df.T\n",
    "    df_test_fin=pd.concat([df_test_fin, row_df_2])\n",
    "    #row_df= pd.DataFrame(roww)\n",
    "#     row_df_2=row_df.T\n",
    "#     ddd=pd.concat([ddd, row_df_2])\n",
    "\n",
    "df_test_fin = df_test_fin.fillna(0)\n",
    "\n",
    "t_stop = time.time()\n",
    "print('Time elapsed: {:.3f} seconds'.format(t_stop - t_start))"
   ]
  },
  {
   "cell_type": "code",
   "execution_count": null,
   "id": "f860db7c",
   "metadata": {
    "execution": {
     "iopub.execute_input": "2021-11-19T18:08:45.242927Z",
     "iopub.status.busy": "2021-11-19T18:08:45.241980Z",
     "iopub.status.idle": "2021-11-19T18:08:45.248444Z",
     "shell.execute_reply": "2021-11-19T18:08:45.248977Z",
     "shell.execute_reply.started": "2021-11-19T16:13:53.981148Z"
    },
    "papermill": {
     "duration": 0.714991,
     "end_time": "2021-11-19T18:08:45.249161",
     "exception": false,
     "start_time": "2021-11-19T18:08:44.534170",
     "status": "completed"
    },
    "tags": []
   },
   "outputs": [],
   "source": [
    "test_ids=df_test['comment_id']\n",
    "test_ids"
   ]
  },
  {
   "cell_type": "markdown",
   "id": "6a8a9307",
   "metadata": {
    "papermill": {
     "duration": 0.707584,
     "end_time": "2021-11-19T18:08:46.658892",
     "exception": false,
     "start_time": "2021-11-19T18:08:45.951308",
     "status": "completed"
    },
    "tags": []
   },
   "source": [
    "#### Predict Severe Toxicity"
   ]
  },
  {
   "cell_type": "code",
   "execution_count": null,
   "id": "d6fb94a4",
   "metadata": {
    "execution": {
     "iopub.execute_input": "2021-11-19T18:08:48.148643Z",
     "iopub.status.busy": "2021-11-19T18:08:48.147862Z",
     "iopub.status.idle": "2021-11-19T18:08:48.739216Z",
     "shell.execute_reply": "2021-11-19T18:08:48.739675Z",
     "shell.execute_reply.started": "2021-11-19T16:15:59.886712Z"
    },
    "papermill": {
     "duration": 1.367318,
     "end_time": "2021-11-19T18:08:48.739851",
     "exception": false,
     "start_time": "2021-11-19T18:08:47.372533",
     "status": "completed"
    },
    "tags": []
   },
   "outputs": [],
   "source": [
    "Y_test_pred_Sev_tox=DL_model_2.predict(df_test_fin)\n",
    "Y_test_pred_Sev_tox_2=pd.DataFrame(Y_test_pred_Sev_tox)\n",
    "Y_test_pred_Sev_tox_2"
   ]
  },
  {
   "cell_type": "markdown",
   "id": "cb66ded4",
   "metadata": {
    "papermill": {
     "duration": 0.710505,
     "end_time": "2021-11-19T18:08:50.171933",
     "exception": false,
     "start_time": "2021-11-19T18:08:49.461428",
     "status": "completed"
    },
    "tags": []
   },
   "source": [
    "#### Predict Regular Toxicity"
   ]
  },
  {
   "cell_type": "code",
   "execution_count": null,
   "id": "4e2bd1a2",
   "metadata": {
    "execution": {
     "iopub.execute_input": "2021-11-19T18:08:51.639586Z",
     "iopub.status.busy": "2021-11-19T18:08:51.637680Z",
     "iopub.status.idle": "2021-11-19T18:08:52.162090Z",
     "shell.execute_reply": "2021-11-19T18:08:52.161440Z",
     "shell.execute_reply.started": "2021-11-19T16:16:35.305094Z"
    },
    "papermill": {
     "duration": 1.229487,
     "end_time": "2021-11-19T18:08:52.162241",
     "exception": false,
     "start_time": "2021-11-19T18:08:50.932754",
     "status": "completed"
    },
    "tags": []
   },
   "outputs": [],
   "source": [
    "Y_test_pred_reg_tox=DL_model.predict(df_test_fin)\n",
    "Y_test_pred_reg_tox_2=pd.DataFrame(Y_test_pred_reg_tox)\n",
    "Y_test_pred_reg_tox_2"
   ]
  },
  {
   "cell_type": "code",
   "execution_count": null,
   "id": "3c78babe",
   "metadata": {
    "execution": {
     "iopub.execute_input": "2021-11-19T18:08:53.583630Z",
     "iopub.status.busy": "2021-11-19T18:08:53.582928Z",
     "iopub.status.idle": "2021-11-19T18:08:53.598194Z",
     "shell.execute_reply": "2021-11-19T18:08:53.598803Z",
     "shell.execute_reply.started": "2021-11-19T16:18:12.003722Z"
    },
    "papermill": {
     "duration": 0.735267,
     "end_time": "2021-11-19T18:08:53.598993",
     "exception": false,
     "start_time": "2021-11-19T18:08:52.863726",
     "status": "completed"
    },
    "tags": []
   },
   "outputs": [],
   "source": [
    "df_merge=pd.concat([test_ids, Y_test_pred_reg_tox_2, Y_test_pred_Sev_tox_2], axis=1)\n",
    "df_merge.columns=[\"comment_id\",\"b\",\"d\"]\n",
    "\n",
    "df_merge['score']=df_merge['b']+df_merge['d']\n",
    "df_merge.pop('b')\n",
    "df_merge.pop('d')\n",
    "df_merge"
   ]
  },
  {
   "cell_type": "code",
   "execution_count": null,
   "id": "3cd1bdb9",
   "metadata": {
    "execution": {
     "iopub.execute_input": "2021-11-19T18:08:55.031436Z",
     "iopub.status.busy": "2021-11-19T18:08:55.030770Z",
     "iopub.status.idle": "2021-11-19T18:08:55.064647Z",
     "shell.execute_reply": "2021-11-19T18:08:55.063902Z",
     "shell.execute_reply.started": "2021-11-19T16:18:39.878373Z"
    },
    "papermill": {
     "duration": 0.749331,
     "end_time": "2021-11-19T18:08:55.064802",
     "exception": false,
     "start_time": "2021-11-19T18:08:54.315471",
     "status": "completed"
    },
    "tags": []
   },
   "outputs": [],
   "source": [
    "df_merge.to_csv('submission.csv', index=False)"
   ]
  },
  {
   "cell_type": "code",
   "execution_count": null,
   "id": "32572121",
   "metadata": {},
   "outputs": [],
   "source": []
  }
 ],
 "metadata": {
  "kernelspec": {
   "display_name": "Python 3",
   "language": "python",
   "name": "python3"
  },
  "language_info": {
   "codemirror_mode": {
    "name": "ipython",
    "version": 3
   },
   "file_extension": ".py",
   "mimetype": "text/x-python",
   "name": "python",
   "nbconvert_exporter": "python",
   "pygments_lexer": "ipython3",
   "version": "3.8.8"
  },
  "papermill": {
   "default_parameters": {},
   "duration": 3123.3868,
   "end_time": "2021-11-19T18:08:59.013575",
   "environment_variables": {},
   "exception": null,
   "input_path": "__notebook__.ipynb",
   "output_path": "__notebook__.ipynb",
   "parameters": {},
   "start_time": "2021-11-19T17:16:55.626775",
   "version": "2.3.3"
  }
 },
 "nbformat": 4,
 "nbformat_minor": 5
}
