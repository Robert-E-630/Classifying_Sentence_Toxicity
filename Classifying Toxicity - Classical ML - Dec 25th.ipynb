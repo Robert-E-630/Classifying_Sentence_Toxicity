{
 "cells": [
  {
   "cell_type": "markdown",
   "id": "d5c18476",
   "metadata": {},
   "source": [
    "# Sentence Classification - Toxic Comments - Classical ML"
   ]
  },
  {
   "cell_type": "code",
   "execution_count": 1,
   "id": "46049925",
   "metadata": {},
   "outputs": [
    {
     "name": "stderr",
     "output_type": "stream",
     "text": [
      "[nltk_data] Downloading package stopwords to\n",
      "[nltk_data]     C:\\Users\\Rober\\AppData\\Roaming\\nltk_data...\n",
      "[nltk_data]   Package stopwords is already up-to-date!\n",
      "[nltk_data] Downloading package wordnet to\n",
      "[nltk_data]     C:\\Users\\Rober\\AppData\\Roaming\\nltk_data...\n",
      "[nltk_data]   Package wordnet is already up-to-date!\n"
     ]
    },
    {
     "data": {
      "text/plain": [
       "True"
      ]
     },
     "execution_count": 1,
     "metadata": {},
     "output_type": "execute_result"
    }
   ],
   "source": [
    "%matplotlib inline\n",
    "\n",
    "import numpy as np\n",
    "import pandas as pd\n",
    "import seaborn as sns\n",
    "\n",
    "import re\n",
    "\n",
    "import string     # Imports the library\n",
    "import nltk        # Imports the natural language toolkit\n",
    "from nltk.corpus import stopwords\n",
    "\n",
    "nltk.download('stopwords')   # Download the stopwords dataset\n",
    "nltk.download('wordnet')"
   ]
  },
  {
   "cell_type": "code",
   "execution_count": 2,
   "id": "de063d26",
   "metadata": {},
   "outputs": [
    {
     "name": "stdout",
     "output_type": "stream",
     "text": [
      "Num GPUs Available:  1\n"
     ]
    }
   ],
   "source": [
    "import tensorflow as tf\n",
    "print(\"Num GPUs Available: \", len(tf.config.list_physical_devices('GPU')))\n",
    "#"
   ]
  },
  {
   "cell_type": "code",
   "execution_count": 3,
   "id": "1164753a",
   "metadata": {},
   "outputs": [],
   "source": [
    "import tensorflow as tf\n",
    "import tensorflow_datasets as tfds\n",
    "#tfds.list_builders()"
   ]
  },
  {
   "cell_type": "markdown",
   "id": "6649515e",
   "metadata": {},
   "source": [
    "### Load Text Data Sets"
   ]
  },
  {
   "cell_type": "markdown",
   "id": "0969b7d3",
   "metadata": {},
   "source": [
    "#### TensorFlow - Wikipedia Toxicity Subtypes"
   ]
  },
  {
   "cell_type": "code",
   "execution_count": 4,
   "id": "f42b48d3",
   "metadata": {},
   "outputs": [
    {
     "name": "stdout",
     "output_type": "stream",
     "text": [
      "Time elapsed: 18.820 seconds\n"
     ]
    }
   ],
   "source": [
    "import time\n",
    "t_start = time.time()\n",
    "\n",
    "dss, infoo = tfds.load('wikipedia_toxicity_subtypes', split='train', with_info=True)\n",
    "df_train_wiki_tox =tfds.as_dataframe(dss, infoo)\n",
    "\n",
    "t_stop = time.time()\n",
    "print('Time elapsed: {:.3f} seconds'.format(t_stop - t_start))"
   ]
  },
  {
   "cell_type": "markdown",
   "id": "7a61de84",
   "metadata": {},
   "source": [
    "#### TensorFlow DataSet - Civil Comments"
   ]
  },
  {
   "cell_type": "code",
   "execution_count": 5,
   "id": "496392a1",
   "metadata": {},
   "outputs": [],
   "source": [
    "# #https://www.tensorflow.org/datasets/overview\n",
    "# import time\n",
    "# t_start = time.time()\n",
    "\n",
    "# ds, info = tfds.load('civil_comments', split='train', with_info=True)\n",
    "# df_train_Civil_Comments =tfds.as_dataframe(ds, info)\n",
    "\n",
    "# t_stop = time.time()\n",
    "# print('Time elapsed: {:.3f} seconds'.format(t_stop - t_start))"
   ]
  },
  {
   "cell_type": "code",
   "execution_count": 6,
   "id": "af1cdcdf",
   "metadata": {},
   "outputs": [],
   "source": [
    "#df_train_Civil_Comments.describe()\n",
    "#df_train_Civil_Comments.head(66)"
   ]
  },
  {
   "cell_type": "markdown",
   "id": "38c0ffc4",
   "metadata": {},
   "source": [
    "#### TensorFlow DataSet - reddit"
   ]
  },
  {
   "cell_type": "code",
   "execution_count": 7,
   "id": "71293281",
   "metadata": {},
   "outputs": [],
   "source": [
    "#https://www.tensorflow.org/datasets/overview\n",
    "#reddit, reddit_disentanglement, reddit_tifu\n",
    "# import time\n",
    "# t_start = time.time()\n",
    "\n",
    "# dsss, infooo = tfds.load('reddit', split='train', with_info=True)\n",
    "# df_train_reddit =tfds.as_dataframe(dsss, infooo)\n",
    "\n",
    "# t_stop = time.time()\n",
    "# print('Time elapsed: {:.3f} seconds'.format(t_stop - t_start))"
   ]
  },
  {
   "cell_type": "markdown",
   "id": "bf45f594",
   "metadata": {},
   "source": [
    "### EDA and Comment Text Cleansing"
   ]
  },
  {
   "cell_type": "code",
   "execution_count": 8,
   "id": "08ffd2a1",
   "metadata": {},
   "outputs": [],
   "source": [
    "def text_process_1(text):\n",
    "    text=text.decode('utf-8')\n",
    "    \n",
    "    # Replace the xa0 with a space\n",
    "    text=text.replace('xa0',' ')\n",
    "    # Replace the \\xa0 with a space\n",
    "    text=text.replace('\\xa0',' ')\n",
    "    # Replace the \\n\\n with a space\n",
    "    text=text.replace('\\n\\n',' ')\n",
    "    # Replace the \\n with a space\n",
    "    text=text.replace('\\n',' ')\n",
    "    # Replace apostrophes with nothing\n",
    "    text=text.replace('\\'','')\n",
    "    # Replace http with a space\n",
    "    text=text.replace('http','')\n",
    "    \n",
    "    # Replace hyphens with a space\n",
    "    text=text.replace('-','')\n",
    "    \n",
    "    tokens = nltk.word_tokenize(text)\n",
    "    \n",
    "    cleaned_words=[w.lower() for w in tokens if w.isalnum()]\n",
    "    #remove any words that are actually digits. \n",
    "    no_integers = [x for x in cleaned_words if not (x.isdigit() or x[0] == '-' and x[1:].isdigit())]\n",
    "    \n",
    "    \n",
    "    # The code for removing stopwords\n",
    "    stoplist = stopwords.words('english') \n",
    "    stoplist = set(stoplist)\n",
    "    \n",
    "    No_StopWords = [word for word in no_integers if word.lower() not in stoplist ]\n",
    "    \n",
    "    No_StopWords = ' '.join(No_StopWords)\n",
    "    \n",
    "    return No_StopWords"
   ]
  },
  {
   "cell_type": "code",
   "execution_count": 9,
   "id": "f76c8a32",
   "metadata": {},
   "outputs": [
    {
     "data": {
      "text/html": [
       "<div>\n",
       "<style scoped>\n",
       "    .dataframe tbody tr th:only-of-type {\n",
       "        vertical-align: middle;\n",
       "    }\n",
       "\n",
       "    .dataframe tbody tr th {\n",
       "        vertical-align: top;\n",
       "    }\n",
       "\n",
       "    .dataframe thead th {\n",
       "        text-align: right;\n",
       "    }\n",
       "</style>\n",
       "<table border=\"1\" class=\"dataframe\">\n",
       "  <thead>\n",
       "    <tr style=\"text-align: right;\">\n",
       "      <th></th>\n",
       "      <th>identity_attack</th>\n",
       "      <th>insult</th>\n",
       "      <th>obscene</th>\n",
       "      <th>severe_toxicity</th>\n",
       "      <th>text</th>\n",
       "      <th>threat</th>\n",
       "      <th>toxicity</th>\n",
       "    </tr>\n",
       "  </thead>\n",
       "  <tbody>\n",
       "    <tr>\n",
       "      <th>0</th>\n",
       "      <td>0.0</td>\n",
       "      <td>0.0</td>\n",
       "      <td>0.0</td>\n",
       "      <td>0.0</td>\n",
       "      <td>b'\"\\nThanks Xeno. -  \\xe2\\x80\\xa2 Talk \\xe2\\x8...</td>\n",
       "      <td>0.0</td>\n",
       "      <td>0.0</td>\n",
       "    </tr>\n",
       "    <tr>\n",
       "      <th>1</th>\n",
       "      <td>0.0</td>\n",
       "      <td>0.0</td>\n",
       "      <td>0.0</td>\n",
       "      <td>0.0</td>\n",
       "      <td>b'2009 (UTC)\\nFixed    03:36, 8 June'</td>\n",
       "      <td>0.0</td>\n",
       "      <td>0.0</td>\n",
       "    </tr>\n",
       "    <tr>\n",
       "      <th>2</th>\n",
       "      <td>0.0</td>\n",
       "      <td>0.0</td>\n",
       "      <td>0.0</td>\n",
       "      <td>0.0</td>\n",
       "      <td>b'Question\\nWhat was wrong with the repair I d...</td>\n",
       "      <td>0.0</td>\n",
       "      <td>0.0</td>\n",
       "    </tr>\n",
       "    <tr>\n",
       "      <th>3</th>\n",
       "      <td>0.0</td>\n",
       "      <td>0.0</td>\n",
       "      <td>0.0</td>\n",
       "      <td>0.0</td>\n",
       "      <td>b\"I agree myself now, actually. (Amazing how t...</td>\n",
       "      <td>0.0</td>\n",
       "      <td>0.0</td>\n",
       "    </tr>\n",
       "    <tr>\n",
       "      <th>4</th>\n",
       "      <td>0.0</td>\n",
       "      <td>0.0</td>\n",
       "      <td>0.0</td>\n",
       "      <td>0.0</td>\n",
       "      <td>b'Kisumu \\n\\nI saw that you contributed to Kis...</td>\n",
       "      <td>0.0</td>\n",
       "      <td>0.0</td>\n",
       "    </tr>\n",
       "  </tbody>\n",
       "</table>\n",
       "</div>"
      ],
      "text/plain": [
       "   identity_attack  insult  obscene  severe_toxicity  \\\n",
       "0              0.0     0.0      0.0              0.0   \n",
       "1              0.0     0.0      0.0              0.0   \n",
       "2              0.0     0.0      0.0              0.0   \n",
       "3              0.0     0.0      0.0              0.0   \n",
       "4              0.0     0.0      0.0              0.0   \n",
       "\n",
       "                                                text  threat  toxicity  \n",
       "0  b'\"\\nThanks Xeno. -  \\xe2\\x80\\xa2 Talk \\xe2\\x8...     0.0       0.0  \n",
       "1              b'2009 (UTC)\\nFixed    03:36, 8 June'     0.0       0.0  \n",
       "2  b'Question\\nWhat was wrong with the repair I d...     0.0       0.0  \n",
       "3  b\"I agree myself now, actually. (Amazing how t...     0.0       0.0  \n",
       "4  b'Kisumu \\n\\nI saw that you contributed to Kis...     0.0       0.0  "
      ]
     },
     "execution_count": 9,
     "metadata": {},
     "output_type": "execute_result"
    }
   ],
   "source": [
    "df_train_wiki_tox.head()"
   ]
  },
  {
   "cell_type": "code",
   "execution_count": 10,
   "id": "d40314f1",
   "metadata": {},
   "outputs": [
    {
     "name": "stdout",
     "output_type": "stream",
     "text": [
      "Time elapsed: 88.970 seconds\n"
     ]
    }
   ],
   "source": [
    "import time\n",
    "t_start = time.time()\n",
    "\n",
    "df_train_wiki_tox['clean']=df_train_wiki_tox['text'].apply(lambda x: text_process_1(x))\n",
    "\n",
    "\n",
    "t_stop = time.time()\n",
    "print('Time elapsed: {:.3f} seconds'.format(t_stop - t_start))"
   ]
  },
  {
   "cell_type": "code",
   "execution_count": 11,
   "id": "bb1a2093",
   "metadata": {},
   "outputs": [
    {
     "data": {
      "text/html": [
       "<div>\n",
       "<style scoped>\n",
       "    .dataframe tbody tr th:only-of-type {\n",
       "        vertical-align: middle;\n",
       "    }\n",
       "\n",
       "    .dataframe tbody tr th {\n",
       "        vertical-align: top;\n",
       "    }\n",
       "\n",
       "    .dataframe thead th {\n",
       "        text-align: right;\n",
       "    }\n",
       "</style>\n",
       "<table border=\"1\" class=\"dataframe\">\n",
       "  <thead>\n",
       "    <tr style=\"text-align: right;\">\n",
       "      <th></th>\n",
       "      <th>identity_attack</th>\n",
       "      <th>insult</th>\n",
       "      <th>obscene</th>\n",
       "      <th>severe_toxicity</th>\n",
       "      <th>text</th>\n",
       "      <th>threat</th>\n",
       "      <th>toxicity</th>\n",
       "      <th>clean</th>\n",
       "    </tr>\n",
       "  </thead>\n",
       "  <tbody>\n",
       "    <tr>\n",
       "      <th>0</th>\n",
       "      <td>0.0</td>\n",
       "      <td>0.0</td>\n",
       "      <td>0.0</td>\n",
       "      <td>0.0</td>\n",
       "      <td>b'\"\\nThanks Xeno. -  \\xe2\\x80\\xa2 Talk \\xe2\\x8...</td>\n",
       "      <td>0.0</td>\n",
       "      <td>0.0</td>\n",
       "      <td>thanks xeno talk</td>\n",
       "    </tr>\n",
       "    <tr>\n",
       "      <th>1</th>\n",
       "      <td>0.0</td>\n",
       "      <td>0.0</td>\n",
       "      <td>0.0</td>\n",
       "      <td>0.0</td>\n",
       "      <td>b'2009 (UTC)\\nFixed    03:36, 8 June'</td>\n",
       "      <td>0.0</td>\n",
       "      <td>0.0</td>\n",
       "      <td>utc fixed june</td>\n",
       "    </tr>\n",
       "    <tr>\n",
       "      <th>2</th>\n",
       "      <td>0.0</td>\n",
       "      <td>0.0</td>\n",
       "      <td>0.0</td>\n",
       "      <td>0.0</td>\n",
       "      <td>b'Question\\nWhat was wrong with the repair I d...</td>\n",
       "      <td>0.0</td>\n",
       "      <td>0.0</td>\n",
       "      <td>question wrong repair</td>\n",
       "    </tr>\n",
       "    <tr>\n",
       "      <th>3</th>\n",
       "      <td>0.0</td>\n",
       "      <td>0.0</td>\n",
       "      <td>0.0</td>\n",
       "      <td>0.0</td>\n",
       "      <td>b\"I agree myself now, actually. (Amazing how t...</td>\n",
       "      <td>0.0</td>\n",
       "      <td>0.0</td>\n",
       "      <td>agree actually amazing deniars cant admit mist...</td>\n",
       "    </tr>\n",
       "    <tr>\n",
       "      <th>4</th>\n",
       "      <td>0.0</td>\n",
       "      <td>0.0</td>\n",
       "      <td>0.0</td>\n",
       "      <td>0.0</td>\n",
       "      <td>b'Kisumu \\n\\nI saw that you contributed to Kis...</td>\n",
       "      <td>0.0</td>\n",
       "      <td>0.0</td>\n",
       "      <td>kisumu saw contributed kisumu wondering whethe...</td>\n",
       "    </tr>\n",
       "  </tbody>\n",
       "</table>\n",
       "</div>"
      ],
      "text/plain": [
       "   identity_attack  insult  obscene  severe_toxicity  \\\n",
       "0              0.0     0.0      0.0              0.0   \n",
       "1              0.0     0.0      0.0              0.0   \n",
       "2              0.0     0.0      0.0              0.0   \n",
       "3              0.0     0.0      0.0              0.0   \n",
       "4              0.0     0.0      0.0              0.0   \n",
       "\n",
       "                                                text  threat  toxicity  \\\n",
       "0  b'\"\\nThanks Xeno. -  \\xe2\\x80\\xa2 Talk \\xe2\\x8...     0.0       0.0   \n",
       "1              b'2009 (UTC)\\nFixed    03:36, 8 June'     0.0       0.0   \n",
       "2  b'Question\\nWhat was wrong with the repair I d...     0.0       0.0   \n",
       "3  b\"I agree myself now, actually. (Amazing how t...     0.0       0.0   \n",
       "4  b'Kisumu \\n\\nI saw that you contributed to Kis...     0.0       0.0   \n",
       "\n",
       "                                               clean  \n",
       "0                                   thanks xeno talk  \n",
       "1                                     utc fixed june  \n",
       "2                              question wrong repair  \n",
       "3  agree actually amazing deniars cant admit mist...  \n",
       "4  kisumu saw contributed kisumu wondering whethe...  "
      ]
     },
     "execution_count": 11,
     "metadata": {},
     "output_type": "execute_result"
    }
   ],
   "source": [
    "df_train_wiki_tox.head()"
   ]
  },
  {
   "cell_type": "code",
   "execution_count": 12,
   "id": "c2779142",
   "metadata": {},
   "outputs": [
    {
     "data": {
      "text/plain": [
       "b'\"\\nThanks Xeno. -  \\xe2\\x80\\xa2 Talk \\xe2\\x80\\xa2 \"'"
      ]
     },
     "execution_count": 12,
     "metadata": {},
     "output_type": "execute_result"
    }
   ],
   "source": [
    "df_train_wiki_tox.iloc[0]['text']"
   ]
  },
  {
   "cell_type": "markdown",
   "id": "ccd701ce",
   "metadata": {},
   "source": [
    "#### Print 10 Random Non-Toxic Comments"
   ]
  },
  {
   "cell_type": "code",
   "execution_count": 13,
   "id": "6ef2e4ab",
   "metadata": {
    "scrolled": true
   },
   "outputs": [
    {
     "name": "stdout",
     "output_type": "stream",
     "text": [
      "70327\n",
      "response bdukes question think become difficult wikipedia say anything general guiding girl scouting someone always point guides boys fair point think become overdone take look wagggs website girls girls boys say world association girl guides girl scouts worldwide movement providing nonformal education girls young women develop leadership life skills selfdevelopment challenge adventure catchphrase starts girls worldwide say wagggs felt necessary change name dont realise wagggs member organisations take boys taking boys anomaly norm anomaly shouldnt ignore get wrapped\n",
      "...\n",
      "b'\"\\n\\nIn response to Bduke\\'s question 2 above, I think that it has become very difficult on wikipedia to say anything general about Guiding and Girl Scouting because someone will always point out that some Guides are boys. This is a fair point, but I think it has become overdone. If you take a look at the WAGGGS website, it\\'s all about girls. Not girls and a few boys. They say of themselves \"\"The World Association of Girl Guides and Girl Scouts is a worldwide Movement providing non-formal education where girls and young women develop leadership and life skills through self-development, challenge and adventure.\"\" Their catchphrase starts \"\"Girls worldwide say...\"\" WAGGGS has not felt it necessary to change its name. This is not because they don\\'t realise some WAGGGS member organisations take boys, it\\'s because taking boys is an anomaly, not the norm. It\\'s an anomaly we shouldn\\'t ignore, but nor should we get too wrapped up in it.   \"'\n",
      "\n",
      "\n",
      "117989\n",
      "identifying edits vandalism im newbie would appreciate would tell youre identifying wellintentioned edits mine vandalism im ive noticed topics early american literature subjects teach poorly represented want improve content everything ive done meant good faithand yes tried read policies\n",
      "...\n",
      "b\"Why are you identifying my edits as vandalism?\\nI'm a newbie and would appreciate it if you would tell me why you're identifying well-intentioned edits of mine as vandalism.  I'm here because I've noticed that topics in early American literature and other subjects I teach are poorly represented and I want to improve content.  Everything I've done is meant in good faithand yes, I have tried to read the policies.\"\n",
      "\n",
      "\n",
      "93688\n",
      "battleground please tell users mentioned earlier obvious actions wikipedia another front misinformation war waging various information outlets online acting party\n",
      "...\n",
      "b'Not a battleground? \\n\\nPlease tell the users that I mentioned earlier.  It is obvious from their actions that Wikipedia is just another front for the misinformation war they are waging on various information outlets online.  By not acting against this, you are a party to it.'\n",
      "\n",
      "\n",
      "32718\n",
      "edit request february add reference deo prakash sharma science metal technology harappans new delhi kaveri books\n",
      "...\n",
      "b'Edit request on 23 February 2012 \\n\\nAdd reference: Deo Prakash Sharma, 2011, Science and Metal Technology of Harappans, New Delhi, Kaveri Books\\n\\n117.193.185.141'\n",
      "\n",
      "\n",
      "143309\n",
      "removed quote jimtaip source\n",
      "...\n",
      "b'Removed above quote from Jimtaip, as the source was not provided67.142.130.44  .'\n",
      "\n",
      "\n",
      "20611\n",
      "may ill keep reviewing contributions right jim puts\n",
      "...\n",
      "b'\"\\nI may do. I\\'ll keep reviewing your contributions right up until Jim put\\'s his on. . \"'\n",
      "\n",
      "\n",
      "141553\n",
      "objectivity read things guy care political ideals im wondering guy political affiliations write articles objective get another guy write articles wikipedia going allow people right politics liberal write articles thats true theres lot diversity accepted views wikipedia place theres great harmony cooperation among neocons isrealilikkudists conspiracybashing pseudoleftists like chip berlet anonymous cheap shots folks must proud courage well thought cheap shot funny wonder says berlet feel compelled respond every anon ip wikipedia doesnt sound like egos secure arent busy hatchet jobs folks like david ray griffin waste time nobodies like us guess maybe good think youre involved wikipedia since takes much time away nefarious activities\n",
      "...\n",
      "b'\"\\n\\nObjectivity\\nI read a few things about this guy. I do not care for his political ideals. I\\'m just wondering, should a guy with political affiliations write articles?\\nHow will he be objective? Why not just get another guy to write the articles?\\n\\nIs Wikipedia only going to allow people with the \"\"right\"\" politics (i.e. liberal) to write articles?\\n\\nThat\\'s not true at all!  There\\'s a lot of diversity of accepted views here.  Wikipedia is a place where there\\'s great harmony and cooperation among neo-cons, Isreali-Likkudists, and conspiracy-bashing pseudo-leftists like Chip Berlet -)\\n\\nAnonymous cheap shots.  You folks must be very proud.  Such courage. \\n\\nWell I thought my \"\"cheap shot\"\" was funny, but I wonder what that says about you Mr. Berlet, that you feel compelled to respond to every anon IP on Wikipedia...  Doesn\\'t sound like your ego\\'s very secure to me.  Aren\\'t you too busy doing hatchet jobs on folks like David Ray Griffin to waste your time with nobodies like us???  I guess maybe it\\'s a good think you\\'re so involved with Wikipedia since it takes so much of your time away from other nefarious activities -)\"'\n",
      "\n",
      "\n",
      "47247\n",
      "support adding information regarding easter denial service attack\n",
      "...\n",
      "b'Support Adding information regarding the 2007 easter denial of service attack.'\n",
      "\n",
      "\n",
      "93760\n",
      "stop rumour confirmed time passed since rumour began months already\n",
      "...\n",
      "b'It will stop being a rumour WHEN IT IS CONFIRMED (and what time passed since the rumour began, MONTHS already?).'\n",
      "\n",
      "\n",
      "101167\n",
      "ratbaiting might want participate vote wikipedia articles cordially\n",
      "...\n",
      "b'Rat-baiting\\nYou might want to participate in this vote.\\n\\nWikipedia:Articles for deletion/Rat-baiting\\n\\nCordially'\n",
      "\n",
      "\n"
     ]
    }
   ],
   "source": [
    "import random\n",
    "\n",
    "df_non_tox = df_train_wiki_tox[df_train_wiki_tox['toxicity']==0]\n",
    "df_non_tox = df_non_tox.reset_index()\n",
    "\n",
    "\n",
    "for i in range(10):\n",
    "    \n",
    "    n=random.randint(1,df_non_tox.shape[0])\n",
    "    print(n)\n",
    "    orig_cmt = df_non_tox['text'][n]\n",
    "    clean_cmt = df_non_tox['clean'][n]\n",
    "    print(clean_cmt)\n",
    "    print('...')\n",
    "    print(orig_cmt)\n",
    "    print('\\n')"
   ]
  },
  {
   "cell_type": "markdown",
   "id": "88755919",
   "metadata": {},
   "source": [
    "#### Print 10 Random Toxic Comments"
   ]
  },
  {
   "cell_type": "code",
   "execution_count": 14,
   "id": "da9f2d25",
   "metadata": {},
   "outputs": [
    {
     "name": "stdout",
     "output_type": "stream",
     "text": [
      "b'Not\\n\\na Goddamned thing, if you dont like it, its becouse you suck big fat elepant dicks-AppoloBitch'\n",
      "goddamned thing dont like becouse suck big fat elepant dicksappolobitch\n"
     ]
    }
   ],
   "source": [
    "df_toxic = df_train_wiki_tox[df_train_wiki_tox['toxicity']==1]\n",
    "print(df_toxic['text'][10])\n",
    "print(df_toxic['clean'][10])"
   ]
  },
  {
   "cell_type": "code",
   "execution_count": 15,
   "id": "e03a854e",
   "metadata": {
    "scrolled": true
   },
   "outputs": [
    {
     "name": "stdout",
     "output_type": "stream",
     "text": [
      "13302\n",
      "gay guy know wuzzup like sadomasochism gim\n",
      "...\n",
      "b'The Gay Guy \\n\\nI know you.  Wuzzup?  I like sadomasochism.  Gimme more!'\n",
      "\n",
      "\n",
      "7441\n",
      "lolz try harder plz comedrinker\n",
      "...\n",
      "b'lolz \\n\\ntry harder plz? ComeDrinker'\n",
      "\n",
      "\n",
      "5623\n",
      "october saw evil edit thomas magic railroad assigned correctyourediting school stop stupid edits else blocked editing\n",
      "...\n",
      "b'\"== October 2009 ==\\n\\nI saw your evil edit to Thomas and the Magic Railroad and you will be assigned to \"\"correct-your-editing\"\" school. Stop your stupid\\nedits or else you will be blocked from editing by a sysop.   \"'\n",
      "\n",
      "\n",
      "1675\n",
      "fox platform article someones dream crap little research ford mustangs posting\n",
      "...\n",
      "b\"This Fox platform article is someone's a dream up crap.. do a little research on Ford and Mustangs before posting.\"\n",
      "\n",
      "\n",
      "4105\n",
      "movie partially based graham hancocks book fingerprints gods credits resorted even removing suggestions discussion page jack straw two pathetic page still sucks stupidity rules shii called member one religion tries kill everyone doesnt go along belief system please enter subject post thanks\n",
      "...\n",
      "b'\"\\n\\n \"\"...\"\" \\n\\nThe 2012 movie was partially based on Graham Hancock\\'s book \"\"Fingerprints of the Gods\"\". It was in the credits. You have resorted to even removing suggestions from the discussion page from Jack Straw. You two are so pathetic. This page still sucks. Stupidity Rules. ~M~ \\n\\nShii, what is it called when a member of one religion tries to kill off everyone who doesn\\'t go along with their belief system? Please enter that as the subject of this post. Thanks\"'\n",
      "\n",
      "\n",
      "4087\n",
      "bias attacked talk page making libelous statement statement potential libelous return favor page yet warn aggressor started issue take bias cunt moral compass thought\n",
      "...\n",
      "b'bias \\n\\nHe attacked me on my talk page making a libelous statement about my statement being potential libelous, i return the favor on his page yet you warn me and not him...\\n\\nHe was the aggressor and He started the issue\\n\\nI take it your a bias cunt with no moral compass then?\\nthought so...\\n94.168.210.36'\n",
      "\n",
      "\n",
      "14411\n",
      "faggot\n",
      "...\n",
      "b'You are a faggot!68.33.41.181'\n",
      "\n",
      "\n",
      "9302\n",
      "id also like add think indefinite banning rookiee pedophile trolling politely complained deletion article contributed comes close bigoted slur someone based professed sexual orientation whats next bans nigger uppityness kike craftiness ive formed negative opinion jimbo whole wikipedia project point isnt single numbered principle jimbos user page people dont regularly violate definitely case organization entirely different agenda propaganda writes disseminates\n",
      "...\n",
      "b'\"\\n\\nI\\'d also like to add that I think the indefinite banning of Rookiee for \"\"pedophile trolling\"\" because he politely complained about the deletion of the article he contributed to, comes very close to being a bigoted slur against someone based on their professed sexual orientation.  What\\'s next, bans for \"\"Nigger Uppityness\"\" or \"\"Kike Craftiness?\"\"  I\\'ve formed a very negative opinion of Jimbo and the whole Wikipedia project at this point.  There isn\\'t a single numbered principle on Jimbo\\'s user page which you people don\\'t regularly violate.  This is definitely a case of an organization having an entirely different agenda than the propaganda it writes and disseminates about itself. \"'\n",
      "\n",
      "\n",
      "14659\n",
      "well known neo nazi deviant art keep good work account terminated final warning\n",
      "...\n",
      "b'You are a well known neo Nazi from deviant art. Keep up the good work and your account will be terminated. \\nThis is your final warning.'\n",
      "\n",
      "\n",
      "4281\n",
      "shut ass neiln dumb asshole\n",
      "...\n",
      "b'Just shut your ass NeilN dumb asshole.'\n",
      "\n",
      "\n"
     ]
    }
   ],
   "source": [
    "df_tox = df_train_wiki_tox[df_train_wiki_tox['toxicity']==1]\n",
    "df_tox = df_tox.reset_index()\n",
    "\n",
    "\n",
    "for i in range(10):\n",
    "    \n",
    "    n=random.randint(1,df_tox.shape[0])\n",
    "    print(n)\n",
    "    orig_cmt = df_tox['text'][n]\n",
    "    rnd_cmt = df_tox['clean'][n]\n",
    "    print(rnd_cmt)\n",
    "    print('...')\n",
    "    print(orig_cmt)\n",
    "    print('\\n')"
   ]
  },
  {
   "cell_type": "markdown",
   "id": "62849a86",
   "metadata": {},
   "source": [
    "### Create Final Training Data set of comments greater than 5 words and less than 300 words"
   ]
  },
  {
   "cell_type": "code",
   "execution_count": 16,
   "id": "72048f9b",
   "metadata": {},
   "outputs": [
    {
     "name": "stdout",
     "output_type": "stream",
     "text": [
      "Time elapsed: 20.400 seconds\n"
     ]
    }
   ],
   "source": [
    "import time\n",
    "t_start = time.time()\n",
    "\n",
    "df_train_wiki_tox['wd_len']=df_train_wiki_tox['clean'].apply(lambda x: len(nltk.word_tokenize(x)))\n",
    "\n",
    "\n",
    "\n",
    "t_stop = time.time()\n",
    "print('Time elapsed: {:.3f} seconds'.format(t_stop - t_start))"
   ]
  },
  {
   "cell_type": "markdown",
   "id": "4e3de875",
   "metadata": {},
   "source": [
    "#### Distribution plot of word Lengths by Toxicity Label"
   ]
  },
  {
   "cell_type": "code",
   "execution_count": 17,
   "id": "91526387",
   "metadata": {},
   "outputs": [
    {
     "data": {
      "image/png": "[encoded data removed]",
      "text/plain": [
       "<Figure size 1131.88x1080 with 1 Axes>"
      ]
     },
     "metadata": {
      "needs_background": "light"
     },
     "output_type": "display_data"
    }
   ],
   "source": [
    "import matplotlib.pyplot as plt\n",
    "import seaborn as sns\n",
    "\n",
    "#fig, ax = plt.subplots(figsize=(8,6))\n",
    "a=sns.displot(df_train_wiki_tox, x=\"wd_len\", hue=\"toxicity\", height=15, aspect=1,)\n",
    "#sns.distplot(data[\"Trip_distance\"], bins= 50, kde= False, axlabel= \"Trip Distance\", ax= ax)\n",
    "#a.set_ylabel('Count')\n",
    "\n",
    "\n",
    "#set_titles(\"{col_name} penguins\")"
   ]
  },
  {
   "cell_type": "markdown",
   "id": "2957b3ae",
   "metadata": {},
   "source": [
    "#### Look at comments with Greater than 1000 words"
   ]
  },
  {
   "cell_type": "code",
   "execution_count": 18,
   "id": "30b48f1e",
   "metadata": {},
   "outputs": [
    {
     "data": {
      "text/plain": [
       "6070      1250\n",
       "140797    1250\n",
       "106288    1250\n",
       "135934    1250\n",
       "152278    1247\n",
       "          ... \n",
       "101217       0\n",
       "78041        0\n",
       "117542       0\n",
       "42685        0\n",
       "117637       0\n",
       "Name: wd_len, Length: 159571, dtype: int64"
      ]
     },
     "execution_count": 18,
     "metadata": {},
     "output_type": "execute_result"
    }
   ],
   "source": [
    "df_train_wiki_tox['wd_len'].sort_values(ascending=False)"
   ]
  },
  {
   "cell_type": "code",
   "execution_count": 19,
   "id": "fa8cdbf4",
   "metadata": {},
   "outputs": [
    {
     "data": {
      "text/html": [
       "<div>\n",
       "<style scoped>\n",
       "    .dataframe tbody tr th:only-of-type {\n",
       "        vertical-align: middle;\n",
       "    }\n",
       "\n",
       "    .dataframe tbody tr th {\n",
       "        vertical-align: top;\n",
       "    }\n",
       "\n",
       "    .dataframe thead th {\n",
       "        text-align: right;\n",
       "    }\n",
       "</style>\n",
       "<table border=\"1\" class=\"dataframe\">\n",
       "  <thead>\n",
       "    <tr style=\"text-align: right;\">\n",
       "      <th></th>\n",
       "      <th>identity_attack</th>\n",
       "      <th>insult</th>\n",
       "      <th>obscene</th>\n",
       "      <th>severe_toxicity</th>\n",
       "      <th>text</th>\n",
       "      <th>threat</th>\n",
       "      <th>toxicity</th>\n",
       "      <th>clean</th>\n",
       "      <th>wd_len</th>\n",
       "    </tr>\n",
       "  </thead>\n",
       "  <tbody>\n",
       "    <tr>\n",
       "      <th>6070</th>\n",
       "      <td>0.0</td>\n",
       "      <td>0.0</td>\n",
       "      <td>0.0</td>\n",
       "      <td>0.0</td>\n",
       "      <td>b'OH NOES OH NOES OH NOES OH NOES OH NOES OH N...</td>\n",
       "      <td>0.0</td>\n",
       "      <td>0.0</td>\n",
       "      <td>oh noes oh noes oh noes oh noes oh noes oh noe...</td>\n",
       "      <td>1250</td>\n",
       "    </tr>\n",
       "    <tr>\n",
       "      <th>59895</th>\n",
       "      <td>0.0</td>\n",
       "      <td>1.0</td>\n",
       "      <td>0.0</td>\n",
       "      <td>0.0</td>\n",
       "      <td>b'hi moron hi moron hi moron hi moron hi moron...</td>\n",
       "      <td>0.0</td>\n",
       "      <td>1.0</td>\n",
       "      <td>hi moron hi moron hi moron hi moron hi moron h...</td>\n",
       "      <td>1078</td>\n",
       "    </tr>\n",
       "    <tr>\n",
       "      <th>106288</th>\n",
       "      <td>0.0</td>\n",
       "      <td>0.0</td>\n",
       "      <td>0.0</td>\n",
       "      <td>0.0</td>\n",
       "      <td>b'LOL LOL LOL LOL LOL LOL LOL LOL LOL LOL LOL ...</td>\n",
       "      <td>0.0</td>\n",
       "      <td>0.0</td>\n",
       "      <td>lol lol lol lol lol lol lol lol lol lol lol lo...</td>\n",
       "      <td>1250</td>\n",
       "    </tr>\n",
       "    <tr>\n",
       "      <th>117897</th>\n",
       "      <td>0.0</td>\n",
       "      <td>0.0</td>\n",
       "      <td>0.0</td>\n",
       "      <td>0.0</td>\n",
       "      <td>b'Sex sex sex sex Sex sex sex sexSex sex sex s...</td>\n",
       "      <td>0.0</td>\n",
       "      <td>1.0</td>\n",
       "      <td>sex sex sex sex sex sex sex sexsex sex sex sex...</td>\n",
       "      <td>1001</td>\n",
       "    </tr>\n",
       "    <tr>\n",
       "      <th>130989</th>\n",
       "      <td>1.0</td>\n",
       "      <td>1.0</td>\n",
       "      <td>1.0</td>\n",
       "      <td>0.0</td>\n",
       "      <td>b'THAT WAS REALLY MILLESECONDS WASNT IT BITCH ...</td>\n",
       "      <td>0.0</td>\n",
       "      <td>1.0</td>\n",
       "      <td>really milleseconds wasnt bitch fat jew fat je...</td>\n",
       "      <td>1235</td>\n",
       "    </tr>\n",
       "    <tr>\n",
       "      <th>135934</th>\n",
       "      <td>0.0</td>\n",
       "      <td>0.0</td>\n",
       "      <td>0.0</td>\n",
       "      <td>0.0</td>\n",
       "      <td>b'DIE FAG DIE FAG DIE FAG DIE FAG DIE FAG DIE ...</td>\n",
       "      <td>0.0</td>\n",
       "      <td>1.0</td>\n",
       "      <td>die fag die fag die fag die fag die fag die fa...</td>\n",
       "      <td>1250</td>\n",
       "    </tr>\n",
       "    <tr>\n",
       "      <th>140797</th>\n",
       "      <td>0.0</td>\n",
       "      <td>0.0</td>\n",
       "      <td>0.0</td>\n",
       "      <td>0.0</td>\n",
       "      <td>b'PIG PIG PIG PIG PIG PIG PIG PIG PIG PIG PIG ...</td>\n",
       "      <td>0.0</td>\n",
       "      <td>1.0</td>\n",
       "      <td>pig pig pig pig pig pig pig pig pig pig pig pi...</td>\n",
       "      <td>1250</td>\n",
       "    </tr>\n",
       "    <tr>\n",
       "      <th>152278</th>\n",
       "      <td>1.0</td>\n",
       "      <td>1.0</td>\n",
       "      <td>0.0</td>\n",
       "      <td>0.0</td>\n",
       "      <td>b'FAT JEW FAT JEW FAT JEW FAT JEW FAT JEW FAT ...</td>\n",
       "      <td>0.0</td>\n",
       "      <td>1.0</td>\n",
       "      <td>fat jew fat jew fat jew fat jew fat jew fat je...</td>\n",
       "      <td>1247</td>\n",
       "    </tr>\n",
       "  </tbody>\n",
       "</table>\n",
       "</div>"
      ],
      "text/plain": [
       "        identity_attack  insult  obscene  severe_toxicity  \\\n",
       "6070                0.0     0.0      0.0              0.0   \n",
       "59895               0.0     1.0      0.0              0.0   \n",
       "106288              0.0     0.0      0.0              0.0   \n",
       "117897              0.0     0.0      0.0              0.0   \n",
       "130989              1.0     1.0      1.0              0.0   \n",
       "135934              0.0     0.0      0.0              0.0   \n",
       "140797              0.0     0.0      0.0              0.0   \n",
       "152278              1.0     1.0      0.0              0.0   \n",
       "\n",
       "                                                     text  threat  toxicity  \\\n",
       "6070    b'OH NOES OH NOES OH NOES OH NOES OH NOES OH N...     0.0       0.0   \n",
       "59895   b'hi moron hi moron hi moron hi moron hi moron...     0.0       1.0   \n",
       "106288  b'LOL LOL LOL LOL LOL LOL LOL LOL LOL LOL LOL ...     0.0       0.0   \n",
       "117897  b'Sex sex sex sex Sex sex sex sexSex sex sex s...     0.0       1.0   \n",
       "130989  b'THAT WAS REALLY MILLESECONDS WASNT IT BITCH ...     0.0       1.0   \n",
       "135934  b'DIE FAG DIE FAG DIE FAG DIE FAG DIE FAG DIE ...     0.0       1.0   \n",
       "140797  b'PIG PIG PIG PIG PIG PIG PIG PIG PIG PIG PIG ...     0.0       1.0   \n",
       "152278  b'FAT JEW FAT JEW FAT JEW FAT JEW FAT JEW FAT ...     0.0       1.0   \n",
       "\n",
       "                                                    clean  wd_len  \n",
       "6070    oh noes oh noes oh noes oh noes oh noes oh noe...    1250  \n",
       "59895   hi moron hi moron hi moron hi moron hi moron h...    1078  \n",
       "106288  lol lol lol lol lol lol lol lol lol lol lol lo...    1250  \n",
       "117897  sex sex sex sex sex sex sex sexsex sex sex sex...    1001  \n",
       "130989  really milleseconds wasnt bitch fat jew fat je...    1235  \n",
       "135934  die fag die fag die fag die fag die fag die fa...    1250  \n",
       "140797  pig pig pig pig pig pig pig pig pig pig pig pi...    1250  \n",
       "152278  fat jew fat jew fat jew fat jew fat jew fat je...    1247  "
      ]
     },
     "execution_count": 19,
     "metadata": {},
     "output_type": "execute_result"
    }
   ],
   "source": [
    "df_train_wiki_tox[df_train_wiki_tox['wd_len']>1000]"
   ]
  },
  {
   "cell_type": "markdown",
   "id": "78ca0d60",
   "metadata": {},
   "source": [
    "#### Look at those toxic comments with less than 5 words"
   ]
  },
  {
   "cell_type": "code",
   "execution_count": 20,
   "id": "97c8ea28",
   "metadata": {},
   "outputs": [
    {
     "data": {
      "text/html": [
       "<div>\n",
       "<style scoped>\n",
       "    .dataframe tbody tr th:only-of-type {\n",
       "        vertical-align: middle;\n",
       "    }\n",
       "\n",
       "    .dataframe tbody tr th {\n",
       "        vertical-align: top;\n",
       "    }\n",
       "\n",
       "    .dataframe thead th {\n",
       "        text-align: right;\n",
       "    }\n",
       "</style>\n",
       "<table border=\"1\" class=\"dataframe\">\n",
       "  <thead>\n",
       "    <tr style=\"text-align: right;\">\n",
       "      <th></th>\n",
       "      <th>identity_attack</th>\n",
       "      <th>insult</th>\n",
       "      <th>obscene</th>\n",
       "      <th>severe_toxicity</th>\n",
       "      <th>text</th>\n",
       "      <th>threat</th>\n",
       "      <th>toxicity</th>\n",
       "      <th>clean</th>\n",
       "      <th>wd_len</th>\n",
       "    </tr>\n",
       "  </thead>\n",
       "  <tbody>\n",
       "    <tr>\n",
       "      <th>138</th>\n",
       "      <td>1.0</td>\n",
       "      <td>1.0</td>\n",
       "      <td>1.0</td>\n",
       "      <td>0.0</td>\n",
       "      <td>b\"OhnoitsJamie, you're a faggot. What do you t...</td>\n",
       "      <td>0.0</td>\n",
       "      <td>1.0</td>\n",
       "      <td>ohnoitsjamie youre faggot think</td>\n",
       "      <td>4</td>\n",
       "    </tr>\n",
       "    <tr>\n",
       "      <th>161</th>\n",
       "      <td>0.0</td>\n",
       "      <td>0.0</td>\n",
       "      <td>0.0</td>\n",
       "      <td>0.0</td>\n",
       "      <td>b'SO ALL BLACKS ARE VANDALISTS NOW HUH????'</td>\n",
       "      <td>0.0</td>\n",
       "      <td>1.0</td>\n",
       "      <td>blacks vandalists huh</td>\n",
       "      <td>3</td>\n",
       "    </tr>\n",
       "    <tr>\n",
       "      <th>239</th>\n",
       "      <td>0.0</td>\n",
       "      <td>1.0</td>\n",
       "      <td>1.0</td>\n",
       "      <td>0.0</td>\n",
       "      <td>b'Fuck off you persistant faggot. - God'</td>\n",
       "      <td>0.0</td>\n",
       "      <td>1.0</td>\n",
       "      <td>fuck persistant faggot god</td>\n",
       "      <td>4</td>\n",
       "    </tr>\n",
       "    <tr>\n",
       "      <th>273</th>\n",
       "      <td>0.0</td>\n",
       "      <td>0.0</td>\n",
       "      <td>0.0</td>\n",
       "      <td>0.0</td>\n",
       "      <td>b'I hate you? I hate you!'</td>\n",
       "      <td>0.0</td>\n",
       "      <td>1.0</td>\n",
       "      <td>hate hate</td>\n",
       "      <td>2</td>\n",
       "    </tr>\n",
       "    <tr>\n",
       "      <th>369</th>\n",
       "      <td>0.0</td>\n",
       "      <td>0.0</td>\n",
       "      <td>0.0</td>\n",
       "      <td>0.0</td>\n",
       "      <td>b'Whatever, you p\\xc3\\xafece of cr@p!'</td>\n",
       "      <td>0.0</td>\n",
       "      <td>1.0</td>\n",
       "      <td>whatever pïece cr p</td>\n",
       "      <td>4</td>\n",
       "    </tr>\n",
       "    <tr>\n",
       "      <th>...</th>\n",
       "      <td>...</td>\n",
       "      <td>...</td>\n",
       "      <td>...</td>\n",
       "      <td>...</td>\n",
       "      <td>...</td>\n",
       "      <td>...</td>\n",
       "      <td>...</td>\n",
       "      <td>...</td>\n",
       "      <td>...</td>\n",
       "    </tr>\n",
       "    <tr>\n",
       "      <th>159287</th>\n",
       "      <td>0.0</td>\n",
       "      <td>1.0</td>\n",
       "      <td>1.0</td>\n",
       "      <td>0.0</td>\n",
       "      <td>b'SUCK YOU SUCK YOU SUCK'</td>\n",
       "      <td>0.0</td>\n",
       "      <td>1.0</td>\n",
       "      <td>suck suck suck</td>\n",
       "      <td>3</td>\n",
       "    </tr>\n",
       "    <tr>\n",
       "      <th>159316</th>\n",
       "      <td>0.0</td>\n",
       "      <td>0.0</td>\n",
       "      <td>1.0</td>\n",
       "      <td>0.0</td>\n",
       "      <td>b'P ==\\n\\n E \\n\\n N \\n\\n I \\n\\n S \\n\\n=='</td>\n",
       "      <td>0.0</td>\n",
       "      <td>1.0</td>\n",
       "      <td>p e n</td>\n",
       "      <td>3</td>\n",
       "    </tr>\n",
       "    <tr>\n",
       "      <th>159398</th>\n",
       "      <td>0.0</td>\n",
       "      <td>0.0</td>\n",
       "      <td>0.0</td>\n",
       "      <td>0.0</td>\n",
       "      <td>b'Be careful who you call a moron.'</td>\n",
       "      <td>0.0</td>\n",
       "      <td>1.0</td>\n",
       "      <td>careful call moron</td>\n",
       "      <td>3</td>\n",
       "    </tr>\n",
       "    <tr>\n",
       "      <th>159433</th>\n",
       "      <td>0.0</td>\n",
       "      <td>1.0</td>\n",
       "      <td>0.0</td>\n",
       "      <td>0.0</td>\n",
       "      <td>b'It is a shame what people are here, I am dis...</td>\n",
       "      <td>0.0</td>\n",
       "      <td>1.0</td>\n",
       "      <td>shame people disgusting</td>\n",
       "      <td>3</td>\n",
       "    </tr>\n",
       "    <tr>\n",
       "      <th>159499</th>\n",
       "      <td>0.0</td>\n",
       "      <td>1.0</td>\n",
       "      <td>1.0</td>\n",
       "      <td>0.0</td>\n",
       "      <td>b\"I did'nt vandalize anything. Faggot. 166.248...</td>\n",
       "      <td>0.0</td>\n",
       "      <td>1.0</td>\n",
       "      <td>didnt vandalize anything faggot</td>\n",
       "      <td>4</td>\n",
       "    </tr>\n",
       "  </tbody>\n",
       "</table>\n",
       "<p>2372 rows × 9 columns</p>\n",
       "</div>"
      ],
      "text/plain": [
       "        identity_attack  insult  obscene  severe_toxicity  \\\n",
       "138                 1.0     1.0      1.0              0.0   \n",
       "161                 0.0     0.0      0.0              0.0   \n",
       "239                 0.0     1.0      1.0              0.0   \n",
       "273                 0.0     0.0      0.0              0.0   \n",
       "369                 0.0     0.0      0.0              0.0   \n",
       "...                 ...     ...      ...              ...   \n",
       "159287              0.0     1.0      1.0              0.0   \n",
       "159316              0.0     0.0      1.0              0.0   \n",
       "159398              0.0     0.0      0.0              0.0   \n",
       "159433              0.0     1.0      0.0              0.0   \n",
       "159499              0.0     1.0      1.0              0.0   \n",
       "\n",
       "                                                     text  threat  toxicity  \\\n",
       "138     b\"OhnoitsJamie, you're a faggot. What do you t...     0.0       1.0   \n",
       "161           b'SO ALL BLACKS ARE VANDALISTS NOW HUH????'     0.0       1.0   \n",
       "239              b'Fuck off you persistant faggot. - God'     0.0       1.0   \n",
       "273                            b'I hate you? I hate you!'     0.0       1.0   \n",
       "369                b'Whatever, you p\\xc3\\xafece of cr@p!'     0.0       1.0   \n",
       "...                                                   ...     ...       ...   \n",
       "159287                          b'SUCK YOU SUCK YOU SUCK'     0.0       1.0   \n",
       "159316          b'P ==\\n\\n E \\n\\n N \\n\\n I \\n\\n S \\n\\n=='     0.0       1.0   \n",
       "159398                b'Be careful who you call a moron.'     0.0       1.0   \n",
       "159433  b'It is a shame what people are here, I am dis...     0.0       1.0   \n",
       "159499  b\"I did'nt vandalize anything. Faggot. 166.248...     0.0       1.0   \n",
       "\n",
       "                                  clean  wd_len  \n",
       "138     ohnoitsjamie youre faggot think       4  \n",
       "161               blacks vandalists huh       3  \n",
       "239          fuck persistant faggot god       4  \n",
       "273                           hate hate       2  \n",
       "369                 whatever pïece cr p       4  \n",
       "...                                 ...     ...  \n",
       "159287                   suck suck suck       3  \n",
       "159316                            p e n       3  \n",
       "159398               careful call moron       3  \n",
       "159433          shame people disgusting       3  \n",
       "159499  didnt vandalize anything faggot       4  \n",
       "\n",
       "[2372 rows x 9 columns]"
      ]
     },
     "execution_count": 20,
     "metadata": {},
     "output_type": "execute_result"
    }
   ],
   "source": [
    "df_train_wiki_tox[(df_train_wiki_tox['wd_len']<=4) & (df_train_wiki_tox['toxicity']==1)]"
   ]
  },
  {
   "cell_type": "code",
   "execution_count": 21,
   "id": "e91292ba",
   "metadata": {},
   "outputs": [
    {
     "data": {
      "text/plain": [
       "b'P ==\\n\\n E \\n\\n N \\n\\n I \\n\\n S \\n\\n=='"
      ]
     },
     "execution_count": 21,
     "metadata": {},
     "output_type": "execute_result"
    }
   ],
   "source": [
    "df_train_wiki_tox.iloc[159316]['text']"
   ]
  },
  {
   "cell_type": "markdown",
   "id": "18f19cdd",
   "metadata": {},
   "source": [
    "#### Distribution plot of comments less than 200 words by Toxicity Label"
   ]
  },
  {
   "cell_type": "code",
   "execution_count": 22,
   "id": "5189e177",
   "metadata": {},
   "outputs": [
    {
     "data": {
      "text/plain": [
       "<seaborn.axisgrid.FacetGrid at 0x1eb740d1730>"
      ]
     },
     "execution_count": 22,
     "metadata": {},
     "output_type": "execute_result"
    },
    {
     "data": {
      "image/png": "[encoded data removed]",
      "text/plain": [
       "<Figure size 915.875x576 with 1 Axes>"
      ]
     },
     "metadata": {
      "needs_background": "light"
     },
     "output_type": "display_data"
    }
   ],
   "source": [
    "import seaborn as sns\n",
    "import matplotlib.pyplot as plt\n",
    "\n",
    "sns.displot(df_train_wiki_tox[df_train_wiki_tox['wd_len']<200], x=\"wd_len\", hue=\"toxicity\", height=8, aspect=1.5)"
   ]
  },
  {
   "cell_type": "markdown",
   "id": "fa13f919",
   "metadata": {},
   "source": [
    "#### Distribution plot of comments less than 50 words by Toxicity Label"
   ]
  },
  {
   "cell_type": "code",
   "execution_count": 23,
   "id": "35a4040a",
   "metadata": {},
   "outputs": [
    {
     "data": {
      "text/plain": [
       "<seaborn.axisgrid.FacetGrid at 0x1eb67d20f10>"
      ]
     },
     "execution_count": 23,
     "metadata": {},
     "output_type": "execute_result"
    },
    {
     "data": {
      "image/png": "[encoded data removed]",
      "text/plain": [
       "<Figure size 915.875x576 with 1 Axes>"
      ]
     },
     "metadata": {
      "needs_background": "light"
     },
     "output_type": "display_data"
    }
   ],
   "source": [
    "import seaborn as sns\n",
    "import matplotlib.pyplot as plt\n",
    "\n",
    "\n",
    "sns.displot(df_train_wiki_tox[df_train_wiki_tox['wd_len']<50], x=\"wd_len\", hue=\"toxicity\", height=8, aspect=1.5, bins=50)"
   ]
  },
  {
   "cell_type": "markdown",
   "id": "b332bd4c",
   "metadata": {},
   "source": [
    "#### Distribution plot of comments less than 50 words and greater than 5 by Toxicity Label"
   ]
  },
  {
   "cell_type": "code",
   "execution_count": 24,
   "id": "db3aca1b",
   "metadata": {},
   "outputs": [
    {
     "data": {
      "text/plain": [
       "<seaborn.axisgrid.FacetGrid at 0x1eb741bd9a0>"
      ]
     },
     "execution_count": 24,
     "metadata": {},
     "output_type": "execute_result"
    },
    {
     "data": {
      "image/png": "[encoded data removed]",
      "text/plain": [
       "<Figure size 915.875x576 with 1 Axes>"
      ]
     },
     "metadata": {
      "needs_background": "light"
     },
     "output_type": "display_data"
    }
   ],
   "source": [
    "import seaborn as sns\n",
    "import matplotlib.pyplot as plt\n",
    "\n",
    "\n",
    "sns.displot(df_train_wiki_tox[(df_train_wiki_tox['wd_len']<50) & (df_train_wiki_tox['wd_len']>=4)], \n",
    "            x=\"wd_len\", hue=\"toxicity\", height=8, aspect=1.5, bins=40)"
   ]
  },
  {
   "cell_type": "markdown",
   "id": "8698f73b",
   "metadata": {},
   "source": [
    "#### Approximately 12,000 toxic comments after filtering for word length"
   ]
  },
  {
   "cell_type": "code",
   "execution_count": 25,
   "id": "9b6a1bde",
   "metadata": {},
   "outputs": [
    {
     "data": {
      "text/html": [
       "<div>\n",
       "<style scoped>\n",
       "    .dataframe tbody tr th:only-of-type {\n",
       "        vertical-align: middle;\n",
       "    }\n",
       "\n",
       "    .dataframe tbody tr th {\n",
       "        vertical-align: top;\n",
       "    }\n",
       "\n",
       "    .dataframe thead th {\n",
       "        text-align: right;\n",
       "    }\n",
       "</style>\n",
       "<table border=\"1\" class=\"dataframe\">\n",
       "  <thead>\n",
       "    <tr style=\"text-align: right;\">\n",
       "      <th></th>\n",
       "      <th>identity_attack</th>\n",
       "      <th>insult</th>\n",
       "      <th>obscene</th>\n",
       "      <th>severe_toxicity</th>\n",
       "      <th>threat</th>\n",
       "      <th>toxicity</th>\n",
       "      <th>wd_len</th>\n",
       "    </tr>\n",
       "  </thead>\n",
       "  <tbody>\n",
       "    <tr>\n",
       "      <th>count</th>\n",
       "      <td>12322.000000</td>\n",
       "      <td>12322.000000</td>\n",
       "      <td>12322.000000</td>\n",
       "      <td>12322.000000</td>\n",
       "      <td>12322.000000</td>\n",
       "      <td>12322.0</td>\n",
       "      <td>12322.000000</td>\n",
       "    </tr>\n",
       "    <tr>\n",
       "      <th>mean</th>\n",
       "      <td>0.086268</td>\n",
       "      <td>0.487096</td>\n",
       "      <td>0.519396</td>\n",
       "      <td>0.100308</td>\n",
       "      <td>0.030677</td>\n",
       "      <td>1.0</td>\n",
       "      <td>15.128794</td>\n",
       "    </tr>\n",
       "    <tr>\n",
       "      <th>std</th>\n",
       "      <td>0.280771</td>\n",
       "      <td>0.499854</td>\n",
       "      <td>0.499644</td>\n",
       "      <td>0.300423</td>\n",
       "      <td>0.172448</td>\n",
       "      <td>0.0</td>\n",
       "      <td>10.719231</td>\n",
       "    </tr>\n",
       "    <tr>\n",
       "      <th>min</th>\n",
       "      <td>0.000000</td>\n",
       "      <td>0.000000</td>\n",
       "      <td>0.000000</td>\n",
       "      <td>0.000000</td>\n",
       "      <td>0.000000</td>\n",
       "      <td>1.0</td>\n",
       "      <td>4.000000</td>\n",
       "    </tr>\n",
       "    <tr>\n",
       "      <th>25%</th>\n",
       "      <td>0.000000</td>\n",
       "      <td>0.000000</td>\n",
       "      <td>0.000000</td>\n",
       "      <td>0.000000</td>\n",
       "      <td>0.000000</td>\n",
       "      <td>1.0</td>\n",
       "      <td>7.000000</td>\n",
       "    </tr>\n",
       "    <tr>\n",
       "      <th>50%</th>\n",
       "      <td>0.000000</td>\n",
       "      <td>0.000000</td>\n",
       "      <td>1.000000</td>\n",
       "      <td>0.000000</td>\n",
       "      <td>0.000000</td>\n",
       "      <td>1.0</td>\n",
       "      <td>12.000000</td>\n",
       "    </tr>\n",
       "    <tr>\n",
       "      <th>75%</th>\n",
       "      <td>0.000000</td>\n",
       "      <td>1.000000</td>\n",
       "      <td>1.000000</td>\n",
       "      <td>0.000000</td>\n",
       "      <td>0.000000</td>\n",
       "      <td>1.0</td>\n",
       "      <td>21.000000</td>\n",
       "    </tr>\n",
       "    <tr>\n",
       "      <th>max</th>\n",
       "      <td>1.000000</td>\n",
       "      <td>1.000000</td>\n",
       "      <td>1.000000</td>\n",
       "      <td>1.000000</td>\n",
       "      <td>1.000000</td>\n",
       "      <td>1.0</td>\n",
       "      <td>49.000000</td>\n",
       "    </tr>\n",
       "  </tbody>\n",
       "</table>\n",
       "</div>"
      ],
      "text/plain": [
       "       identity_attack        insult       obscene  severe_toxicity  \\\n",
       "count     12322.000000  12322.000000  12322.000000     12322.000000   \n",
       "mean          0.086268      0.487096      0.519396         0.100308   \n",
       "std           0.280771      0.499854      0.499644         0.300423   \n",
       "min           0.000000      0.000000      0.000000         0.000000   \n",
       "25%           0.000000      0.000000      0.000000         0.000000   \n",
       "50%           0.000000      0.000000      1.000000         0.000000   \n",
       "75%           0.000000      1.000000      1.000000         0.000000   \n",
       "max           1.000000      1.000000      1.000000         1.000000   \n",
       "\n",
       "             threat  toxicity        wd_len  \n",
       "count  12322.000000   12322.0  12322.000000  \n",
       "mean       0.030677       1.0     15.128794  \n",
       "std        0.172448       0.0     10.719231  \n",
       "min        0.000000       1.0      4.000000  \n",
       "25%        0.000000       1.0      7.000000  \n",
       "50%        0.000000       1.0     12.000000  \n",
       "75%        0.000000       1.0     21.000000  \n",
       "max        1.000000       1.0     49.000000  "
      ]
     },
     "execution_count": 25,
     "metadata": {},
     "output_type": "execute_result"
    }
   ],
   "source": [
    "df_small=df_train_wiki_tox[(df_train_wiki_tox['wd_len']<50) & (df_train_wiki_tox['wd_len']>=4)]\n",
    "df_small[df_small['toxicity']==1].describe()"
   ]
  },
  {
   "cell_type": "markdown",
   "id": "62bbf378",
   "metadata": {},
   "source": [
    "#### Convert Categorical Variables with LabelEncoder"
   ]
  },
  {
   "cell_type": "code",
   "execution_count": 26,
   "id": "c4476def",
   "metadata": {},
   "outputs": [
    {
     "name": "stderr",
     "output_type": "stream",
     "text": [
      "<ipython-input-26-133a14ed500e>:6: SettingWithCopyWarning: \n",
      "A value is trying to be set on a copy of a slice from a DataFrame.\n",
      "Try using .loc[row_indexer,col_indexer] = value instead\n",
      "\n",
      "See the caveats in the documentation: https://pandas.pydata.org/pandas-docs/stable/user_guide/indexing.html#returning-a-view-versus-a-copy\n",
      "  df_small['new_toxicity'] = le.fit_transform(df_small['toxicity'].values)\n"
     ]
    },
    {
     "data": {
      "text/plain": [
       "0    108011\n",
       "1     12322\n",
       "Name: new_toxicity, dtype: int64"
      ]
     },
     "execution_count": 26,
     "metadata": {},
     "output_type": "execute_result"
    }
   ],
   "source": [
    "from sklearn import preprocessing\n",
    "# instatiate sklearn's labelencoder\n",
    "le = preprocessing.LabelEncoder()\n",
    "\n",
    "# fit label encorder and return encoded integer labels for categorical string features\n",
    "df_small['new_toxicity'] = le.fit_transform(df_small['toxicity'].values)\n",
    "df_small['new_toxicity'].value_counts()\n",
    "#df_3.pop('Results')"
   ]
  },
  {
   "cell_type": "markdown",
   "id": "63832812",
   "metadata": {},
   "source": [
    "### Random Under Sample Majority Class with Imbalance-Learn"
   ]
  },
  {
   "cell_type": "code",
   "execution_count": 27,
   "id": "0bd709d1",
   "metadata": {},
   "outputs": [],
   "source": [
    "#pip install imbalanced-learn"
   ]
  },
  {
   "cell_type": "code",
   "execution_count": 28,
   "id": "b97c3be0",
   "metadata": {},
   "outputs": [],
   "source": [
    "import imblearn\n",
    "from imblearn.under_sampling import RandomUnderSampler\n",
    "# define undersample strategy\n",
    "undersample = RandomUnderSampler(sampling_strategy='majority')"
   ]
  },
  {
   "cell_type": "code",
   "execution_count": 29,
   "id": "def7db9d",
   "metadata": {},
   "outputs": [
    {
     "data": {
      "text/html": [
       "<div>\n",
       "<style scoped>\n",
       "    .dataframe tbody tr th:only-of-type {\n",
       "        vertical-align: middle;\n",
       "    }\n",
       "\n",
       "    .dataframe tbody tr th {\n",
       "        vertical-align: top;\n",
       "    }\n",
       "\n",
       "    .dataframe thead th {\n",
       "        text-align: right;\n",
       "    }\n",
       "</style>\n",
       "<table border=\"1\" class=\"dataframe\">\n",
       "  <thead>\n",
       "    <tr style=\"text-align: right;\">\n",
       "      <th></th>\n",
       "      <th>identity_attack</th>\n",
       "      <th>insult</th>\n",
       "      <th>obscene</th>\n",
       "      <th>severe_toxicity</th>\n",
       "      <th>text</th>\n",
       "      <th>threat</th>\n",
       "      <th>toxicity</th>\n",
       "      <th>clean</th>\n",
       "      <th>wd_len</th>\n",
       "      <th>new_toxicity</th>\n",
       "    </tr>\n",
       "  </thead>\n",
       "  <tbody>\n",
       "    <tr>\n",
       "      <th>3</th>\n",
       "      <td>0.0</td>\n",
       "      <td>0.0</td>\n",
       "      <td>0.0</td>\n",
       "      <td>0.0</td>\n",
       "      <td>b\"I agree myself now, actually. (Amazing how t...</td>\n",
       "      <td>0.0</td>\n",
       "      <td>0.0</td>\n",
       "      <td>agree actually amazing deniars cant admit mist...</td>\n",
       "      <td>7</td>\n",
       "      <td>0</td>\n",
       "    </tr>\n",
       "    <tr>\n",
       "      <th>5</th>\n",
       "      <td>0.0</td>\n",
       "      <td>0.0</td>\n",
       "      <td>0.0</td>\n",
       "      <td>0.0</td>\n",
       "      <td>b'Asian Supremacy\\nYou voted to delete the art...</td>\n",
       "      <td>0.0</td>\n",
       "      <td>0.0</td>\n",
       "      <td>asian supremacy voted delete article asian sup...</td>\n",
       "      <td>15</td>\n",
       "      <td>0</td>\n",
       "    </tr>\n",
       "    <tr>\n",
       "      <th>8</th>\n",
       "      <td>0.0</td>\n",
       "      <td>0.0</td>\n",
       "      <td>0.0</td>\n",
       "      <td>0.0</td>\n",
       "      <td>b'Please stop. If you continue spamming you wi...</td>\n",
       "      <td>0.0</td>\n",
       "      <td>0.0</td>\n",
       "      <td>please stop continue spamming blocked editing ...</td>\n",
       "      <td>7</td>\n",
       "      <td>0</td>\n",
       "    </tr>\n",
       "    <tr>\n",
       "      <th>10</th>\n",
       "      <td>0.0</td>\n",
       "      <td>0.0</td>\n",
       "      <td>0.0</td>\n",
       "      <td>0.0</td>\n",
       "      <td>b'Not\\n\\na Goddamned thing, if you dont like i...</td>\n",
       "      <td>0.0</td>\n",
       "      <td>1.0</td>\n",
       "      <td>goddamned thing dont like becouse suck big fat...</td>\n",
       "      <td>10</td>\n",
       "      <td>1</td>\n",
       "    </tr>\n",
       "    <tr>\n",
       "      <th>13</th>\n",
       "      <td>1.0</td>\n",
       "      <td>1.0</td>\n",
       "      <td>0.0</td>\n",
       "      <td>0.0</td>\n",
       "      <td>b\"Singing is one thing, but you also need to s...</td>\n",
       "      <td>0.0</td>\n",
       "      <td>1.0</td>\n",
       "      <td>singing one thing also need show youre smart p...</td>\n",
       "      <td>12</td>\n",
       "      <td>1</td>\n",
       "    </tr>\n",
       "  </tbody>\n",
       "</table>\n",
       "</div>"
      ],
      "text/plain": [
       "    identity_attack  insult  obscene  severe_toxicity  \\\n",
       "3               0.0     0.0      0.0              0.0   \n",
       "5               0.0     0.0      0.0              0.0   \n",
       "8               0.0     0.0      0.0              0.0   \n",
       "10              0.0     0.0      0.0              0.0   \n",
       "13              1.0     1.0      0.0              0.0   \n",
       "\n",
       "                                                 text  threat  toxicity  \\\n",
       "3   b\"I agree myself now, actually. (Amazing how t...     0.0       0.0   \n",
       "5   b'Asian Supremacy\\nYou voted to delete the art...     0.0       0.0   \n",
       "8   b'Please stop. If you continue spamming you wi...     0.0       0.0   \n",
       "10  b'Not\\n\\na Goddamned thing, if you dont like i...     0.0       1.0   \n",
       "13  b\"Singing is one thing, but you also need to s...     0.0       1.0   \n",
       "\n",
       "                                                clean  wd_len  new_toxicity  \n",
       "3   agree actually amazing deniars cant admit mist...       7             0  \n",
       "5   asian supremacy voted delete article asian sup...      15             0  \n",
       "8   please stop continue spamming blocked editing ...       7             0  \n",
       "10  goddamned thing dont like becouse suck big fat...      10             1  \n",
       "13  singing one thing also need show youre smart p...      12             1  "
      ]
     },
     "execution_count": 29,
     "metadata": {},
     "output_type": "execute_result"
    }
   ],
   "source": [
    "df_small.head(5)"
   ]
  },
  {
   "cell_type": "code",
   "execution_count": 30,
   "id": "1d02dbd6",
   "metadata": {},
   "outputs": [],
   "source": [
    "#https://stackoverflow.com/questions/53723928/attributeerror-series-object-has-no-attribute-reshape\n",
    "X=df_small['clean']\n",
    "X=X.values.reshape(-1, 1)\n",
    "\n",
    "Y=df_small['new_toxicity']\n",
    "Y=Y.values.reshape(-1, 1)"
   ]
  },
  {
   "cell_type": "code",
   "execution_count": 31,
   "id": "5e4049b0",
   "metadata": {},
   "outputs": [],
   "source": [
    "X_under, y_under = undersample.fit_resample(X, Y)\n",
    "new_x=pd.DataFrame(X_under)[0]\n",
    "new_y=pd.DataFrame(y_under)[0]"
   ]
  },
  {
   "cell_type": "markdown",
   "id": "19cf8cb5",
   "metadata": {},
   "source": [
    "#### Vectorize the comments field"
   ]
  },
  {
   "cell_type": "code",
   "execution_count": 32,
   "id": "97a7b2cf",
   "metadata": {},
   "outputs": [],
   "source": [
    "# We will use two different vectorizer and compare the results \n",
    "from sklearn.feature_extraction.text import CountVectorizer\n",
    "from sklearn.feature_extraction.text import TfidfVectorizer"
   ]
  },
  {
   "cell_type": "code",
   "execution_count": 33,
   "id": "465fee48",
   "metadata": {},
   "outputs": [
    {
     "name": "stdout",
     "output_type": "stream",
     "text": [
      "Time elapsed: 0.297 seconds\n"
     ]
    }
   ],
   "source": [
    "import time\n",
    "t_start = time.time()\n",
    "\n",
    "ngram_vect = CountVectorizer(ngram_range=(1,1))\n",
    "X_counts = ngram_vect.fit_transform(new_x)\n",
    "\n",
    "t_stop = time.time()\n",
    "print('Time elapsed: {:.3f} seconds'.format(t_stop - t_start))"
   ]
  },
  {
   "cell_type": "code",
   "execution_count": 34,
   "id": "07f0651a",
   "metadata": {},
   "outputs": [
    {
     "name": "stdout",
     "output_type": "stream",
     "text": [
      "Time elapsed: 1.033 seconds\n"
     ]
    }
   ],
   "source": [
    "import time\n",
    "t_start = time.time()\n",
    "\n",
    "tfidf = TfidfVectorizer(sublinear_tf=True, min_df=5, norm='l2', encoding='latin-1', ngram_range=(1, 3), stop_words='english')\n",
    "X_tfidf = tfidf.fit_transform(new_x)\n",
    "\n",
    "t_stop = time.time()\n",
    "print('Time elapsed: {:.3f} seconds'.format(t_stop - t_start))"
   ]
  },
  {
   "cell_type": "markdown",
   "id": "3578b09e",
   "metadata": {},
   "source": [
    "### Attempt to use Word2Vec"
   ]
  },
  {
   "cell_type": "markdown",
   "id": "692541b2",
   "metadata": {},
   "source": [
    "#### Loading a Pre Trained Model"
   ]
  },
  {
   "cell_type": "code",
   "execution_count": 35,
   "id": "951f3144",
   "metadata": {},
   "outputs": [
    {
     "name": "stderr",
     "output_type": "stream",
     "text": [
      "C:\\Users\\Rober\\anaconda3\\lib\\site-packages\\gensim\\similarities\\__init__.py:15: UserWarning: The gensim.similarities.levenshtein submodule is disabled, because the optional Levenshtein package <https://pypi.org/project/python-Levenshtein/> is unavailable. Install Levenhstein (e.g. `pip install python-Levenshtein`) to suppress this warning.\n",
      "  warnings.warn(msg)\n"
     ]
    },
    {
     "data": {
      "text/html": [
       "<div>\n",
       "<style scoped>\n",
       "    .dataframe tbody tr th:only-of-type {\n",
       "        vertical-align: middle;\n",
       "    }\n",
       "\n",
       "    .dataframe tbody tr th {\n",
       "        vertical-align: top;\n",
       "    }\n",
       "\n",
       "    .dataframe thead th {\n",
       "        text-align: right;\n",
       "    }\n",
       "</style>\n",
       "<table border=\"1\" class=\"dataframe\">\n",
       "  <thead>\n",
       "    <tr style=\"text-align: right;\">\n",
       "      <th></th>\n",
       "      <th>file_size</th>\n",
       "      <th>base_dataset</th>\n",
       "      <th>parameters</th>\n",
       "    </tr>\n",
       "  </thead>\n",
       "  <tbody>\n",
       "    <tr>\n",
       "      <th>fasttext-wiki-news-subwords-300</th>\n",
       "      <td>1.005007e+09</td>\n",
       "      <td>Wikipedia 2017, UMBC webbase corpus and statmt...</td>\n",
       "      <td>{'dimension': 300}</td>\n",
       "    </tr>\n",
       "    <tr>\n",
       "      <th>conceptnet-numberbatch-17-06-300</th>\n",
       "      <td>1.225498e+09</td>\n",
       "      <td>ConceptNet, word2vec, GloVe, and OpenSubtitles...</td>\n",
       "      <td>{'dimension': 300}</td>\n",
       "    </tr>\n",
       "    <tr>\n",
       "      <th>word2vec-ruscorpora-300</th>\n",
       "      <td>2.084274e+08</td>\n",
       "      <td>Russian National Corpus (about 250M words)</td>\n",
       "      <td>{'dimension': 300, 'window_size': 10}</td>\n",
       "    </tr>\n",
       "    <tr>\n",
       "      <th>word2vec-google-news-300</th>\n",
       "      <td>1.743564e+09</td>\n",
       "      <td>Google News (about 100 billion words)</td>\n",
       "      <td>{'dimension': 300}</td>\n",
       "    </tr>\n",
       "    <tr>\n",
       "      <th>glove-wiki-gigaword-50</th>\n",
       "      <td>6.918254e+07</td>\n",
       "      <td>Wikipedia 2014 + Gigaword 5 (6B tokens, uncased)</td>\n",
       "      <td>{'dimension': 50}</td>\n",
       "    </tr>\n",
       "    <tr>\n",
       "      <th>glove-wiki-gigaword-100</th>\n",
       "      <td>1.343004e+08</td>\n",
       "      <td>Wikipedia 2014 + Gigaword 5 (6B tokens, uncased)</td>\n",
       "      <td>{'dimension': 100}</td>\n",
       "    </tr>\n",
       "    <tr>\n",
       "      <th>glove-wiki-gigaword-200</th>\n",
       "      <td>2.643369e+08</td>\n",
       "      <td>Wikipedia 2014 + Gigaword 5 (6B tokens, uncased)</td>\n",
       "      <td>{'dimension': 200}</td>\n",
       "    </tr>\n",
       "    <tr>\n",
       "      <th>glove-wiki-gigaword-300</th>\n",
       "      <td>3.943622e+08</td>\n",
       "      <td>Wikipedia 2014 + Gigaword 5 (6B tokens, uncased)</td>\n",
       "      <td>{'dimension': 300}</td>\n",
       "    </tr>\n",
       "    <tr>\n",
       "      <th>glove-twitter-25</th>\n",
       "      <td>1.098850e+08</td>\n",
       "      <td>Twitter (2B tweets, 27B tokens, 1.2M vocab, un...</td>\n",
       "      <td>{'dimension': 25}</td>\n",
       "    </tr>\n",
       "    <tr>\n",
       "      <th>glove-twitter-50</th>\n",
       "      <td>2.092169e+08</td>\n",
       "      <td>Twitter (2B tweets, 27B tokens, 1.2M vocab, un...</td>\n",
       "      <td>{'dimension': 50}</td>\n",
       "    </tr>\n",
       "    <tr>\n",
       "      <th>glove-twitter-100</th>\n",
       "      <td>4.059330e+08</td>\n",
       "      <td>Twitter (2B tweets, 27B tokens, 1.2M vocab, un...</td>\n",
       "      <td>{'dimension': 100}</td>\n",
       "    </tr>\n",
       "    <tr>\n",
       "      <th>glove-twitter-200</th>\n",
       "      <td>7.953731e+08</td>\n",
       "      <td>Twitter (2B tweets, 27B tokens, 1.2M vocab, un...</td>\n",
       "      <td>{'dimension': 200}</td>\n",
       "    </tr>\n",
       "    <tr>\n",
       "      <th>__testing_word2vec-matrix-synopsis</th>\n",
       "      <td>NaN</td>\n",
       "      <td>NaN</td>\n",
       "      <td>{'dimensions': 50}</td>\n",
       "    </tr>\n",
       "  </tbody>\n",
       "</table>\n",
       "</div>"
      ],
      "text/plain": [
       "                                       file_size  \\\n",
       "fasttext-wiki-news-subwords-300     1.005007e+09   \n",
       "conceptnet-numberbatch-17-06-300    1.225498e+09   \n",
       "word2vec-ruscorpora-300             2.084274e+08   \n",
       "word2vec-google-news-300            1.743564e+09   \n",
       "glove-wiki-gigaword-50              6.918254e+07   \n",
       "glove-wiki-gigaword-100             1.343004e+08   \n",
       "glove-wiki-gigaword-200             2.643369e+08   \n",
       "glove-wiki-gigaword-300             3.943622e+08   \n",
       "glove-twitter-25                    1.098850e+08   \n",
       "glove-twitter-50                    2.092169e+08   \n",
       "glove-twitter-100                   4.059330e+08   \n",
       "glove-twitter-200                   7.953731e+08   \n",
       "__testing_word2vec-matrix-synopsis           NaN   \n",
       "\n",
       "                                                                         base_dataset  \\\n",
       "fasttext-wiki-news-subwords-300     Wikipedia 2017, UMBC webbase corpus and statmt...   \n",
       "conceptnet-numberbatch-17-06-300    ConceptNet, word2vec, GloVe, and OpenSubtitles...   \n",
       "word2vec-ruscorpora-300                    Russian National Corpus (about 250M words)   \n",
       "word2vec-google-news-300                        Google News (about 100 billion words)   \n",
       "glove-wiki-gigaword-50               Wikipedia 2014 + Gigaword 5 (6B tokens, uncased)   \n",
       "glove-wiki-gigaword-100              Wikipedia 2014 + Gigaword 5 (6B tokens, uncased)   \n",
       "glove-wiki-gigaword-200              Wikipedia 2014 + Gigaword 5 (6B tokens, uncased)   \n",
       "glove-wiki-gigaword-300              Wikipedia 2014 + Gigaword 5 (6B tokens, uncased)   \n",
       "glove-twitter-25                    Twitter (2B tweets, 27B tokens, 1.2M vocab, un...   \n",
       "glove-twitter-50                    Twitter (2B tweets, 27B tokens, 1.2M vocab, un...   \n",
       "glove-twitter-100                   Twitter (2B tweets, 27B tokens, 1.2M vocab, un...   \n",
       "glove-twitter-200                   Twitter (2B tweets, 27B tokens, 1.2M vocab, un...   \n",
       "__testing_word2vec-matrix-synopsis                                                NaN   \n",
       "\n",
       "                                                               parameters  \n",
       "fasttext-wiki-news-subwords-300                        {'dimension': 300}  \n",
       "conceptnet-numberbatch-17-06-300                       {'dimension': 300}  \n",
       "word2vec-ruscorpora-300             {'dimension': 300, 'window_size': 10}  \n",
       "word2vec-google-news-300                               {'dimension': 300}  \n",
       "glove-wiki-gigaword-50                                  {'dimension': 50}  \n",
       "glove-wiki-gigaword-100                                {'dimension': 100}  \n",
       "glove-wiki-gigaword-200                                {'dimension': 200}  \n",
       "glove-wiki-gigaword-300                                {'dimension': 300}  \n",
       "glove-twitter-25                                        {'dimension': 25}  \n",
       "glove-twitter-50                                        {'dimension': 50}  \n",
       "glove-twitter-100                                      {'dimension': 100}  \n",
       "glove-twitter-200                                      {'dimension': 200}  \n",
       "__testing_word2vec-matrix-synopsis                     {'dimensions': 50}  "
      ]
     },
     "execution_count": 35,
     "metadata": {},
     "output_type": "execute_result"
    }
   ],
   "source": [
    "import gensim.downloader as api\n",
    "info_df = pd.DataFrame.from_dict(api.info()['models'], orient='index')\n",
    "info_df[['file_size', 'base_dataset', 'parameters']]"
   ]
  },
  {
   "cell_type": "code",
   "execution_count": 36,
   "id": "100107a2",
   "metadata": {},
   "outputs": [],
   "source": [
    "#model=api.load(\"fasttext-wiki-news-subwords-300\")\n",
    "model=api.load(\"glove-twitter-200\")\n",
    "#model=api.load(\"glove-wiki-gigaword-300\")"
   ]
  },
  {
   "cell_type": "markdown",
   "id": "c306320f",
   "metadata": {},
   "source": [
    "#### For each comment, Find Number of w2v vector embbeddings.\n",
    "    - Glove-twitter-25 giving division by 0 error when trying to average\n",
    "    - if Word isn't in a Glove Embedding Vocab list, error may be thrown"
   ]
  },
  {
   "cell_type": "code",
   "execution_count": 37,
   "id": "e62b424a",
   "metadata": {},
   "outputs": [],
   "source": [
    "def w2v_count(text):\n",
    "    #n=int(len(text)/4)\n",
    "    #n=10\n",
    "    n=len(text)\n",
    "    text_1=text[0:n]\n",
    "    vectors = [model[x] for x in text_1.split(' ') if x in model.key_to_index]\n",
    "    vec_count=len(vectors)\n",
    "    return vec_count"
   ]
  },
  {
   "cell_type": "code",
   "execution_count": 38,
   "id": "f8cb8978",
   "metadata": {},
   "outputs": [
    {
     "name": "stdout",
     "output_type": "stream",
     "text": [
      "Time elapsed: 2.123 seconds\n"
     ]
    },
    {
     "name": "stderr",
     "output_type": "stream",
     "text": [
      "<ipython-input-38-561d571c66b3>:4: SettingWithCopyWarning: \n",
      "A value is trying to be set on a copy of a slice from a DataFrame.\n",
      "Try using .loc[row_indexer,col_indexer] = value instead\n",
      "\n",
      "See the caveats in the documentation: https://pandas.pydata.org/pandas-docs/stable/user_guide/indexing.html#returning-a-view-versus-a-copy\n",
      "  df_small['w2v_count']=df_small['clean'].apply(lambda x: w2v_count(x))\n"
     ]
    }
   ],
   "source": [
    "import time\n",
    "t_start = time.time()\n",
    "\n",
    "df_small['w2v_count']=df_small['clean'].apply(lambda x: w2v_count(x))\n",
    "\n",
    "\n",
    "t_stop = time.time()\n",
    "print('Time elapsed: {:.3f} seconds'.format(t_stop - t_start))"
   ]
  },
  {
   "cell_type": "code",
   "execution_count": 39,
   "id": "6f2015a5",
   "metadata": {},
   "outputs": [
    {
     "data": {
      "text/html": [
       "<div>\n",
       "<style scoped>\n",
       "    .dataframe tbody tr th:only-of-type {\n",
       "        vertical-align: middle;\n",
       "    }\n",
       "\n",
       "    .dataframe tbody tr th {\n",
       "        vertical-align: top;\n",
       "    }\n",
       "\n",
       "    .dataframe thead th {\n",
       "        text-align: right;\n",
       "    }\n",
       "</style>\n",
       "<table border=\"1\" class=\"dataframe\">\n",
       "  <thead>\n",
       "    <tr style=\"text-align: right;\">\n",
       "      <th></th>\n",
       "      <th>identity_attack</th>\n",
       "      <th>insult</th>\n",
       "      <th>obscene</th>\n",
       "      <th>severe_toxicity</th>\n",
       "      <th>text</th>\n",
       "      <th>threat</th>\n",
       "      <th>toxicity</th>\n",
       "      <th>clean</th>\n",
       "      <th>wd_len</th>\n",
       "      <th>new_toxicity</th>\n",
       "      <th>w2v_count</th>\n",
       "    </tr>\n",
       "  </thead>\n",
       "  <tbody>\n",
       "    <tr>\n",
       "      <th>3</th>\n",
       "      <td>0.0</td>\n",
       "      <td>0.0</td>\n",
       "      <td>0.0</td>\n",
       "      <td>0.0</td>\n",
       "      <td>b\"I agree myself now, actually. (Amazing how t...</td>\n",
       "      <td>0.0</td>\n",
       "      <td>0.0</td>\n",
       "      <td>agree actually amazing deniars cant admit mist...</td>\n",
       "      <td>7</td>\n",
       "      <td>0</td>\n",
       "      <td>6</td>\n",
       "    </tr>\n",
       "    <tr>\n",
       "      <th>5</th>\n",
       "      <td>0.0</td>\n",
       "      <td>0.0</td>\n",
       "      <td>0.0</td>\n",
       "      <td>0.0</td>\n",
       "      <td>b'Asian Supremacy\\nYou voted to delete the art...</td>\n",
       "      <td>0.0</td>\n",
       "      <td>0.0</td>\n",
       "      <td>asian supremacy voted delete article asian sup...</td>\n",
       "      <td>15</td>\n",
       "      <td>0</td>\n",
       "      <td>13</td>\n",
       "    </tr>\n",
       "    <tr>\n",
       "      <th>8</th>\n",
       "      <td>0.0</td>\n",
       "      <td>0.0</td>\n",
       "      <td>0.0</td>\n",
       "      <td>0.0</td>\n",
       "      <td>b'Please stop. If you continue spamming you wi...</td>\n",
       "      <td>0.0</td>\n",
       "      <td>0.0</td>\n",
       "      <td>please stop continue spamming blocked editing ...</td>\n",
       "      <td>7</td>\n",
       "      <td>0</td>\n",
       "      <td>7</td>\n",
       "    </tr>\n",
       "    <tr>\n",
       "      <th>10</th>\n",
       "      <td>0.0</td>\n",
       "      <td>0.0</td>\n",
       "      <td>0.0</td>\n",
       "      <td>0.0</td>\n",
       "      <td>b'Not\\n\\na Goddamned thing, if you dont like i...</td>\n",
       "      <td>0.0</td>\n",
       "      <td>1.0</td>\n",
       "      <td>goddamned thing dont like becouse suck big fat...</td>\n",
       "      <td>10</td>\n",
       "      <td>1</td>\n",
       "      <td>8</td>\n",
       "    </tr>\n",
       "    <tr>\n",
       "      <th>13</th>\n",
       "      <td>1.0</td>\n",
       "      <td>1.0</td>\n",
       "      <td>0.0</td>\n",
       "      <td>0.0</td>\n",
       "      <td>b\"Singing is one thing, but you also need to s...</td>\n",
       "      <td>0.0</td>\n",
       "      <td>1.0</td>\n",
       "      <td>singing one thing also need show youre smart p...</td>\n",
       "      <td>12</td>\n",
       "      <td>1</td>\n",
       "      <td>12</td>\n",
       "    </tr>\n",
       "  </tbody>\n",
       "</table>\n",
       "</div>"
      ],
      "text/plain": [
       "    identity_attack  insult  obscene  severe_toxicity  \\\n",
       "3               0.0     0.0      0.0              0.0   \n",
       "5               0.0     0.0      0.0              0.0   \n",
       "8               0.0     0.0      0.0              0.0   \n",
       "10              0.0     0.0      0.0              0.0   \n",
       "13              1.0     1.0      0.0              0.0   \n",
       "\n",
       "                                                 text  threat  toxicity  \\\n",
       "3   b\"I agree myself now, actually. (Amazing how t...     0.0       0.0   \n",
       "5   b'Asian Supremacy\\nYou voted to delete the art...     0.0       0.0   \n",
       "8   b'Please stop. If you continue spamming you wi...     0.0       0.0   \n",
       "10  b'Not\\n\\na Goddamned thing, if you dont like i...     0.0       1.0   \n",
       "13  b\"Singing is one thing, but you also need to s...     0.0       1.0   \n",
       "\n",
       "                                                clean  wd_len  new_toxicity  \\\n",
       "3   agree actually amazing deniars cant admit mist...       7             0   \n",
       "5   asian supremacy voted delete article asian sup...      15             0   \n",
       "8   please stop continue spamming blocked editing ...       7             0   \n",
       "10  goddamned thing dont like becouse suck big fat...      10             1   \n",
       "13  singing one thing also need show youre smart p...      12             1   \n",
       "\n",
       "    w2v_count  \n",
       "3           6  \n",
       "5          13  \n",
       "8           7  \n",
       "10          8  \n",
       "13         12  "
      ]
     },
     "execution_count": 39,
     "metadata": {},
     "output_type": "execute_result"
    }
   ],
   "source": [
    "df_small.head(5)"
   ]
  },
  {
   "cell_type": "code",
   "execution_count": 40,
   "id": "964fe570",
   "metadata": {},
   "outputs": [
    {
     "data": {
      "text/html": [
       "<div>\n",
       "<style scoped>\n",
       "    .dataframe tbody tr th:only-of-type {\n",
       "        vertical-align: middle;\n",
       "    }\n",
       "\n",
       "    .dataframe tbody tr th {\n",
       "        vertical-align: top;\n",
       "    }\n",
       "\n",
       "    .dataframe thead th {\n",
       "        text-align: right;\n",
       "    }\n",
       "</style>\n",
       "<table border=\"1\" class=\"dataframe\">\n",
       "  <thead>\n",
       "    <tr style=\"text-align: right;\">\n",
       "      <th></th>\n",
       "      <th>identity_attack</th>\n",
       "      <th>insult</th>\n",
       "      <th>obscene</th>\n",
       "      <th>severe_toxicity</th>\n",
       "      <th>text</th>\n",
       "      <th>threat</th>\n",
       "      <th>toxicity</th>\n",
       "      <th>clean</th>\n",
       "      <th>wd_len</th>\n",
       "      <th>new_toxicity</th>\n",
       "      <th>w2v_count</th>\n",
       "    </tr>\n",
       "  </thead>\n",
       "  <tbody>\n",
       "  </tbody>\n",
       "</table>\n",
       "</div>"
      ],
      "text/plain": [
       "Empty DataFrame\n",
       "Columns: [identity_attack, insult, obscene, severe_toxicity, text, threat, toxicity, clean, wd_len, new_toxicity, w2v_count]\n",
       "Index: []"
      ]
     },
     "execution_count": 40,
     "metadata": {},
     "output_type": "execute_result"
    }
   ],
   "source": [
    "df_small=df_small[~(df_small['w2v_count']==0)]\n",
    "\n",
    "df_small[df_small['w2v_count']==0]"
   ]
  },
  {
   "cell_type": "code",
   "execution_count": 41,
   "id": "da6c97e5",
   "metadata": {},
   "outputs": [
    {
     "data": {
      "text/html": [
       "<div>\n",
       "<style scoped>\n",
       "    .dataframe tbody tr th:only-of-type {\n",
       "        vertical-align: middle;\n",
       "    }\n",
       "\n",
       "    .dataframe tbody tr th {\n",
       "        vertical-align: top;\n",
       "    }\n",
       "\n",
       "    .dataframe thead th {\n",
       "        text-align: right;\n",
       "    }\n",
       "</style>\n",
       "<table border=\"1\" class=\"dataframe\">\n",
       "  <thead>\n",
       "    <tr style=\"text-align: right;\">\n",
       "      <th></th>\n",
       "      <th>identity_attack</th>\n",
       "      <th>insult</th>\n",
       "      <th>obscene</th>\n",
       "      <th>severe_toxicity</th>\n",
       "      <th>text</th>\n",
       "      <th>threat</th>\n",
       "      <th>toxicity</th>\n",
       "      <th>clean</th>\n",
       "      <th>wd_len</th>\n",
       "      <th>new_toxicity</th>\n",
       "      <th>w2v_count</th>\n",
       "    </tr>\n",
       "  </thead>\n",
       "  <tbody>\n",
       "  </tbody>\n",
       "</table>\n",
       "</div>"
      ],
      "text/plain": [
       "Empty DataFrame\n",
       "Columns: [identity_attack, insult, obscene, severe_toxicity, text, threat, toxicity, clean, wd_len, new_toxicity, w2v_count]\n",
       "Index: []"
      ]
     },
     "execution_count": 41,
     "metadata": {},
     "output_type": "execute_result"
    }
   ],
   "source": [
    "df_small[df_small['w2v_count'].isnull()]"
   ]
  },
  {
   "cell_type": "markdown",
   "id": "23ae3d62",
   "metadata": {},
   "source": [
    "### Create Sentence Vector for each comment by Averaging the Word Vectors"
   ]
  },
  {
   "cell_type": "code",
   "execution_count": 42,
   "id": "5c3fbde6",
   "metadata": {},
   "outputs": [],
   "source": [
    "#average first 30 words in the sentence\n",
    "def sent_vectorizer_1(text):\n",
    "    #n=int(len(text)/4)\n",
    "    n=len(text)\n",
    "    text_1=text[0:n]\n",
    "    vectors = [model[x] for x in text_1.split(' ') if x in model.key_to_index]\n",
    "    #sent_vector=sum(vectors)/len(vectors)\n",
    "    sent_vector=sum(vectors)/len(vectors)\n",
    "    return sent_vector"
   ]
  },
  {
   "cell_type": "code",
   "execution_count": 43,
   "id": "ae7239b6",
   "metadata": {},
   "outputs": [
    {
     "data": {
      "text/html": [
       "<div>\n",
       "<style scoped>\n",
       "    .dataframe tbody tr th:only-of-type {\n",
       "        vertical-align: middle;\n",
       "    }\n",
       "\n",
       "    .dataframe tbody tr th {\n",
       "        vertical-align: top;\n",
       "    }\n",
       "\n",
       "    .dataframe thead th {\n",
       "        text-align: right;\n",
       "    }\n",
       "</style>\n",
       "<table border=\"1\" class=\"dataframe\">\n",
       "  <thead>\n",
       "    <tr style=\"text-align: right;\">\n",
       "      <th></th>\n",
       "      <th>text</th>\n",
       "    </tr>\n",
       "  </thead>\n",
       "  <tbody>\n",
       "    <tr>\n",
       "      <th>0</th>\n",
       "      <td>see response even shown wrong</td>\n",
       "    </tr>\n",
       "    <tr>\n",
       "      <th>1</th>\n",
       "      <td>march utc support consideration im persuaded p...</td>\n",
       "    </tr>\n",
       "    <tr>\n",
       "      <th>2</th>\n",
       "      <td>hellogoodbye group fit wp music guidelines see...</td>\n",
       "    </tr>\n",
       "    <tr>\n",
       "      <th>3</th>\n",
       "      <td>hard think characterize anime television movies</td>\n",
       "    </tr>\n",
       "    <tr>\n",
       "      <th>4</th>\n",
       "      <td>thats extremely generous statement really appr...</td>\n",
       "    </tr>\n",
       "    <tr>\n",
       "      <th>...</th>\n",
       "      <td>...</td>\n",
       "    </tr>\n",
       "    <tr>\n",
       "      <th>24639</th>\n",
       "      <td>oh shit stop sending warning fucking bitch</td>\n",
       "    </tr>\n",
       "    <tr>\n",
       "      <th>24640</th>\n",
       "      <td>hey thnk asshole love fuck momk day bitch stop...</td>\n",
       "    </tr>\n",
       "    <tr>\n",
       "      <th>24641</th>\n",
       "      <td>mean say im big fucknig idiot dont know im tal...</td>\n",
       "    </tr>\n",
       "    <tr>\n",
       "      <th>24642</th>\n",
       "      <td>hey freaking hermaphrodite please unprotect us...</td>\n",
       "    </tr>\n",
       "    <tr>\n",
       "      <th>24643</th>\n",
       "      <td>dear idiot talk page place comments wikipedia ...</td>\n",
       "    </tr>\n",
       "  </tbody>\n",
       "</table>\n",
       "<p>24644 rows × 1 columns</p>\n",
       "</div>"
      ],
      "text/plain": [
       "                                                    text\n",
       "0                          see response even shown wrong\n",
       "1      march utc support consideration im persuaded p...\n",
       "2      hellogoodbye group fit wp music guidelines see...\n",
       "3        hard think characterize anime television movies\n",
       "4      thats extremely generous statement really appr...\n",
       "...                                                  ...\n",
       "24639         oh shit stop sending warning fucking bitch\n",
       "24640  hey thnk asshole love fuck momk day bitch stop...\n",
       "24641  mean say im big fucknig idiot dont know im tal...\n",
       "24642  hey freaking hermaphrodite please unprotect us...\n",
       "24643  dear idiot talk page place comments wikipedia ...\n",
       "\n",
       "[24644 rows x 1 columns]"
      ]
     },
     "execution_count": 43,
     "metadata": {},
     "output_type": "execute_result"
    }
   ],
   "source": [
    "df_glove=pd.DataFrame(X_under)\n",
    "df_glove.columns=['text']\n",
    "df_glove"
   ]
  },
  {
   "cell_type": "code",
   "execution_count": 44,
   "id": "4b434b3b",
   "metadata": {},
   "outputs": [
    {
     "name": "stdout",
     "output_type": "stream",
     "text": [
      "Time elapsed: 0.638 seconds\n"
     ]
    }
   ],
   "source": [
    "import time\n",
    "t_start = time.time()\n",
    "\n",
    "df_glove['sent_vec_1']=df_glove['text'].apply(lambda x: sent_vectorizer_1(x))\n",
    "\n",
    "t_stop = time.time()\n",
    "print('Time elapsed: {:.3f} seconds'.format(t_stop - t_start))"
   ]
  },
  {
   "cell_type": "code",
   "execution_count": 45,
   "id": "7c671bbb",
   "metadata": {},
   "outputs": [
    {
     "data": {
      "text/html": [
       "<div>\n",
       "<style scoped>\n",
       "    .dataframe tbody tr th:only-of-type {\n",
       "        vertical-align: middle;\n",
       "    }\n",
       "\n",
       "    .dataframe tbody tr th {\n",
       "        vertical-align: top;\n",
       "    }\n",
       "\n",
       "    .dataframe thead th {\n",
       "        text-align: right;\n",
       "    }\n",
       "</style>\n",
       "<table border=\"1\" class=\"dataframe\">\n",
       "  <thead>\n",
       "    <tr style=\"text-align: right;\">\n",
       "      <th></th>\n",
       "      <th>text</th>\n",
       "      <th>sent_vec_1</th>\n",
       "    </tr>\n",
       "  </thead>\n",
       "  <tbody>\n",
       "    <tr>\n",
       "      <th>0</th>\n",
       "      <td>see response even shown wrong</td>\n",
       "      <td>[0.25602293, 0.548796, -0.1334894, 0.1457315, ...</td>\n",
       "    </tr>\n",
       "    <tr>\n",
       "      <th>1</th>\n",
       "      <td>march utc support consideration im persuaded p...</td>\n",
       "      <td>[-0.21406098, 0.10721781, 0.018127155, 0.07136...</td>\n",
       "    </tr>\n",
       "    <tr>\n",
       "      <th>2</th>\n",
       "      <td>hellogoodbye group fit wp music guidelines see...</td>\n",
       "      <td>[0.013949432, 0.09732015, -0.19174816, -0.0877...</td>\n",
       "    </tr>\n",
       "    <tr>\n",
       "      <th>3</th>\n",
       "      <td>hard think characterize anime television movies</td>\n",
       "      <td>[-0.33022836, 0.25121668, -0.14000435, 0.09471...</td>\n",
       "    </tr>\n",
       "    <tr>\n",
       "      <th>4</th>\n",
       "      <td>thats extremely generous statement really appr...</td>\n",
       "      <td>[-0.0332057, 0.0867291, -0.25914812, 0.2293022...</td>\n",
       "    </tr>\n",
       "  </tbody>\n",
       "</table>\n",
       "</div>"
      ],
      "text/plain": [
       "                                                text  \\\n",
       "0                      see response even shown wrong   \n",
       "1  march utc support consideration im persuaded p...   \n",
       "2  hellogoodbye group fit wp music guidelines see...   \n",
       "3    hard think characterize anime television movies   \n",
       "4  thats extremely generous statement really appr...   \n",
       "\n",
       "                                          sent_vec_1  \n",
       "0  [0.25602293, 0.548796, -0.1334894, 0.1457315, ...  \n",
       "1  [-0.21406098, 0.10721781, 0.018127155, 0.07136...  \n",
       "2  [0.013949432, 0.09732015, -0.19174816, -0.0877...  \n",
       "3  [-0.33022836, 0.25121668, -0.14000435, 0.09471...  \n",
       "4  [-0.0332057, 0.0867291, -0.25914812, 0.2293022...  "
      ]
     },
     "execution_count": 45,
     "metadata": {},
     "output_type": "execute_result"
    }
   ],
   "source": [
    "df_glove.head(5)"
   ]
  },
  {
   "cell_type": "code",
   "execution_count": 46,
   "id": "f04f3c7a",
   "metadata": {},
   "outputs": [
    {
     "data": {
      "text/plain": [
       "(200,)"
      ]
     },
     "execution_count": 46,
     "metadata": {},
     "output_type": "execute_result"
    }
   ],
   "source": [
    "df_glove['sent_vec_1'][0].shape"
   ]
  },
  {
   "cell_type": "markdown",
   "id": "62ef6afb",
   "metadata": {},
   "source": [
    "#### Creates Data Frame where 1 sentence is 1 Row, with 300 columns"
   ]
  },
  {
   "cell_type": "code",
   "execution_count": 47,
   "id": "c69d25a6",
   "metadata": {},
   "outputs": [],
   "source": [
    "X_glove=df_glove['sent_vec_1']"
   ]
  },
  {
   "cell_type": "code",
   "execution_count": 48,
   "id": "ea6bbc79",
   "metadata": {},
   "outputs": [
    {
     "data": {
      "text/plain": [
       "0        [0.25602293, 0.548796, -0.1334894, 0.1457315, ...\n",
       "1        [-0.21406098, 0.10721781, 0.018127155, 0.07136...\n",
       "2        [0.013949432, 0.09732015, -0.19174816, -0.0877...\n",
       "3        [-0.33022836, 0.25121668, -0.14000435, 0.09471...\n",
       "4        [-0.0332057, 0.0867291, -0.25914812, 0.2293022...\n",
       "                               ...                        \n",
       "24639    [-0.0006926571, -0.010100176, -0.17168571, 0.2...\n",
       "24640    [-0.02970289, 0.07527779, -0.1928437, 0.173557...\n",
       "24641    [-0.11130978, 0.27983445, -0.22667803, 0.03470...\n",
       "24642    [0.2741383, 0.20433381, -0.18258347, 0.2004280...\n",
       "24643    [0.077536255, 0.062970884, -0.41715834, -0.123...\n",
       "Name: sent_vec_1, Length: 24644, dtype: object"
      ]
     },
     "execution_count": 48,
     "metadata": {},
     "output_type": "execute_result"
    }
   ],
   "source": [
    "X_glove"
   ]
  },
  {
   "cell_type": "code",
   "execution_count": 49,
   "id": "9ab93fda",
   "metadata": {},
   "outputs": [
    {
     "data": {
      "text/html": [
       "<div>\n",
       "<style scoped>\n",
       "    .dataframe tbody tr th:only-of-type {\n",
       "        vertical-align: middle;\n",
       "    }\n",
       "\n",
       "    .dataframe tbody tr th {\n",
       "        vertical-align: top;\n",
       "    }\n",
       "\n",
       "    .dataframe thead th {\n",
       "        text-align: right;\n",
       "    }\n",
       "</style>\n",
       "<table border=\"1\" class=\"dataframe\">\n",
       "  <thead>\n",
       "    <tr style=\"text-align: right;\">\n",
       "      <th></th>\n",
       "      <th>0</th>\n",
       "      <th>1</th>\n",
       "      <th>2</th>\n",
       "      <th>3</th>\n",
       "      <th>4</th>\n",
       "      <th>5</th>\n",
       "      <th>6</th>\n",
       "      <th>7</th>\n",
       "      <th>8</th>\n",
       "      <th>9</th>\n",
       "      <th>...</th>\n",
       "      <th>190</th>\n",
       "      <th>191</th>\n",
       "      <th>192</th>\n",
       "      <th>193</th>\n",
       "      <th>194</th>\n",
       "      <th>195</th>\n",
       "      <th>196</th>\n",
       "      <th>197</th>\n",
       "      <th>198</th>\n",
       "      <th>199</th>\n",
       "    </tr>\n",
       "  </thead>\n",
       "  <tbody>\n",
       "    <tr>\n",
       "      <th>0</th>\n",
       "      <td>-0.214061</td>\n",
       "      <td>0.107218</td>\n",
       "      <td>0.018127</td>\n",
       "      <td>0.071368</td>\n",
       "      <td>-0.117432</td>\n",
       "      <td>0.046965</td>\n",
       "      <td>0.391355</td>\n",
       "      <td>-0.038413</td>\n",
       "      <td>-0.058615</td>\n",
       "      <td>-0.169199</td>\n",
       "      <td>...</td>\n",
       "      <td>0.030161</td>\n",
       "      <td>-0.127712</td>\n",
       "      <td>0.017261</td>\n",
       "      <td>-0.029607</td>\n",
       "      <td>0.163949</td>\n",
       "      <td>-0.05541</td>\n",
       "      <td>0.204772</td>\n",
       "      <td>0.227586</td>\n",
       "      <td>0.100651</td>\n",
       "      <td>-0.155534</td>\n",
       "    </tr>\n",
       "  </tbody>\n",
       "</table>\n",
       "<p>1 rows × 200 columns</p>\n",
       "</div>"
      ],
      "text/plain": [
       "        0         1         2         3         4         5         6    \\\n",
       "0 -0.214061  0.107218  0.018127  0.071368 -0.117432  0.046965  0.391355   \n",
       "\n",
       "        7         8         9    ...       190       191       192       193  \\\n",
       "0 -0.038413 -0.058615 -0.169199  ...  0.030161 -0.127712  0.017261 -0.029607   \n",
       "\n",
       "        194      195       196       197       198       199  \n",
       "0  0.163949 -0.05541  0.204772  0.227586  0.100651 -0.155534  \n",
       "\n",
       "[1 rows x 200 columns]"
      ]
     },
     "execution_count": 49,
     "metadata": {},
     "output_type": "execute_result"
    }
   ],
   "source": [
    "pd.DataFrame(X_glove[1]).T"
   ]
  },
  {
   "cell_type": "code",
   "execution_count": 50,
   "id": "bac18bf5",
   "metadata": {},
   "outputs": [
    {
     "name": "stdout",
     "output_type": "stream",
     "text": [
      "Time elapsed: 60.978 seconds\n"
     ]
    }
   ],
   "source": [
    "import time\n",
    "t_start = time.time()\n",
    "\n",
    "ddd=pd.DataFrame()\n",
    "\n",
    "\n",
    "for idx, row in enumerate(X_glove):\n",
    "    #print((roww))\n",
    "    #print(list(roww))\n",
    "    row_df=pd.Series(X_glove[idx]).to_frame()\n",
    "    row_df_2=row_df.T\n",
    "    ddd=pd.concat([ddd, row_df_2])\n",
    "    #row_df= pd.DataFrame(roww)\n",
    "#     row_df_2=row_df.T\n",
    "#     ddd=pd.concat([ddd, row_df_2])\n",
    "    \n",
    "t_stop = time.time()\n",
    "print('Time elapsed: {:.3f} seconds'.format(t_stop - t_start))"
   ]
  },
  {
   "cell_type": "code",
   "execution_count": 51,
   "id": "48755a56",
   "metadata": {},
   "outputs": [],
   "source": [
    "# import time\n",
    "# t_start = time.time()\n",
    "\n",
    "# ddd=pd.DataFrame()\n",
    "\n",
    "\n",
    "# for roww in X_glove:\n",
    "#     row_df= pd.DataFrame(roww)\n",
    "# #     row_df_2=row_df.T\n",
    "# #     ddd=pd.concat([ddd, row_df_2])\n",
    "    \n",
    "# t_stop = time.time()\n",
    "# print('Time elapsed: {:.3f} seconds'.format(t_stop - t_start))"
   ]
  },
  {
   "cell_type": "code",
   "execution_count": 52,
   "id": "711f3932",
   "metadata": {},
   "outputs": [],
   "source": [
    "# import time\n",
    "# t_start = time.time()\n",
    "\n",
    "# ddd=pd.DataFrame()\n",
    "\n",
    "\n",
    "# for idx, row in enumerate(X_glove):\n",
    "#     row_df= pd.DataFrame(list(X_glove[idx]))\n",
    "#     row_df_2=row_df.T\n",
    "#     ddd=pd.concat([ddd, row_df_2])\n",
    "    \n",
    "# t_stop = time.time()\n",
    "# print('Time elapsed: {:.3f} seconds'.format(t_stop - t_start))"
   ]
  },
  {
   "cell_type": "code",
   "execution_count": 53,
   "id": "dbe54132",
   "metadata": {},
   "outputs": [
    {
     "data": {
      "text/html": [
       "<div>\n",
       "<style scoped>\n",
       "    .dataframe tbody tr th:only-of-type {\n",
       "        vertical-align: middle;\n",
       "    }\n",
       "\n",
       "    .dataframe tbody tr th {\n",
       "        vertical-align: top;\n",
       "    }\n",
       "\n",
       "    .dataframe thead th {\n",
       "        text-align: right;\n",
       "    }\n",
       "</style>\n",
       "<table border=\"1\" class=\"dataframe\">\n",
       "  <thead>\n",
       "    <tr style=\"text-align: right;\">\n",
       "      <th></th>\n",
       "      <th>0</th>\n",
       "      <th>1</th>\n",
       "      <th>2</th>\n",
       "      <th>3</th>\n",
       "      <th>4</th>\n",
       "      <th>5</th>\n",
       "      <th>6</th>\n",
       "      <th>7</th>\n",
       "      <th>8</th>\n",
       "      <th>9</th>\n",
       "      <th>...</th>\n",
       "      <th>190</th>\n",
       "      <th>191</th>\n",
       "      <th>192</th>\n",
       "      <th>193</th>\n",
       "      <th>194</th>\n",
       "      <th>195</th>\n",
       "      <th>196</th>\n",
       "      <th>197</th>\n",
       "      <th>198</th>\n",
       "      <th>199</th>\n",
       "    </tr>\n",
       "  </thead>\n",
       "  <tbody>\n",
       "    <tr>\n",
       "      <th>0</th>\n",
       "      <td>0.256023</td>\n",
       "      <td>0.548796</td>\n",
       "      <td>-0.133489</td>\n",
       "      <td>0.145731</td>\n",
       "      <td>-0.269238</td>\n",
       "      <td>0.203628</td>\n",
       "      <td>0.825758</td>\n",
       "      <td>-0.052676</td>\n",
       "      <td>0.088207</td>\n",
       "      <td>0.135616</td>\n",
       "      <td>...</td>\n",
       "      <td>0.144189</td>\n",
       "      <td>0.060836</td>\n",
       "      <td>-0.038994</td>\n",
       "      <td>-0.038041</td>\n",
       "      <td>-0.118163</td>\n",
       "      <td>-0.130914</td>\n",
       "      <td>0.264701</td>\n",
       "      <td>0.232962</td>\n",
       "      <td>-0.158296</td>\n",
       "      <td>0.074786</td>\n",
       "    </tr>\n",
       "    <tr>\n",
       "      <th>1</th>\n",
       "      <td>-0.214061</td>\n",
       "      <td>0.107218</td>\n",
       "      <td>0.018127</td>\n",
       "      <td>0.071368</td>\n",
       "      <td>-0.117432</td>\n",
       "      <td>0.046965</td>\n",
       "      <td>0.391355</td>\n",
       "      <td>-0.038413</td>\n",
       "      <td>-0.058615</td>\n",
       "      <td>-0.169199</td>\n",
       "      <td>...</td>\n",
       "      <td>0.030161</td>\n",
       "      <td>-0.127712</td>\n",
       "      <td>0.017261</td>\n",
       "      <td>-0.029607</td>\n",
       "      <td>0.163949</td>\n",
       "      <td>-0.055410</td>\n",
       "      <td>0.204772</td>\n",
       "      <td>0.227586</td>\n",
       "      <td>0.100651</td>\n",
       "      <td>-0.155534</td>\n",
       "    </tr>\n",
       "    <tr>\n",
       "      <th>2</th>\n",
       "      <td>0.013949</td>\n",
       "      <td>0.097320</td>\n",
       "      <td>-0.191748</td>\n",
       "      <td>-0.087734</td>\n",
       "      <td>0.010000</td>\n",
       "      <td>0.092650</td>\n",
       "      <td>0.433449</td>\n",
       "      <td>-0.070452</td>\n",
       "      <td>0.025765</td>\n",
       "      <td>-0.059897</td>\n",
       "      <td>...</td>\n",
       "      <td>0.150045</td>\n",
       "      <td>0.069794</td>\n",
       "      <td>-0.013194</td>\n",
       "      <td>-0.192171</td>\n",
       "      <td>-0.082390</td>\n",
       "      <td>0.061117</td>\n",
       "      <td>0.009106</td>\n",
       "      <td>-0.094965</td>\n",
       "      <td>-0.077508</td>\n",
       "      <td>-0.050455</td>\n",
       "    </tr>\n",
       "    <tr>\n",
       "      <th>3</th>\n",
       "      <td>-0.330228</td>\n",
       "      <td>0.251217</td>\n",
       "      <td>-0.140004</td>\n",
       "      <td>0.094717</td>\n",
       "      <td>-0.102628</td>\n",
       "      <td>0.207892</td>\n",
       "      <td>0.560136</td>\n",
       "      <td>0.081909</td>\n",
       "      <td>-0.067729</td>\n",
       "      <td>-0.176588</td>\n",
       "      <td>...</td>\n",
       "      <td>0.324535</td>\n",
       "      <td>-0.238284</td>\n",
       "      <td>0.154233</td>\n",
       "      <td>-0.157447</td>\n",
       "      <td>0.274149</td>\n",
       "      <td>-0.103156</td>\n",
       "      <td>0.299821</td>\n",
       "      <td>0.335903</td>\n",
       "      <td>-0.298206</td>\n",
       "      <td>-0.039643</td>\n",
       "    </tr>\n",
       "    <tr>\n",
       "      <th>4</th>\n",
       "      <td>-0.033206</td>\n",
       "      <td>0.086729</td>\n",
       "      <td>-0.259148</td>\n",
       "      <td>0.229302</td>\n",
       "      <td>-0.136010</td>\n",
       "      <td>0.171194</td>\n",
       "      <td>0.826041</td>\n",
       "      <td>-0.079200</td>\n",
       "      <td>-0.189213</td>\n",
       "      <td>0.235390</td>\n",
       "      <td>...</td>\n",
       "      <td>-0.238981</td>\n",
       "      <td>0.136882</td>\n",
       "      <td>0.128670</td>\n",
       "      <td>-0.330064</td>\n",
       "      <td>0.165727</td>\n",
       "      <td>-0.069668</td>\n",
       "      <td>0.190101</td>\n",
       "      <td>0.221357</td>\n",
       "      <td>-0.096475</td>\n",
       "      <td>0.075426</td>\n",
       "    </tr>\n",
       "    <tr>\n",
       "      <th>...</th>\n",
       "      <td>...</td>\n",
       "      <td>...</td>\n",
       "      <td>...</td>\n",
       "      <td>...</td>\n",
       "      <td>...</td>\n",
       "      <td>...</td>\n",
       "      <td>...</td>\n",
       "      <td>...</td>\n",
       "      <td>...</td>\n",
       "      <td>...</td>\n",
       "      <td>...</td>\n",
       "      <td>...</td>\n",
       "      <td>...</td>\n",
       "      <td>...</td>\n",
       "      <td>...</td>\n",
       "      <td>...</td>\n",
       "      <td>...</td>\n",
       "      <td>...</td>\n",
       "      <td>...</td>\n",
       "      <td>...</td>\n",
       "      <td>...</td>\n",
       "    </tr>\n",
       "    <tr>\n",
       "      <th>24639</th>\n",
       "      <td>-0.000693</td>\n",
       "      <td>-0.010100</td>\n",
       "      <td>-0.171686</td>\n",
       "      <td>0.234525</td>\n",
       "      <td>-0.315118</td>\n",
       "      <td>-0.178255</td>\n",
       "      <td>0.725657</td>\n",
       "      <td>-0.193514</td>\n",
       "      <td>0.021417</td>\n",
       "      <td>0.074256</td>\n",
       "      <td>...</td>\n",
       "      <td>-0.124529</td>\n",
       "      <td>0.011785</td>\n",
       "      <td>-0.042029</td>\n",
       "      <td>-0.174985</td>\n",
       "      <td>0.102043</td>\n",
       "      <td>-0.164421</td>\n",
       "      <td>-0.115038</td>\n",
       "      <td>0.299221</td>\n",
       "      <td>-0.262173</td>\n",
       "      <td>0.164890</td>\n",
       "    </tr>\n",
       "    <tr>\n",
       "      <th>24640</th>\n",
       "      <td>-0.029703</td>\n",
       "      <td>0.075278</td>\n",
       "      <td>-0.192844</td>\n",
       "      <td>0.173557</td>\n",
       "      <td>-0.317697</td>\n",
       "      <td>0.027553</td>\n",
       "      <td>0.586033</td>\n",
       "      <td>0.003623</td>\n",
       "      <td>-0.173318</td>\n",
       "      <td>-0.016344</td>\n",
       "      <td>...</td>\n",
       "      <td>-0.188177</td>\n",
       "      <td>-0.019557</td>\n",
       "      <td>0.104378</td>\n",
       "      <td>-0.056509</td>\n",
       "      <td>0.062338</td>\n",
       "      <td>0.004061</td>\n",
       "      <td>0.055333</td>\n",
       "      <td>0.077142</td>\n",
       "      <td>-0.031156</td>\n",
       "      <td>-0.011319</td>\n",
       "    </tr>\n",
       "    <tr>\n",
       "      <th>24641</th>\n",
       "      <td>-0.111310</td>\n",
       "      <td>0.279834</td>\n",
       "      <td>-0.226678</td>\n",
       "      <td>0.034706</td>\n",
       "      <td>-0.479491</td>\n",
       "      <td>0.268407</td>\n",
       "      <td>0.595935</td>\n",
       "      <td>0.138169</td>\n",
       "      <td>-0.105890</td>\n",
       "      <td>0.099937</td>\n",
       "      <td>...</td>\n",
       "      <td>-0.125019</td>\n",
       "      <td>-0.144211</td>\n",
       "      <td>-0.039458</td>\n",
       "      <td>-0.199564</td>\n",
       "      <td>-0.282779</td>\n",
       "      <td>-0.103154</td>\n",
       "      <td>0.082755</td>\n",
       "      <td>0.166261</td>\n",
       "      <td>-0.223747</td>\n",
       "      <td>-0.039260</td>\n",
       "    </tr>\n",
       "    <tr>\n",
       "      <th>24642</th>\n",
       "      <td>0.274138</td>\n",
       "      <td>0.204334</td>\n",
       "      <td>-0.182583</td>\n",
       "      <td>0.200428</td>\n",
       "      <td>-0.144160</td>\n",
       "      <td>-0.275146</td>\n",
       "      <td>0.735209</td>\n",
       "      <td>-0.091255</td>\n",
       "      <td>0.057478</td>\n",
       "      <td>-0.122834</td>\n",
       "      <td>...</td>\n",
       "      <td>0.041739</td>\n",
       "      <td>0.152065</td>\n",
       "      <td>0.223568</td>\n",
       "      <td>0.031745</td>\n",
       "      <td>0.009557</td>\n",
       "      <td>-0.285519</td>\n",
       "      <td>0.048324</td>\n",
       "      <td>0.079253</td>\n",
       "      <td>0.162412</td>\n",
       "      <td>-0.212603</td>\n",
       "    </tr>\n",
       "    <tr>\n",
       "      <th>24643</th>\n",
       "      <td>0.077536</td>\n",
       "      <td>0.062971</td>\n",
       "      <td>-0.417158</td>\n",
       "      <td>-0.123441</td>\n",
       "      <td>-0.120428</td>\n",
       "      <td>-0.220386</td>\n",
       "      <td>0.566640</td>\n",
       "      <td>-0.020194</td>\n",
       "      <td>-0.014127</td>\n",
       "      <td>0.101088</td>\n",
       "      <td>...</td>\n",
       "      <td>0.373777</td>\n",
       "      <td>0.081116</td>\n",
       "      <td>0.174912</td>\n",
       "      <td>0.050200</td>\n",
       "      <td>-0.011625</td>\n",
       "      <td>0.198727</td>\n",
       "      <td>0.025720</td>\n",
       "      <td>0.095285</td>\n",
       "      <td>-0.090026</td>\n",
       "      <td>-0.289837</td>\n",
       "    </tr>\n",
       "  </tbody>\n",
       "</table>\n",
       "<p>24644 rows × 200 columns</p>\n",
       "</div>"
      ],
      "text/plain": [
       "            0         1         2         3         4         5         6    \\\n",
       "0      0.256023  0.548796 -0.133489  0.145731 -0.269238  0.203628  0.825758   \n",
       "1     -0.214061  0.107218  0.018127  0.071368 -0.117432  0.046965  0.391355   \n",
       "2      0.013949  0.097320 -0.191748 -0.087734  0.010000  0.092650  0.433449   \n",
       "3     -0.330228  0.251217 -0.140004  0.094717 -0.102628  0.207892  0.560136   \n",
       "4     -0.033206  0.086729 -0.259148  0.229302 -0.136010  0.171194  0.826041   \n",
       "...         ...       ...       ...       ...       ...       ...       ...   \n",
       "24639 -0.000693 -0.010100 -0.171686  0.234525 -0.315118 -0.178255  0.725657   \n",
       "24640 -0.029703  0.075278 -0.192844  0.173557 -0.317697  0.027553  0.586033   \n",
       "24641 -0.111310  0.279834 -0.226678  0.034706 -0.479491  0.268407  0.595935   \n",
       "24642  0.274138  0.204334 -0.182583  0.200428 -0.144160 -0.275146  0.735209   \n",
       "24643  0.077536  0.062971 -0.417158 -0.123441 -0.120428 -0.220386  0.566640   \n",
       "\n",
       "            7         8         9    ...       190       191       192  \\\n",
       "0     -0.052676  0.088207  0.135616  ...  0.144189  0.060836 -0.038994   \n",
       "1     -0.038413 -0.058615 -0.169199  ...  0.030161 -0.127712  0.017261   \n",
       "2     -0.070452  0.025765 -0.059897  ...  0.150045  0.069794 -0.013194   \n",
       "3      0.081909 -0.067729 -0.176588  ...  0.324535 -0.238284  0.154233   \n",
       "4     -0.079200 -0.189213  0.235390  ... -0.238981  0.136882  0.128670   \n",
       "...         ...       ...       ...  ...       ...       ...       ...   \n",
       "24639 -0.193514  0.021417  0.074256  ... -0.124529  0.011785 -0.042029   \n",
       "24640  0.003623 -0.173318 -0.016344  ... -0.188177 -0.019557  0.104378   \n",
       "24641  0.138169 -0.105890  0.099937  ... -0.125019 -0.144211 -0.039458   \n",
       "24642 -0.091255  0.057478 -0.122834  ...  0.041739  0.152065  0.223568   \n",
       "24643 -0.020194 -0.014127  0.101088  ...  0.373777  0.081116  0.174912   \n",
       "\n",
       "            193       194       195       196       197       198       199  \n",
       "0     -0.038041 -0.118163 -0.130914  0.264701  0.232962 -0.158296  0.074786  \n",
       "1     -0.029607  0.163949 -0.055410  0.204772  0.227586  0.100651 -0.155534  \n",
       "2     -0.192171 -0.082390  0.061117  0.009106 -0.094965 -0.077508 -0.050455  \n",
       "3     -0.157447  0.274149 -0.103156  0.299821  0.335903 -0.298206 -0.039643  \n",
       "4     -0.330064  0.165727 -0.069668  0.190101  0.221357 -0.096475  0.075426  \n",
       "...         ...       ...       ...       ...       ...       ...       ...  \n",
       "24639 -0.174985  0.102043 -0.164421 -0.115038  0.299221 -0.262173  0.164890  \n",
       "24640 -0.056509  0.062338  0.004061  0.055333  0.077142 -0.031156 -0.011319  \n",
       "24641 -0.199564 -0.282779 -0.103154  0.082755  0.166261 -0.223747 -0.039260  \n",
       "24642  0.031745  0.009557 -0.285519  0.048324  0.079253  0.162412 -0.212603  \n",
       "24643  0.050200 -0.011625  0.198727  0.025720  0.095285 -0.090026 -0.289837  \n",
       "\n",
       "[24644 rows x 200 columns]"
      ]
     },
     "execution_count": 53,
     "metadata": {},
     "output_type": "execute_result"
    }
   ],
   "source": [
    "df_glove_avg=ddd.reset_index()\n",
    "df_glove_avg.pop('index')\n",
    "df_glove_avg"
   ]
  },
  {
   "cell_type": "markdown",
   "id": "0dce5996",
   "metadata": {},
   "source": [
    "### Import necessary Sci Kit Learn tools and models "
   ]
  },
  {
   "cell_type": "code",
   "execution_count": 54,
   "id": "ca6e500e",
   "metadata": {},
   "outputs": [],
   "source": [
    "# import necessary tools and models \n",
    "import seaborn as sns\n",
    "import matplotlib.pyplot as plt \n",
    "\n",
    "import sklearn.model_selection as cv\n",
    "from sklearn.model_selection import cross_val_score\n",
    "import numpy as np\n",
    "\n",
    "from sklearn.metrics import classification_report, confusion_matrix, roc_auc_score\n",
    "\n",
    "from sklearn.naive_bayes import MultinomialNB\n",
    "from sklearn.linear_model import LogisticRegression\n",
    "from sklearn.ensemble import RandomForestClassifier\n",
    "from sklearn.svm import LinearSVC"
   ]
  },
  {
   "cell_type": "markdown",
   "id": "006e6897",
   "metadata": {},
   "source": [
    "#### count vectorizer and tf-idf - separate train - test data "
   ]
  },
  {
   "cell_type": "code",
   "execution_count": 55,
   "id": "9f334678",
   "metadata": {},
   "outputs": [],
   "source": [
    "# separate train - test data \n",
    "X_train_count, X_test_count, y_train_count, y_test_count = cv.train_test_split(X_counts, new_y,test_size=0.3)\n",
    "X_train_tfidf, X_test_tfidf, y_train_tfidf, y_test_tfidf = cv.train_test_split(X_tfidf, new_y,test_size=0.3)"
   ]
  },
  {
   "cell_type": "markdown",
   "id": "59a784ed",
   "metadata": {},
   "source": [
    "#### Glove_twitter_200 - separate train - test data  "
   ]
  },
  {
   "cell_type": "code",
   "execution_count": 56,
   "id": "24c68ceb",
   "metadata": {},
   "outputs": [],
   "source": [
    "# separate train - test data \n",
    "X_train_g200, X_test_g200, y_train_g200, y_test_g200 = cv.train_test_split(df_glove_avg, new_y,test_size=0.3)"
   ]
  },
  {
   "cell_type": "code",
   "execution_count": 57,
   "id": "d362444f",
   "metadata": {},
   "outputs": [
    {
     "data": {
      "text/html": [
       "<div>\n",
       "<style scoped>\n",
       "    .dataframe tbody tr th:only-of-type {\n",
       "        vertical-align: middle;\n",
       "    }\n",
       "\n",
       "    .dataframe tbody tr th {\n",
       "        vertical-align: top;\n",
       "    }\n",
       "\n",
       "    .dataframe thead th {\n",
       "        text-align: right;\n",
       "    }\n",
       "</style>\n",
       "<table border=\"1\" class=\"dataframe\">\n",
       "  <thead>\n",
       "    <tr style=\"text-align: right;\">\n",
       "      <th></th>\n",
       "      <th>0</th>\n",
       "      <th>1</th>\n",
       "      <th>2</th>\n",
       "      <th>3</th>\n",
       "      <th>4</th>\n",
       "      <th>5</th>\n",
       "      <th>6</th>\n",
       "      <th>7</th>\n",
       "      <th>8</th>\n",
       "      <th>9</th>\n",
       "      <th>...</th>\n",
       "      <th>190</th>\n",
       "      <th>191</th>\n",
       "      <th>192</th>\n",
       "      <th>193</th>\n",
       "      <th>194</th>\n",
       "      <th>195</th>\n",
       "      <th>196</th>\n",
       "      <th>197</th>\n",
       "      <th>198</th>\n",
       "      <th>199</th>\n",
       "    </tr>\n",
       "  </thead>\n",
       "  <tbody>\n",
       "    <tr>\n",
       "      <th>14539</th>\n",
       "      <td>-0.155388</td>\n",
       "      <td>-0.028550</td>\n",
       "      <td>0.080992</td>\n",
       "      <td>0.098197</td>\n",
       "      <td>-0.239538</td>\n",
       "      <td>-0.103675</td>\n",
       "      <td>0.633023</td>\n",
       "      <td>0.013386</td>\n",
       "      <td>-0.149904</td>\n",
       "      <td>0.042774</td>\n",
       "      <td>...</td>\n",
       "      <td>-0.180187</td>\n",
       "      <td>-0.097633</td>\n",
       "      <td>-0.024490</td>\n",
       "      <td>-0.013727</td>\n",
       "      <td>0.195070</td>\n",
       "      <td>-0.226349</td>\n",
       "      <td>0.024500</td>\n",
       "      <td>0.179037</td>\n",
       "      <td>-0.472310</td>\n",
       "      <td>-0.035736</td>\n",
       "    </tr>\n",
       "    <tr>\n",
       "      <th>1785</th>\n",
       "      <td>0.075912</td>\n",
       "      <td>0.015900</td>\n",
       "      <td>-0.088552</td>\n",
       "      <td>0.057448</td>\n",
       "      <td>-0.058147</td>\n",
       "      <td>-0.051739</td>\n",
       "      <td>0.584067</td>\n",
       "      <td>-0.170541</td>\n",
       "      <td>-0.012940</td>\n",
       "      <td>-0.171898</td>\n",
       "      <td>...</td>\n",
       "      <td>-0.047185</td>\n",
       "      <td>-0.120478</td>\n",
       "      <td>-0.054281</td>\n",
       "      <td>-0.028379</td>\n",
       "      <td>-0.160569</td>\n",
       "      <td>-0.170509</td>\n",
       "      <td>0.188436</td>\n",
       "      <td>0.218891</td>\n",
       "      <td>0.047601</td>\n",
       "      <td>-0.090245</td>\n",
       "    </tr>\n",
       "    <tr>\n",
       "      <th>13308</th>\n",
       "      <td>-0.011421</td>\n",
       "      <td>0.016827</td>\n",
       "      <td>-0.054947</td>\n",
       "      <td>-0.111022</td>\n",
       "      <td>-0.213810</td>\n",
       "      <td>0.018195</td>\n",
       "      <td>0.576860</td>\n",
       "      <td>0.009050</td>\n",
       "      <td>0.206444</td>\n",
       "      <td>0.030811</td>\n",
       "      <td>...</td>\n",
       "      <td>0.061470</td>\n",
       "      <td>-0.034180</td>\n",
       "      <td>-0.005259</td>\n",
       "      <td>-0.055378</td>\n",
       "      <td>0.350391</td>\n",
       "      <td>-0.199795</td>\n",
       "      <td>-0.022791</td>\n",
       "      <td>0.064306</td>\n",
       "      <td>-0.346736</td>\n",
       "      <td>0.101325</td>\n",
       "    </tr>\n",
       "    <tr>\n",
       "      <th>21137</th>\n",
       "      <td>-0.172435</td>\n",
       "      <td>0.115570</td>\n",
       "      <td>-0.002855</td>\n",
       "      <td>0.211503</td>\n",
       "      <td>-0.234628</td>\n",
       "      <td>0.111648</td>\n",
       "      <td>0.719515</td>\n",
       "      <td>0.078101</td>\n",
       "      <td>-0.131696</td>\n",
       "      <td>0.155718</td>\n",
       "      <td>...</td>\n",
       "      <td>-0.149831</td>\n",
       "      <td>0.103369</td>\n",
       "      <td>-0.439345</td>\n",
       "      <td>-0.301483</td>\n",
       "      <td>-0.167592</td>\n",
       "      <td>-0.037520</td>\n",
       "      <td>0.206848</td>\n",
       "      <td>0.128153</td>\n",
       "      <td>-0.156917</td>\n",
       "      <td>0.045826</td>\n",
       "    </tr>\n",
       "    <tr>\n",
       "      <th>11611</th>\n",
       "      <td>0.094686</td>\n",
       "      <td>0.205950</td>\n",
       "      <td>-0.247784</td>\n",
       "      <td>0.063700</td>\n",
       "      <td>-0.108464</td>\n",
       "      <td>0.134081</td>\n",
       "      <td>0.734314</td>\n",
       "      <td>-0.053308</td>\n",
       "      <td>0.130628</td>\n",
       "      <td>0.055416</td>\n",
       "      <td>...</td>\n",
       "      <td>0.086618</td>\n",
       "      <td>0.093148</td>\n",
       "      <td>0.000201</td>\n",
       "      <td>-0.101456</td>\n",
       "      <td>0.205325</td>\n",
       "      <td>-0.152134</td>\n",
       "      <td>0.111463</td>\n",
       "      <td>0.192653</td>\n",
       "      <td>0.118144</td>\n",
       "      <td>-0.049623</td>\n",
       "    </tr>\n",
       "  </tbody>\n",
       "</table>\n",
       "<p>5 rows × 200 columns</p>\n",
       "</div>"
      ],
      "text/plain": [
       "            0         1         2         3         4         5         6    \\\n",
       "14539 -0.155388 -0.028550  0.080992  0.098197 -0.239538 -0.103675  0.633023   \n",
       "1785   0.075912  0.015900 -0.088552  0.057448 -0.058147 -0.051739  0.584067   \n",
       "13308 -0.011421  0.016827 -0.054947 -0.111022 -0.213810  0.018195  0.576860   \n",
       "21137 -0.172435  0.115570 -0.002855  0.211503 -0.234628  0.111648  0.719515   \n",
       "11611  0.094686  0.205950 -0.247784  0.063700 -0.108464  0.134081  0.734314   \n",
       "\n",
       "            7         8         9    ...       190       191       192  \\\n",
       "14539  0.013386 -0.149904  0.042774  ... -0.180187 -0.097633 -0.024490   \n",
       "1785  -0.170541 -0.012940 -0.171898  ... -0.047185 -0.120478 -0.054281   \n",
       "13308  0.009050  0.206444  0.030811  ...  0.061470 -0.034180 -0.005259   \n",
       "21137  0.078101 -0.131696  0.155718  ... -0.149831  0.103369 -0.439345   \n",
       "11611 -0.053308  0.130628  0.055416  ...  0.086618  0.093148  0.000201   \n",
       "\n",
       "            193       194       195       196       197       198       199  \n",
       "14539 -0.013727  0.195070 -0.226349  0.024500  0.179037 -0.472310 -0.035736  \n",
       "1785  -0.028379 -0.160569 -0.170509  0.188436  0.218891  0.047601 -0.090245  \n",
       "13308 -0.055378  0.350391 -0.199795 -0.022791  0.064306 -0.346736  0.101325  \n",
       "21137 -0.301483 -0.167592 -0.037520  0.206848  0.128153 -0.156917  0.045826  \n",
       "11611 -0.101456  0.205325 -0.152134  0.111463  0.192653  0.118144 -0.049623  \n",
       "\n",
       "[5 rows x 200 columns]"
      ]
     },
     "execution_count": 57,
     "metadata": {},
     "output_type": "execute_result"
    }
   ],
   "source": [
    "X_train_g200.head(5)"
   ]
  },
  {
   "cell_type": "code",
   "execution_count": 58,
   "id": "fd4aa7ce",
   "metadata": {},
   "outputs": [
    {
     "name": "stdout",
     "output_type": "stream",
     "text": [
      "<class 'pandas.core.frame.DataFrame'>\n",
      "Int64Index: 17250 entries, 14539 to 18880\n",
      "Columns: 200 entries, 0 to 199\n",
      "dtypes: float32(200)\n",
      "memory usage: 13.3 MB\n"
     ]
    }
   ],
   "source": [
    "X_train_g200.info()"
   ]
  },
  {
   "cell_type": "markdown",
   "id": "e789a9e8",
   "metadata": {},
   "source": [
    "#### Naive Bayes Classifier with Glove_twitter_200"
   ]
  },
  {
   "cell_type": "code",
   "execution_count": 59,
   "id": "eb19bdb9",
   "metadata": {},
   "outputs": [],
   "source": [
    "# import time\n",
    "# t_start = time.time()\n",
    "\n",
    "# # Instantiate NB\n",
    "# nb_g200 = MultinomialNB()\n",
    "# # Fit NB to the training set\n",
    "# nb_g200.fit(X_train_g200,y_train_g200)\n",
    "# # Predict Pass or Fail inspect \n",
    "# y_pred_g200 = nb_g200.predict(X_test_g200)\n",
    "\n",
    "# # Predict probabilities\n",
    "# # probs = nb_count.predict_proba(X_test_count)\n",
    "\n",
    "# # Print the ROC curve, classification report and confusion matrix\n",
    "# # print(roc_auc_score(y_test_count, probs[:,1]))\n",
    "# print(classification_report(y_test_g200, y_pred_g200))\n",
    "# print(confusion_matrix(y_test_g200, y_pred_g200))\n",
    "\n",
    "# t_stop = time.time()\n",
    "# print('Time elapsed: {:.3f} seconds'.format(t_stop - t_start))"
   ]
  },
  {
   "cell_type": "markdown",
   "id": "9a206914",
   "metadata": {},
   "source": [
    "#### Naive Bayes Classifier with count vectorizer"
   ]
  },
  {
   "cell_type": "code",
   "execution_count": 60,
   "id": "5a8dd512",
   "metadata": {},
   "outputs": [
    {
     "name": "stdout",
     "output_type": "stream",
     "text": [
      "              precision    recall  f1-score   support\n",
      "\n",
      "           0       0.90      0.86      0.88      3657\n",
      "           1       0.87      0.90      0.89      3737\n",
      "\n",
      "    accuracy                           0.88      7394\n",
      "   macro avg       0.89      0.88      0.88      7394\n",
      "weighted avg       0.89      0.88      0.88      7394\n",
      "\n",
      "[[3163  494]\n",
      " [ 358 3379]]\n",
      "Time elapsed: 0.017 seconds\n"
     ]
    }
   ],
   "source": [
    "import time\n",
    "t_start = time.time()\n",
    "\n",
    "# Instantiate NB\n",
    "nb_count = MultinomialNB()\n",
    "# Fit NB to the training set\n",
    "nb_count.fit(X_train_count,y_train_count)\n",
    "# Predict Pass or Fail inspect \n",
    "y_pred_count = nb_count.predict(X_test_count)\n",
    "\n",
    "# Predict probabilities\n",
    "# probs = nb_count.predict_proba(X_test_count)\n",
    "\n",
    "# Print the ROC curve, classification report and confusion matrix\n",
    "# print(roc_auc_score(y_test_count, probs[:,1]))\n",
    "print(classification_report(y_test_count, y_pred_count))\n",
    "print(confusion_matrix(y_test_count, y_pred_count))\n",
    "\n",
    "t_stop = time.time()\n",
    "print('Time elapsed: {:.3f} seconds'.format(t_stop - t_start))"
   ]
  },
  {
   "cell_type": "markdown",
   "id": "64d8ee1c",
   "metadata": {},
   "source": [
    "#### Naive Bayes Classifier with tfidf"
   ]
  },
  {
   "cell_type": "code",
   "execution_count": 61,
   "id": "2225097c",
   "metadata": {},
   "outputs": [
    {
     "name": "stdout",
     "output_type": "stream",
     "text": [
      "              precision    recall  f1-score   support\n",
      "\n",
      "           0       0.87      0.88      0.87      3656\n",
      "           1       0.88      0.87      0.88      3738\n",
      "\n",
      "    accuracy                           0.88      7394\n",
      "   macro avg       0.88      0.88      0.88      7394\n",
      "weighted avg       0.88      0.88      0.88      7394\n",
      "\n",
      "[[3204  452]\n",
      " [ 470 3268]]\n"
     ]
    }
   ],
   "source": [
    "from sklearn.naive_bayes import MultinomialNB\n",
    "# Instantiate NB\n",
    "nb_tfidf = MultinomialNB()\n",
    "# Fit NB to the training set\n",
    "nb_tfidf.fit(X_train_tfidf,y_train_tfidf)\n",
    "# Predict Pass or Fail inspect \n",
    "y_pred_tfidf = nb_tfidf.predict(X_test_tfidf)\n",
    "\n",
    "# Predict probabilities\n",
    "#probs = nb_tfidf.predict_proba(X_test_tfidf)\n",
    "\n",
    "# Print the ROC curve, classification report and confusion matrix\n",
    "#print(roc_auc_score(y_test_count, probs[:,1]))\n",
    "print(classification_report(y_test_tfidf, y_pred_tfidf))\n",
    "print(confusion_matrix(y_test_tfidf, y_pred_tfidf))"
   ]
  },
  {
   "cell_type": "markdown",
   "id": "50950d4a",
   "metadata": {},
   "source": [
    "#### Logistic Regression with Glove_twitter_200"
   ]
  },
  {
   "cell_type": "code",
   "execution_count": 62,
   "id": "6e514923",
   "metadata": {},
   "outputs": [
    {
     "name": "stdout",
     "output_type": "stream",
     "text": [
      "              precision    recall  f1-score   support\n",
      "\n",
      "           0       0.88      0.89      0.88      3675\n",
      "           1       0.89      0.87      0.88      3719\n",
      "\n",
      "    accuracy                           0.88      7394\n",
      "   macro avg       0.88      0.88      0.88      7394\n",
      "weighted avg       0.88      0.88      0.88      7394\n",
      "\n",
      "[[3283  392]\n",
      " [ 466 3253]]\n",
      "Time elapsed: 0.412 seconds\n"
     ]
    }
   ],
   "source": [
    "import time\n",
    "t_start = time.time()\n",
    "\n",
    "# Instantiate LR with count vectorizer\n",
    "lr_g200 = LogisticRegression(random_state=0, max_iter=2000)\n",
    "# Fit LR to the training set\n",
    "lr_g200.fit(X_train_g200,y_train_g200)\n",
    "# Predict Pass or Fail inspect \n",
    "y_pred_g200 = lr_g200.predict(X_test_g200)\n",
    "\n",
    "# Predict probabilities\n",
    "# probs = lr_count.predict_proba(X_test_count)\n",
    "\n",
    "# Print the ROC curve, classification report and confusion matrix\n",
    "# print(roc_auc_score(y_test_count, probs[:,1]))\n",
    "print(classification_report(y_test_g200, y_pred_g200))\n",
    "print(confusion_matrix(y_test_g200, y_pred_g200))\n",
    "\n",
    "t_stop = time.time()\n",
    "print('Time elapsed: {:.3f} seconds'.format(t_stop - t_start))"
   ]
  },
  {
   "cell_type": "markdown",
   "id": "82f079a7",
   "metadata": {},
   "source": [
    "#### Logistic Regression with count vectorizer"
   ]
  },
  {
   "cell_type": "code",
   "execution_count": 63,
   "id": "da93feff",
   "metadata": {},
   "outputs": [
    {
     "name": "stdout",
     "output_type": "stream",
     "text": [
      "              precision    recall  f1-score   support\n",
      "\n",
      "           0       0.87      0.92      0.90      3657\n",
      "           1       0.92      0.87      0.89      3737\n",
      "\n",
      "    accuracy                           0.90      7394\n",
      "   macro avg       0.90      0.90      0.90      7394\n",
      "weighted avg       0.90      0.90      0.90      7394\n",
      "\n",
      "[[3375  282]\n",
      " [ 489 3248]]\n",
      "Time elapsed: 0.334 seconds\n"
     ]
    }
   ],
   "source": [
    "import time\n",
    "t_start = time.time()\n",
    "\n",
    "# Instantiate LR with count vectorizer\n",
    "lr_count = LogisticRegression(random_state=0, max_iter=2000)\n",
    "# Fit LR to the training set\n",
    "lr_count.fit(X_train_count,y_train_count)\n",
    "# Predict Pass or Fail inspect \n",
    "y_pred_count = lr_count.predict(X_test_count)\n",
    "\n",
    "# Predict probabilities\n",
    "# probs = lr_count.predict_proba(X_test_count)\n",
    "\n",
    "# Print the ROC curve, classification report and confusion matrix\n",
    "# print(roc_auc_score(y_test_count, probs[:,1]))\n",
    "print(classification_report(y_test_count, y_pred_count))\n",
    "print(confusion_matrix(y_test_count, y_pred_count))\n",
    "\n",
    "t_stop = time.time()\n",
    "print('Time elapsed: {:.3f} seconds'.format(t_stop - t_start))"
   ]
  },
  {
   "cell_type": "markdown",
   "id": "0c735c71",
   "metadata": {},
   "source": [
    "#### Logistic Regression with tfidf"
   ]
  },
  {
   "cell_type": "code",
   "execution_count": 64,
   "id": "f258eb47",
   "metadata": {},
   "outputs": [
    {
     "name": "stdout",
     "output_type": "stream",
     "text": [
      "              precision    recall  f1-score   support\n",
      "\n",
      "           0       0.85      0.92      0.88      3656\n",
      "           1       0.91      0.84      0.87      3738\n",
      "\n",
      "    accuracy                           0.88      7394\n",
      "   macro avg       0.88      0.88      0.88      7394\n",
      "weighted avg       0.88      0.88      0.88      7394\n",
      "\n",
      "[[3347  309]\n",
      " [ 597 3141]]\n",
      "Time elapsed: 0.111 seconds\n"
     ]
    }
   ],
   "source": [
    "import time\n",
    "t_start = time.time()\n",
    "\n",
    "# Instantiate LR with tfidf\n",
    "lr_tfidf = LogisticRegression(random_state=0, max_iter=3000)\n",
    "# Fit LR to the training set\n",
    "lr_tfidf.fit(X_train_tfidf,y_train_tfidf)\n",
    "# Predict Pass or Fail inspect \n",
    "y_pred_tfidf = lr_tfidf.predict(X_test_tfidf)\n",
    "\n",
    "# Predict probabilities\n",
    "#probs = lr_tfidf.predict_proba(X_test_tfidf)\n",
    "\n",
    "# Print the ROC curve, classification report and confusion matrix\n",
    "\n",
    "#print(roc_auc_score(y_test_count, probs[:,1]))\n",
    "print(classification_report(y_test_tfidf, y_pred_tfidf))\n",
    "print(confusion_matrix(y_test_tfidf, y_pred_tfidf))\n",
    "\n",
    "t_stop = time.time()\n",
    "print('Time elapsed: {:.3f} seconds'.format(t_stop - t_start))"
   ]
  },
  {
   "cell_type": "markdown",
   "id": "a2e833a1",
   "metadata": {},
   "source": [
    "#### LinearSVC with  Glove_twitter_200"
   ]
  },
  {
   "cell_type": "code",
   "execution_count": 65,
   "id": "7fc9c1f2",
   "metadata": {},
   "outputs": [
    {
     "name": "stdout",
     "output_type": "stream",
     "text": [
      "              precision    recall  f1-score   support\n",
      "\n",
      "           0       0.87      0.89      0.88      3675\n",
      "           1       0.89      0.87      0.88      3719\n",
      "\n",
      "    accuracy                           0.88      7394\n",
      "   macro avg       0.88      0.88      0.88      7394\n",
      "weighted avg       0.88      0.88      0.88      7394\n",
      "\n",
      "[[3289  386]\n",
      " [ 473 3246]]\n",
      "Time elapsed: 5.150 seconds\n"
     ]
    },
    {
     "name": "stderr",
     "output_type": "stream",
     "text": [
      "C:\\Users\\Rober\\anaconda3\\lib\\site-packages\\sklearn\\svm\\_base.py:985: ConvergenceWarning: Liblinear failed to converge, increase the number of iterations.\n",
      "  warnings.warn(\"Liblinear failed to converge, increase \"\n"
     ]
    }
   ],
   "source": [
    "import time\n",
    "t_start = time.time()\n",
    "\n",
    "# Instantiate LinearSVC with count vectorizer\n",
    "svc_g200 = LinearSVC()\n",
    "# Fit LinearSVC to the training set\n",
    "svc_g200.fit(X_train_g200,y_train_g200)\n",
    "# Predict Pass or Fail inspect \n",
    "y_pred_g200 = svc_g200.predict(X_test_g200)\n",
    "\n",
    "# Predict probabilities\n",
    "# probs = svc_count.predict_proba(X_test_count)\n",
    "\n",
    "# Print the ROC curve, classification report and confusion matrix\n",
    "# print(roc_auc_score(y_test_count, probs[:,1]))\n",
    "print(classification_report(y_test_g200, y_pred_g200))\n",
    "print(confusion_matrix(y_test_g200, y_pred_g200))\n",
    "\n",
    "t_stop = time.time()\n",
    "print('Time elapsed: {:.3f} seconds'.format(t_stop - t_start))"
   ]
  },
  {
   "cell_type": "markdown",
   "id": "dfa444cc",
   "metadata": {},
   "source": [
    "#### LinearSVC with count vectorizer"
   ]
  },
  {
   "cell_type": "code",
   "execution_count": 66,
   "id": "41a0110e",
   "metadata": {},
   "outputs": [
    {
     "name": "stdout",
     "output_type": "stream",
     "text": [
      "              precision    recall  f1-score   support\n",
      "\n",
      "           0       0.87      0.90      0.89      3657\n",
      "           1       0.90      0.87      0.89      3737\n",
      "\n",
      "    accuracy                           0.89      7394\n",
      "   macro avg       0.89      0.89      0.89      7394\n",
      "weighted avg       0.89      0.89      0.89      7394\n",
      "\n",
      "[[3293  364]\n",
      " [ 480 3257]]\n",
      "Time elapsed: 0.359 seconds\n"
     ]
    }
   ],
   "source": [
    "import time\n",
    "t_start = time.time()\n",
    "\n",
    "# Instantiate LinearSVC with count vectorizer\n",
    "svc_count = LinearSVC()\n",
    "# Fit LinearSVC to the training set\n",
    "svc_count.fit(X_train_count,y_train_count)\n",
    "# Predict Pass or Fail inspect \n",
    "y_pred_count = svc_count.predict(X_test_count)\n",
    "\n",
    "# Predict probabilities\n",
    "# probs = svc_count.predict_proba(X_test_count)\n",
    "\n",
    "# Print the ROC curve, classification report and confusion matrix\n",
    "# print(roc_auc_score(y_test_count, probs[:,1]))\n",
    "print(classification_report(y_test_count, y_pred_count))\n",
    "print(confusion_matrix(y_test_count, y_pred_count))\n",
    "\n",
    "t_stop = time.time()\n",
    "print('Time elapsed: {:.3f} seconds'.format(t_stop - t_start))"
   ]
  },
  {
   "cell_type": "markdown",
   "id": "37eff71a",
   "metadata": {},
   "source": [
    "#### LinearSVC with tfidf"
   ]
  },
  {
   "cell_type": "code",
   "execution_count": 67,
   "id": "430ffc2c",
   "metadata": {},
   "outputs": [
    {
     "name": "stdout",
     "output_type": "stream",
     "text": [
      "              precision    recall  f1-score   support\n",
      "\n",
      "           0       0.87      0.91      0.89      3656\n",
      "           1       0.91      0.86      0.88      3738\n",
      "\n",
      "    accuracy                           0.89      7394\n",
      "   macro avg       0.89      0.89      0.89      7394\n",
      "weighted avg       0.89      0.89      0.89      7394\n",
      "\n",
      "[[3332  324]\n",
      " [ 519 3219]]\n",
      "Time elapsed: 0.042 seconds\n"
     ]
    }
   ],
   "source": [
    "import time\n",
    "t_start = time.time()\n",
    "\n",
    "svc_tfidf = LinearSVC()\n",
    "# Fit LR to the training set\n",
    "svc_tfidf.fit(X_train_tfidf,y_train_tfidf)\n",
    "# Predict Pass or Fail inspect \n",
    "y_pred_tfidf = svc_tfidf.predict(X_test_tfidf)\n",
    "\n",
    "# Predict probabilities\n",
    "#probs = lr_tfidf.predict_proba(X_test_tfidf)\n",
    "\n",
    "# Print the ROC curve, classification report and confusion matrix\n",
    "\n",
    "#print(roc_auc_score(y_test_count, probs[:,1]))\n",
    "print(classification_report(y_test_tfidf, y_pred_tfidf))\n",
    "print(confusion_matrix(y_test_tfidf, y_pred_tfidf))\n",
    "\n",
    "t_stop = time.time()\n",
    "print('Time elapsed: {:.3f} seconds'.format(t_stop - t_start))"
   ]
  },
  {
   "cell_type": "markdown",
   "id": "88451078",
   "metadata": {},
   "source": [
    "#### Random Forest with Glove_twitter_200"
   ]
  },
  {
   "cell_type": "code",
   "execution_count": 68,
   "id": "50ad0f64",
   "metadata": {},
   "outputs": [
    {
     "name": "stdout",
     "output_type": "stream",
     "text": [
      "              precision    recall  f1-score   support\n",
      "\n",
      "           0       0.86      0.88      0.87      3675\n",
      "           1       0.88      0.85      0.87      3719\n",
      "\n",
      "    accuracy                           0.87      7394\n",
      "   macro avg       0.87      0.87      0.87      7394\n",
      "weighted avg       0.87      0.87      0.87      7394\n",
      "\n",
      "[[3226  449]\n",
      " [ 542 3177]]\n",
      "Time elapsed: 29.366 seconds\n"
     ]
    }
   ],
   "source": [
    "import time\n",
    "t_start = time.time()\n",
    "\n",
    "# Instantiate RF\n",
    "#rf_w2v = RandomForestClassifier(n_estimators=1000, max_features= None, n_jobs=-1)\n",
    "rf_g200 = RandomForestClassifier(n_estimators=2000, n_jobs=-1)\n",
    "# Fit NB to the training set\n",
    "rf_g200.fit(X_train_g200,y_train_g200)\n",
    "# Predict Pass or Fail inspect \n",
    "y_pred_g200 = rf_g200.predict(X_test_g200)\n",
    "\n",
    "\n",
    "# Predict probabilities\n",
    "# probs = nb_count.predict_proba(X_test_count)\n",
    "\n",
    "# Print the ROC curve, classification report and confusion matrix\n",
    "# print(roc_auc_score(y_test_count, probs[:,1]))\n",
    "print(classification_report(y_test_g200, y_pred_g200))\n",
    "print(confusion_matrix(y_test_g200, y_pred_g200))\n",
    "\n",
    "t_stop = time.time()\n",
    "print('Time elapsed: {:.3f} seconds'.format(t_stop - t_start))"
   ]
  },
  {
   "cell_type": "markdown",
   "id": "b4d4fdb6",
   "metadata": {},
   "source": [
    "#### Random Forest with Count Vectorizer"
   ]
  },
  {
   "cell_type": "code",
   "execution_count": 69,
   "id": "59bc74ba",
   "metadata": {},
   "outputs": [
    {
     "name": "stdout",
     "output_type": "stream",
     "text": [
      "              precision    recall  f1-score   support\n",
      "\n",
      "           0       0.85      0.88      0.86      3657\n",
      "           1       0.88      0.84      0.86      3737\n",
      "\n",
      "    accuracy                           0.86      7394\n",
      "   macro avg       0.86      0.86      0.86      7394\n",
      "weighted avg       0.86      0.86      0.86      7394\n",
      "\n",
      "[[3225  432]\n",
      " [ 583 3154]]\n",
      "Time elapsed: 50.158 seconds\n"
     ]
    }
   ],
   "source": [
    "import time\n",
    "t_start = time.time()\n",
    "\n",
    "# Instantiate RandomForest with count vectorizer\n",
    "#rf_count = RandomForestClassifier(n_estimators=200, max_depth=3, random_state=0)\n",
    "rf_count = RandomForestClassifier(n_estimators=1000, n_jobs=-1)\n",
    "# Fit RF to the training set\n",
    "rf_count.fit(X_train_count,y_train_count)\n",
    "# Predict Pass or Fail inspect \n",
    "y_pred_count = rf_count.predict(X_test_count)\n",
    "\n",
    "# Predict probabilities\n",
    "# probs = svc_count.predict_proba(X_test_count)\n",
    "\n",
    "# Print the ROC curve, classification report and confusion matrix\n",
    "# print(roc_auc_score(y_test_count, probs[:,1]))\n",
    "print(classification_report(y_test_count, y_pred_count))\n",
    "print(confusion_matrix(y_test_count, y_pred_count))\n",
    "\n",
    "t_stop = time.time()\n",
    "print('Time elapsed: {:.3f} seconds'.format(t_stop - t_start))"
   ]
  },
  {
   "cell_type": "markdown",
   "id": "3ed81f51",
   "metadata": {},
   "source": [
    "#### Random Forest with tfidf"
   ]
  },
  {
   "cell_type": "code",
   "execution_count": 70,
   "id": "51bea0c9",
   "metadata": {},
   "outputs": [
    {
     "name": "stdout",
     "output_type": "stream",
     "text": [
      "              precision    recall  f1-score   support\n",
      "\n",
      "           0       0.84      0.91      0.87      3656\n",
      "           1       0.90      0.83      0.86      3738\n",
      "\n",
      "    accuracy                           0.87      7394\n",
      "   macro avg       0.87      0.87      0.87      7394\n",
      "weighted avg       0.87      0.87      0.87      7394\n",
      "\n",
      "[[3319  337]\n",
      " [ 633 3105]]\n",
      "Time elapsed: 17.448 seconds\n"
     ]
    }
   ],
   "source": [
    "import time\n",
    "t_start = time.time()\n",
    "\n",
    "# Instantiate RandomForest with tfidf\n",
    "#rf_tfidf = RandomForestClassifier(n_estimators=200, max_depth=3, random_state=0)\n",
    "rf_tfidf = RandomForestClassifier(n_estimators=1000, n_jobs=-1)\n",
    "# Fit LR to the training set\n",
    "rf_tfidf.fit(X_train_tfidf,y_train_tfidf)\n",
    "# Predict Pass or Fail inspect\n",
    "y_pred_tfidf = rf_tfidf.predict(X_test_tfidf)\n",
    "\n",
    "# Predict probabilities\n",
    "#probs = lr_tfidf.predict_proba(X_test_tfidf)\n",
    "\n",
    "# Print the ROC curve, classification report and confusion matrix\n",
    "\n",
    "#print(roc_auc_score(y_test_count, probs[:,1]))\n",
    "print(classification_report(y_test_tfidf, y_pred_tfidf))\n",
    "print(confusion_matrix(y_test_tfidf, y_pred_tfidf))\n",
    "\n",
    "t_stop = time.time()\n",
    "print('Time elapsed: {:.3f} seconds'.format(t_stop - t_start))"
   ]
  },
  {
   "cell_type": "markdown",
   "id": "7869e43a",
   "metadata": {},
   "source": [
    "## Compare Cross Validation Scores of various models"
   ]
  },
  {
   "cell_type": "code",
   "execution_count": 71,
   "id": "808da00a",
   "metadata": {},
   "outputs": [
    {
     "name": "stderr",
     "output_type": "stream",
     "text": [
      "C:\\Users\\Rober\\anaconda3\\lib\\site-packages\\sklearn\\svm\\_base.py:985: ConvergenceWarning: Liblinear failed to converge, increase the number of iterations.\n",
      "  warnings.warn(\"Liblinear failed to converge, increase \"\n",
      "C:\\Users\\Rober\\anaconda3\\lib\\site-packages\\sklearn\\svm\\_base.py:985: ConvergenceWarning: Liblinear failed to converge, increase the number of iterations.\n",
      "  warnings.warn(\"Liblinear failed to converge, increase \"\n",
      "C:\\Users\\Rober\\anaconda3\\lib\\site-packages\\sklearn\\svm\\_base.py:985: ConvergenceWarning: Liblinear failed to converge, increase the number of iterations.\n",
      "  warnings.warn(\"Liblinear failed to converge, increase \"\n"
     ]
    },
    {
     "name": "stdout",
     "output_type": "stream",
     "text": [
      "Time elapsed: 900.344 seconds\n"
     ]
    }
   ],
   "source": [
    "import time\n",
    "t_start = time.time()\n",
    "\n",
    "cv_df = pd.DataFrame(index=range(20))\n",
    "entries = []\n",
    "\n",
    "model_name = lr_g200\n",
    "accuracies = cross_val_score(model_name, X_train_g200,y_train_g200, scoring='accuracy', cv=10)\n",
    "for fold_idx, accuracy in enumerate(accuracies):\n",
    "  entries.append(('lr_g200', fold_idx, accuracy))\n",
    "\n",
    "model_name = lr_count\n",
    "accuracies = cross_val_score(model_name, X_train_count, y_train_count, scoring='accuracy', cv=10)\n",
    "for fold_idx, accuracy in enumerate(accuracies):\n",
    "  entries.append(('lr_count', fold_idx, accuracy))\n",
    "\n",
    "model_name = lr_tfidf\n",
    "accuracies = cross_val_score(model_name, X_train_tfidf, y_train_tfidf, scoring='accuracy', cv=10)\n",
    "for fold_idx, accuracy in enumerate(accuracies):\n",
    "  entries.append(('lr_tfidf', fold_idx, accuracy))\n",
    "\n",
    "\n",
    "model_name = svc_g200\n",
    "accuracies = cross_val_score(model_name, X_train_g200,y_train_g200, scoring='accuracy', cv=10)\n",
    "for fold_idx, accuracy in enumerate(accuracies):\n",
    "  entries.append(('svc_g200', fold_idx, accuracy))\n",
    "\n",
    "model_name = svc_count\n",
    "accuracies = cross_val_score(model_name, X_train_count, y_train_count, scoring='accuracy', cv=10)\n",
    "for fold_idx, accuracy in enumerate(accuracies):\n",
    "  entries.append(('svc_count', fold_idx, accuracy))\n",
    "\n",
    "model_name = svc_tfidf\n",
    "accuracies = cross_val_score(model_name, X_train_tfidf, y_train_tfidf, scoring='accuracy', cv=10)\n",
    "for fold_idx, accuracy in enumerate(accuracies):\n",
    "  entries.append(('svc_tfidf', fold_idx, accuracy))\n",
    "\n",
    "\n",
    "model_name = rf_g200\n",
    "accuracies = cross_val_score(model_name, X_train_g200,y_train_g200, scoring='accuracy', cv=10)\n",
    "for fold_idx, accuracy in enumerate(accuracies):\n",
    "  entries.append(('rf_g200', fold_idx, accuracy))\n",
    "\n",
    "model_name = rf_count\n",
    "accuracies = cross_val_score(model_name, X_train_count, y_train_count, scoring='accuracy', cv=10)\n",
    "for fold_idx, accuracy in enumerate(accuracies):\n",
    "  entries.append(('rf_count', fold_idx, accuracy))\n",
    "\n",
    "model_name = rf_tfidf\n",
    "accuracies = cross_val_score(model_name, X_train_tfidf, y_train_tfidf, scoring='accuracy', cv=10)\n",
    "for fold_idx, accuracy in enumerate(accuracies):\n",
    "  entries.append(('rf_tfidf', fold_idx, accuracy))\n",
    "\n",
    "\n",
    "\n",
    "\n",
    "\n",
    "t_stop = time.time()\n",
    "print('Time elapsed: {:.3f} seconds'.format(t_stop - t_start))"
   ]
  },
  {
   "cell_type": "code",
   "execution_count": 72,
   "id": "3177acc9",
   "metadata": {},
   "outputs": [],
   "source": [
    "cv_df = pd.DataFrame(entries, columns=['model_name', 'fold_idx', 'accuracy'])"
   ]
  },
  {
   "cell_type": "code",
   "execution_count": 73,
   "id": "1e240e5b",
   "metadata": {},
   "outputs": [
    {
     "data": {
      "image/png": "[encoded data removed]",
      "text/plain": [
       "<Figure size 576x576 with 1 Axes>"
      ]
     },
     "metadata": {
      "needs_background": "light"
     },
     "output_type": "display_data"
    }
   ],
   "source": [
    "import seaborn as sns\n",
    "\n",
    "plt.figure(figsize=(8,8))\n",
    "sns.boxplot(x='model_name', y='accuracy', data=cv_df)\n",
    "sns.stripplot(x='model_name', y='accuracy', data=cv_df, \n",
    "              size=4, jitter=True, edgecolor=\"gray\", linewidth=0.5)\n",
    "plt.show()"
   ]
  },
  {
   "cell_type": "code",
   "execution_count": 74,
   "id": "9185c73b",
   "metadata": {},
   "outputs": [
    {
     "data": {
      "text/plain": [
       "model_name\n",
       "lr_count     0.891188\n",
       "lr_g200      0.883420\n",
       "lr_tfidf     0.886145\n",
       "rf_count     0.868348\n",
       "rf_g200      0.863768\n",
       "rf_tfidf     0.875826\n",
       "svc_count    0.880000\n",
       "svc_g200     0.882841\n",
       "svc_tfidf    0.888290\n",
       "Name: accuracy, dtype: float64"
      ]
     },
     "execution_count": 74,
     "metadata": {},
     "output_type": "execute_result"
    }
   ],
   "source": [
    "cv_df.groupby('model_name').accuracy.mean()"
   ]
  },
  {
   "cell_type": "markdown",
   "id": "af2573d4",
   "metadata": {},
   "source": [
    "## Comments to Score "
   ]
  },
  {
   "cell_type": "code",
   "execution_count": 75,
   "id": "fe45389c",
   "metadata": {},
   "outputs": [],
   "source": [
    "df_test = pd.read_csv('comments_to_score.csv',low_memory = False) "
   ]
  },
  {
   "cell_type": "code",
   "execution_count": 76,
   "id": "ed0511ae",
   "metadata": {},
   "outputs": [
    {
     "data": {
      "text/html": [
       "<div>\n",
       "<style scoped>\n",
       "    .dataframe tbody tr th:only-of-type {\n",
       "        vertical-align: middle;\n",
       "    }\n",
       "\n",
       "    .dataframe tbody tr th {\n",
       "        vertical-align: top;\n",
       "    }\n",
       "\n",
       "    .dataframe thead th {\n",
       "        text-align: right;\n",
       "    }\n",
       "</style>\n",
       "<table border=\"1\" class=\"dataframe\">\n",
       "  <thead>\n",
       "    <tr style=\"text-align: right;\">\n",
       "      <th></th>\n",
       "      <th>comment_id</th>\n",
       "      <th>text</th>\n",
       "    </tr>\n",
       "  </thead>\n",
       "  <tbody>\n",
       "    <tr>\n",
       "      <th>0</th>\n",
       "      <td>114890</td>\n",
       "      <td>\"\\n \\n\\nGjalexei, you asked about whether ther...</td>\n",
       "    </tr>\n",
       "    <tr>\n",
       "      <th>1</th>\n",
       "      <td>732895</td>\n",
       "      <td>Looks like be have an abuser , can you please ...</td>\n",
       "    </tr>\n",
       "    <tr>\n",
       "      <th>2</th>\n",
       "      <td>1139051</td>\n",
       "      <td>I confess to having complete (and apparently b...</td>\n",
       "    </tr>\n",
       "    <tr>\n",
       "      <th>3</th>\n",
       "      <td>1434512</td>\n",
       "      <td>\"\\n\\nFreud's ideas are certainly much discusse...</td>\n",
       "    </tr>\n",
       "    <tr>\n",
       "      <th>4</th>\n",
       "      <td>2084821</td>\n",
       "      <td>It is not just you. This is a laundry list of ...</td>\n",
       "    </tr>\n",
       "    <tr>\n",
       "      <th>...</th>\n",
       "      <td>...</td>\n",
       "      <td>...</td>\n",
       "    </tr>\n",
       "    <tr>\n",
       "      <th>7532</th>\n",
       "      <td>504235362</td>\n",
       "      <td>Go away, you annoying vandal.</td>\n",
       "    </tr>\n",
       "    <tr>\n",
       "      <th>7533</th>\n",
       "      <td>504235566</td>\n",
       "      <td>This user is a vandal.</td>\n",
       "    </tr>\n",
       "    <tr>\n",
       "      <th>7534</th>\n",
       "      <td>504308177</td>\n",
       "      <td>\" \\n\\nSorry to sound like a pain, but one by f...</td>\n",
       "    </tr>\n",
       "    <tr>\n",
       "      <th>7535</th>\n",
       "      <td>504570375</td>\n",
       "      <td>Well it's pretty fucking irrelevant now I'm un...</td>\n",
       "    </tr>\n",
       "    <tr>\n",
       "      <th>7536</th>\n",
       "      <td>504598250</td>\n",
       "      <td>The team name is Great Britain and Northern Ir...</td>\n",
       "    </tr>\n",
       "  </tbody>\n",
       "</table>\n",
       "<p>7537 rows × 2 columns</p>\n",
       "</div>"
      ],
      "text/plain": [
       "      comment_id                                               text\n",
       "0         114890  \"\\n \\n\\nGjalexei, you asked about whether ther...\n",
       "1         732895  Looks like be have an abuser , can you please ...\n",
       "2        1139051  I confess to having complete (and apparently b...\n",
       "3        1434512  \"\\n\\nFreud's ideas are certainly much discusse...\n",
       "4        2084821  It is not just you. This is a laundry list of ...\n",
       "...          ...                                                ...\n",
       "7532   504235362                      Go away, you annoying vandal.\n",
       "7533   504235566                           This user is a vandal.  \n",
       "7534   504308177  \" \\n\\nSorry to sound like a pain, but one by f...\n",
       "7535   504570375  Well it's pretty fucking irrelevant now I'm un...\n",
       "7536   504598250  The team name is Great Britain and Northern Ir...\n",
       "\n",
       "[7537 rows x 2 columns]"
      ]
     },
     "execution_count": 76,
     "metadata": {},
     "output_type": "execute_result"
    }
   ],
   "source": [
    "df_test"
   ]
  },
  {
   "cell_type": "markdown",
   "id": "f34d4cd6",
   "metadata": {},
   "source": [
    "### Add Cleaned Text to Data Frame"
   ]
  },
  {
   "cell_type": "code",
   "execution_count": 77,
   "id": "5159d329",
   "metadata": {},
   "outputs": [],
   "source": [
    "def text_process_2(text):\n",
    "    \n",
    "    # Replace the xa0 with a space\n",
    "    text=text.replace('xa0',' ')\n",
    " \n",
    "    # Replace the \\xa0 with a space\n",
    "    text=text.replace('\\xa0',' ')\n",
    "    \n",
    "    # Replace the \\n\\n with a space\n",
    "    text=text.replace('\\n\\n',' ')\n",
    "    \n",
    "    # Replace the \\n with a space\n",
    "    text=text.replace('\\n',' ')\n",
    "    \n",
    "    # Replace apostrophes with nothing\n",
    "    text=text.replace('\\'','')\n",
    "    \n",
    "    # Replace http with a space\n",
    "    text=text.replace('http','')\n",
    "    \n",
    "     # Replace hyphen with a space\n",
    "    text=text.replace('-',' ')\n",
    "    \n",
    "    \n",
    "    tokens = nltk.word_tokenize(text)\n",
    "    \n",
    "    cleaned_words=[w.lower() for w in tokens if w.isalnum()]\n",
    "    \n",
    "    \n",
    "    #remove any words that are actually digits. \n",
    "    no_integers = [x for x in cleaned_words if not (x.isdigit() or x[0] == '-' and x[1:].isdigit())]\n",
    "    \n",
    "    no_integers = ' '.join(no_integers)\n",
    "    \n",
    "    return no_integers"
   ]
  },
  {
   "cell_type": "code",
   "execution_count": 78,
   "id": "f4c3c2ff",
   "metadata": {},
   "outputs": [
    {
     "name": "stdout",
     "output_type": "stream",
     "text": [
      "Time elapsed: 3.147 seconds\n"
     ]
    }
   ],
   "source": [
    "import time\n",
    "t_start = time.time()\n",
    "\n",
    "df_test['clean']=df_test['text'].apply(lambda x: text_process_2(x))\n",
    "\n",
    "\n",
    "t_stop = time.time()\n",
    "print('Time elapsed: {:.3f} seconds'.format(t_stop - t_start))"
   ]
  },
  {
   "cell_type": "code",
   "execution_count": 79,
   "id": "b89e9a15",
   "metadata": {},
   "outputs": [
    {
     "name": "stdout",
     "output_type": "stream",
     "text": [
      "Time elapsed: 0.481 seconds\n"
     ]
    }
   ],
   "source": [
    "import time\n",
    "t_start = time.time()\n",
    "\n",
    "df_test['w2v_count']=df_test['clean'].apply(lambda x: w2v_count(x))\n",
    "# df_small['sent_vec_2']=df_small['clean'].apply(lambda x: sent_vectorizer_2(x))\n",
    "# df_small['sent_vec_3']=df_small['clean'].apply(lambda x: sent_vectorizer_3(x))\n",
    "# df_small['sent_vec_4']=df_small['clean'].apply(lambda x: sent_vectorizer_4(x))\n",
    "\n",
    "t_stop = time.time()\n",
    "print('Time elapsed: {:.3f} seconds'.format(t_stop - t_start))"
   ]
  },
  {
   "cell_type": "code",
   "execution_count": 80,
   "id": "1f0d9d24",
   "metadata": {},
   "outputs": [
    {
     "name": "stdout",
     "output_type": "stream",
     "text": [
      "Time elapsed: 0.703 seconds\n"
     ]
    }
   ],
   "source": [
    "import time\n",
    "t_start = time.time()\n",
    "\n",
    "df_test['sent_vec_1']=df_test['clean'].apply(lambda x: sent_vectorizer_1(x))\n",
    "# df_small['sent_vec_2']=df_small['clean'].apply(lambda x: sent_vectorizer_2(x))\n",
    "# df_small['sent_vec_3']=df_small['clean'].apply(lambda x: sent_vectorizer_3(x))\n",
    "# df_small['sent_vec_4']=df_small['clean'].apply(lambda x: sent_vectorizer_4(x))\n",
    "\n",
    "t_stop = time.time()\n",
    "print('Time elapsed: {:.3f} seconds'.format(t_stop - t_start))"
   ]
  },
  {
   "cell_type": "code",
   "execution_count": 81,
   "id": "3b2e5eac",
   "metadata": {},
   "outputs": [],
   "source": [
    "X_test=df_test['sent_vec_1']"
   ]
  },
  {
   "cell_type": "code",
   "execution_count": 82,
   "id": "2890c40c",
   "metadata": {},
   "outputs": [
    {
     "name": "stdout",
     "output_type": "stream",
     "text": [
      "Time elapsed: 7.806 seconds\n"
     ]
    }
   ],
   "source": [
    "import time\n",
    "t_start = time.time()\n",
    "\n",
    "df_test_fin=pd.DataFrame()\n",
    "\n",
    "\n",
    "for idx, row in enumerate(X_test):\n",
    "    #print((roww))\n",
    "    #print(list(roww))\n",
    "    row_df=pd.Series(X_test[idx]).to_frame()\n",
    "    row_df_2=row_df.T\n",
    "    df_test_fin=pd.concat([df_test_fin, row_df_2])\n",
    "    #row_df= pd.DataFrame(roww)\n",
    "#     row_df_2=row_df.T\n",
    "#     ddd=pd.concat([ddd, row_df_2])\n",
    "    \n",
    "t_stop = time.time()\n",
    "print('Time elapsed: {:.3f} seconds'.format(t_stop - t_start))"
   ]
  },
  {
   "cell_type": "code",
   "execution_count": 83,
   "id": "e5120033",
   "metadata": {},
   "outputs": [],
   "source": [
    "test_ids=df_test['comment_id']"
   ]
  },
  {
   "cell_type": "code",
   "execution_count": 84,
   "id": "fcd49ef9",
   "metadata": {},
   "outputs": [],
   "source": [
    "Y_test_pred=lr_g200.predict_proba(df_test_fin)"
   ]
  },
  {
   "cell_type": "code",
   "execution_count": 85,
   "id": "5ce1d601",
   "metadata": {},
   "outputs": [],
   "source": [
    "# utility function to create submission csv for further predictions\n",
    "def create_submission_df(test_ids, predictions):\n",
    "    columns = ['class_'+str(x) for x in range(1,3)]\n",
    "    predictions_df = pd.DataFrame(predictions, columns=columns)\n",
    "    submission_df = pd.concat([test_ids, predictions_df], axis=1)\n",
    "    return submission_df"
   ]
  },
  {
   "cell_type": "code",
   "execution_count": 86,
   "id": "dceec1b2",
   "metadata": {},
   "outputs": [
    {
     "data": {
      "text/html": [
       "<div>\n",
       "<style scoped>\n",
       "    .dataframe tbody tr th:only-of-type {\n",
       "        vertical-align: middle;\n",
       "    }\n",
       "\n",
       "    .dataframe tbody tr th {\n",
       "        vertical-align: top;\n",
       "    }\n",
       "\n",
       "    .dataframe thead th {\n",
       "        text-align: right;\n",
       "    }\n",
       "</style>\n",
       "<table border=\"1\" class=\"dataframe\">\n",
       "  <thead>\n",
       "    <tr style=\"text-align: right;\">\n",
       "      <th></th>\n",
       "      <th>comment_id</th>\n",
       "      <th>class_2</th>\n",
       "    </tr>\n",
       "  </thead>\n",
       "  <tbody>\n",
       "    <tr>\n",
       "      <th>0</th>\n",
       "      <td>114890</td>\n",
       "      <td>0.324380</td>\n",
       "    </tr>\n",
       "    <tr>\n",
       "      <th>1</th>\n",
       "      <td>732895</td>\n",
       "      <td>0.595793</td>\n",
       "    </tr>\n",
       "    <tr>\n",
       "      <th>2</th>\n",
       "      <td>1139051</td>\n",
       "      <td>0.439160</td>\n",
       "    </tr>\n",
       "    <tr>\n",
       "      <th>3</th>\n",
       "      <td>1434512</td>\n",
       "      <td>0.240897</td>\n",
       "    </tr>\n",
       "    <tr>\n",
       "      <th>4</th>\n",
       "      <td>2084821</td>\n",
       "      <td>0.864743</td>\n",
       "    </tr>\n",
       "  </tbody>\n",
       "</table>\n",
       "</div>"
      ],
      "text/plain": [
       "   comment_id   class_2\n",
       "0      114890  0.324380\n",
       "1      732895  0.595793\n",
       "2     1139051  0.439160\n",
       "3     1434512  0.240897\n",
       "4     2084821  0.864743"
      ]
     },
     "execution_count": 86,
     "metadata": {},
     "output_type": "execute_result"
    }
   ],
   "source": [
    "submission_df = create_submission_df(test_ids, Y_test_pred)\n",
    "submission_df.pop('class_1')\n",
    "submission_df.head()"
   ]
  },
  {
   "cell_type": "code",
   "execution_count": 87,
   "id": "87fa6a28",
   "metadata": {},
   "outputs": [
    {
     "data": {
      "text/html": [
       "<div>\n",
       "<style scoped>\n",
       "    .dataframe tbody tr th:only-of-type {\n",
       "        vertical-align: middle;\n",
       "    }\n",
       "\n",
       "    .dataframe tbody tr th {\n",
       "        vertical-align: top;\n",
       "    }\n",
       "\n",
       "    .dataframe thead th {\n",
       "        text-align: right;\n",
       "    }\n",
       "</style>\n",
       "<table border=\"1\" class=\"dataframe\">\n",
       "  <thead>\n",
       "    <tr style=\"text-align: right;\">\n",
       "      <th></th>\n",
       "      <th>comment_id</th>\n",
       "      <th>score</th>\n",
       "    </tr>\n",
       "  </thead>\n",
       "  <tbody>\n",
       "    <tr>\n",
       "      <th>0</th>\n",
       "      <td>114890</td>\n",
       "      <td>0.324380</td>\n",
       "    </tr>\n",
       "    <tr>\n",
       "      <th>1</th>\n",
       "      <td>732895</td>\n",
       "      <td>0.595793</td>\n",
       "    </tr>\n",
       "    <tr>\n",
       "      <th>2</th>\n",
       "      <td>1139051</td>\n",
       "      <td>0.439160</td>\n",
       "    </tr>\n",
       "    <tr>\n",
       "      <th>3</th>\n",
       "      <td>1434512</td>\n",
       "      <td>0.240897</td>\n",
       "    </tr>\n",
       "    <tr>\n",
       "      <th>4</th>\n",
       "      <td>2084821</td>\n",
       "      <td>0.864743</td>\n",
       "    </tr>\n",
       "  </tbody>\n",
       "</table>\n",
       "</div>"
      ],
      "text/plain": [
       "   comment_id     score\n",
       "0      114890  0.324380\n",
       "1      732895  0.595793\n",
       "2     1139051  0.439160\n",
       "3     1434512  0.240897\n",
       "4     2084821  0.864743"
      ]
     },
     "execution_count": 87,
     "metadata": {},
     "output_type": "execute_result"
    }
   ],
   "source": [
    "submission_df.columns=['comment_id', 'score']\n",
    "submission_df.head()"
   ]
  },
  {
   "cell_type": "code",
   "execution_count": 88,
   "id": "686277e7",
   "metadata": {},
   "outputs": [],
   "source": [
    "submission_df.to_csv('submission.csv', index=False)"
   ]
  },
  {
   "cell_type": "code",
   "execution_count": null,
   "id": "30dbb874",
   "metadata": {},
   "outputs": [],
   "source": []
  }
 ],
 "metadata": {
  "kernelspec": {
   "display_name": "Python 3",
   "language": "python",
   "name": "python3"
  },
  "language_info": {
   "codemirror_mode": {
    "name": "ipython",
    "version": 3
   },
   "file_extension": ".py",
   "mimetype": "text/x-python",
   "name": "python",
   "nbconvert_exporter": "python",
   "pygments_lexer": "ipython3",
   "version": "3.8.8"
  }
 },
 "nbformat": 4,
 "nbformat_minor": 5
}
